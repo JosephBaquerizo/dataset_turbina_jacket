{
  "nbformat": 4,
  "nbformat_minor": 0,
  "metadata": {
    "colab": {
      "name": "Obtención_Datos.ipynb",
      "provenance": [],
      "collapsed_sections": [],
      "authorship_tag": "ABX9TyNS+INdU2BhDOyO1S60/sZm"
    },
    "kernelspec": {
      "name": "python3",
      "display_name": "Python 3"
    },
    "language_info": {
      "name": "python"
    }
  },
  "cells": [
    {
      "cell_type": "markdown",
      "metadata": {
        "id": "rCkwY2nuupg6"
      },
      "source": [
        "# Obtención de Datos\n",
        "En este notebook se pretende familiarizar con los datos suministrados por la materia de Itinerario, los cuales se asocian con valores obtenidos por distintos sensores colocados en la estructura base de una turbina eólica experimental de tipo jacket en el laboratorio de la Universidad de Cataluña."
      ]
    },
    {
      "cell_type": "markdown",
      "metadata": {
        "id": "TYi9EeFc_l4Z"
      },
      "source": [
        "Se tiene una carpeta que contiene 2 archivos de datos: IMAGES_FOLDER y DATOS. El archivo DATOS se trata de varios experimentos realizados para tomar datos durante 60 segundos de duración a una frecuencia de muestreo de 1651.6129 Hz (lo que equivale a 99097 muestras en un minuto para cada uno de los 24 sensores anexados a la estructura base de la turbina).\n",
        "\n",
        "Existen 25 pruebas experimentales realizadas tomando en cuenta las diferentes amplitudes del white noise (0.5, 1, 2 ,3). Para cada amplitud de white noise se tiene:\n",
        "\n",
        "- 10 pruebas con la barra sin daños\n",
        "- 5 pruebas con una réplica de la barra original\n",
        "- 5 pruebas con una barra que posee 5 mm de fisura\n",
        "- 5 pruebas con un perno mal ajustado en la estructura\n",
        "\n",
        "En total se tendrían 100 experimentos.\n",
        "\n",
        "Cada uno de los archivos está nombrado con la siguiente nomenclatura X_Y_ZA.mat, en donde:\n",
        "- X: indica el tipo de daño (1 sin daños, 2 réplica, 3 daño por fisura, 4 perno flojo)\n",
        "- Y: indica el número del experimento\n",
        "- Z: indica la amplitud del white noise utilizada (0.5, 1, 2, 3)"
      ]
    },
    {
      "cell_type": "markdown",
      "metadata": {
        "id": "4_x7e-hFIide"
      },
      "source": [
        "## Importaciones"
      ]
    },
    {
      "cell_type": "code",
      "metadata": {
        "id": "alEAc-90KBio"
      },
      "source": [
        "from google.colab import drive\n",
        "from os import listdir\n",
        "from os.path import isfile, join\n",
        "from scipy.io import loadmat\n",
        "\n",
        "import pandas as pd\n",
        "\n",
        "import os"
      ],
      "execution_count": 1,
      "outputs": []
    },
    {
      "cell_type": "markdown",
      "metadata": {
        "id": "Q0jWE7ZtvH1M"
      },
      "source": [
        "## Obtención de Datos\n",
        "El dataset fue subido a Google Drive con el nombre de DATOS_EXPERIMENTALES_JACKET. La carpeta contiene una subcarpeta llamada _MACOSX que no contiene ningún tipo de archivo, una carpeta denominada IMAGES_FOLDER que posee datos .mat, y la carpeta DATOS que contiene datos tipo .mat. También se incluyen archivos relacionados a la descripción del dataset."
      ]
    },
    {
      "cell_type": "code",
      "metadata": {
        "colab": {
          "base_uri": "https://localhost:8080/"
        },
        "id": "YmmSYfZPuj-5",
        "outputId": "18da2951-a397-452d-cdae-13b99c3d2eea"
      },
      "source": [
        "drive.mount('/content/drive')"
      ],
      "execution_count": 2,
      "outputs": [
        {
          "output_type": "stream",
          "text": [
            "Mounted at /content/drive\n"
          ],
          "name": "stdout"
        }
      ]
    },
    {
      "cell_type": "markdown",
      "metadata": {
        "id": "tfOghRV_9raD"
      },
      "source": [
        "Verificamos la cantidad de datos que existe en cada carpeta interna."
      ]
    },
    {
      "cell_type": "code",
      "metadata": {
        "colab": {
          "base_uri": "https://localhost:8080/"
        },
        "id": "Oostg_CW9edG",
        "outputId": "5172cd04-99b1-4455-af32-1429e86a53ec"
      },
      "source": [
        "for dirpath, dirnames, filenames in os.walk('drive/MyDrive/DATOS_EXPERIMENTALES_JACKET'):\n",
        "  print(f\"Existen {len(dirnames)} directorios y {len(filenames)} datos en {dirpath}\")"
      ],
      "execution_count": 3,
      "outputs": [
        {
          "output_type": "stream",
          "text": [
            "Existen 3 directorios y 111 datos en drive/MyDrive/DATOS_EXPERIMENTALES_JACKET\n",
            "Existen 0 directorios y 100 datos en drive/MyDrive/DATOS_EXPERIMENTALES_JACKET/DATOS\n",
            "Existen 0 directorios y 0 datos en drive/MyDrive/DATOS_EXPERIMENTALES_JACKET/__MACOSX\n",
            "Existen 0 directorios y 6400 datos en drive/MyDrive/DATOS_EXPERIMENTALES_JACKET/IMAGES_FOLDER\n"
          ],
          "name": "stdout"
        }
      ]
    },
    {
      "cell_type": "markdown",
      "metadata": {
        "id": "Pn8b6wF1FAue"
      },
      "source": [
        "Almacenamos la dirección de la carpeta de DATOS e IMAGES_FOLDER en sus respectivas variables."
      ]
    },
    {
      "cell_type": "code",
      "metadata": {
        "id": "0AunHk4SEGvJ"
      },
      "source": [
        "dataset_datos_dir = 'drive/MyDrive/DATOS_EXPERIMENTALES_JACKET/DATOS'\n",
        "dataset_images_dir = 'drive/MyDrive/DATOS_EXPERIMENTALES_JACKET/IMAGES_FOLDER'"
      ],
      "execution_count": 4,
      "outputs": []
    },
    {
      "cell_type": "markdown",
      "metadata": {
        "id": "j1XZHrMaOxOr"
      },
      "source": [
        "Almacenamos la dirección de cada archivo asociado a la carpeta de DATOS para realizar una revisión sobre los datos contenidos."
      ]
    },
    {
      "cell_type": "code",
      "metadata": {
        "colab": {
          "base_uri": "https://localhost:8080/",
          "height": 35
        },
        "id": "mzgh8m-4N0YJ",
        "outputId": "d2354dde-8eec-4b11-eaec-7cf9e576a697"
      },
      "source": [
        "dataset_datos_files = [dataset_datos_dir+'/'+filename for filename in listdir(dataset_datos_dir) if isfile(join(dataset_datos_dir, filename))]\n",
        "\n",
        "# Imprimimos un elemento del arreglo para verificar que las direcciones se hayan almacenado correctamente\n",
        "dataset_datos_files[0]"
      ],
      "execution_count": 5,
      "outputs": [
        {
          "output_type": "execute_result",
          "data": {
            "application/vnd.google.colaboratory.intrinsic+json": {
              "type": "string"
            },
            "text/plain": [
              "'drive/MyDrive/DATOS_EXPERIMENTALES_JACKET/DATOS/1_1_05A.mat'"
            ]
          },
          "metadata": {
            "tags": []
          },
          "execution_count": 5
        }
      ]
    },
    {
      "cell_type": "markdown",
      "metadata": {
        "id": "N-gtbR-5V_Co"
      },
      "source": [
        "Analizamos los tipos de datos que contiene cada archivo individual de la carpeta DATOS."
      ]
    },
    {
      "cell_type": "code",
      "metadata": {
        "colab": {
          "base_uri": "https://localhost:8080/"
        },
        "id": "_UsaKk2hPQtM",
        "outputId": "4dcc1582-b483-44fa-aafa-a8c5c64a2c33"
      },
      "source": [
        "mat = loadmat(dataset_datos_files[0])\n",
        "type(mat)"
      ],
      "execution_count": 6,
      "outputs": [
        {
          "output_type": "execute_result",
          "data": {
            "text/plain": [
              "dict"
            ]
          },
          "metadata": {
            "tags": []
          },
          "execution_count": 6
        }
      ]
    },
    {
      "cell_type": "markdown",
      "metadata": {
        "id": "u9lDFJznDS7b"
      },
      "source": [
        "Revisamos la estructura que posee el diccionario."
      ]
    },
    {
      "cell_type": "code",
      "metadata": {
        "colab": {
          "base_uri": "https://localhost:8080/"
        },
        "id": "ZCABW2efQd1u",
        "outputId": "7ba92f5b-03b8-451a-9fef-d3512a98a4c5"
      },
      "source": [
        "mat.keys()"
      ],
      "execution_count": null,
      "outputs": [
        {
          "output_type": "execute_result",
          "data": {
            "text/plain": [
              "dict_keys(['__header__', '__version__', '__globals__', 'None', 'data', 'starttime', 'timestamps', '__function_workspace__'])"
            ]
          },
          "metadata": {
            "tags": []
          },
          "execution_count": 39
        }
      ]
    },
    {
      "cell_type": "markdown",
      "metadata": {
        "id": "yeYSWwjHDW0z"
      },
      "source": [
        "Observamos lo que contiene cada una de las keys del diccionario."
      ]
    },
    {
      "cell_type": "code",
      "metadata": {
        "colab": {
          "base_uri": "https://localhost:8080/"
        },
        "id": "4c44yxUYQ5bW",
        "outputId": "b844b582-50d6-49c8-ccc0-1ff40bf6bf15"
      },
      "source": [
        "mat['__header__']"
      ],
      "execution_count": null,
      "outputs": [
        {
          "output_type": "execute_result",
          "data": {
            "text/plain": [
              "b'MATLAB 5.0 MAT-file, Platform: PCWIN64, Created on: Tue Feb 12 14:09:35 2019'"
            ]
          },
          "metadata": {
            "tags": []
          },
          "execution_count": 29
        }
      ]
    },
    {
      "cell_type": "code",
      "metadata": {
        "colab": {
          "base_uri": "https://localhost:8080/",
          "height": 35
        },
        "id": "beBlciJQW2Rw",
        "outputId": "3476a1bd-ce71-46fd-f0e5-01a25d29dd11"
      },
      "source": [
        "mat['__version__']"
      ],
      "execution_count": null,
      "outputs": [
        {
          "output_type": "execute_result",
          "data": {
            "application/vnd.google.colaboratory.intrinsic+json": {
              "type": "string"
            },
            "text/plain": [
              "'1.0'"
            ]
          },
          "metadata": {
            "tags": []
          },
          "execution_count": 30
        }
      ]
    },
    {
      "cell_type": "code",
      "metadata": {
        "colab": {
          "base_uri": "https://localhost:8080/"
        },
        "id": "SpSN3Xi1XJmS",
        "outputId": "ea50a3a6-5185-4f7d-8b0e-defba1a9a069"
      },
      "source": [
        "mat['__globals__']"
      ],
      "execution_count": null,
      "outputs": [
        {
          "output_type": "execute_result",
          "data": {
            "text/plain": [
              "[]"
            ]
          },
          "metadata": {
            "tags": []
          },
          "execution_count": 31
        }
      ]
    },
    {
      "cell_type": "code",
      "metadata": {
        "colab": {
          "base_uri": "https://localhost:8080/"
        },
        "id": "sJXC3Sz6XMMp",
        "outputId": "f6d26007-ebd4-4112-e93d-8478bcab5197"
      },
      "source": [
        "mat['None']"
      ],
      "execution_count": null,
      "outputs": [
        {
          "output_type": "execute_result",
          "data": {
            "text/plain": [
              "MatlabOpaque([(b'ans', b'MCOS', b'daq.ni.CompactDAQModule', array([[3707764736],\n",
              "       [         2],\n",
              "       [         1],\n",
              "       [         6],\n",
              "       [         1],\n",
              "       [         2],\n",
              "       [         3],\n",
              "       [         4],\n",
              "       [         5],\n",
              "       [         6],\n",
              "       [         1]], dtype=uint32))],\n",
              "             dtype=[('s0', 'O'), ('s1', 'O'), ('s2', 'O'), ('arr', 'O')])"
            ]
          },
          "metadata": {
            "tags": []
          },
          "execution_count": 32
        }
      ]
    },
    {
      "cell_type": "code",
      "metadata": {
        "colab": {
          "base_uri": "https://localhost:8080/"
        },
        "id": "lOXrLWQlXOvw",
        "outputId": "75de07b3-0322-4128-b4e1-e93c679dc21f"
      },
      "source": [
        "mat['data'], len(mat['data'])"
      ],
      "execution_count": null,
      "outputs": [
        {
          "output_type": "execute_result",
          "data": {
            "text/plain": [
              "(array([[ 3.47662560e-04,  2.12761018e-04,  1.71859650e-04, ...,\n",
              "          1.96720881e-04,  1.34626292e-04, -4.31555940e-05],\n",
              "        [ 8.14584000e-05,  2.48714320e-04,  2.05410860e-04, ...,\n",
              "          2.05256023e-04,  1.69468800e-06, -5.04751020e-05],\n",
              "        [ 2.22497760e-04,  3.94965040e-04,  2.38962070e-04, ...,\n",
              "          6.99130570e-05,  7.60876040e-05, -1.06842300e-06],\n",
              "        ...,\n",
              "        [ 1.87085280e-04,  2.68214416e-04,  2.23711520e-04, ...,\n",
              "          1.38194193e-04,  4.19400360e-05, -6.26742820e-05],\n",
              "        [-2.11156800e-05,  3.02948962e-04,  2.60922862e-04, ...,\n",
              "          7.96675050e-05,  9.62180200e-06, -9.07323960e-05],\n",
              "        [ 1.49230560e-04,  2.30432980e-04,  2.04190816e-04, ...,\n",
              "          1.44290723e-04,  2.73053640e-05, -3.15663730e-05]]), 99097)"
            ]
          },
          "metadata": {
            "tags": []
          },
          "execution_count": 38
        }
      ]
    },
    {
      "cell_type": "code",
      "metadata": {
        "colab": {
          "base_uri": "https://localhost:8080/"
        },
        "id": "SpEUOH7GXUOQ",
        "outputId": "8ed996b8-fb82-419f-ec04-cbdc092e2761"
      },
      "source": [
        "mat['starttime']"
      ],
      "execution_count": null,
      "outputs": [
        {
          "output_type": "execute_result",
          "data": {
            "text/plain": [
              "array([[737468.58928423]])"
            ]
          },
          "metadata": {
            "tags": []
          },
          "execution_count": 34
        }
      ]
    },
    {
      "cell_type": "code",
      "metadata": {
        "colab": {
          "base_uri": "https://localhost:8080/"
        },
        "id": "fIqvoB9VXYV6",
        "outputId": "15473c3b-ee92-4f9a-f103-e85c79e8c09e"
      },
      "source": [
        "mat['timestamps'], len(mat['timestamps'])"
      ],
      "execution_count": null,
      "outputs": [
        {
          "output_type": "execute_result",
          "data": {
            "text/plain": [
              "(array([[0.00000000e+00],\n",
              "        [6.05468750e-04],\n",
              "        [1.21093750e-03],\n",
              "        ...,\n",
              "        [5.99983203e+01],\n",
              "        [5.99989258e+01],\n",
              "        [5.99995313e+01]]), 99097)"
            ]
          },
          "metadata": {
            "tags": []
          },
          "execution_count": 39
        }
      ]
    },
    {
      "cell_type": "code",
      "metadata": {
        "colab": {
          "base_uri": "https://localhost:8080/"
        },
        "id": "_9oNVI4pXaLg",
        "outputId": "d3f69e3e-cbbf-4b51-aa87-9a3e7ade71b7"
      },
      "source": [
        "mat['__function_workspace__'], len(mat['__function_workspace__'][0])"
      ],
      "execution_count": null,
      "outputs": [
        {
          "output_type": "execute_result",
          "data": {
            "text/plain": [
              "(array([[ 0,  1, 73, ...,  0,  0,  0]], dtype=uint8), 1352)"
            ]
          },
          "metadata": {
            "tags": []
          },
          "execution_count": 42
        }
      ]
    },
    {
      "cell_type": "markdown",
      "metadata": {
        "id": "ogDkQFvpDrEJ"
      },
      "source": [
        "Las características que podrían clasificarse como más relevantes dentro del .mat serían:\n",
        "- data\n",
        "- timestamps"
      ]
    },
    {
      "cell_type": "markdown",
      "metadata": {
        "id": "hPciIgUiEJRM"
      },
      "source": [
        "Podemos observar que la longitud de los datos contenidos en data y en timestamps concuerda con la cantidad de muestras que se tomaron para cada experimento durante 60 segundos a una frecuencia de 1651.6129 Hz (99097)."
      ]
    },
    {
      "cell_type": "markdown",
      "metadata": {
        "id": "LanxvvjYzUWE"
      },
      "source": [
        "Implementamos una visualización de los datos para familiarizarnos con los mismos."
      ]
    },
    {
      "cell_type": "code",
      "metadata": {
        "colab": {
          "base_uri": "https://localhost:8080/",
          "height": 224
        },
        "id": "b5ltaqqBHg7I",
        "outputId": "5b800a23-1a69-4e05-d3c3-e11f5564fcbd"
      },
      "source": [
        "datos_mat = mat['data']\n",
        "df = pd.DataFrame(datos_mat)\n",
        "df.head()"
      ],
      "execution_count": 7,
      "outputs": [
        {
          "output_type": "execute_result",
          "data": {
            "text/html": [
              "<div>\n",
              "<style scoped>\n",
              "    .dataframe tbody tr th:only-of-type {\n",
              "        vertical-align: middle;\n",
              "    }\n",
              "\n",
              "    .dataframe tbody tr th {\n",
              "        vertical-align: top;\n",
              "    }\n",
              "\n",
              "    .dataframe thead th {\n",
              "        text-align: right;\n",
              "    }\n",
              "</style>\n",
              "<table border=\"1\" class=\"dataframe\">\n",
              "  <thead>\n",
              "    <tr style=\"text-align: right;\">\n",
              "      <th></th>\n",
              "      <th>0</th>\n",
              "      <th>1</th>\n",
              "      <th>2</th>\n",
              "      <th>3</th>\n",
              "      <th>4</th>\n",
              "      <th>5</th>\n",
              "      <th>6</th>\n",
              "      <th>7</th>\n",
              "      <th>8</th>\n",
              "      <th>9</th>\n",
              "      <th>10</th>\n",
              "      <th>11</th>\n",
              "      <th>12</th>\n",
              "      <th>13</th>\n",
              "      <th>14</th>\n",
              "      <th>15</th>\n",
              "      <th>16</th>\n",
              "      <th>17</th>\n",
              "      <th>18</th>\n",
              "      <th>19</th>\n",
              "      <th>20</th>\n",
              "      <th>21</th>\n",
              "      <th>22</th>\n",
              "      <th>23</th>\n",
              "    </tr>\n",
              "  </thead>\n",
              "  <tbody>\n",
              "    <tr>\n",
              "      <th>0</th>\n",
              "      <td>0.000164</td>\n",
              "      <td>0.000316</td>\n",
              "      <td>0.000257</td>\n",
              "      <td>0.000163</td>\n",
              "      <td>0.000217</td>\n",
              "      <td>0.000159</td>\n",
              "      <td>0.000133</td>\n",
              "      <td>0.000218</td>\n",
              "      <td>0.000316</td>\n",
              "      <td>0.000102</td>\n",
              "      <td>0.000274</td>\n",
              "      <td>0.000244</td>\n",
              "      <td>0.000157</td>\n",
              "      <td>0.000038</td>\n",
              "      <td>0.000348</td>\n",
              "      <td>0.000246</td>\n",
              "      <td>0.000031</td>\n",
              "      <td>0.000106</td>\n",
              "      <td>0.000199</td>\n",
              "      <td>0.000195</td>\n",
              "      <td>0.000147</td>\n",
              "      <td>0.000097</td>\n",
              "      <td>0.000086</td>\n",
              "      <td>-0.000012</td>\n",
              "    </tr>\n",
              "    <tr>\n",
              "      <th>1</th>\n",
              "      <td>0.000145</td>\n",
              "      <td>0.000225</td>\n",
              "      <td>0.000230</td>\n",
              "      <td>0.000150</td>\n",
              "      <td>0.000207</td>\n",
              "      <td>0.000144</td>\n",
              "      <td>0.000114</td>\n",
              "      <td>0.000210</td>\n",
              "      <td>0.000329</td>\n",
              "      <td>0.000157</td>\n",
              "      <td>0.000273</td>\n",
              "      <td>0.000263</td>\n",
              "      <td>0.000197</td>\n",
              "      <td>0.000086</td>\n",
              "      <td>0.000392</td>\n",
              "      <td>0.000279</td>\n",
              "      <td>0.000058</td>\n",
              "      <td>0.000102</td>\n",
              "      <td>0.000273</td>\n",
              "      <td>0.000165</td>\n",
              "      <td>0.000207</td>\n",
              "      <td>0.000197</td>\n",
              "      <td>0.000104</td>\n",
              "      <td>0.000011</td>\n",
              "    </tr>\n",
              "    <tr>\n",
              "      <th>2</th>\n",
              "      <td>0.000192</td>\n",
              "      <td>0.000263</td>\n",
              "      <td>0.000266</td>\n",
              "      <td>0.000179</td>\n",
              "      <td>0.000199</td>\n",
              "      <td>0.000202</td>\n",
              "      <td>0.000073</td>\n",
              "      <td>0.000173</td>\n",
              "      <td>0.000334</td>\n",
              "      <td>0.000112</td>\n",
              "      <td>0.000264</td>\n",
              "      <td>0.000205</td>\n",
              "      <td>0.000195</td>\n",
              "      <td>0.000054</td>\n",
              "      <td>0.000383</td>\n",
              "      <td>0.000261</td>\n",
              "      <td>0.000009</td>\n",
              "      <td>0.000058</td>\n",
              "      <td>0.000270</td>\n",
              "      <td>0.000182</td>\n",
              "      <td>0.000165</td>\n",
              "      <td>0.000172</td>\n",
              "      <td>0.000084</td>\n",
              "      <td>-0.000006</td>\n",
              "    </tr>\n",
              "    <tr>\n",
              "      <th>3</th>\n",
              "      <td>0.000182</td>\n",
              "      <td>0.000258</td>\n",
              "      <td>0.000243</td>\n",
              "      <td>0.000177</td>\n",
              "      <td>0.000252</td>\n",
              "      <td>0.000200</td>\n",
              "      <td>0.000122</td>\n",
              "      <td>0.000200</td>\n",
              "      <td>0.000348</td>\n",
              "      <td>0.000162</td>\n",
              "      <td>0.000270</td>\n",
              "      <td>0.000250</td>\n",
              "      <td>0.000192</td>\n",
              "      <td>0.000021</td>\n",
              "      <td>0.000351</td>\n",
              "      <td>0.000183</td>\n",
              "      <td>0.000024</td>\n",
              "      <td>0.000067</td>\n",
              "      <td>0.000211</td>\n",
              "      <td>0.000210</td>\n",
              "      <td>0.000136</td>\n",
              "      <td>0.000174</td>\n",
              "      <td>0.000068</td>\n",
              "      <td>-0.000037</td>\n",
              "    </tr>\n",
              "    <tr>\n",
              "      <th>4</th>\n",
              "      <td>0.000150</td>\n",
              "      <td>0.000261</td>\n",
              "      <td>0.000177</td>\n",
              "      <td>0.000153</td>\n",
              "      <td>0.000195</td>\n",
              "      <td>0.000160</td>\n",
              "      <td>0.000100</td>\n",
              "      <td>0.000196</td>\n",
              "      <td>0.000298</td>\n",
              "      <td>0.000116</td>\n",
              "      <td>0.000289</td>\n",
              "      <td>0.000225</td>\n",
              "      <td>0.000132</td>\n",
              "      <td>0.000028</td>\n",
              "      <td>0.000353</td>\n",
              "      <td>0.000202</td>\n",
              "      <td>-0.000009</td>\n",
              "      <td>0.000075</td>\n",
              "      <td>0.000197</td>\n",
              "      <td>0.000185</td>\n",
              "      <td>0.000117</td>\n",
              "      <td>0.000130</td>\n",
              "      <td>0.000027</td>\n",
              "      <td>-0.000029</td>\n",
              "    </tr>\n",
              "  </tbody>\n",
              "</table>\n",
              "</div>"
            ],
            "text/plain": [
              "         0         1         2   ...        21        22        23\n",
              "0  0.000164  0.000316  0.000257  ...  0.000097  0.000086 -0.000012\n",
              "1  0.000145  0.000225  0.000230  ...  0.000197  0.000104  0.000011\n",
              "2  0.000192  0.000263  0.000266  ...  0.000172  0.000084 -0.000006\n",
              "3  0.000182  0.000258  0.000243  ...  0.000174  0.000068 -0.000037\n",
              "4  0.000150  0.000261  0.000177  ...  0.000130  0.000027 -0.000029\n",
              "\n",
              "[5 rows x 24 columns]"
            ]
          },
          "metadata": {
            "tags": []
          },
          "execution_count": 7
        }
      ]
    },
    {
      "cell_type": "code",
      "metadata": {
        "colab": {
          "base_uri": "https://localhost:8080/"
        },
        "id": "GbXaUzF-Hrhu",
        "outputId": "a5fe65e5-375c-49af-be85-7f660f542597"
      },
      "source": [
        "df.info()"
      ],
      "execution_count": null,
      "outputs": [
        {
          "output_type": "stream",
          "text": [
            "<class 'pandas.core.frame.DataFrame'>\n",
            "RangeIndex: 99097 entries, 0 to 99096\n",
            "Data columns (total 24 columns):\n",
            " #   Column  Non-Null Count  Dtype  \n",
            "---  ------  --------------  -----  \n",
            " 0   0       99097 non-null  float64\n",
            " 1   1       99097 non-null  float64\n",
            " 2   2       99097 non-null  float64\n",
            " 3   3       99097 non-null  float64\n",
            " 4   4       99097 non-null  float64\n",
            " 5   5       99097 non-null  float64\n",
            " 6   6       99097 non-null  float64\n",
            " 7   7       99097 non-null  float64\n",
            " 8   8       99097 non-null  float64\n",
            " 9   9       99097 non-null  float64\n",
            " 10  10      99097 non-null  float64\n",
            " 11  11      99097 non-null  float64\n",
            " 12  12      99097 non-null  float64\n",
            " 13  13      99097 non-null  float64\n",
            " 14  14      99097 non-null  float64\n",
            " 15  15      99097 non-null  float64\n",
            " 16  16      99097 non-null  float64\n",
            " 17  17      99097 non-null  float64\n",
            " 18  18      99097 non-null  float64\n",
            " 19  19      99097 non-null  float64\n",
            " 20  20      99097 non-null  float64\n",
            " 21  21      99097 non-null  float64\n",
            " 22  22      99097 non-null  float64\n",
            " 23  23      99097 non-null  float64\n",
            "dtypes: float64(24)\n",
            "memory usage: 18.1 MB\n"
          ],
          "name": "stdout"
        }
      ]
    },
    {
      "cell_type": "code",
      "metadata": {
        "colab": {
          "base_uri": "https://localhost:8080/",
          "height": 317
        },
        "id": "buf64R7A4Gme",
        "outputId": "893b3493-1a7b-4b36-af70-ff542c811e7e"
      },
      "source": [
        "df.describe()"
      ],
      "execution_count": 8,
      "outputs": [
        {
          "output_type": "execute_result",
          "data": {
            "text/html": [
              "<div>\n",
              "<style scoped>\n",
              "    .dataframe tbody tr th:only-of-type {\n",
              "        vertical-align: middle;\n",
              "    }\n",
              "\n",
              "    .dataframe tbody tr th {\n",
              "        vertical-align: top;\n",
              "    }\n",
              "\n",
              "    .dataframe thead th {\n",
              "        text-align: right;\n",
              "    }\n",
              "</style>\n",
              "<table border=\"1\" class=\"dataframe\">\n",
              "  <thead>\n",
              "    <tr style=\"text-align: right;\">\n",
              "      <th></th>\n",
              "      <th>0</th>\n",
              "      <th>1</th>\n",
              "      <th>2</th>\n",
              "      <th>3</th>\n",
              "      <th>4</th>\n",
              "      <th>5</th>\n",
              "      <th>6</th>\n",
              "      <th>7</th>\n",
              "      <th>8</th>\n",
              "      <th>9</th>\n",
              "      <th>10</th>\n",
              "      <th>11</th>\n",
              "      <th>12</th>\n",
              "      <th>13</th>\n",
              "      <th>14</th>\n",
              "      <th>15</th>\n",
              "      <th>16</th>\n",
              "      <th>17</th>\n",
              "      <th>18</th>\n",
              "      <th>19</th>\n",
              "      <th>20</th>\n",
              "      <th>21</th>\n",
              "      <th>22</th>\n",
              "      <th>23</th>\n",
              "    </tr>\n",
              "  </thead>\n",
              "  <tbody>\n",
              "    <tr>\n",
              "      <th>count</th>\n",
              "      <td>99097.000000</td>\n",
              "      <td>99097.000000</td>\n",
              "      <td>99097.000000</td>\n",
              "      <td>99097.000000</td>\n",
              "      <td>99097.000000</td>\n",
              "      <td>99097.000000</td>\n",
              "      <td>99097.000000</td>\n",
              "      <td>99097.000000</td>\n",
              "      <td>99097.000000</td>\n",
              "      <td>99097.000000</td>\n",
              "      <td>99097.000000</td>\n",
              "      <td>99097.000000</td>\n",
              "      <td>99097.000000</td>\n",
              "      <td>99097.000000</td>\n",
              "      <td>99097.000000</td>\n",
              "      <td>99097.000000</td>\n",
              "      <td>99097.000000</td>\n",
              "      <td>99097.000000</td>\n",
              "      <td>99097.000000</td>\n",
              "      <td>99097.000000</td>\n",
              "      <td>99097.000000</td>\n",
              "      <td>99097.000000</td>\n",
              "      <td>99097.000000</td>\n",
              "      <td>99097.000000</td>\n",
              "    </tr>\n",
              "    <tr>\n",
              "      <th>mean</th>\n",
              "      <td>0.000162</td>\n",
              "      <td>0.000263</td>\n",
              "      <td>0.000220</td>\n",
              "      <td>0.000144</td>\n",
              "      <td>0.000198</td>\n",
              "      <td>0.000166</td>\n",
              "      <td>0.000108</td>\n",
              "      <td>0.000191</td>\n",
              "      <td>0.000304</td>\n",
              "      <td>0.000135</td>\n",
              "      <td>0.000272</td>\n",
              "      <td>0.000248</td>\n",
              "      <td>0.000173</td>\n",
              "      <td>0.000048</td>\n",
              "      <td>0.000374</td>\n",
              "      <td>0.000221</td>\n",
              "      <td>0.000027</td>\n",
              "      <td>0.000079</td>\n",
              "      <td>0.000212</td>\n",
              "      <td>0.000159</td>\n",
              "      <td>0.000144</td>\n",
              "      <td>0.000146</td>\n",
              "      <td>0.000041</td>\n",
              "      <td>-0.000019</td>\n",
              "    </tr>\n",
              "    <tr>\n",
              "      <th>std</th>\n",
              "      <td>0.000030</td>\n",
              "      <td>0.000028</td>\n",
              "      <td>0.000030</td>\n",
              "      <td>0.000027</td>\n",
              "      <td>0.000027</td>\n",
              "      <td>0.000027</td>\n",
              "      <td>0.000027</td>\n",
              "      <td>0.000023</td>\n",
              "      <td>0.000023</td>\n",
              "      <td>0.000026</td>\n",
              "      <td>0.000022</td>\n",
              "      <td>0.000021</td>\n",
              "      <td>0.000025</td>\n",
              "      <td>0.000021</td>\n",
              "      <td>0.000022</td>\n",
              "      <td>0.000033</td>\n",
              "      <td>0.000021</td>\n",
              "      <td>0.000022</td>\n",
              "      <td>0.000034</td>\n",
              "      <td>0.000025</td>\n",
              "      <td>0.000024</td>\n",
              "      <td>0.000032</td>\n",
              "      <td>0.000026</td>\n",
              "      <td>0.000025</td>\n",
              "    </tr>\n",
              "    <tr>\n",
              "      <th>min</th>\n",
              "      <td>0.000023</td>\n",
              "      <td>0.000138</td>\n",
              "      <td>0.000096</td>\n",
              "      <td>0.000032</td>\n",
              "      <td>0.000084</td>\n",
              "      <td>0.000056</td>\n",
              "      <td>-0.000001</td>\n",
              "      <td>0.000089</td>\n",
              "      <td>0.000207</td>\n",
              "      <td>0.000035</td>\n",
              "      <td>0.000181</td>\n",
              "      <td>0.000160</td>\n",
              "      <td>0.000067</td>\n",
              "      <td>-0.000044</td>\n",
              "      <td>0.000281</td>\n",
              "      <td>0.000096</td>\n",
              "      <td>-0.000073</td>\n",
              "      <td>-0.000011</td>\n",
              "      <td>0.000068</td>\n",
              "      <td>0.000051</td>\n",
              "      <td>0.000023</td>\n",
              "      <td>0.000025</td>\n",
              "      <td>-0.000081</td>\n",
              "      <td>-0.000122</td>\n",
              "    </tr>\n",
              "    <tr>\n",
              "      <th>25%</th>\n",
              "      <td>0.000142</td>\n",
              "      <td>0.000243</td>\n",
              "      <td>0.000201</td>\n",
              "      <td>0.000126</td>\n",
              "      <td>0.000180</td>\n",
              "      <td>0.000148</td>\n",
              "      <td>0.000089</td>\n",
              "      <td>0.000175</td>\n",
              "      <td>0.000289</td>\n",
              "      <td>0.000118</td>\n",
              "      <td>0.000257</td>\n",
              "      <td>0.000233</td>\n",
              "      <td>0.000156</td>\n",
              "      <td>0.000033</td>\n",
              "      <td>0.000359</td>\n",
              "      <td>0.000197</td>\n",
              "      <td>0.000012</td>\n",
              "      <td>0.000064</td>\n",
              "      <td>0.000188</td>\n",
              "      <td>0.000142</td>\n",
              "      <td>0.000127</td>\n",
              "      <td>0.000124</td>\n",
              "      <td>0.000023</td>\n",
              "      <td>-0.000036</td>\n",
              "    </tr>\n",
              "    <tr>\n",
              "      <th>50%</th>\n",
              "      <td>0.000162</td>\n",
              "      <td>0.000263</td>\n",
              "      <td>0.000221</td>\n",
              "      <td>0.000144</td>\n",
              "      <td>0.000199</td>\n",
              "      <td>0.000166</td>\n",
              "      <td>0.000108</td>\n",
              "      <td>0.000191</td>\n",
              "      <td>0.000304</td>\n",
              "      <td>0.000135</td>\n",
              "      <td>0.000272</td>\n",
              "      <td>0.000248</td>\n",
              "      <td>0.000173</td>\n",
              "      <td>0.000048</td>\n",
              "      <td>0.000374</td>\n",
              "      <td>0.000221</td>\n",
              "      <td>0.000027</td>\n",
              "      <td>0.000079</td>\n",
              "      <td>0.000212</td>\n",
              "      <td>0.000159</td>\n",
              "      <td>0.000144</td>\n",
              "      <td>0.000146</td>\n",
              "      <td>0.000041</td>\n",
              "      <td>-0.000019</td>\n",
              "    </tr>\n",
              "    <tr>\n",
              "      <th>75%</th>\n",
              "      <td>0.000182</td>\n",
              "      <td>0.000282</td>\n",
              "      <td>0.000240</td>\n",
              "      <td>0.000163</td>\n",
              "      <td>0.000217</td>\n",
              "      <td>0.000184</td>\n",
              "      <td>0.000127</td>\n",
              "      <td>0.000207</td>\n",
              "      <td>0.000320</td>\n",
              "      <td>0.000153</td>\n",
              "      <td>0.000287</td>\n",
              "      <td>0.000262</td>\n",
              "      <td>0.000190</td>\n",
              "      <td>0.000062</td>\n",
              "      <td>0.000388</td>\n",
              "      <td>0.000244</td>\n",
              "      <td>0.000042</td>\n",
              "      <td>0.000094</td>\n",
              "      <td>0.000236</td>\n",
              "      <td>0.000176</td>\n",
              "      <td>0.000160</td>\n",
              "      <td>0.000169</td>\n",
              "      <td>0.000058</td>\n",
              "      <td>-0.000002</td>\n",
              "    </tr>\n",
              "    <tr>\n",
              "      <th>max</th>\n",
              "      <td>0.000294</td>\n",
              "      <td>0.000386</td>\n",
              "      <td>0.000347</td>\n",
              "      <td>0.000257</td>\n",
              "      <td>0.000303</td>\n",
              "      <td>0.000273</td>\n",
              "      <td>0.000218</td>\n",
              "      <td>0.000290</td>\n",
              "      <td>0.000399</td>\n",
              "      <td>0.000244</td>\n",
              "      <td>0.000370</td>\n",
              "      <td>0.000340</td>\n",
              "      <td>0.000284</td>\n",
              "      <td>0.000137</td>\n",
              "      <td>0.000468</td>\n",
              "      <td>0.000353</td>\n",
              "      <td>0.000114</td>\n",
              "      <td>0.000169</td>\n",
              "      <td>0.000340</td>\n",
              "      <td>0.000277</td>\n",
              "      <td>0.000253</td>\n",
              "      <td>0.000268</td>\n",
              "      <td>0.000151</td>\n",
              "      <td>0.000094</td>\n",
              "    </tr>\n",
              "  </tbody>\n",
              "</table>\n",
              "</div>"
            ],
            "text/plain": [
              "                 0             1   ...            22            23\n",
              "count  99097.000000  99097.000000  ...  99097.000000  99097.000000\n",
              "mean       0.000162      0.000263  ...      0.000041     -0.000019\n",
              "std        0.000030      0.000028  ...      0.000026      0.000025\n",
              "min        0.000023      0.000138  ...     -0.000081     -0.000122\n",
              "25%        0.000142      0.000243  ...      0.000023     -0.000036\n",
              "50%        0.000162      0.000263  ...      0.000041     -0.000019\n",
              "75%        0.000182      0.000282  ...      0.000058     -0.000002\n",
              "max        0.000294      0.000386  ...      0.000151      0.000094\n",
              "\n",
              "[8 rows x 24 columns]"
            ]
          },
          "metadata": {
            "tags": []
          },
          "execution_count": 8
        }
      ]
    },
    {
      "cell_type": "markdown",
      "metadata": {
        "id": "xk-09tKwzEwi"
      },
      "source": [
        "Creamos 4 conjuntos distintos, cada uno de estos conjuntos contendrán los datos asociados con cada nivel de White Noise."
      ]
    },
    {
      "cell_type": "code",
      "metadata": {
        "id": "Drn4jgi1-EeP"
      },
      "source": [
        "datos_wn_05 = []\n",
        "datos_wn_1 = []\n",
        "datos_wn_2 = []\n",
        "datos_wn_3 = []\n",
        "\n",
        "for filename in listdir(dataset_datos_dir):\n",
        "  if isfile(join(dataset_datos_dir, filename)):\n",
        "    nombre_archivo = filename.split('.')[0]\n",
        "    if (nombre_archivo.split('_')[2] == '05A'):\n",
        "      datos_wn_05.append(dataset_datos_dir + '/' + filename)\n",
        "    elif (nombre_archivo.split('_')[2] == '1A'):\n",
        "      datos_wn_1.append(dataset_datos_dir + '/' + filename)\n",
        "    elif (nombre_archivo.split('_')[2] == '2A'):\n",
        "      datos_wn_2.append(dataset_datos_dir + '/' + filename)\n",
        "    elif (nombre_archivo.split('_')[2] == '3A'):\n",
        "      datos_wn_3.append(dataset_datos_dir + '/' + filename)"
      ],
      "execution_count": 9,
      "outputs": []
    },
    {
      "cell_type": "markdown",
      "metadata": {
        "id": "2UsNu6quzmzb"
      },
      "source": [
        "Verificamos que los datos hayan sido agrupados correctamente"
      ]
    },
    {
      "cell_type": "code",
      "metadata": {
        "colab": {
          "base_uri": "https://localhost:8080/"
        },
        "id": "jve2KCyUA--D",
        "outputId": "02401bb6-11d1-466a-f494-ab042e3ab501"
      },
      "source": [
        "datos_wn_05[0], datos_wn_1[0], datos_wn_2[0], datos_wn_3[0]"
      ],
      "execution_count": 10,
      "outputs": [
        {
          "output_type": "execute_result",
          "data": {
            "text/plain": [
              "('drive/MyDrive/DATOS_EXPERIMENTALES_JACKET/DATOS/1_1_05A.mat',\n",
              " 'drive/MyDrive/DATOS_EXPERIMENTALES_JACKET/DATOS/1_5_1A.mat',\n",
              " 'drive/MyDrive/DATOS_EXPERIMENTALES_JACKET/DATOS/1_5_2A.mat',\n",
              " 'drive/MyDrive/DATOS_EXPERIMENTALES_JACKET/DATOS/1_2_3A.mat')"
            ]
          },
          "metadata": {
            "tags": []
          },
          "execution_count": 10
        }
      ]
    },
    {
      "cell_type": "markdown",
      "metadata": {
        "id": "b9RGoSx9zsYK"
      },
      "source": [
        "Creamos una función que se va a aplicar a cada uno de los 4 conjuntos, en donde se crearan 4 subconjuntos relacionados con el estado de la estructura (1, 2, 3, 4). Todo estará dentro de la estructura de un diccionario para acceder fácilmente a los mismos."
      ]
    },
    {
      "cell_type": "code",
      "metadata": {
        "id": "HNH-25a7BA9h"
      },
      "source": [
        "def separar_por_estado(arreglo):\n",
        "\n",
        "  estado_1 = []\n",
        "  estado_2 = []\n",
        "  estado_3 = []\n",
        "  estado_4 = []\n",
        "\n",
        "  for direccion in arreglo:\n",
        "    nombre_archivo = direccion.split('/')[4].split('.')[0]\n",
        "    estado = nombre_archivo.split('_')[0]\n",
        "    if (estado == '1'):\n",
        "      estado_1.append(direccion)\n",
        "    elif (estado == '2'):\n",
        "      estado_2.append(direccion)\n",
        "    elif (estado == '3'):\n",
        "      estado_3.append(direccion)\n",
        "    elif (estado == '4'):\n",
        "      estado_4.append(direccion)\n",
        "\n",
        "  return {1: estado_1, 2: estado_2, 3: estado_3, 4: estado_4}"
      ],
      "execution_count": 11,
      "outputs": []
    },
    {
      "cell_type": "code",
      "metadata": {
        "colab": {
          "base_uri": "https://localhost:8080/"
        },
        "id": "qUf_r64_FTeM",
        "outputId": "69c6bc25-2e37-4bff-cb48-fa6232654ddd"
      },
      "source": [
        "datos_wn_05_estados = separar_por_estado(datos_wn_05)\n",
        "datos_wn_1_estados = separar_por_estado(datos_wn_1)\n",
        "datos_wn_2_estados = separar_por_estado(datos_wn_2)\n",
        "datos_wn_3_estados = separar_por_estado(datos_wn_3)\n",
        "\n",
        "diccionario_datos = {\n",
        "                     'wn_05': datos_wn_05_estados,\n",
        "                     'wn_1': datos_wn_1_estados,\n",
        "                     'wn_2': datos_wn_2_estados,\n",
        "                     'wn_3': datos_wn_3_estados \n",
        "                    }\n",
        "                    \n",
        "diccionario_datos.keys()"
      ],
      "execution_count": 12,
      "outputs": [
        {
          "output_type": "execute_result",
          "data": {
            "text/plain": [
              "dict_keys(['wn_05', 'wn_1', 'wn_2', 'wn_3'])"
            ]
          },
          "metadata": {
            "tags": []
          },
          "execution_count": 12
        }
      ]
    },
    {
      "cell_type": "markdown",
      "metadata": {
        "id": "Gbu7byUXN2Yj"
      },
      "source": [
        "Verificamos la estructura del diccionario."
      ]
    },
    {
      "cell_type": "code",
      "metadata": {
        "colab": {
          "base_uri": "https://localhost:8080/"
        },
        "id": "rBljSzKqG8JD",
        "outputId": "d8691508-ff03-4be3-cb77-1843e262d492"
      },
      "source": [
        "diccionario_datos"
      ],
      "execution_count": 14,
      "outputs": [
        {
          "output_type": "execute_result",
          "data": {
            "text/plain": [
              "{'wn_05': {1: ['drive/MyDrive/DATOS_EXPERIMENTALES_JACKET/DATOS/1_1_05A.mat',\n",
              "   'drive/MyDrive/DATOS_EXPERIMENTALES_JACKET/DATOS/1_5_05A.mat',\n",
              "   'drive/MyDrive/DATOS_EXPERIMENTALES_JACKET/DATOS/1_3_05A.mat',\n",
              "   'drive/MyDrive/DATOS_EXPERIMENTALES_JACKET/DATOS/1_2_05A.mat',\n",
              "   'drive/MyDrive/DATOS_EXPERIMENTALES_JACKET/DATOS/1_10_05A.mat',\n",
              "   'drive/MyDrive/DATOS_EXPERIMENTALES_JACKET/DATOS/1_4_05A.mat',\n",
              "   'drive/MyDrive/DATOS_EXPERIMENTALES_JACKET/DATOS/1_7_05A.mat',\n",
              "   'drive/MyDrive/DATOS_EXPERIMENTALES_JACKET/DATOS/1_6_05A.mat',\n",
              "   'drive/MyDrive/DATOS_EXPERIMENTALES_JACKET/DATOS/1_9_05A.mat',\n",
              "   'drive/MyDrive/DATOS_EXPERIMENTALES_JACKET/DATOS/1_8_05A.mat'],\n",
              "  2: ['drive/MyDrive/DATOS_EXPERIMENTALES_JACKET/DATOS/2_5_05A.mat',\n",
              "   'drive/MyDrive/DATOS_EXPERIMENTALES_JACKET/DATOS/2_1_05A.mat',\n",
              "   'drive/MyDrive/DATOS_EXPERIMENTALES_JACKET/DATOS/2_3_05A.mat',\n",
              "   'drive/MyDrive/DATOS_EXPERIMENTALES_JACKET/DATOS/2_4_05A.mat',\n",
              "   'drive/MyDrive/DATOS_EXPERIMENTALES_JACKET/DATOS/2_2_05A.mat'],\n",
              "  3: ['drive/MyDrive/DATOS_EXPERIMENTALES_JACKET/DATOS/3_2_05A.mat',\n",
              "   'drive/MyDrive/DATOS_EXPERIMENTALES_JACKET/DATOS/3_1_05A.mat',\n",
              "   'drive/MyDrive/DATOS_EXPERIMENTALES_JACKET/DATOS/3_3_05A.mat',\n",
              "   'drive/MyDrive/DATOS_EXPERIMENTALES_JACKET/DATOS/3_4_05A.mat',\n",
              "   'drive/MyDrive/DATOS_EXPERIMENTALES_JACKET/DATOS/3_5_05A.mat'],\n",
              "  4: ['drive/MyDrive/DATOS_EXPERIMENTALES_JACKET/DATOS/4_1_05A.mat',\n",
              "   'drive/MyDrive/DATOS_EXPERIMENTALES_JACKET/DATOS/4_3_05A.mat',\n",
              "   'drive/MyDrive/DATOS_EXPERIMENTALES_JACKET/DATOS/4_2_05A.mat',\n",
              "   'drive/MyDrive/DATOS_EXPERIMENTALES_JACKET/DATOS/4_4_05A.mat',\n",
              "   'drive/MyDrive/DATOS_EXPERIMENTALES_JACKET/DATOS/4_5_05A.mat']},\n",
              " 'wn_1': {1: ['drive/MyDrive/DATOS_EXPERIMENTALES_JACKET/DATOS/1_5_1A.mat',\n",
              "   'drive/MyDrive/DATOS_EXPERIMENTALES_JACKET/DATOS/1_3_1A.mat',\n",
              "   'drive/MyDrive/DATOS_EXPERIMENTALES_JACKET/DATOS/1_1_1A.mat',\n",
              "   'drive/MyDrive/DATOS_EXPERIMENTALES_JACKET/DATOS/1_10_1A.mat',\n",
              "   'drive/MyDrive/DATOS_EXPERIMENTALES_JACKET/DATOS/1_2_1A.mat',\n",
              "   'drive/MyDrive/DATOS_EXPERIMENTALES_JACKET/DATOS/1_4_1A.mat',\n",
              "   'drive/MyDrive/DATOS_EXPERIMENTALES_JACKET/DATOS/1_8_1A.mat',\n",
              "   'drive/MyDrive/DATOS_EXPERIMENTALES_JACKET/DATOS/1_9_1A.mat',\n",
              "   'drive/MyDrive/DATOS_EXPERIMENTALES_JACKET/DATOS/1_7_1A.mat',\n",
              "   'drive/MyDrive/DATOS_EXPERIMENTALES_JACKET/DATOS/1_6_1A.mat'],\n",
              "  2: ['drive/MyDrive/DATOS_EXPERIMENTALES_JACKET/DATOS/2_3_1A.mat',\n",
              "   'drive/MyDrive/DATOS_EXPERIMENTALES_JACKET/DATOS/2_4_1A.mat',\n",
              "   'drive/MyDrive/DATOS_EXPERIMENTALES_JACKET/DATOS/2_5_1A.mat',\n",
              "   'drive/MyDrive/DATOS_EXPERIMENTALES_JACKET/DATOS/2_2_1A.mat',\n",
              "   'drive/MyDrive/DATOS_EXPERIMENTALES_JACKET/DATOS/2_1_1A.mat'],\n",
              "  3: ['drive/MyDrive/DATOS_EXPERIMENTALES_JACKET/DATOS/3_1_1A.mat',\n",
              "   'drive/MyDrive/DATOS_EXPERIMENTALES_JACKET/DATOS/3_2_1A.mat',\n",
              "   'drive/MyDrive/DATOS_EXPERIMENTALES_JACKET/DATOS/3_3_1A.mat',\n",
              "   'drive/MyDrive/DATOS_EXPERIMENTALES_JACKET/DATOS/3_4_1A.mat',\n",
              "   'drive/MyDrive/DATOS_EXPERIMENTALES_JACKET/DATOS/3_5_1A.mat'],\n",
              "  4: ['drive/MyDrive/DATOS_EXPERIMENTALES_JACKET/DATOS/4_2_1A.mat',\n",
              "   'drive/MyDrive/DATOS_EXPERIMENTALES_JACKET/DATOS/4_1_1A.mat',\n",
              "   'drive/MyDrive/DATOS_EXPERIMENTALES_JACKET/DATOS/4_5_1A.mat',\n",
              "   'drive/MyDrive/DATOS_EXPERIMENTALES_JACKET/DATOS/4_4_1A.mat',\n",
              "   'drive/MyDrive/DATOS_EXPERIMENTALES_JACKET/DATOS/4_3_1A.mat']},\n",
              " 'wn_2': {1: ['drive/MyDrive/DATOS_EXPERIMENTALES_JACKET/DATOS/1_5_2A.mat',\n",
              "   'drive/MyDrive/DATOS_EXPERIMENTALES_JACKET/DATOS/1_4_2A.mat',\n",
              "   'drive/MyDrive/DATOS_EXPERIMENTALES_JACKET/DATOS/1_2_2A.mat',\n",
              "   'drive/MyDrive/DATOS_EXPERIMENTALES_JACKET/DATOS/1_3_2A.mat',\n",
              "   'drive/MyDrive/DATOS_EXPERIMENTALES_JACKET/DATOS/1_10_2A.mat',\n",
              "   'drive/MyDrive/DATOS_EXPERIMENTALES_JACKET/DATOS/1_1_2A.mat',\n",
              "   'drive/MyDrive/DATOS_EXPERIMENTALES_JACKET/DATOS/1_8_2A.mat',\n",
              "   'drive/MyDrive/DATOS_EXPERIMENTALES_JACKET/DATOS/1_6_2A.mat',\n",
              "   'drive/MyDrive/DATOS_EXPERIMENTALES_JACKET/DATOS/1_7_2A.mat',\n",
              "   'drive/MyDrive/DATOS_EXPERIMENTALES_JACKET/DATOS/1_9_2A.mat'],\n",
              "  2: ['drive/MyDrive/DATOS_EXPERIMENTALES_JACKET/DATOS/2_1_2A.mat',\n",
              "   'drive/MyDrive/DATOS_EXPERIMENTALES_JACKET/DATOS/2_2_2A.mat',\n",
              "   'drive/MyDrive/DATOS_EXPERIMENTALES_JACKET/DATOS/2_3_2A.mat',\n",
              "   'drive/MyDrive/DATOS_EXPERIMENTALES_JACKET/DATOS/2_4_2A.mat',\n",
              "   'drive/MyDrive/DATOS_EXPERIMENTALES_JACKET/DATOS/2_5_2A.mat'],\n",
              "  3: ['drive/MyDrive/DATOS_EXPERIMENTALES_JACKET/DATOS/3_1_2A.mat',\n",
              "   'drive/MyDrive/DATOS_EXPERIMENTALES_JACKET/DATOS/3_2_2A.mat',\n",
              "   'drive/MyDrive/DATOS_EXPERIMENTALES_JACKET/DATOS/3_4_2A.mat',\n",
              "   'drive/MyDrive/DATOS_EXPERIMENTALES_JACKET/DATOS/3_3_2A.mat',\n",
              "   'drive/MyDrive/DATOS_EXPERIMENTALES_JACKET/DATOS/3_5_2A.mat'],\n",
              "  4: ['drive/MyDrive/DATOS_EXPERIMENTALES_JACKET/DATOS/4_1_2A.mat',\n",
              "   'drive/MyDrive/DATOS_EXPERIMENTALES_JACKET/DATOS/4_3_2A.mat',\n",
              "   'drive/MyDrive/DATOS_EXPERIMENTALES_JACKET/DATOS/4_4_2A.mat',\n",
              "   'drive/MyDrive/DATOS_EXPERIMENTALES_JACKET/DATOS/4_5_2A.mat',\n",
              "   'drive/MyDrive/DATOS_EXPERIMENTALES_JACKET/DATOS/4_2_2A.mat']},\n",
              " 'wn_3': {1: ['drive/MyDrive/DATOS_EXPERIMENTALES_JACKET/DATOS/1_2_3A.mat',\n",
              "   'drive/MyDrive/DATOS_EXPERIMENTALES_JACKET/DATOS/1_3_3A.mat',\n",
              "   'drive/MyDrive/DATOS_EXPERIMENTALES_JACKET/DATOS/1_1_3A.mat',\n",
              "   'drive/MyDrive/DATOS_EXPERIMENTALES_JACKET/DATOS/1_10_3A.mat',\n",
              "   'drive/MyDrive/DATOS_EXPERIMENTALES_JACKET/DATOS/1_4_3A.mat',\n",
              "   'drive/MyDrive/DATOS_EXPERIMENTALES_JACKET/DATOS/1_6_3A.mat',\n",
              "   'drive/MyDrive/DATOS_EXPERIMENTALES_JACKET/DATOS/1_9_3A.mat',\n",
              "   'drive/MyDrive/DATOS_EXPERIMENTALES_JACKET/DATOS/1_8_3A.mat',\n",
              "   'drive/MyDrive/DATOS_EXPERIMENTALES_JACKET/DATOS/1_7_3A.mat',\n",
              "   'drive/MyDrive/DATOS_EXPERIMENTALES_JACKET/DATOS/1_5_3A.mat'],\n",
              "  2: ['drive/MyDrive/DATOS_EXPERIMENTALES_JACKET/DATOS/2_2_3A.mat',\n",
              "   'drive/MyDrive/DATOS_EXPERIMENTALES_JACKET/DATOS/2_5_3A.mat',\n",
              "   'drive/MyDrive/DATOS_EXPERIMENTALES_JACKET/DATOS/2_1_3A.mat',\n",
              "   'drive/MyDrive/DATOS_EXPERIMENTALES_JACKET/DATOS/2_3_3A.mat',\n",
              "   'drive/MyDrive/DATOS_EXPERIMENTALES_JACKET/DATOS/2_4_3A.mat'],\n",
              "  3: ['drive/MyDrive/DATOS_EXPERIMENTALES_JACKET/DATOS/3_1_3A.mat',\n",
              "   'drive/MyDrive/DATOS_EXPERIMENTALES_JACKET/DATOS/3_2_3A.mat',\n",
              "   'drive/MyDrive/DATOS_EXPERIMENTALES_JACKET/DATOS/3_3_3A.mat',\n",
              "   'drive/MyDrive/DATOS_EXPERIMENTALES_JACKET/DATOS/3_4_3A.mat',\n",
              "   'drive/MyDrive/DATOS_EXPERIMENTALES_JACKET/DATOS/3_5_3A.mat'],\n",
              "  4: ['drive/MyDrive/DATOS_EXPERIMENTALES_JACKET/DATOS/4_4_3A.mat',\n",
              "   'drive/MyDrive/DATOS_EXPERIMENTALES_JACKET/DATOS/4_1_3A.mat',\n",
              "   'drive/MyDrive/DATOS_EXPERIMENTALES_JACKET/DATOS/4_2_3A.mat',\n",
              "   'drive/MyDrive/DATOS_EXPERIMENTALES_JACKET/DATOS/4_3_3A.mat',\n",
              "   'drive/MyDrive/DATOS_EXPERIMENTALES_JACKET/DATOS/4_5_3A.mat']}}"
            ]
          },
          "metadata": {
            "tags": []
          },
          "execution_count": 14
        }
      ]
    },
    {
      "cell_type": "code",
      "metadata": {
        "id": "Lzj3Yc5QNkdX"
      },
      "source": [
        ""
      ],
      "execution_count": null,
      "outputs": []
    }
  ]
}