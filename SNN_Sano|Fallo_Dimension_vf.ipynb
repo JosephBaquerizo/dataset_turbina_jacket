{
  "cells": [
    {
      "cell_type": "code",
      "execution_count": null,
      "metadata": {
        "id": "keNCvCfA_wZ5"
      },
      "outputs": [],
      "source": [
        "from google.colab import drive\n",
        "from os import listdir\n",
        "from os.path import isfile, join\n",
        "from scipy.io import loadmat\n",
        "from random import randint\n",
        "from sklearn.utils import shuffle\n",
        "from sklearn.metrics import confusion_matrix, classification_report\n",
        "\n",
        "import seaborn as sns\n",
        "import matplotlib.pyplot as plt\n",
        "import tensorflow as tf\n",
        "import tensorflow.keras.backend as K\n",
        "import pandas as pd\n",
        "import numpy as np\n",
        "import random\n",
        "\n",
        "import datetime\n",
        "import os"
      ]
    },
    {
      "cell_type": "code",
      "execution_count": null,
      "metadata": {
        "colab": {
          "base_uri": "https://localhost:8080/"
        },
        "id": "qHuRWHRxIsgP",
        "outputId": "c26db34b-23e7-48e1-e8a7-796945efcbfd"
      },
      "outputs": [
        {
          "output_type": "stream",
          "name": "stdout",
          "text": [
            "Drive already mounted at /content/drive; to attempt to forcibly remount, call drive.mount(\"/content/drive\", force_remount=True).\n"
          ]
        }
      ],
      "source": [
        "# Establecemos conexión con Google Drive para acceder a la carpeta de datasets\n",
        "drive.mount('/content/drive')"
      ]
    },
    {
      "cell_type": "code",
      "execution_count": null,
      "metadata": {
        "id": "SudVl5eqIvUC"
      },
      "outputs": [],
      "source": [
        "# Guardamos la dirección de los datasets (experimentos) en una variable para utilizala posteriormente\n",
        "dataset_datos_dir = 'drive/MyDrive/DATOS_EXPERIMENTALES_JACKET/DATOS'"
      ]
    },
    {
      "cell_type": "code",
      "execution_count": null,
      "metadata": {
        "id": "A_JhmvsvIw2x"
      },
      "outputs": [],
      "source": [
        "# Obtenemos una lista con todos los nombres de los archivos relacionados a los experimentos realizados\n",
        "dataset_datos_files = [dataset_datos_dir+'/'+filename for filename in listdir(dataset_datos_dir) if isfile(join(dataset_datos_dir, filename))]"
      ]
    },
    {
      "cell_type": "code",
      "execution_count": null,
      "metadata": {
        "id": "FvA3D-NRIyof"
      },
      "outputs": [],
      "source": [
        "# Creamos listas en donde se almacenarán los archivos relacionados a experimentos de fisura y experimentos de perno flojo respectivamente\n",
        "datos_fisura = []\n",
        "datos_pernoflojo = []\n",
        "datos_replica = []\n",
        "datos_normal = []"
      ]
    },
    {
      "cell_type": "code",
      "execution_count": null,
      "metadata": {
        "id": "l3KhqBk5I0oU"
      },
      "outputs": [],
      "source": [
        "# Iteramos los nombres de todos los archivos en la lista general previamente creada\n",
        "for filename in listdir(dataset_datos_dir):\n",
        "  # Obtenemos el nombre del archivo tal cual, sin direcciones previas\n",
        "  if isfile(join(dataset_datos_dir, filename)):\n",
        "    nombre_archivo = filename.split('.')[0]\n",
        "    # El estado de fisura se asocia al número 3 en los nombres de los archivos, si cumple la condición el archivo, guardamos en la lista datos_fisura\n",
        "    if (nombre_archivo.split('_')[0] == '3'):\n",
        "      datos_fisura.append(dataset_datos_dir + '/' + filename)\n",
        "    # El estado de fisura se asocia al número 4 en los nombres de los archivos, si cumple la condición el archivo, guardamos en la lista datos_pernoflojo\n",
        "    elif (nombre_archivo.split('_')[0] == '4'):\n",
        "      datos_pernoflojo.append(dataset_datos_dir + '/' + filename)\n",
        "    # El estado de fisura se asocia al número 4 en los nombres de los archivos, si cumple la condición el archivo, guardamos en la lista datos_pernoflojo\n",
        "    elif (nombre_archivo.split('_')[0] == '1'):\n",
        "      datos_normal.append(dataset_datos_dir + '/' + filename)\n",
        "    # El estado de fisura se asocia al número 4 en los nombres de los archivos, si cumple la condición el archivo, guardamos en la lista datos_pernoflojo\n",
        "    elif (nombre_archivo.split('_')[0] == '2'):\n",
        "      datos_replica.append(dataset_datos_dir + '/' + filename)"
      ]
    },
    {
      "cell_type": "code",
      "execution_count": null,
      "metadata": {
        "colab": {
          "base_uri": "https://localhost:8080/"
        },
        "id": "S4kgbKVvI3dL",
        "outputId": "a980921a-1376-4e95-d385-98ed0c01c03f"
      },
      "outputs": [
        {
          "output_type": "execute_result",
          "data": {
            "text/plain": [
              "40"
            ]
          },
          "metadata": {},
          "execution_count": 7
        }
      ],
      "source": [
        "len(datos_normal)"
      ]
    },
    {
      "cell_type": "code",
      "execution_count": null,
      "metadata": {
        "colab": {
          "base_uri": "https://localhost:8080/"
        },
        "id": "wyzNsu-8I4nG",
        "outputId": "4716c913-3e74-4a74-d6c0-c1f76d762730"
      },
      "outputs": [
        {
          "output_type": "execute_result",
          "data": {
            "text/plain": [
              "20"
            ]
          },
          "metadata": {},
          "execution_count": 8
        }
      ],
      "source": [
        "len(datos_replica)"
      ]
    },
    {
      "cell_type": "code",
      "execution_count": null,
      "metadata": {
        "colab": {
          "base_uri": "https://localhost:8080/"
        },
        "id": "RU_GyCadI58G",
        "outputId": "150df0fc-59c0-4750-842a-8723390711dd"
      },
      "outputs": [
        {
          "output_type": "execute_result",
          "data": {
            "text/plain": [
              "20"
            ]
          },
          "metadata": {},
          "execution_count": 9
        }
      ],
      "source": [
        "len(datos_fisura)"
      ]
    },
    {
      "cell_type": "code",
      "execution_count": null,
      "metadata": {
        "colab": {
          "base_uri": "https://localhost:8080/"
        },
        "id": "-g0xVuFCI7e0",
        "outputId": "b7008ada-0d22-4629-96ec-317f662efeb0"
      },
      "outputs": [
        {
          "output_type": "execute_result",
          "data": {
            "text/plain": [
              "20"
            ]
          },
          "metadata": {},
          "execution_count": 10
        }
      ],
      "source": [
        "len(datos_pernoflojo)"
      ]
    },
    {
      "cell_type": "markdown",
      "metadata": {
        "id": "pM5bgOjKI-83"
      },
      "source": [
        "## Datos Fisura"
      ]
    },
    {
      "cell_type": "code",
      "execution_count": null,
      "metadata": {
        "id": "PswhbktXI81x"
      },
      "outputs": [],
      "source": [
        "# Se crean 2 listas, una asociada al número de experimento y otra asociada al nivel de white noise presente durante el experimento \n",
        "numero_experimentos_fisura = []\n",
        "amplitud_experimentos_fisura = []"
      ]
    },
    {
      "cell_type": "code",
      "execution_count": null,
      "metadata": {
        "id": "GXLW9vTvJAdf"
      },
      "outputs": [],
      "source": [
        "# Iteramos los nombres de los archivos dentro del conjunto que contiene los datos de fisura\n",
        "for nombre_archivo in datos_fisura:\n",
        "  # Obtenemos el nombre del experimento\n",
        "  nombre_experimento = nombre_archivo.split('/')[4]\n",
        "  # Obtenemos el número del experimento\n",
        "  numero_experimento = nombre_experimento.split('_')[1]\n",
        "  # Obtenemos el nivel de white noise del experimento\n",
        "  amplitud_experimento = nombre_experimento.split('.')[0].split('_')[2].replace('A', '')\n",
        "  # Agregamos el número del experimento a la lista numero_experimentos_fisura creada anteriormente\n",
        "  numero_experimentos_fisura.append(int(numero_experimento))\n",
        "  # Agregamos el nivel de white noise del experimento a la lista amplitud_experimentos_fisura creada anteriormente\n",
        "  if amplitud_experimento == '05':\n",
        "    amplitud_experimento = 0.5\n",
        "    amplitud_experimentos_fisura.append(amplitud_experimento)\n",
        "  else:\n",
        "    amplitud_experimentos_fisura.append(int(amplitud_experimento))"
      ]
    },
    {
      "cell_type": "code",
      "execution_count": null,
      "metadata": {
        "id": "byPr9sQnJCMN"
      },
      "outputs": [],
      "source": [
        "# Creamos un DataFrame vacío\n",
        "df_fisura = pd.DataFrame()"
      ]
    },
    {
      "cell_type": "code",
      "execution_count": null,
      "metadata": {
        "id": "WiXmX6W7JDuT"
      },
      "outputs": [],
      "source": [
        "# Iteramos por rango la lista datos_fisura\n",
        "for indice in range(len(datos_fisura)):\n",
        "  # Obtenemos la dirección dentro de la iteración correspondiente\n",
        "  direccion = datos_fisura[indice]\n",
        "  # Transformamos el .mat a un formato en el que se pueda transformar a DataFrame\n",
        "  mat = loadmat(direccion)\n",
        "  df = pd.DataFrame(mat['data'])\n",
        "  # Para todos los valores del experimento, creamos columnas en donde sus valores se asocian con el nivel de wn y el # de experimento\n",
        "  df['#_exp'] = numero_experimentos_fisura[indice]\n",
        "  df['amplitud'] = amplitud_experimentos_fisura[indice]\n",
        "  # Colocamos al final del DataFrame df_fisura creado el nuevo DataFrame \n",
        "  df_fisura = pd.concat([df_fisura, df], axis = 0)"
      ]
    },
    {
      "cell_type": "code",
      "execution_count": null,
      "metadata": {
        "colab": {
          "base_uri": "https://localhost:8080/",
          "height": 330
        },
        "id": "0zTk8XbzJFjs",
        "outputId": "0da7b8fe-c363-459f-e02b-5b4e9b345308"
      },
      "outputs": [
        {
          "output_type": "execute_result",
          "data": {
            "text/plain": [
              "          0         1         2         3         4         5         6  \\\n",
              "0  0.000132  0.000185  0.000122  0.000105  0.000141  0.000075  0.000007   \n",
              "1  0.000092  0.000223  0.000166  0.000127  0.000191  0.000137  0.000075   \n",
              "2  0.000091  0.000280  0.000188  0.000130  0.000172  0.000102  0.000161   \n",
              "3  0.000179  0.000199  0.000249  0.000102  0.000268  0.000140  0.000126   \n",
              "4  0.000282  0.000277  0.000202  0.000211  0.000251  0.000159  0.000096   \n",
              "5  0.000005  0.000196  0.000247  0.000109  0.000186  0.000115  0.000042   \n",
              "6  0.000176  0.000372  0.000223  0.000154  0.000258  0.000165  0.000170   \n",
              "7  0.000133  0.000171  0.000187  0.000182  0.000237  0.000159  0.000121   \n",
              "\n",
              "          7         8         9  ...        16        17        18        19  \\\n",
              "0  0.000231  0.000299  0.000113  ... -0.000017  0.000046  0.000200  0.000169   \n",
              "1  0.000192  0.000240  0.000095  ...  0.000085  0.000074  0.000128  0.000163   \n",
              "2  0.000158  0.000211  0.000123  ...  0.000011  0.000079  0.000117  0.000146   \n",
              "3  0.000231  0.000239  0.000102  ...  0.000031  0.000079  0.000257  0.000110   \n",
              "4  0.000205  0.000342  0.000113  ...  0.000047  0.000150  0.000271  0.000168   \n",
              "5  0.000129  0.000255  0.000108  ... -0.000008  0.000081  0.000173  0.000165   \n",
              "6  0.000157  0.000228  0.000126  ...  0.000065  0.000070  0.000140  0.000145   \n",
              "7  0.000280  0.000293  0.000096  ... -0.000004  0.000102  0.000201  0.000193   \n",
              "\n",
              "         20        21        22        23  #_exp  amplitud  \n",
              "0  0.000097  0.000196 -0.000053  0.000018      1       1.0  \n",
              "1  0.000074  0.000085  0.000063 -0.000027      1       1.0  \n",
              "2  0.000085  0.000089 -0.000014  0.000020      1       1.0  \n",
              "3  0.000050  0.000120  0.000080  0.000057      1       1.0  \n",
              "4  0.000126  0.000224  0.000105  0.000058      1       1.0  \n",
              "5  0.000126  0.000107 -0.000012  0.000006      1       1.0  \n",
              "6  0.000099  0.000115  0.000068 -0.000031      1       1.0  \n",
              "7  0.000180  0.000171 -0.000009  0.000095      1       1.0  \n",
              "\n",
              "[8 rows x 26 columns]"
            ],
            "text/html": [
              "\n",
              "  <div id=\"df-e7b68c33-49e7-41e7-b7d8-9c0ad589efed\">\n",
              "    <div class=\"colab-df-container\">\n",
              "      <div>\n",
              "<style scoped>\n",
              "    .dataframe tbody tr th:only-of-type {\n",
              "        vertical-align: middle;\n",
              "    }\n",
              "\n",
              "    .dataframe tbody tr th {\n",
              "        vertical-align: top;\n",
              "    }\n",
              "\n",
              "    .dataframe thead th {\n",
              "        text-align: right;\n",
              "    }\n",
              "</style>\n",
              "<table border=\"1\" class=\"dataframe\">\n",
              "  <thead>\n",
              "    <tr style=\"text-align: right;\">\n",
              "      <th></th>\n",
              "      <th>0</th>\n",
              "      <th>1</th>\n",
              "      <th>2</th>\n",
              "      <th>3</th>\n",
              "      <th>4</th>\n",
              "      <th>5</th>\n",
              "      <th>6</th>\n",
              "      <th>7</th>\n",
              "      <th>8</th>\n",
              "      <th>9</th>\n",
              "      <th>...</th>\n",
              "      <th>16</th>\n",
              "      <th>17</th>\n",
              "      <th>18</th>\n",
              "      <th>19</th>\n",
              "      <th>20</th>\n",
              "      <th>21</th>\n",
              "      <th>22</th>\n",
              "      <th>23</th>\n",
              "      <th>#_exp</th>\n",
              "      <th>amplitud</th>\n",
              "    </tr>\n",
              "  </thead>\n",
              "  <tbody>\n",
              "    <tr>\n",
              "      <th>0</th>\n",
              "      <td>0.000132</td>\n",
              "      <td>0.000185</td>\n",
              "      <td>0.000122</td>\n",
              "      <td>0.000105</td>\n",
              "      <td>0.000141</td>\n",
              "      <td>0.000075</td>\n",
              "      <td>0.000007</td>\n",
              "      <td>0.000231</td>\n",
              "      <td>0.000299</td>\n",
              "      <td>0.000113</td>\n",
              "      <td>...</td>\n",
              "      <td>-0.000017</td>\n",
              "      <td>0.000046</td>\n",
              "      <td>0.000200</td>\n",
              "      <td>0.000169</td>\n",
              "      <td>0.000097</td>\n",
              "      <td>0.000196</td>\n",
              "      <td>-0.000053</td>\n",
              "      <td>0.000018</td>\n",
              "      <td>1</td>\n",
              "      <td>1.0</td>\n",
              "    </tr>\n",
              "    <tr>\n",
              "      <th>1</th>\n",
              "      <td>0.000092</td>\n",
              "      <td>0.000223</td>\n",
              "      <td>0.000166</td>\n",
              "      <td>0.000127</td>\n",
              "      <td>0.000191</td>\n",
              "      <td>0.000137</td>\n",
              "      <td>0.000075</td>\n",
              "      <td>0.000192</td>\n",
              "      <td>0.000240</td>\n",
              "      <td>0.000095</td>\n",
              "      <td>...</td>\n",
              "      <td>0.000085</td>\n",
              "      <td>0.000074</td>\n",
              "      <td>0.000128</td>\n",
              "      <td>0.000163</td>\n",
              "      <td>0.000074</td>\n",
              "      <td>0.000085</td>\n",
              "      <td>0.000063</td>\n",
              "      <td>-0.000027</td>\n",
              "      <td>1</td>\n",
              "      <td>1.0</td>\n",
              "    </tr>\n",
              "    <tr>\n",
              "      <th>2</th>\n",
              "      <td>0.000091</td>\n",
              "      <td>0.000280</td>\n",
              "      <td>0.000188</td>\n",
              "      <td>0.000130</td>\n",
              "      <td>0.000172</td>\n",
              "      <td>0.000102</td>\n",
              "      <td>0.000161</td>\n",
              "      <td>0.000158</td>\n",
              "      <td>0.000211</td>\n",
              "      <td>0.000123</td>\n",
              "      <td>...</td>\n",
              "      <td>0.000011</td>\n",
              "      <td>0.000079</td>\n",
              "      <td>0.000117</td>\n",
              "      <td>0.000146</td>\n",
              "      <td>0.000085</td>\n",
              "      <td>0.000089</td>\n",
              "      <td>-0.000014</td>\n",
              "      <td>0.000020</td>\n",
              "      <td>1</td>\n",
              "      <td>1.0</td>\n",
              "    </tr>\n",
              "    <tr>\n",
              "      <th>3</th>\n",
              "      <td>0.000179</td>\n",
              "      <td>0.000199</td>\n",
              "      <td>0.000249</td>\n",
              "      <td>0.000102</td>\n",
              "      <td>0.000268</td>\n",
              "      <td>0.000140</td>\n",
              "      <td>0.000126</td>\n",
              "      <td>0.000231</td>\n",
              "      <td>0.000239</td>\n",
              "      <td>0.000102</td>\n",
              "      <td>...</td>\n",
              "      <td>0.000031</td>\n",
              "      <td>0.000079</td>\n",
              "      <td>0.000257</td>\n",
              "      <td>0.000110</td>\n",
              "      <td>0.000050</td>\n",
              "      <td>0.000120</td>\n",
              "      <td>0.000080</td>\n",
              "      <td>0.000057</td>\n",
              "      <td>1</td>\n",
              "      <td>1.0</td>\n",
              "    </tr>\n",
              "    <tr>\n",
              "      <th>4</th>\n",
              "      <td>0.000282</td>\n",
              "      <td>0.000277</td>\n",
              "      <td>0.000202</td>\n",
              "      <td>0.000211</td>\n",
              "      <td>0.000251</td>\n",
              "      <td>0.000159</td>\n",
              "      <td>0.000096</td>\n",
              "      <td>0.000205</td>\n",
              "      <td>0.000342</td>\n",
              "      <td>0.000113</td>\n",
              "      <td>...</td>\n",
              "      <td>0.000047</td>\n",
              "      <td>0.000150</td>\n",
              "      <td>0.000271</td>\n",
              "      <td>0.000168</td>\n",
              "      <td>0.000126</td>\n",
              "      <td>0.000224</td>\n",
              "      <td>0.000105</td>\n",
              "      <td>0.000058</td>\n",
              "      <td>1</td>\n",
              "      <td>1.0</td>\n",
              "    </tr>\n",
              "    <tr>\n",
              "      <th>5</th>\n",
              "      <td>0.000005</td>\n",
              "      <td>0.000196</td>\n",
              "      <td>0.000247</td>\n",
              "      <td>0.000109</td>\n",
              "      <td>0.000186</td>\n",
              "      <td>0.000115</td>\n",
              "      <td>0.000042</td>\n",
              "      <td>0.000129</td>\n",
              "      <td>0.000255</td>\n",
              "      <td>0.000108</td>\n",
              "      <td>...</td>\n",
              "      <td>-0.000008</td>\n",
              "      <td>0.000081</td>\n",
              "      <td>0.000173</td>\n",
              "      <td>0.000165</td>\n",
              "      <td>0.000126</td>\n",
              "      <td>0.000107</td>\n",
              "      <td>-0.000012</td>\n",
              "      <td>0.000006</td>\n",
              "      <td>1</td>\n",
              "      <td>1.0</td>\n",
              "    </tr>\n",
              "    <tr>\n",
              "      <th>6</th>\n",
              "      <td>0.000176</td>\n",
              "      <td>0.000372</td>\n",
              "      <td>0.000223</td>\n",
              "      <td>0.000154</td>\n",
              "      <td>0.000258</td>\n",
              "      <td>0.000165</td>\n",
              "      <td>0.000170</td>\n",
              "      <td>0.000157</td>\n",
              "      <td>0.000228</td>\n",
              "      <td>0.000126</td>\n",
              "      <td>...</td>\n",
              "      <td>0.000065</td>\n",
              "      <td>0.000070</td>\n",
              "      <td>0.000140</td>\n",
              "      <td>0.000145</td>\n",
              "      <td>0.000099</td>\n",
              "      <td>0.000115</td>\n",
              "      <td>0.000068</td>\n",
              "      <td>-0.000031</td>\n",
              "      <td>1</td>\n",
              "      <td>1.0</td>\n",
              "    </tr>\n",
              "    <tr>\n",
              "      <th>7</th>\n",
              "      <td>0.000133</td>\n",
              "      <td>0.000171</td>\n",
              "      <td>0.000187</td>\n",
              "      <td>0.000182</td>\n",
              "      <td>0.000237</td>\n",
              "      <td>0.000159</td>\n",
              "      <td>0.000121</td>\n",
              "      <td>0.000280</td>\n",
              "      <td>0.000293</td>\n",
              "      <td>0.000096</td>\n",
              "      <td>...</td>\n",
              "      <td>-0.000004</td>\n",
              "      <td>0.000102</td>\n",
              "      <td>0.000201</td>\n",
              "      <td>0.000193</td>\n",
              "      <td>0.000180</td>\n",
              "      <td>0.000171</td>\n",
              "      <td>-0.000009</td>\n",
              "      <td>0.000095</td>\n",
              "      <td>1</td>\n",
              "      <td>1.0</td>\n",
              "    </tr>\n",
              "  </tbody>\n",
              "</table>\n",
              "<p>8 rows × 26 columns</p>\n",
              "</div>\n",
              "      <button class=\"colab-df-convert\" onclick=\"convertToInteractive('df-e7b68c33-49e7-41e7-b7d8-9c0ad589efed')\"\n",
              "              title=\"Convert this dataframe to an interactive table.\"\n",
              "              style=\"display:none;\">\n",
              "        \n",
              "  <svg xmlns=\"http://www.w3.org/2000/svg\" height=\"24px\"viewBox=\"0 0 24 24\"\n",
              "       width=\"24px\">\n",
              "    <path d=\"M0 0h24v24H0V0z\" fill=\"none\"/>\n",
              "    <path d=\"M18.56 5.44l.94 2.06.94-2.06 2.06-.94-2.06-.94-.94-2.06-.94 2.06-2.06.94zm-11 1L8.5 8.5l.94-2.06 2.06-.94-2.06-.94L8.5 2.5l-.94 2.06-2.06.94zm10 10l.94 2.06.94-2.06 2.06-.94-2.06-.94-.94-2.06-.94 2.06-2.06.94z\"/><path d=\"M17.41 7.96l-1.37-1.37c-.4-.4-.92-.59-1.43-.59-.52 0-1.04.2-1.43.59L10.3 9.45l-7.72 7.72c-.78.78-.78 2.05 0 2.83L4 21.41c.39.39.9.59 1.41.59.51 0 1.02-.2 1.41-.59l7.78-7.78 2.81-2.81c.8-.78.8-2.07 0-2.86zM5.41 20L4 18.59l7.72-7.72 1.47 1.35L5.41 20z\"/>\n",
              "  </svg>\n",
              "      </button>\n",
              "      \n",
              "  <style>\n",
              "    .colab-df-container {\n",
              "      display:flex;\n",
              "      flex-wrap:wrap;\n",
              "      gap: 12px;\n",
              "    }\n",
              "\n",
              "    .colab-df-convert {\n",
              "      background-color: #E8F0FE;\n",
              "      border: none;\n",
              "      border-radius: 50%;\n",
              "      cursor: pointer;\n",
              "      display: none;\n",
              "      fill: #1967D2;\n",
              "      height: 32px;\n",
              "      padding: 0 0 0 0;\n",
              "      width: 32px;\n",
              "    }\n",
              "\n",
              "    .colab-df-convert:hover {\n",
              "      background-color: #E2EBFA;\n",
              "      box-shadow: 0px 1px 2px rgba(60, 64, 67, 0.3), 0px 1px 3px 1px rgba(60, 64, 67, 0.15);\n",
              "      fill: #174EA6;\n",
              "    }\n",
              "\n",
              "    [theme=dark] .colab-df-convert {\n",
              "      background-color: #3B4455;\n",
              "      fill: #D2E3FC;\n",
              "    }\n",
              "\n",
              "    [theme=dark] .colab-df-convert:hover {\n",
              "      background-color: #434B5C;\n",
              "      box-shadow: 0px 1px 3px 1px rgba(0, 0, 0, 0.15);\n",
              "      filter: drop-shadow(0px 1px 2px rgba(0, 0, 0, 0.3));\n",
              "      fill: #FFFFFF;\n",
              "    }\n",
              "  </style>\n",
              "\n",
              "      <script>\n",
              "        const buttonEl =\n",
              "          document.querySelector('#df-e7b68c33-49e7-41e7-b7d8-9c0ad589efed button.colab-df-convert');\n",
              "        buttonEl.style.display =\n",
              "          google.colab.kernel.accessAllowed ? 'block' : 'none';\n",
              "\n",
              "        async function convertToInteractive(key) {\n",
              "          const element = document.querySelector('#df-e7b68c33-49e7-41e7-b7d8-9c0ad589efed');\n",
              "          const dataTable =\n",
              "            await google.colab.kernel.invokeFunction('convertToInteractive',\n",
              "                                                     [key], {});\n",
              "          if (!dataTable) return;\n",
              "\n",
              "          const docLinkHtml = 'Like what you see? Visit the ' +\n",
              "            '<a target=\"_blank\" href=https://colab.research.google.com/notebooks/data_table.ipynb>data table notebook</a>'\n",
              "            + ' to learn more about interactive tables.';\n",
              "          element.innerHTML = '';\n",
              "          dataTable['output_type'] = 'display_data';\n",
              "          await google.colab.output.renderOutput(dataTable, element);\n",
              "          const docLink = document.createElement('div');\n",
              "          docLink.innerHTML = docLinkHtml;\n",
              "          element.appendChild(docLink);\n",
              "        }\n",
              "      </script>\n",
              "    </div>\n",
              "  </div>\n",
              "  "
            ]
          },
          "metadata": {},
          "execution_count": 15
        }
      ],
      "source": [
        "# Revisamos el conjunto de datos obtenido para fisura\n",
        "df_fisura.head(8)"
      ]
    },
    {
      "cell_type": "code",
      "execution_count": null,
      "metadata": {
        "colab": {
          "base_uri": "https://localhost:8080/"
        },
        "id": "brH3KUO5JHQU",
        "outputId": "9b9e980b-5c98-4fac-954e-ec3d53fde585"
      },
      "outputs": [
        {
          "output_type": "execute_result",
          "data": {
            "text/plain": [
              "20.0"
            ]
          },
          "metadata": {},
          "execution_count": 16
        }
      ],
      "source": [
        "# Si dividimos para 99097 el df_fisura deberíamos obtener 20 experimentos en total\n",
        "len(df_fisura)/99097"
      ]
    },
    {
      "cell_type": "code",
      "execution_count": null,
      "metadata": {
        "id": "_4sG6BTUJI9F"
      },
      "outputs": [],
      "source": [
        "# Establecemos 2 listas, una con los posibles experimentos y otra con los posibles niveles de white noise, lo cual nos ayudará a segmentar los datos\n",
        "experimentos = [1, 2, 3, 4, 5]\n",
        "wns = [0.5, 1, 2, 3]\n",
        "# Creamos una lista en donde pondremos todas las imágenes creadas, segmentadas por experimento y white noise\n",
        "arreglo_imagenes_por_experimento_fisura = []\n",
        "\n",
        "# Iteramos por experimento y por nivel de white noise\n",
        "for i in experimentos:\n",
        "  for j in wns:\n",
        "    # Creamos filtros que nos permiten identificar el experimento por su número asociado y por su nivel de white noise dentro del conjunto de datos\n",
        "    filter1 = df_fisura[\"#_exp\"] == i\n",
        "    filter2 = df_fisura[\"amplitud\"] == j\n",
        "    # Filtramos y deshacemos las filas que no corresponden a la búsqueda\n",
        "    dataset_experimento = df_fisura.where(filter1 & filter2).dropna()\n",
        "    # Creamos arreglo en donde almacenaremos listas de imágenes asociadas a cada columna en un experimento individual\n",
        "    arreglo_matrices_asociadas = []\n",
        "\n",
        "    # En el conjunto filtrado, iteramos por cada columna (de la columna 0 a la 23)\n",
        "    for n in range(24):\n",
        "      # Establecemos un límite inferior y un límite superior\n",
        "      indice_inicio = 0\n",
        "      indice_fin = 256\n",
        "      # Del conjunto filtrado, obtenemos un subconjunto con muestras cada 6 pasos\n",
        "      columna_cada_6 = dataset_experimento[n][::6]\n",
        "      # Creamos una lista en donde guardaremos todas las imágenes creadas dentro de la columna en la que se esta iterando\n",
        "      matrices_columna = []\n",
        "    \n",
        "      # Recorremos en valores de 256 la columna del subconjunto creado para generar las imágenes 16x16 correspondientes \n",
        "      while indice_fin < len(columna_cada_6):\n",
        "        # Guardamos el conjunto de 256 datos dentro de un arreglo\n",
        "        vector = columna_cada_6[indice_inicio:indice_fin]\n",
        "        # Redimensionamos el arreglo (de 1x256 a 16x16)\n",
        "        matriz = vector.to_numpy().reshape((16, 16))\n",
        "        # Agregamos la imagen dentro de la lista matrices_columna\n",
        "        matrices_columna.append(matriz)\n",
        "        # Establecemos el nuevo límite inferior y superior en donde se encontrarán los datos de mi nueva imagen 16x16\n",
        "        indice_inicio = indice_fin\n",
        "        indice_fin = indice_fin + 256\n",
        "      \n",
        "      # Agregamos las listas de imágenes 16x16 asociadas a una columna a arreglo_matrices_asociadas\n",
        "      arreglo_matrices_asociadas.append(matrices_columna)\n",
        "    \n",
        "    # Agregamos arreglo_matrices_asociadas a arreglos_imagenes_por_experimento, en donde tenemos listas de listas asociadas a un experimento individual\n",
        "    arreglo_imagenes_por_experimento_fisura.append(arreglo_matrices_asociadas)"
      ]
    },
    {
      "cell_type": "code",
      "execution_count": null,
      "metadata": {
        "colab": {
          "base_uri": "https://localhost:8080/"
        },
        "id": "tLdmpSAiJLRG",
        "outputId": "8e10be40-aeb1-40e4-cad2-e2b0ffeb01c2"
      },
      "outputs": [
        {
          "output_type": "execute_result",
          "data": {
            "text/plain": [
              "20"
            ]
          },
          "metadata": {},
          "execution_count": 18
        }
      ],
      "source": [
        "len(arreglo_imagenes_por_experimento_fisura)"
      ]
    },
    {
      "cell_type": "code",
      "execution_count": null,
      "metadata": {
        "colab": {
          "base_uri": "https://localhost:8080/"
        },
        "id": "PKwW87gIJNZG",
        "outputId": "ce17431b-7d9b-4699-d0ae-8b28ae9b44e2"
      },
      "outputs": [
        {
          "output_type": "execute_result",
          "data": {
            "text/plain": [
              "24"
            ]
          },
          "metadata": {},
          "execution_count": 19
        }
      ],
      "source": [
        "len(arreglo_imagenes_por_experimento_fisura[0])"
      ]
    },
    {
      "cell_type": "code",
      "execution_count": null,
      "metadata": {
        "colab": {
          "base_uri": "https://localhost:8080/"
        },
        "id": "WiczTzZqJOx7",
        "outputId": "7e606f59-125b-4fe5-9eb8-a9f44fb9974e"
      },
      "outputs": [
        {
          "output_type": "execute_result",
          "data": {
            "text/plain": [
              "64"
            ]
          },
          "metadata": {},
          "execution_count": 20
        }
      ],
      "source": [
        "len(arreglo_imagenes_por_experimento_fisura[0][0])"
      ]
    },
    {
      "cell_type": "code",
      "execution_count": null,
      "metadata": {
        "colab": {
          "base_uri": "https://localhost:8080/"
        },
        "id": "BD91Lcd4JQbO",
        "outputId": "9cfc63f4-41a7-4ad7-a1c2-7b53cb839d98"
      },
      "outputs": [
        {
          "output_type": "execute_result",
          "data": {
            "text/plain": [
              "256"
            ]
          },
          "metadata": {},
          "execution_count": 21
        }
      ],
      "source": [
        "arreglo_imagenes_por_experimento_fisura[0][0][0].size"
      ]
    },
    {
      "cell_type": "code",
      "execution_count": null,
      "metadata": {
        "colab": {
          "base_uri": "https://localhost:8080/"
        },
        "id": "3LFAoNf4JR3I",
        "outputId": "2b1ce90c-637b-4351-d338-087c77deaf25"
      },
      "outputs": [
        {
          "output_type": "execute_result",
          "data": {
            "text/plain": [
              "(16, 16)"
            ]
          },
          "metadata": {},
          "execution_count": 22
        }
      ],
      "source": [
        "arreglo_imagenes_por_experimento_fisura[0][0][0].shape"
      ]
    },
    {
      "cell_type": "code",
      "execution_count": null,
      "metadata": {
        "id": "DRCRGsJiJTle"
      },
      "outputs": [],
      "source": [
        "# Creamos un arreglos general para todas las imágenes de dimensionamiento (24, 16, 16)\n",
        "arreglo_imagenes_fisura = []\n",
        "\n",
        "# Iteramos cada experimento en la lista de experimentos creada previamente\n",
        "for experimento in arreglo_imagenes_por_experimento_fisura:\n",
        "  # Iteramos en un rango de 64 para usarlo posteriormente\n",
        "  for idx in range(64):\n",
        "    # Para cada iteración se crea el arreglo en donde se agregaran las capas correctas de la imagen de dimensionamniento (24, 16, 16)\n",
        "    imagen = []\n",
        "    # Iteramos para cada fila en el experimento (son 24 filas)\n",
        "    for fila in experimento:\n",
        "      # Asociamos por índice los valores de cada lista de imágenes para establecer la relación correcta y agregamos al arreglo creado\n",
        "      capa_imagen = fila[idx]\n",
        "      imagen.append(capa_imagen)\n",
        "\n",
        "    # Transformamos la lista de 24 capas a un arreglo numérico\n",
        "    arreglo_imagenes_fisura.append(np.dstack(imagen))"
      ]
    },
    {
      "cell_type": "code",
      "execution_count": null,
      "metadata": {
        "colab": {
          "base_uri": "https://localhost:8080/"
        },
        "id": "Y6NDEumjJVs1",
        "outputId": "5094cd29-93a1-41f1-f61f-5955d09bc175"
      },
      "outputs": [
        {
          "output_type": "execute_result",
          "data": {
            "text/plain": [
              "1280"
            ]
          },
          "metadata": {},
          "execution_count": 24
        }
      ],
      "source": [
        "# Revisamos el número de imágenes creadas\n",
        "len(arreglo_imagenes_fisura)"
      ]
    },
    {
      "cell_type": "code",
      "execution_count": null,
      "metadata": {
        "colab": {
          "base_uri": "https://localhost:8080/"
        },
        "id": "FSPKvbpxJXZt",
        "outputId": "03108722-a393-4304-e90d-4ab434e7d338"
      },
      "outputs": [
        {
          "output_type": "execute_result",
          "data": {
            "text/plain": [
              "((16, 16, 24), numpy.ndarray, 360)"
            ]
          },
          "metadata": {},
          "execution_count": 25
        }
      ],
      "source": [
        "# Revisamos el dimensionamiento y tipo de un elemento aleatorio en la lista de imágenes\n",
        "indice_imagen_fisura = randint(0, len(arreglo_imagenes_fisura) - 1)\n",
        "arreglo_imagenes_fisura[indice_imagen_fisura].shape, type(arreglo_imagenes_fisura[0]), indice_imagen_fisura"
      ]
    },
    {
      "cell_type": "code",
      "execution_count": null,
      "metadata": {
        "id": "5rtpAJ-zKw7Z"
      },
      "outputs": [],
      "source": [
        "imagenes_fisura_05 = []\n",
        "imagenes_fisura_1 = []\n",
        "imagenes_fisura_2 = []\n",
        "imagenes_fisura_3 = []"
      ]
    },
    {
      "cell_type": "code",
      "execution_count": null,
      "metadata": {
        "colab": {
          "base_uri": "https://localhost:8080/"
        },
        "id": "6HqHW-GvK3m5",
        "outputId": "35f9c8d5-640e-4e97-b3ae-dc4e99a8d9fc"
      },
      "outputs": [
        {
          "output_type": "stream",
          "name": "stdout",
          "text": [
            "[0, 64, 128, 192, 256, 320, 384, 448, 512, 576, 640, 704, 768, 832, 896, 960, 1024, 1088, 1152, 1216, 1280]\n"
          ]
        }
      ],
      "source": [
        "lista_indices = [0]\n",
        "indice_contador = 0\n",
        "\n",
        "while indice_contador < 1280:\n",
        "  indice_contador = indice_contador + 64\n",
        "  lista_indices.append(indice_contador)\n",
        "print(lista_indices)"
      ]
    },
    {
      "cell_type": "code",
      "execution_count": null,
      "metadata": {
        "id": "Vqd-7Rz7K4jM"
      },
      "outputs": [],
      "source": [
        "# indices paa fisura, pernoflojo y replica\n",
        "indices_05 = [1, 5, 9, 13, 17]\n",
        "indices_1 = [2, 6, 10, 14, 18]\n",
        "indices_2 = [3, 7, 11, 15, 19]\n",
        "indices_3 = [4, 8, 12, 16, 20]"
      ]
    },
    {
      "cell_type": "code",
      "execution_count": null,
      "metadata": {
        "id": "OqHS_FELK8Ha"
      },
      "outputs": [],
      "source": [
        "for i in indices_05:\n",
        "  for j in arreglo_imagenes_fisura[lista_indices[i-1]:lista_indices[i]]:\n",
        "    imagenes_fisura_05.append(j)\n",
        "for i in indices_1:\n",
        "  for j in arreglo_imagenes_fisura[lista_indices[i-1]:lista_indices[i]]:\n",
        "    imagenes_fisura_1.append(j)\n",
        "for i in indices_2:\n",
        "  for j in arreglo_imagenes_fisura[lista_indices[i-1]:lista_indices[i]]:\n",
        "    imagenes_fisura_2.append(j)\n",
        "for i in indices_3:\n",
        "  for j in arreglo_imagenes_fisura[lista_indices[i-1]:lista_indices[i]]:\n",
        "    imagenes_fisura_3.append(j)"
      ]
    },
    {
      "cell_type": "code",
      "execution_count": null,
      "metadata": {
        "colab": {
          "base_uri": "https://localhost:8080/"
        },
        "id": "KlcqD-gzK8xr",
        "outputId": "a7841d7a-c26f-4be0-c62d-792ec6e4326c"
      },
      "outputs": [
        {
          "output_type": "execute_result",
          "data": {
            "text/plain": [
              "(320, 320, 320, 320)"
            ]
          },
          "metadata": {},
          "execution_count": 30
        }
      ],
      "source": [
        "len(imagenes_fisura_05), len(imagenes_fisura_1), len(imagenes_fisura_2), len(imagenes_fisura_3)"
      ]
    },
    {
      "cell_type": "markdown",
      "metadata": {
        "id": "02691-D1JZYy"
      },
      "source": [
        "## Datos Pernoflojo"
      ]
    },
    {
      "cell_type": "code",
      "execution_count": null,
      "metadata": {
        "id": "qU4KM5yvJay0"
      },
      "outputs": [],
      "source": [
        "# Se crean 2 listas, una asociada al número de experimento y otra asociada al nivel de white noise presente durante el experimento \n",
        "numero_experimentos_pernoflojo = []\n",
        "amplitud_experimentos_pernoflojo = []"
      ]
    },
    {
      "cell_type": "code",
      "execution_count": null,
      "metadata": {
        "id": "JWjg9v6SJcnH"
      },
      "outputs": [],
      "source": [
        "# Iteramos los nombres de los archivos dentro del conjunto que contiene los datos de fisura\n",
        "for nombre_archivo in datos_pernoflojo:\n",
        "  # Obtenemos el nombre del experimento\n",
        "  nombre_experimento = nombre_archivo.split('/')[4]\n",
        "  # Obtenemos el número del experimento\n",
        "  numero_experimento = nombre_experimento.split('_')[1]\n",
        "  # Obtenemos el nivel de white noise del experimento\n",
        "  amplitud_experimento = nombre_experimento.split('.')[0].split('_')[2].replace('A', '')\n",
        "  # Agregamos el número del experimento a la lista numero_experimentos_pernoflojo creada anteriormente\n",
        "  numero_experimentos_pernoflojo.append(int(numero_experimento))\n",
        "  # Agregamos el nivel de white noise del experimento a la lista amplitud_experimentos_pernoflojo creada anteriormente\n",
        "  if amplitud_experimento == '05':\n",
        "    amplitud_experimento = 0.5\n",
        "    amplitud_experimentos_pernoflojo.append(amplitud_experimento)\n",
        "  else:\n",
        "    amplitud_experimentos_pernoflojo.append(int(amplitud_experimento))"
      ]
    },
    {
      "cell_type": "code",
      "execution_count": null,
      "metadata": {
        "id": "pR4FZ8XQJeD3"
      },
      "outputs": [],
      "source": [
        "# Creamos un DataFrame vacío\n",
        "df_pernoflojo = pd.DataFrame()"
      ]
    },
    {
      "cell_type": "code",
      "execution_count": null,
      "metadata": {
        "id": "9AGNvOuYJfuM"
      },
      "outputs": [],
      "source": [
        "# Iteramos por rango la lista datos_fisura\n",
        "for indice in range(len(datos_pernoflojo)):\n",
        "  # Obtenemos la dirección dentro de la iteración correspondiente\n",
        "  direccion = datos_pernoflojo[indice]\n",
        "  # Transformamos el .mat a un formato en el que se pueda transformar a DataFrame\n",
        "  mat = loadmat(direccion)\n",
        "  df = pd.DataFrame(mat['data'])\n",
        "  # Para todos los valores del experimento, creamos columnas en donde sus valores se asocian con el nivel de wn y el # de experimento\n",
        "  df['#_exp'] = numero_experimentos_pernoflojo[indice]\n",
        "  df['amplitud'] = amplitud_experimentos_pernoflojo[indice]\n",
        "  # Colocamos al final del DataFrame df_fisura creado el nuevo DataFrame \n",
        "  df_pernoflojo = pd.concat([df_pernoflojo, df], axis = 0)"
      ]
    },
    {
      "cell_type": "code",
      "execution_count": null,
      "metadata": {
        "colab": {
          "base_uri": "https://localhost:8080/",
          "height": 330
        },
        "id": "k7-LUa9-JhV9",
        "outputId": "7cfd3144-cb56-458a-9c8c-9ce407b23a6d"
      },
      "outputs": [
        {
          "output_type": "execute_result",
          "data": {
            "text/plain": [
              "          0         1         2         3         4         5         6  \\\n",
              "0  0.000168  0.000204  0.000213  0.000135  0.000201  0.000099  0.000108   \n",
              "1  0.000122  0.000277  0.000213  0.000180  0.000230  0.000172  0.000068   \n",
              "2  0.000099  0.000214  0.000128  0.000153  0.000217  0.000100  0.000064   \n",
              "3  0.000150  0.000258  0.000209  0.000163  0.000213  0.000120  0.000066   \n",
              "4  0.000194  0.000244  0.000194  0.000201  0.000202  0.000127  0.000133   \n",
              "5  0.000156  0.000287  0.000188  0.000119  0.000234  0.000127  0.000102   \n",
              "6  0.000150  0.000230  0.000198  0.000239  0.000247  0.000150  0.000052   \n",
              "7  0.000130  0.000230  0.000207  0.000116  0.000212  0.000108  0.000096   \n",
              "\n",
              "          7         8         9  ...        16        17        18        19  \\\n",
              "0  0.000189  0.000212  0.000093  ...  0.000010  0.000085  0.000151  0.000136   \n",
              "1  0.000213  0.000214  0.000095  ...  0.000021  0.000022  0.000203  0.000139   \n",
              "2  0.000174  0.000225  0.000116  ...  0.000023  0.000089  0.000225  0.000162   \n",
              "3  0.000157  0.000220  0.000096  ...  0.000062  0.000077  0.000212  0.000178   \n",
              "4  0.000197  0.000212  0.000110  ...  0.000092  0.000097  0.000183  0.000170   \n",
              "5  0.000198  0.000216  0.000097  ...  0.000061  0.000097  0.000231  0.000156   \n",
              "6  0.000178  0.000255  0.000115  ...  0.000060  0.000124  0.000225  0.000157   \n",
              "7  0.000178  0.000200  0.000130  ...  0.000031  0.000045  0.000236  0.000178   \n",
              "\n",
              "         20        21        22        23  #_exp  amplitud  \n",
              "0  0.000116  0.000099  0.000054  0.000111      1       0.5  \n",
              "1  0.000076  0.000164  0.000089  0.000076      1       0.5  \n",
              "2  0.000098  0.000154  0.000091  0.000092      1       0.5  \n",
              "3  0.000123  0.000150  0.000056  0.000130      1       0.5  \n",
              "4  0.000114  0.000127  0.000064  0.000087      1       0.5  \n",
              "5  0.000090  0.000155  0.000076  0.000091      1       0.5  \n",
              "6  0.000133  0.000153  0.000060  0.000087      1       0.5  \n",
              "7  0.000081  0.000160  0.000079  0.000115      1       0.5  \n",
              "\n",
              "[8 rows x 26 columns]"
            ],
            "text/html": [
              "\n",
              "  <div id=\"df-e982a3ba-88f2-4640-bc0d-1774fe902a80\">\n",
              "    <div class=\"colab-df-container\">\n",
              "      <div>\n",
              "<style scoped>\n",
              "    .dataframe tbody tr th:only-of-type {\n",
              "        vertical-align: middle;\n",
              "    }\n",
              "\n",
              "    .dataframe tbody tr th {\n",
              "        vertical-align: top;\n",
              "    }\n",
              "\n",
              "    .dataframe thead th {\n",
              "        text-align: right;\n",
              "    }\n",
              "</style>\n",
              "<table border=\"1\" class=\"dataframe\">\n",
              "  <thead>\n",
              "    <tr style=\"text-align: right;\">\n",
              "      <th></th>\n",
              "      <th>0</th>\n",
              "      <th>1</th>\n",
              "      <th>2</th>\n",
              "      <th>3</th>\n",
              "      <th>4</th>\n",
              "      <th>5</th>\n",
              "      <th>6</th>\n",
              "      <th>7</th>\n",
              "      <th>8</th>\n",
              "      <th>9</th>\n",
              "      <th>...</th>\n",
              "      <th>16</th>\n",
              "      <th>17</th>\n",
              "      <th>18</th>\n",
              "      <th>19</th>\n",
              "      <th>20</th>\n",
              "      <th>21</th>\n",
              "      <th>22</th>\n",
              "      <th>23</th>\n",
              "      <th>#_exp</th>\n",
              "      <th>amplitud</th>\n",
              "    </tr>\n",
              "  </thead>\n",
              "  <tbody>\n",
              "    <tr>\n",
              "      <th>0</th>\n",
              "      <td>0.000168</td>\n",
              "      <td>0.000204</td>\n",
              "      <td>0.000213</td>\n",
              "      <td>0.000135</td>\n",
              "      <td>0.000201</td>\n",
              "      <td>0.000099</td>\n",
              "      <td>0.000108</td>\n",
              "      <td>0.000189</td>\n",
              "      <td>0.000212</td>\n",
              "      <td>0.000093</td>\n",
              "      <td>...</td>\n",
              "      <td>0.000010</td>\n",
              "      <td>0.000085</td>\n",
              "      <td>0.000151</td>\n",
              "      <td>0.000136</td>\n",
              "      <td>0.000116</td>\n",
              "      <td>0.000099</td>\n",
              "      <td>0.000054</td>\n",
              "      <td>0.000111</td>\n",
              "      <td>1</td>\n",
              "      <td>0.5</td>\n",
              "    </tr>\n",
              "    <tr>\n",
              "      <th>1</th>\n",
              "      <td>0.000122</td>\n",
              "      <td>0.000277</td>\n",
              "      <td>0.000213</td>\n",
              "      <td>0.000180</td>\n",
              "      <td>0.000230</td>\n",
              "      <td>0.000172</td>\n",
              "      <td>0.000068</td>\n",
              "      <td>0.000213</td>\n",
              "      <td>0.000214</td>\n",
              "      <td>0.000095</td>\n",
              "      <td>...</td>\n",
              "      <td>0.000021</td>\n",
              "      <td>0.000022</td>\n",
              "      <td>0.000203</td>\n",
              "      <td>0.000139</td>\n",
              "      <td>0.000076</td>\n",
              "      <td>0.000164</td>\n",
              "      <td>0.000089</td>\n",
              "      <td>0.000076</td>\n",
              "      <td>1</td>\n",
              "      <td>0.5</td>\n",
              "    </tr>\n",
              "    <tr>\n",
              "      <th>2</th>\n",
              "      <td>0.000099</td>\n",
              "      <td>0.000214</td>\n",
              "      <td>0.000128</td>\n",
              "      <td>0.000153</td>\n",
              "      <td>0.000217</td>\n",
              "      <td>0.000100</td>\n",
              "      <td>0.000064</td>\n",
              "      <td>0.000174</td>\n",
              "      <td>0.000225</td>\n",
              "      <td>0.000116</td>\n",
              "      <td>...</td>\n",
              "      <td>0.000023</td>\n",
              "      <td>0.000089</td>\n",
              "      <td>0.000225</td>\n",
              "      <td>0.000162</td>\n",
              "      <td>0.000098</td>\n",
              "      <td>0.000154</td>\n",
              "      <td>0.000091</td>\n",
              "      <td>0.000092</td>\n",
              "      <td>1</td>\n",
              "      <td>0.5</td>\n",
              "    </tr>\n",
              "    <tr>\n",
              "      <th>3</th>\n",
              "      <td>0.000150</td>\n",
              "      <td>0.000258</td>\n",
              "      <td>0.000209</td>\n",
              "      <td>0.000163</td>\n",
              "      <td>0.000213</td>\n",
              "      <td>0.000120</td>\n",
              "      <td>0.000066</td>\n",
              "      <td>0.000157</td>\n",
              "      <td>0.000220</td>\n",
              "      <td>0.000096</td>\n",
              "      <td>...</td>\n",
              "      <td>0.000062</td>\n",
              "      <td>0.000077</td>\n",
              "      <td>0.000212</td>\n",
              "      <td>0.000178</td>\n",
              "      <td>0.000123</td>\n",
              "      <td>0.000150</td>\n",
              "      <td>0.000056</td>\n",
              "      <td>0.000130</td>\n",
              "      <td>1</td>\n",
              "      <td>0.5</td>\n",
              "    </tr>\n",
              "    <tr>\n",
              "      <th>4</th>\n",
              "      <td>0.000194</td>\n",
              "      <td>0.000244</td>\n",
              "      <td>0.000194</td>\n",
              "      <td>0.000201</td>\n",
              "      <td>0.000202</td>\n",
              "      <td>0.000127</td>\n",
              "      <td>0.000133</td>\n",
              "      <td>0.000197</td>\n",
              "      <td>0.000212</td>\n",
              "      <td>0.000110</td>\n",
              "      <td>...</td>\n",
              "      <td>0.000092</td>\n",
              "      <td>0.000097</td>\n",
              "      <td>0.000183</td>\n",
              "      <td>0.000170</td>\n",
              "      <td>0.000114</td>\n",
              "      <td>0.000127</td>\n",
              "      <td>0.000064</td>\n",
              "      <td>0.000087</td>\n",
              "      <td>1</td>\n",
              "      <td>0.5</td>\n",
              "    </tr>\n",
              "    <tr>\n",
              "      <th>5</th>\n",
              "      <td>0.000156</td>\n",
              "      <td>0.000287</td>\n",
              "      <td>0.000188</td>\n",
              "      <td>0.000119</td>\n",
              "      <td>0.000234</td>\n",
              "      <td>0.000127</td>\n",
              "      <td>0.000102</td>\n",
              "      <td>0.000198</td>\n",
              "      <td>0.000216</td>\n",
              "      <td>0.000097</td>\n",
              "      <td>...</td>\n",
              "      <td>0.000061</td>\n",
              "      <td>0.000097</td>\n",
              "      <td>0.000231</td>\n",
              "      <td>0.000156</td>\n",
              "      <td>0.000090</td>\n",
              "      <td>0.000155</td>\n",
              "      <td>0.000076</td>\n",
              "      <td>0.000091</td>\n",
              "      <td>1</td>\n",
              "      <td>0.5</td>\n",
              "    </tr>\n",
              "    <tr>\n",
              "      <th>6</th>\n",
              "      <td>0.000150</td>\n",
              "      <td>0.000230</td>\n",
              "      <td>0.000198</td>\n",
              "      <td>0.000239</td>\n",
              "      <td>0.000247</td>\n",
              "      <td>0.000150</td>\n",
              "      <td>0.000052</td>\n",
              "      <td>0.000178</td>\n",
              "      <td>0.000255</td>\n",
              "      <td>0.000115</td>\n",
              "      <td>...</td>\n",
              "      <td>0.000060</td>\n",
              "      <td>0.000124</td>\n",
              "      <td>0.000225</td>\n",
              "      <td>0.000157</td>\n",
              "      <td>0.000133</td>\n",
              "      <td>0.000153</td>\n",
              "      <td>0.000060</td>\n",
              "      <td>0.000087</td>\n",
              "      <td>1</td>\n",
              "      <td>0.5</td>\n",
              "    </tr>\n",
              "    <tr>\n",
              "      <th>7</th>\n",
              "      <td>0.000130</td>\n",
              "      <td>0.000230</td>\n",
              "      <td>0.000207</td>\n",
              "      <td>0.000116</td>\n",
              "      <td>0.000212</td>\n",
              "      <td>0.000108</td>\n",
              "      <td>0.000096</td>\n",
              "      <td>0.000178</td>\n",
              "      <td>0.000200</td>\n",
              "      <td>0.000130</td>\n",
              "      <td>...</td>\n",
              "      <td>0.000031</td>\n",
              "      <td>0.000045</td>\n",
              "      <td>0.000236</td>\n",
              "      <td>0.000178</td>\n",
              "      <td>0.000081</td>\n",
              "      <td>0.000160</td>\n",
              "      <td>0.000079</td>\n",
              "      <td>0.000115</td>\n",
              "      <td>1</td>\n",
              "      <td>0.5</td>\n",
              "    </tr>\n",
              "  </tbody>\n",
              "</table>\n",
              "<p>8 rows × 26 columns</p>\n",
              "</div>\n",
              "      <button class=\"colab-df-convert\" onclick=\"convertToInteractive('df-e982a3ba-88f2-4640-bc0d-1774fe902a80')\"\n",
              "              title=\"Convert this dataframe to an interactive table.\"\n",
              "              style=\"display:none;\">\n",
              "        \n",
              "  <svg xmlns=\"http://www.w3.org/2000/svg\" height=\"24px\"viewBox=\"0 0 24 24\"\n",
              "       width=\"24px\">\n",
              "    <path d=\"M0 0h24v24H0V0z\" fill=\"none\"/>\n",
              "    <path d=\"M18.56 5.44l.94 2.06.94-2.06 2.06-.94-2.06-.94-.94-2.06-.94 2.06-2.06.94zm-11 1L8.5 8.5l.94-2.06 2.06-.94-2.06-.94L8.5 2.5l-.94 2.06-2.06.94zm10 10l.94 2.06.94-2.06 2.06-.94-2.06-.94-.94-2.06-.94 2.06-2.06.94z\"/><path d=\"M17.41 7.96l-1.37-1.37c-.4-.4-.92-.59-1.43-.59-.52 0-1.04.2-1.43.59L10.3 9.45l-7.72 7.72c-.78.78-.78 2.05 0 2.83L4 21.41c.39.39.9.59 1.41.59.51 0 1.02-.2 1.41-.59l7.78-7.78 2.81-2.81c.8-.78.8-2.07 0-2.86zM5.41 20L4 18.59l7.72-7.72 1.47 1.35L5.41 20z\"/>\n",
              "  </svg>\n",
              "      </button>\n",
              "      \n",
              "  <style>\n",
              "    .colab-df-container {\n",
              "      display:flex;\n",
              "      flex-wrap:wrap;\n",
              "      gap: 12px;\n",
              "    }\n",
              "\n",
              "    .colab-df-convert {\n",
              "      background-color: #E8F0FE;\n",
              "      border: none;\n",
              "      border-radius: 50%;\n",
              "      cursor: pointer;\n",
              "      display: none;\n",
              "      fill: #1967D2;\n",
              "      height: 32px;\n",
              "      padding: 0 0 0 0;\n",
              "      width: 32px;\n",
              "    }\n",
              "\n",
              "    .colab-df-convert:hover {\n",
              "      background-color: #E2EBFA;\n",
              "      box-shadow: 0px 1px 2px rgba(60, 64, 67, 0.3), 0px 1px 3px 1px rgba(60, 64, 67, 0.15);\n",
              "      fill: #174EA6;\n",
              "    }\n",
              "\n",
              "    [theme=dark] .colab-df-convert {\n",
              "      background-color: #3B4455;\n",
              "      fill: #D2E3FC;\n",
              "    }\n",
              "\n",
              "    [theme=dark] .colab-df-convert:hover {\n",
              "      background-color: #434B5C;\n",
              "      box-shadow: 0px 1px 3px 1px rgba(0, 0, 0, 0.15);\n",
              "      filter: drop-shadow(0px 1px 2px rgba(0, 0, 0, 0.3));\n",
              "      fill: #FFFFFF;\n",
              "    }\n",
              "  </style>\n",
              "\n",
              "      <script>\n",
              "        const buttonEl =\n",
              "          document.querySelector('#df-e982a3ba-88f2-4640-bc0d-1774fe902a80 button.colab-df-convert');\n",
              "        buttonEl.style.display =\n",
              "          google.colab.kernel.accessAllowed ? 'block' : 'none';\n",
              "\n",
              "        async function convertToInteractive(key) {\n",
              "          const element = document.querySelector('#df-e982a3ba-88f2-4640-bc0d-1774fe902a80');\n",
              "          const dataTable =\n",
              "            await google.colab.kernel.invokeFunction('convertToInteractive',\n",
              "                                                     [key], {});\n",
              "          if (!dataTable) return;\n",
              "\n",
              "          const docLinkHtml = 'Like what you see? Visit the ' +\n",
              "            '<a target=\"_blank\" href=https://colab.research.google.com/notebooks/data_table.ipynb>data table notebook</a>'\n",
              "            + ' to learn more about interactive tables.';\n",
              "          element.innerHTML = '';\n",
              "          dataTable['output_type'] = 'display_data';\n",
              "          await google.colab.output.renderOutput(dataTable, element);\n",
              "          const docLink = document.createElement('div');\n",
              "          docLink.innerHTML = docLinkHtml;\n",
              "          element.appendChild(docLink);\n",
              "        }\n",
              "      </script>\n",
              "    </div>\n",
              "  </div>\n",
              "  "
            ]
          },
          "metadata": {},
          "execution_count": 35
        }
      ],
      "source": [
        "# Revisamos el conjunto de datos obtenido para pernoflojo\n",
        "df_pernoflojo.head(8)"
      ]
    },
    {
      "cell_type": "code",
      "execution_count": null,
      "metadata": {
        "colab": {
          "base_uri": "https://localhost:8080/"
        },
        "id": "NH0hRC5eJjIk",
        "outputId": "e7387906-1073-4297-eff4-45382c5f5a81"
      },
      "outputs": [
        {
          "output_type": "execute_result",
          "data": {
            "text/plain": [
              "20.0"
            ]
          },
          "metadata": {},
          "execution_count": 36
        }
      ],
      "source": [
        "# Si dividimos para 99097 el df_pernoflojo deberíamos obtener 20 experimentos en total\n",
        "len(df_pernoflojo)/99097"
      ]
    },
    {
      "cell_type": "code",
      "execution_count": null,
      "metadata": {
        "id": "10EvKDiUJnSD"
      },
      "outputs": [],
      "source": [
        "# Establecemos 2 listas, una con los posibles experimentos y otra con los posibles niveles de white noise, lo cual nos ayudará a segmentar los datos\n",
        "experimentos = [1, 2, 3, 4, 5]\n",
        "wns = [0.5, 1, 2, 3]\n",
        "# Creamos una lista en donde pondremos todas las imágenes creadas, segmentadas por experimento y white noise\n",
        "arreglo_imagenes_por_experimento_pernoflojo = []\n",
        "\n",
        "# Iteramos por experimento y por nivel de white noise\n",
        "for i in experimentos:\n",
        "  for j in wns:\n",
        "    # Creamos filtros que nos permiten identificar el experimento por su número asociado y por su nivel de white noise dentro del conjunto de datos\n",
        "    filter1 = df_pernoflojo[\"#_exp\"] == i\n",
        "    filter2 = df_pernoflojo[\"amplitud\"] == j\n",
        "    # Filtramos y deshacemos las filas que no corresponden a la búsqueda\n",
        "    dataset_experimento = df_pernoflojo.where(filter1 & filter2).dropna()\n",
        "    # Creamos arreglo en donde almacenaremos listas de imágenes asociadas a cada columna en un experimento individual\n",
        "    arreglo_matrices_asociadas = []\n",
        "\n",
        "    # En el conjunto filtrado, iteramos por cada columna (de la columna 0 a la 23)\n",
        "    for n in range(24):\n",
        "      # Establecemos un límite inferior y un límite superior\n",
        "      indice_inicio = 0\n",
        "      indice_fin = 256\n",
        "      # Del conjunto filtrado, obtenemos un subconjunto con muestras cada 6 pasos\n",
        "      columna_cada_6 = dataset_experimento[n][::6]\n",
        "      # Creamos una lista en donde guardaremos todas las imágenes creadas dentro de la columna en la que se esta iterando\n",
        "      matrices_columna = []\n",
        "    \n",
        "      # Recorremos en valores de 256 la columna del subconjunto creado para generar las imágenes 16x16 correspondientes \n",
        "      while indice_fin < len(columna_cada_6):\n",
        "        # Guardamos el conjunto de 256 datos dentro de un arreglo\n",
        "        vector = columna_cada_6[indice_inicio:indice_fin]\n",
        "        # Redimensionamos el arreglo (de 1x256 a 16x16)\n",
        "        matriz = vector.to_numpy().reshape((16, 16))\n",
        "        # Agregamos la imagen dentro de la lista matrices_columna\n",
        "        matrices_columna.append(matriz)\n",
        "        # Establecemos el nuevo límite inferior y superior en donde se encontrarán los datos de mi nueva imagen 16x16\n",
        "        indice_inicio = indice_fin\n",
        "        indice_fin = indice_fin + 256\n",
        "      \n",
        "      # Agregamos las listas de imágenes 16x16 asociadas a una columna a arreglo_matrices_asociadas\n",
        "      arreglo_matrices_asociadas.append(matrices_columna)\n",
        "    \n",
        "    # Agregamos arreglo_matrices_asociadas a arreglos_imagenes_por_experimento, en donde tenemos listas de listas asociadas a un experimento individual\n",
        "    arreglo_imagenes_por_experimento_pernoflojo.append(arreglo_matrices_asociadas)"
      ]
    },
    {
      "cell_type": "code",
      "execution_count": null,
      "metadata": {
        "colab": {
          "base_uri": "https://localhost:8080/"
        },
        "id": "42RRm3RHJn4m",
        "outputId": "f0305b84-e343-4677-e93d-378439239474"
      },
      "outputs": [
        {
          "output_type": "execute_result",
          "data": {
            "text/plain": [
              "20"
            ]
          },
          "metadata": {},
          "execution_count": 38
        }
      ],
      "source": [
        "len(arreglo_imagenes_por_experimento_pernoflojo)"
      ]
    },
    {
      "cell_type": "code",
      "execution_count": null,
      "metadata": {
        "colab": {
          "base_uri": "https://localhost:8080/"
        },
        "id": "8ytxU4jHJpqV",
        "outputId": "362abe24-14b0-47d8-88c3-335ef1baf576"
      },
      "outputs": [
        {
          "output_type": "execute_result",
          "data": {
            "text/plain": [
              "24"
            ]
          },
          "metadata": {},
          "execution_count": 39
        }
      ],
      "source": [
        "len(arreglo_imagenes_por_experimento_pernoflojo[0])"
      ]
    },
    {
      "cell_type": "code",
      "execution_count": null,
      "metadata": {
        "colab": {
          "base_uri": "https://localhost:8080/"
        },
        "id": "LXspbQBmJsW8",
        "outputId": "50aaf6b8-1d23-4a78-e312-87cccb0d2507"
      },
      "outputs": [
        {
          "output_type": "execute_result",
          "data": {
            "text/plain": [
              "64"
            ]
          },
          "metadata": {},
          "execution_count": 40
        }
      ],
      "source": [
        "len(arreglo_imagenes_por_experimento_pernoflojo[0][0])"
      ]
    },
    {
      "cell_type": "code",
      "execution_count": null,
      "metadata": {
        "colab": {
          "base_uri": "https://localhost:8080/"
        },
        "id": "o-cPDbGYJtVD",
        "outputId": "0aa83978-4efe-43ce-b5b3-dceaf2862108"
      },
      "outputs": [
        {
          "output_type": "execute_result",
          "data": {
            "text/plain": [
              "256"
            ]
          },
          "metadata": {},
          "execution_count": 41
        }
      ],
      "source": [
        "arreglo_imagenes_por_experimento_pernoflojo[0][0][0].size"
      ]
    },
    {
      "cell_type": "code",
      "execution_count": null,
      "metadata": {
        "colab": {
          "base_uri": "https://localhost:8080/"
        },
        "id": "ZxvGJDWRJusZ",
        "outputId": "0a97b2a0-9a09-4d9b-abf6-06ef67b2367a"
      },
      "outputs": [
        {
          "output_type": "execute_result",
          "data": {
            "text/plain": [
              "(16, 16)"
            ]
          },
          "metadata": {},
          "execution_count": 42
        }
      ],
      "source": [
        "arreglo_imagenes_por_experimento_pernoflojo[0][0][0].shape"
      ]
    },
    {
      "cell_type": "code",
      "execution_count": null,
      "metadata": {
        "id": "fR-TpHzWJwb9"
      },
      "outputs": [],
      "source": [
        "# Creamos un arreglos general para todas las imágenes de dimensionamiento (24, 16, 16)\n",
        "arreglo_imagenes_pernoflojo = []\n",
        "\n",
        "# Iteramos cada experimento en la lista de experimentos creada previamente\n",
        "for experimento_i in arreglo_imagenes_por_experimento_pernoflojo:\n",
        "  # Iteramos en un rango de 64 para usarlo posteriormente\n",
        "  for idx in range(64):\n",
        "    # Para cada iteración se crea el arreglo en donde se agregaran las capas correctas de la imagen de dimensionamniento (24, 16, 16)\n",
        "    imagen = []\n",
        "    # Iteramos para cada fila en el experimento (son 24 filas)\n",
        "    for fila in experimento_i:\n",
        "      # Asociamos por índice los valores de cada lista de imágenes para establecer la relación correcta y agregamos al arreglo creado\n",
        "      capa_imagen = fila[idx]\n",
        "      imagen.append(capa_imagen)\n",
        "\n",
        "    # Transformamos la lista de 24 capas a un arreglo numérico\n",
        "    arreglo_imagenes_pernoflojo.append(np.dstack(imagen))"
      ]
    },
    {
      "cell_type": "code",
      "execution_count": null,
      "metadata": {
        "colab": {
          "base_uri": "https://localhost:8080/"
        },
        "id": "Y4tbq51uJyjK",
        "outputId": "dd013721-29fb-4feb-b536-d21fbf592886"
      },
      "outputs": [
        {
          "output_type": "execute_result",
          "data": {
            "text/plain": [
              "1280"
            ]
          },
          "metadata": {},
          "execution_count": 44
        }
      ],
      "source": [
        "# Revisamos el número de imágenes creadas\n",
        "len(arreglo_imagenes_pernoflojo)"
      ]
    },
    {
      "cell_type": "code",
      "execution_count": null,
      "metadata": {
        "colab": {
          "base_uri": "https://localhost:8080/"
        },
        "id": "EfDW0ProJ0Kc",
        "outputId": "ebab0280-49f0-418f-a6e0-66062ed6f715"
      },
      "outputs": [
        {
          "output_type": "execute_result",
          "data": {
            "text/plain": [
              "((16, 16, 24), numpy.ndarray, 506)"
            ]
          },
          "metadata": {},
          "execution_count": 45
        }
      ],
      "source": [
        "# Revisamos el dimensionamiento y tipo de un elemento aleatorio en la lista de imágenes\n",
        "indice_imagen_pernoflojo = randint(0, len(arreglo_imagenes_pernoflojo) - 1)\n",
        "arreglo_imagenes_pernoflojo[indice_imagen_pernoflojo].shape, type(arreglo_imagenes_pernoflojo[0]), indice_imagen_pernoflojo"
      ]
    },
    {
      "cell_type": "code",
      "execution_count": null,
      "metadata": {
        "id": "DOyv7NlxLAYj"
      },
      "outputs": [],
      "source": [
        "imagenes_pernoflojo_05 = []\n",
        "imagenes_pernoflojo_1 = []\n",
        "imagenes_pernoflojo_2 = []\n",
        "imagenes_pernoflojo_3 = []"
      ]
    },
    {
      "cell_type": "code",
      "execution_count": null,
      "metadata": {
        "id": "NAwKzzZMLCZJ"
      },
      "outputs": [],
      "source": [
        "for i in indices_05:\n",
        "  for j in arreglo_imagenes_pernoflojo[lista_indices[i-1]:lista_indices[i]]:\n",
        "    imagenes_pernoflojo_05.append(j)\n",
        "for i in indices_1:\n",
        "  for j in arreglo_imagenes_pernoflojo[lista_indices[i-1]:lista_indices[i]]:\n",
        "    imagenes_pernoflojo_1.append(j)\n",
        "for i in indices_2:\n",
        "  for j in arreglo_imagenes_pernoflojo[lista_indices[i-1]:lista_indices[i]]:\n",
        "    imagenes_pernoflojo_2.append(j)\n",
        "for i in indices_3:\n",
        "  for j in arreglo_imagenes_pernoflojo[lista_indices[i-1]:lista_indices[i]]:\n",
        "    imagenes_pernoflojo_3.append(j)"
      ]
    },
    {
      "cell_type": "code",
      "execution_count": null,
      "metadata": {
        "colab": {
          "base_uri": "https://localhost:8080/"
        },
        "id": "LTpqxRZjLEXz",
        "outputId": "3aaaabcd-b794-40e3-c765-61979f5651fb"
      },
      "outputs": [
        {
          "output_type": "execute_result",
          "data": {
            "text/plain": [
              "(320, 320, 320, 320)"
            ]
          },
          "metadata": {},
          "execution_count": 48
        }
      ],
      "source": [
        "len(imagenes_pernoflojo_05), len(imagenes_pernoflojo_1), len(imagenes_pernoflojo_2), len(imagenes_pernoflojo_3)"
      ]
    },
    {
      "cell_type": "markdown",
      "metadata": {
        "id": "NcVqDb34J2Tf"
      },
      "source": [
        "## Datos Réplica"
      ]
    },
    {
      "cell_type": "code",
      "execution_count": null,
      "metadata": {
        "id": "Gz1IR1goJ1jj"
      },
      "outputs": [],
      "source": [
        "# Se crean 2 listas, una asociada al número de experimento y otra asociada al nivel de white noise presente durante el experimento \n",
        "numero_experimentos_replica = []\n",
        "amplitud_experimentos_replica = []"
      ]
    },
    {
      "cell_type": "code",
      "execution_count": null,
      "metadata": {
        "id": "1sLkjIFJJ5az"
      },
      "outputs": [],
      "source": [
        "# Iteramos los nombres de los archivos dentro del conjunto que contiene los datos de fisura\n",
        "for nombre_archivo in datos_replica:\n",
        "  # Obtenemos el nombre del experimento\n",
        "  nombre_experimento = nombre_archivo.split('/')[4]\n",
        "  # Obtenemos el número del experimento\n",
        "  numero_experimento = nombre_experimento.split('_')[1]\n",
        "  # Obtenemos el nivel de white noise del experimento\n",
        "  amplitud_experimento = nombre_experimento.split('.')[0].split('_')[2].replace('A', '')\n",
        "  # Agregamos el número del experimento a la lista numero_experimentos_pernoflojo creada anteriormente\n",
        "  numero_experimentos_replica.append(int(numero_experimento))\n",
        "  # Agregamos el nivel de white noise del experimento a la lista amplitud_experimentos_pernoflojo creada anteriormente\n",
        "  if amplitud_experimento == '05':\n",
        "    amplitud_experimento = 0.5\n",
        "    amplitud_experimentos_replica.append(amplitud_experimento)\n",
        "  else:\n",
        "    amplitud_experimentos_replica.append(int(amplitud_experimento))"
      ]
    },
    {
      "cell_type": "code",
      "execution_count": null,
      "metadata": {
        "id": "U51a1xQOJ6-p"
      },
      "outputs": [],
      "source": [
        "# Creamos un DataFrame vacío\n",
        "df_replica = pd.DataFrame()"
      ]
    },
    {
      "cell_type": "code",
      "execution_count": null,
      "metadata": {
        "id": "nbWgc2vIJ8YE"
      },
      "outputs": [],
      "source": [
        "# Iteramos por rango la lista datos_fisura\n",
        "for indice in range(len(datos_replica)):\n",
        "  # Obtenemos la dirección dentro de la iteración correspondiente\n",
        "  direccion = datos_replica[indice]\n",
        "  # Transformamos el .mat a un formato en el que se pueda transformar a DataFrame\n",
        "  mat = loadmat(direccion)\n",
        "  df = pd.DataFrame(mat['data'])\n",
        "  # Para todos los valores del experimento, creamos columnas en donde sus valores se asocian con el nivel de wn y el # de experimento\n",
        "  df['#_exp'] = numero_experimentos_replica[indice]\n",
        "  df['amplitud'] = amplitud_experimentos_replica[indice]\n",
        "  # Colocamos al final del DataFrame df_fisura creado el nuevo DataFrame \n",
        "  df_replica = pd.concat([df_replica, df], axis = 0)"
      ]
    },
    {
      "cell_type": "code",
      "execution_count": null,
      "metadata": {
        "colab": {
          "base_uri": "https://localhost:8080/",
          "height": 330
        },
        "id": "jzUgk53iJ99_",
        "outputId": "90a5eda1-ada6-43cd-acbb-eb08114bb664"
      },
      "outputs": [
        {
          "output_type": "execute_result",
          "data": {
            "text/plain": [
              "          0         1         2         3         4         5         6  \\\n",
              "0  0.000355  0.000146  0.000121 -0.000051  0.000056  0.000194  0.000148   \n",
              "1  0.000009  0.000346  0.000240  0.000186  0.000230  0.000027  0.000124   \n",
              "2  0.000136  0.000251  0.000098  0.000175  0.000150  0.000184  0.000024   \n",
              "3  0.000190  0.000126  0.000240 -0.000056  0.000113  0.000203  0.000062   \n",
              "4  0.000120  0.000354  0.000238  0.000325  0.000146  0.000057  0.000213   \n",
              "5  0.000165  0.000087  0.000249  0.000091  0.000189  0.000228  0.000141   \n",
              "6  0.000381  0.000427  0.000296  0.000122  0.000299  0.000188  0.000057   \n",
              "7 -0.000010  0.000209  0.000437  0.000280  0.000213  0.000170  0.000087   \n",
              "\n",
              "          7         8         9  ...        16        17        18        19  \\\n",
              "0  0.000252  0.000287  0.000166  ... -0.000084  0.000068  0.000064  0.000306   \n",
              "1  0.000234  0.000363  0.000107  ...  0.000072  0.000068  0.000349 -0.000049   \n",
              "2  0.000227  0.000300  0.000195  ...  0.000009  0.000091  0.000292  0.000251   \n",
              "3  0.000145  0.000325  0.000121  ...  0.000051  0.000073  0.000128  0.000138   \n",
              "4  0.000164  0.000299  0.000175  ...  0.000086  0.000059  0.000112  0.000112   \n",
              "5  0.000269  0.000243  0.000153  ... -0.000079  0.000036  0.000206  0.000246   \n",
              "6  0.000121  0.000329  0.000104  ...  0.000160  0.000079  0.000376 -0.000016   \n",
              "7  0.000213  0.000379  0.000220  ... -0.000056  0.000125  0.000168  0.000271   \n",
              "\n",
              "         20        21        22        23  #_exp  amplitud  \n",
              "0  0.000121  0.000112 -0.000216 -0.000085      1       2.0  \n",
              "1  0.000153  0.000133  0.000252 -0.000033      1       2.0  \n",
              "2  0.000180  0.000326  0.000021 -0.000019      1       2.0  \n",
              "3  0.000127  0.000097  0.000057 -0.000052      1       2.0  \n",
              "4  0.000163  0.000085  0.000090 -0.000045      1       2.0  \n",
              "5  0.000181  0.000216 -0.000106 -0.000053      1       2.0  \n",
              "6  0.000150  0.000189  0.000330  0.000022      1       2.0  \n",
              "7  0.000246  0.000212 -0.000227 -0.000066      1       2.0  \n",
              "\n",
              "[8 rows x 26 columns]"
            ],
            "text/html": [
              "\n",
              "  <div id=\"df-87ef16a2-fc1c-4b01-a308-a366ab95139a\">\n",
              "    <div class=\"colab-df-container\">\n",
              "      <div>\n",
              "<style scoped>\n",
              "    .dataframe tbody tr th:only-of-type {\n",
              "        vertical-align: middle;\n",
              "    }\n",
              "\n",
              "    .dataframe tbody tr th {\n",
              "        vertical-align: top;\n",
              "    }\n",
              "\n",
              "    .dataframe thead th {\n",
              "        text-align: right;\n",
              "    }\n",
              "</style>\n",
              "<table border=\"1\" class=\"dataframe\">\n",
              "  <thead>\n",
              "    <tr style=\"text-align: right;\">\n",
              "      <th></th>\n",
              "      <th>0</th>\n",
              "      <th>1</th>\n",
              "      <th>2</th>\n",
              "      <th>3</th>\n",
              "      <th>4</th>\n",
              "      <th>5</th>\n",
              "      <th>6</th>\n",
              "      <th>7</th>\n",
              "      <th>8</th>\n",
              "      <th>9</th>\n",
              "      <th>...</th>\n",
              "      <th>16</th>\n",
              "      <th>17</th>\n",
              "      <th>18</th>\n",
              "      <th>19</th>\n",
              "      <th>20</th>\n",
              "      <th>21</th>\n",
              "      <th>22</th>\n",
              "      <th>23</th>\n",
              "      <th>#_exp</th>\n",
              "      <th>amplitud</th>\n",
              "    </tr>\n",
              "  </thead>\n",
              "  <tbody>\n",
              "    <tr>\n",
              "      <th>0</th>\n",
              "      <td>0.000355</td>\n",
              "      <td>0.000146</td>\n",
              "      <td>0.000121</td>\n",
              "      <td>-0.000051</td>\n",
              "      <td>0.000056</td>\n",
              "      <td>0.000194</td>\n",
              "      <td>0.000148</td>\n",
              "      <td>0.000252</td>\n",
              "      <td>0.000287</td>\n",
              "      <td>0.000166</td>\n",
              "      <td>...</td>\n",
              "      <td>-0.000084</td>\n",
              "      <td>0.000068</td>\n",
              "      <td>0.000064</td>\n",
              "      <td>0.000306</td>\n",
              "      <td>0.000121</td>\n",
              "      <td>0.000112</td>\n",
              "      <td>-0.000216</td>\n",
              "      <td>-0.000085</td>\n",
              "      <td>1</td>\n",
              "      <td>2.0</td>\n",
              "    </tr>\n",
              "    <tr>\n",
              "      <th>1</th>\n",
              "      <td>0.000009</td>\n",
              "      <td>0.000346</td>\n",
              "      <td>0.000240</td>\n",
              "      <td>0.000186</td>\n",
              "      <td>0.000230</td>\n",
              "      <td>0.000027</td>\n",
              "      <td>0.000124</td>\n",
              "      <td>0.000234</td>\n",
              "      <td>0.000363</td>\n",
              "      <td>0.000107</td>\n",
              "      <td>...</td>\n",
              "      <td>0.000072</td>\n",
              "      <td>0.000068</td>\n",
              "      <td>0.000349</td>\n",
              "      <td>-0.000049</td>\n",
              "      <td>0.000153</td>\n",
              "      <td>0.000133</td>\n",
              "      <td>0.000252</td>\n",
              "      <td>-0.000033</td>\n",
              "      <td>1</td>\n",
              "      <td>2.0</td>\n",
              "    </tr>\n",
              "    <tr>\n",
              "      <th>2</th>\n",
              "      <td>0.000136</td>\n",
              "      <td>0.000251</td>\n",
              "      <td>0.000098</td>\n",
              "      <td>0.000175</td>\n",
              "      <td>0.000150</td>\n",
              "      <td>0.000184</td>\n",
              "      <td>0.000024</td>\n",
              "      <td>0.000227</td>\n",
              "      <td>0.000300</td>\n",
              "      <td>0.000195</td>\n",
              "      <td>...</td>\n",
              "      <td>0.000009</td>\n",
              "      <td>0.000091</td>\n",
              "      <td>0.000292</td>\n",
              "      <td>0.000251</td>\n",
              "      <td>0.000180</td>\n",
              "      <td>0.000326</td>\n",
              "      <td>0.000021</td>\n",
              "      <td>-0.000019</td>\n",
              "      <td>1</td>\n",
              "      <td>2.0</td>\n",
              "    </tr>\n",
              "    <tr>\n",
              "      <th>3</th>\n",
              "      <td>0.000190</td>\n",
              "      <td>0.000126</td>\n",
              "      <td>0.000240</td>\n",
              "      <td>-0.000056</td>\n",
              "      <td>0.000113</td>\n",
              "      <td>0.000203</td>\n",
              "      <td>0.000062</td>\n",
              "      <td>0.000145</td>\n",
              "      <td>0.000325</td>\n",
              "      <td>0.000121</td>\n",
              "      <td>...</td>\n",
              "      <td>0.000051</td>\n",
              "      <td>0.000073</td>\n",
              "      <td>0.000128</td>\n",
              "      <td>0.000138</td>\n",
              "      <td>0.000127</td>\n",
              "      <td>0.000097</td>\n",
              "      <td>0.000057</td>\n",
              "      <td>-0.000052</td>\n",
              "      <td>1</td>\n",
              "      <td>2.0</td>\n",
              "    </tr>\n",
              "    <tr>\n",
              "      <th>4</th>\n",
              "      <td>0.000120</td>\n",
              "      <td>0.000354</td>\n",
              "      <td>0.000238</td>\n",
              "      <td>0.000325</td>\n",
              "      <td>0.000146</td>\n",
              "      <td>0.000057</td>\n",
              "      <td>0.000213</td>\n",
              "      <td>0.000164</td>\n",
              "      <td>0.000299</td>\n",
              "      <td>0.000175</td>\n",
              "      <td>...</td>\n",
              "      <td>0.000086</td>\n",
              "      <td>0.000059</td>\n",
              "      <td>0.000112</td>\n",
              "      <td>0.000112</td>\n",
              "      <td>0.000163</td>\n",
              "      <td>0.000085</td>\n",
              "      <td>0.000090</td>\n",
              "      <td>-0.000045</td>\n",
              "      <td>1</td>\n",
              "      <td>2.0</td>\n",
              "    </tr>\n",
              "    <tr>\n",
              "      <th>5</th>\n",
              "      <td>0.000165</td>\n",
              "      <td>0.000087</td>\n",
              "      <td>0.000249</td>\n",
              "      <td>0.000091</td>\n",
              "      <td>0.000189</td>\n",
              "      <td>0.000228</td>\n",
              "      <td>0.000141</td>\n",
              "      <td>0.000269</td>\n",
              "      <td>0.000243</td>\n",
              "      <td>0.000153</td>\n",
              "      <td>...</td>\n",
              "      <td>-0.000079</td>\n",
              "      <td>0.000036</td>\n",
              "      <td>0.000206</td>\n",
              "      <td>0.000246</td>\n",
              "      <td>0.000181</td>\n",
              "      <td>0.000216</td>\n",
              "      <td>-0.000106</td>\n",
              "      <td>-0.000053</td>\n",
              "      <td>1</td>\n",
              "      <td>2.0</td>\n",
              "    </tr>\n",
              "    <tr>\n",
              "      <th>6</th>\n",
              "      <td>0.000381</td>\n",
              "      <td>0.000427</td>\n",
              "      <td>0.000296</td>\n",
              "      <td>0.000122</td>\n",
              "      <td>0.000299</td>\n",
              "      <td>0.000188</td>\n",
              "      <td>0.000057</td>\n",
              "      <td>0.000121</td>\n",
              "      <td>0.000329</td>\n",
              "      <td>0.000104</td>\n",
              "      <td>...</td>\n",
              "      <td>0.000160</td>\n",
              "      <td>0.000079</td>\n",
              "      <td>0.000376</td>\n",
              "      <td>-0.000016</td>\n",
              "      <td>0.000150</td>\n",
              "      <td>0.000189</td>\n",
              "      <td>0.000330</td>\n",
              "      <td>0.000022</td>\n",
              "      <td>1</td>\n",
              "      <td>2.0</td>\n",
              "    </tr>\n",
              "    <tr>\n",
              "      <th>7</th>\n",
              "      <td>-0.000010</td>\n",
              "      <td>0.000209</td>\n",
              "      <td>0.000437</td>\n",
              "      <td>0.000280</td>\n",
              "      <td>0.000213</td>\n",
              "      <td>0.000170</td>\n",
              "      <td>0.000087</td>\n",
              "      <td>0.000213</td>\n",
              "      <td>0.000379</td>\n",
              "      <td>0.000220</td>\n",
              "      <td>...</td>\n",
              "      <td>-0.000056</td>\n",
              "      <td>0.000125</td>\n",
              "      <td>0.000168</td>\n",
              "      <td>0.000271</td>\n",
              "      <td>0.000246</td>\n",
              "      <td>0.000212</td>\n",
              "      <td>-0.000227</td>\n",
              "      <td>-0.000066</td>\n",
              "      <td>1</td>\n",
              "      <td>2.0</td>\n",
              "    </tr>\n",
              "  </tbody>\n",
              "</table>\n",
              "<p>8 rows × 26 columns</p>\n",
              "</div>\n",
              "      <button class=\"colab-df-convert\" onclick=\"convertToInteractive('df-87ef16a2-fc1c-4b01-a308-a366ab95139a')\"\n",
              "              title=\"Convert this dataframe to an interactive table.\"\n",
              "              style=\"display:none;\">\n",
              "        \n",
              "  <svg xmlns=\"http://www.w3.org/2000/svg\" height=\"24px\"viewBox=\"0 0 24 24\"\n",
              "       width=\"24px\">\n",
              "    <path d=\"M0 0h24v24H0V0z\" fill=\"none\"/>\n",
              "    <path d=\"M18.56 5.44l.94 2.06.94-2.06 2.06-.94-2.06-.94-.94-2.06-.94 2.06-2.06.94zm-11 1L8.5 8.5l.94-2.06 2.06-.94-2.06-.94L8.5 2.5l-.94 2.06-2.06.94zm10 10l.94 2.06.94-2.06 2.06-.94-2.06-.94-.94-2.06-.94 2.06-2.06.94z\"/><path d=\"M17.41 7.96l-1.37-1.37c-.4-.4-.92-.59-1.43-.59-.52 0-1.04.2-1.43.59L10.3 9.45l-7.72 7.72c-.78.78-.78 2.05 0 2.83L4 21.41c.39.39.9.59 1.41.59.51 0 1.02-.2 1.41-.59l7.78-7.78 2.81-2.81c.8-.78.8-2.07 0-2.86zM5.41 20L4 18.59l7.72-7.72 1.47 1.35L5.41 20z\"/>\n",
              "  </svg>\n",
              "      </button>\n",
              "      \n",
              "  <style>\n",
              "    .colab-df-container {\n",
              "      display:flex;\n",
              "      flex-wrap:wrap;\n",
              "      gap: 12px;\n",
              "    }\n",
              "\n",
              "    .colab-df-convert {\n",
              "      background-color: #E8F0FE;\n",
              "      border: none;\n",
              "      border-radius: 50%;\n",
              "      cursor: pointer;\n",
              "      display: none;\n",
              "      fill: #1967D2;\n",
              "      height: 32px;\n",
              "      padding: 0 0 0 0;\n",
              "      width: 32px;\n",
              "    }\n",
              "\n",
              "    .colab-df-convert:hover {\n",
              "      background-color: #E2EBFA;\n",
              "      box-shadow: 0px 1px 2px rgba(60, 64, 67, 0.3), 0px 1px 3px 1px rgba(60, 64, 67, 0.15);\n",
              "      fill: #174EA6;\n",
              "    }\n",
              "\n",
              "    [theme=dark] .colab-df-convert {\n",
              "      background-color: #3B4455;\n",
              "      fill: #D2E3FC;\n",
              "    }\n",
              "\n",
              "    [theme=dark] .colab-df-convert:hover {\n",
              "      background-color: #434B5C;\n",
              "      box-shadow: 0px 1px 3px 1px rgba(0, 0, 0, 0.15);\n",
              "      filter: drop-shadow(0px 1px 2px rgba(0, 0, 0, 0.3));\n",
              "      fill: #FFFFFF;\n",
              "    }\n",
              "  </style>\n",
              "\n",
              "      <script>\n",
              "        const buttonEl =\n",
              "          document.querySelector('#df-87ef16a2-fc1c-4b01-a308-a366ab95139a button.colab-df-convert');\n",
              "        buttonEl.style.display =\n",
              "          google.colab.kernel.accessAllowed ? 'block' : 'none';\n",
              "\n",
              "        async function convertToInteractive(key) {\n",
              "          const element = document.querySelector('#df-87ef16a2-fc1c-4b01-a308-a366ab95139a');\n",
              "          const dataTable =\n",
              "            await google.colab.kernel.invokeFunction('convertToInteractive',\n",
              "                                                     [key], {});\n",
              "          if (!dataTable) return;\n",
              "\n",
              "          const docLinkHtml = 'Like what you see? Visit the ' +\n",
              "            '<a target=\"_blank\" href=https://colab.research.google.com/notebooks/data_table.ipynb>data table notebook</a>'\n",
              "            + ' to learn more about interactive tables.';\n",
              "          element.innerHTML = '';\n",
              "          dataTable['output_type'] = 'display_data';\n",
              "          await google.colab.output.renderOutput(dataTable, element);\n",
              "          const docLink = document.createElement('div');\n",
              "          docLink.innerHTML = docLinkHtml;\n",
              "          element.appendChild(docLink);\n",
              "        }\n",
              "      </script>\n",
              "    </div>\n",
              "  </div>\n",
              "  "
            ]
          },
          "metadata": {},
          "execution_count": 53
        }
      ],
      "source": [
        "# Revisamos el conjunto de datos obtenido para pernoflojo\n",
        "df_replica.head(8)"
      ]
    },
    {
      "cell_type": "code",
      "execution_count": null,
      "metadata": {
        "colab": {
          "base_uri": "https://localhost:8080/"
        },
        "id": "vGEJG_KUJ_dT",
        "outputId": "ea0800f5-9982-49ce-8498-2748892bd90b"
      },
      "outputs": [
        {
          "output_type": "execute_result",
          "data": {
            "text/plain": [
              "20.0"
            ]
          },
          "metadata": {},
          "execution_count": 54
        }
      ],
      "source": [
        "# Si dividimos para 99097 el df_pernoflojo deberíamos obtener 20 experimentos en total\n",
        "len(df_pernoflojo)/99097"
      ]
    },
    {
      "cell_type": "code",
      "execution_count": null,
      "metadata": {
        "id": "NgLcmYdAKBh1"
      },
      "outputs": [],
      "source": [
        "# Establecemos 2 listas, una con los posibles experimentos y otra con los posibles niveles de white noise, lo cual nos ayudará a segmentar los datos\n",
        "experimentos = [1, 2, 3, 4, 5]\n",
        "wns = [0.5, 1, 2, 3]\n",
        "# Creamos una lista en donde pondremos todas las imágenes creadas, segmentadas por experimento y white noise\n",
        "arreglo_imagenes_por_experimento_replica = []\n",
        "\n",
        "# Iteramos por experimento y por nivel de white noise\n",
        "for i in experimentos:\n",
        "  for j in wns:\n",
        "    # Creamos filtros que nos permiten identificar el experimento por su número asociado y por su nivel de white noise dentro del conjunto de datos\n",
        "    filter1 = df_replica[\"#_exp\"] == i\n",
        "    filter2 = df_replica[\"amplitud\"] == j\n",
        "    # Filtramos y deshacemos las filas que no corresponden a la búsqueda\n",
        "    dataset_experimento = df_replica.where(filter1 & filter2).dropna()\n",
        "    # Creamos arreglo en donde almacenaremos listas de imágenes asociadas a cada columna en un experimento individual\n",
        "    arreglo_matrices_asociadas = []\n",
        "\n",
        "    # En el conjunto filtrado, iteramos por cada columna (de la columna 0 a la 23)\n",
        "    for n in range(24):\n",
        "      # Establecemos un límite inferior y un límite superior\n",
        "      indice_inicio = 0\n",
        "      indice_fin = 256\n",
        "      # Del conjunto filtrado, obtenemos un subconjunto con muestras cada 6 pasos\n",
        "      columna_cada_6 = dataset_experimento[n][::6]\n",
        "      # Creamos una lista en donde guardaremos todas las imágenes creadas dentro de la columna en la que se esta iterando\n",
        "      matrices_columna = []\n",
        "    \n",
        "      # Recorremos en valores de 256 la columna del subconjunto creado para generar las imágenes 16x16 correspondientes \n",
        "      while indice_fin < len(columna_cada_6):\n",
        "        # Guardamos el conjunto de 256 datos dentro de un arreglo\n",
        "        vector = columna_cada_6[indice_inicio:indice_fin]\n",
        "        # Redimensionamos el arreglo (de 1x256 a 16x16)\n",
        "        matriz = vector.to_numpy().reshape((16, 16))\n",
        "        # Agregamos la imagen dentro de la lista matrices_columna\n",
        "        matrices_columna.append(matriz)\n",
        "        # Establecemos el nuevo límite inferior y superior en donde se encontrarán los datos de mi nueva imagen 16x16\n",
        "        indice_inicio = indice_fin\n",
        "        indice_fin = indice_fin + 256\n",
        "      \n",
        "      # Agregamos las listas de imágenes 16x16 asociadas a una columna a arreglo_matrices_asociadas\n",
        "      arreglo_matrices_asociadas.append(matrices_columna)\n",
        "    \n",
        "    # Agregamos arreglo_matrices_asociadas a arreglos_imagenes_por_experimento, en donde tenemos listas de listas asociadas a un experimento individual\n",
        "    arreglo_imagenes_por_experimento_replica.append(arreglo_matrices_asociadas)"
      ]
    },
    {
      "cell_type": "code",
      "execution_count": null,
      "metadata": {
        "colab": {
          "base_uri": "https://localhost:8080/"
        },
        "id": "v4tolxv-KE9h",
        "outputId": "33344827-ecc5-4c3d-dcdd-ffd2efb0e438"
      },
      "outputs": [
        {
          "output_type": "execute_result",
          "data": {
            "text/plain": [
              "20"
            ]
          },
          "metadata": {},
          "execution_count": 56
        }
      ],
      "source": [
        "len(arreglo_imagenes_por_experimento_replica)"
      ]
    },
    {
      "cell_type": "code",
      "execution_count": null,
      "metadata": {
        "colab": {
          "base_uri": "https://localhost:8080/"
        },
        "id": "A9dtsJgMKG2O",
        "outputId": "ccecf627-b63f-4dd7-b5de-1d852ea88c8a"
      },
      "outputs": [
        {
          "output_type": "execute_result",
          "data": {
            "text/plain": [
              "24"
            ]
          },
          "metadata": {},
          "execution_count": 57
        }
      ],
      "source": [
        "len(arreglo_imagenes_por_experimento_replica[0])"
      ]
    },
    {
      "cell_type": "code",
      "execution_count": null,
      "metadata": {
        "colab": {
          "base_uri": "https://localhost:8080/"
        },
        "id": "o5xT_UaiKJK7",
        "outputId": "fa26b081-d5f5-4fd4-9965-8686d3b1faa7"
      },
      "outputs": [
        {
          "output_type": "execute_result",
          "data": {
            "text/plain": [
              "64"
            ]
          },
          "metadata": {},
          "execution_count": 58
        }
      ],
      "source": [
        "len(arreglo_imagenes_por_experimento_replica[0][0])"
      ]
    },
    {
      "cell_type": "code",
      "execution_count": null,
      "metadata": {
        "colab": {
          "base_uri": "https://localhost:8080/"
        },
        "id": "6TZi69otKJmz",
        "outputId": "a834dd36-6a3a-44ae-f225-1ca09d846260"
      },
      "outputs": [
        {
          "output_type": "execute_result",
          "data": {
            "text/plain": [
              "256"
            ]
          },
          "metadata": {},
          "execution_count": 59
        }
      ],
      "source": [
        "arreglo_imagenes_por_experimento_replica[0][0][0].size"
      ]
    },
    {
      "cell_type": "code",
      "execution_count": null,
      "metadata": {
        "colab": {
          "base_uri": "https://localhost:8080/"
        },
        "id": "JGLHbGZxKK1z",
        "outputId": "406ea592-9f17-4361-9608-9443de96521a"
      },
      "outputs": [
        {
          "output_type": "execute_result",
          "data": {
            "text/plain": [
              "(16, 16)"
            ]
          },
          "metadata": {},
          "execution_count": 60
        }
      ],
      "source": [
        "arreglo_imagenes_por_experimento_replica[0][0][0].shape"
      ]
    },
    {
      "cell_type": "code",
      "execution_count": null,
      "metadata": {
        "id": "2d1zgxesKMLy"
      },
      "outputs": [],
      "source": [
        "# Creamos un arreglos general para todas las imágenes de dimensionamiento (24, 16, 16)\n",
        "arreglo_imagenes_replica = []\n",
        "\n",
        "# Iteramos cada experimento en la lista de experimentos creada previamente\n",
        "for experimento_i in arreglo_imagenes_por_experimento_replica:\n",
        "  # Iteramos en un rango de 64 para usarlo posteriormente\n",
        "  for idx in range(64):\n",
        "    # Para cada iteración se crea el arreglo en donde se agregaran las capas correctas de la imagen de dimensionamniento (24, 16, 16)\n",
        "    imagen = []\n",
        "    # Iteramos para cada fila en el experimento (son 24 filas)\n",
        "    for fila in experimento_i:\n",
        "      # Asociamos por índice los valores de cada lista de imágenes para establecer la relación correcta y agregamos al arreglo creado\n",
        "      capa_imagen = fila[idx]\n",
        "      imagen.append(capa_imagen)\n",
        "\n",
        "    # Transformamos la lista de 24 capas a un arreglo numérico\n",
        "    arreglo_imagenes_replica.append(np.dstack(imagen))"
      ]
    },
    {
      "cell_type": "code",
      "execution_count": null,
      "metadata": {
        "colab": {
          "base_uri": "https://localhost:8080/"
        },
        "id": "zARbheVmKNqH",
        "outputId": "52aa8a4a-b639-4f1e-eb9c-1c8944c2d529"
      },
      "outputs": [
        {
          "output_type": "execute_result",
          "data": {
            "text/plain": [
              "1280"
            ]
          },
          "metadata": {},
          "execution_count": 62
        }
      ],
      "source": [
        "# Revisamos el número de imágenes creadas\n",
        "len(arreglo_imagenes_replica)"
      ]
    },
    {
      "cell_type": "code",
      "execution_count": null,
      "metadata": {
        "colab": {
          "base_uri": "https://localhost:8080/"
        },
        "id": "_wgkEZ_RKO_b",
        "outputId": "6bb44c77-2535-4a47-c26f-ac8bf69c2fe4"
      },
      "outputs": [
        {
          "output_type": "execute_result",
          "data": {
            "text/plain": [
              "((16, 16, 24), numpy.ndarray, 1016)"
            ]
          },
          "metadata": {},
          "execution_count": 63
        }
      ],
      "source": [
        "# Revisamos el dimensionamiento y tipo de un elemento aleatorio en la lista de imágenes\n",
        "indice_imagen_replica = randint(0, len(arreglo_imagenes_replica) - 1)\n",
        "arreglo_imagenes_replica[indice_imagen_replica].shape, type(arreglo_imagenes_replica[0]), indice_imagen_replica"
      ]
    },
    {
      "cell_type": "code",
      "execution_count": null,
      "metadata": {
        "id": "5uu5QIzpLJOR"
      },
      "outputs": [],
      "source": [
        "imagenes_replica_05 = []\n",
        "imagenes_replica_1 = []\n",
        "imagenes_replica_2 = []\n",
        "imagenes_replica_3 = []"
      ]
    },
    {
      "cell_type": "code",
      "execution_count": null,
      "metadata": {
        "id": "LSos69N4LJ-0"
      },
      "outputs": [],
      "source": [
        "for i in indices_05:\n",
        "  for j in arreglo_imagenes_replica[lista_indices[i-1]:lista_indices[i]]:\n",
        "    imagenes_replica_05.append(j)\n",
        "for i in indices_1:\n",
        "  for j in arreglo_imagenes_replica[lista_indices[i-1]:lista_indices[i]]:\n",
        "    imagenes_replica_1.append(j)\n",
        "for i in indices_2:\n",
        "  for j in arreglo_imagenes_replica[lista_indices[i-1]:lista_indices[i]]:\n",
        "    imagenes_replica_2.append(j)\n",
        "for i in indices_3:\n",
        "  for j in arreglo_imagenes_replica[lista_indices[i-1]:lista_indices[i]]:\n",
        "    imagenes_replica_3.append(j)"
      ]
    },
    {
      "cell_type": "code",
      "execution_count": null,
      "metadata": {
        "colab": {
          "base_uri": "https://localhost:8080/"
        },
        "id": "jyqjv4WVLO0_",
        "outputId": "eefd70bc-8f17-42ec-d7d6-4b36397d4752"
      },
      "outputs": [
        {
          "output_type": "execute_result",
          "data": {
            "text/plain": [
              "(320, 320, 320, 320)"
            ]
          },
          "metadata": {},
          "execution_count": 66
        }
      ],
      "source": [
        "len(imagenes_replica_05), len(imagenes_replica_1), len(imagenes_replica_2), len(imagenes_replica_3)"
      ]
    },
    {
      "cell_type": "markdown",
      "metadata": {
        "id": "oecSvhUyKRj0"
      },
      "source": [
        "## Datos Normal"
      ]
    },
    {
      "cell_type": "code",
      "execution_count": null,
      "metadata": {
        "id": "bpV858B-KQsq"
      },
      "outputs": [],
      "source": [
        "# Se crean 2 listas, una asociada al número de experimento y otra asociada al nivel de white noise presente durante el experimento \n",
        "numero_experimentos_normal = []\n",
        "amplitud_experimentos_normal = []"
      ]
    },
    {
      "cell_type": "code",
      "execution_count": null,
      "metadata": {
        "id": "jNHB6YK0KUza"
      },
      "outputs": [],
      "source": [
        "# Iteramos los nombres de los archivos dentro del conjunto que contiene los datos de fisura\n",
        "for nombre_archivo in datos_normal:\n",
        "  # Obtenemos el nombre del experimento\n",
        "  nombre_experimento = nombre_archivo.split('/')[4]\n",
        "  # Obtenemos el número del experimento\n",
        "  numero_experimento = nombre_experimento.split('_')[1]\n",
        "  # Obtenemos el nivel de white noise del experimento\n",
        "  amplitud_experimento = nombre_experimento.split('.')[0].split('_')[2].replace('A', '')\n",
        "  # Agregamos el número del experimento a la lista numero_experimentos_pernoflojo creada anteriormente\n",
        "  numero_experimentos_normal.append(int(numero_experimento))\n",
        "  # Agregamos el nivel de white noise del experimento a la lista amplitud_experimentos_pernoflojo creada anteriormente\n",
        "  if amplitud_experimento == '05':\n",
        "    amplitud_experimento = 0.5\n",
        "    amplitud_experimentos_normal.append(amplitud_experimento)\n",
        "  else:\n",
        "    amplitud_experimentos_normal.append(int(amplitud_experimento))"
      ]
    },
    {
      "cell_type": "code",
      "execution_count": null,
      "metadata": {
        "id": "1FC_LQL5KWqU"
      },
      "outputs": [],
      "source": [
        "# Creamos un DataFrame vacío\n",
        "df_normal = pd.DataFrame()"
      ]
    },
    {
      "cell_type": "code",
      "execution_count": null,
      "metadata": {
        "id": "SAVYECb6KYhK"
      },
      "outputs": [],
      "source": [
        "# Iteramos por rango la lista datos_fisura\n",
        "for indice in range(len(datos_normal)):\n",
        "  # Obtenemos la dirección dentro de la iteración correspondiente\n",
        "  direccion = datos_normal[indice]\n",
        "  # Transformamos el .mat a un formato en el que se pueda transformar a DataFrame\n",
        "  mat = loadmat(direccion)\n",
        "  df = pd.DataFrame(mat['data'])\n",
        "  # Para todos los valores del experimento, creamos columnas en donde sus valores se asocian con el nivel de wn y el # de experimento\n",
        "  df['#_exp'] = numero_experimentos_normal[indice]\n",
        "  df['amplitud'] = amplitud_experimentos_normal[indice]\n",
        "  # Colocamos al final del DataFrame df_fisura creado el nuevo DataFrame \n",
        "  df_normal = pd.concat([df_normal, df], axis = 0)"
      ]
    },
    {
      "cell_type": "code",
      "execution_count": null,
      "metadata": {
        "colab": {
          "base_uri": "https://localhost:8080/",
          "height": 330
        },
        "id": "PjyZxhsgKbK-",
        "outputId": "e8bb0943-ff5b-448d-af39-d13ae09e943f"
      },
      "outputs": [
        {
          "output_type": "execute_result",
          "data": {
            "text/plain": [
              "          0         1         2         3         4         5         6  \\\n",
              "0  0.000164  0.000316  0.000257  0.000163  0.000217  0.000159  0.000133   \n",
              "1  0.000145  0.000225  0.000230  0.000150  0.000207  0.000144  0.000114   \n",
              "2  0.000192  0.000263  0.000266  0.000179  0.000199  0.000202  0.000073   \n",
              "3  0.000182  0.000258  0.000243  0.000177  0.000252  0.000200  0.000122   \n",
              "4  0.000150  0.000261  0.000177  0.000153  0.000195  0.000160  0.000100   \n",
              "5  0.000142  0.000305  0.000240  0.000157  0.000202  0.000155  0.000127   \n",
              "6  0.000137  0.000227  0.000229  0.000136  0.000189  0.000139  0.000080   \n",
              "7  0.000138  0.000244  0.000208  0.000149  0.000181  0.000118  0.000099   \n",
              "\n",
              "          7         8         9  ...        16        17        18        19  \\\n",
              "0  0.000218  0.000316  0.000102  ...  0.000031  0.000106  0.000199  0.000195   \n",
              "1  0.000210  0.000329  0.000157  ...  0.000058  0.000102  0.000273  0.000165   \n",
              "2  0.000173  0.000334  0.000112  ...  0.000009  0.000058  0.000270  0.000182   \n",
              "3  0.000200  0.000348  0.000162  ...  0.000024  0.000067  0.000211  0.000210   \n",
              "4  0.000196  0.000298  0.000116  ... -0.000009  0.000075  0.000197  0.000185   \n",
              "5  0.000224  0.000341  0.000131  ...  0.000056  0.000096  0.000248  0.000136   \n",
              "6  0.000173  0.000335  0.000158  ... -0.000008  0.000092  0.000242  0.000146   \n",
              "7  0.000144  0.000282  0.000162  ...  0.000087  0.000085  0.000183  0.000130   \n",
              "\n",
              "         20        21        22        23  #_exp  amplitud  \n",
              "0  0.000147  0.000097  0.000086 -0.000012      1       0.5  \n",
              "1  0.000207  0.000197  0.000104  0.000011      1       0.5  \n",
              "2  0.000165  0.000172  0.000084 -0.000006      1       0.5  \n",
              "3  0.000136  0.000174  0.000068 -0.000037      1       0.5  \n",
              "4  0.000117  0.000130  0.000027 -0.000029      1       0.5  \n",
              "5  0.000183  0.000220  0.000062 -0.000062      1       0.5  \n",
              "6  0.000136  0.000185  0.000022  0.000015      1       0.5  \n",
              "7  0.000100  0.000147  0.000056 -0.000007      1       0.5  \n",
              "\n",
              "[8 rows x 26 columns]"
            ],
            "text/html": [
              "\n",
              "  <div id=\"df-8f9e2633-9316-435d-942d-625ca9b965b9\">\n",
              "    <div class=\"colab-df-container\">\n",
              "      <div>\n",
              "<style scoped>\n",
              "    .dataframe tbody tr th:only-of-type {\n",
              "        vertical-align: middle;\n",
              "    }\n",
              "\n",
              "    .dataframe tbody tr th {\n",
              "        vertical-align: top;\n",
              "    }\n",
              "\n",
              "    .dataframe thead th {\n",
              "        text-align: right;\n",
              "    }\n",
              "</style>\n",
              "<table border=\"1\" class=\"dataframe\">\n",
              "  <thead>\n",
              "    <tr style=\"text-align: right;\">\n",
              "      <th></th>\n",
              "      <th>0</th>\n",
              "      <th>1</th>\n",
              "      <th>2</th>\n",
              "      <th>3</th>\n",
              "      <th>4</th>\n",
              "      <th>5</th>\n",
              "      <th>6</th>\n",
              "      <th>7</th>\n",
              "      <th>8</th>\n",
              "      <th>9</th>\n",
              "      <th>...</th>\n",
              "      <th>16</th>\n",
              "      <th>17</th>\n",
              "      <th>18</th>\n",
              "      <th>19</th>\n",
              "      <th>20</th>\n",
              "      <th>21</th>\n",
              "      <th>22</th>\n",
              "      <th>23</th>\n",
              "      <th>#_exp</th>\n",
              "      <th>amplitud</th>\n",
              "    </tr>\n",
              "  </thead>\n",
              "  <tbody>\n",
              "    <tr>\n",
              "      <th>0</th>\n",
              "      <td>0.000164</td>\n",
              "      <td>0.000316</td>\n",
              "      <td>0.000257</td>\n",
              "      <td>0.000163</td>\n",
              "      <td>0.000217</td>\n",
              "      <td>0.000159</td>\n",
              "      <td>0.000133</td>\n",
              "      <td>0.000218</td>\n",
              "      <td>0.000316</td>\n",
              "      <td>0.000102</td>\n",
              "      <td>...</td>\n",
              "      <td>0.000031</td>\n",
              "      <td>0.000106</td>\n",
              "      <td>0.000199</td>\n",
              "      <td>0.000195</td>\n",
              "      <td>0.000147</td>\n",
              "      <td>0.000097</td>\n",
              "      <td>0.000086</td>\n",
              "      <td>-0.000012</td>\n",
              "      <td>1</td>\n",
              "      <td>0.5</td>\n",
              "    </tr>\n",
              "    <tr>\n",
              "      <th>1</th>\n",
              "      <td>0.000145</td>\n",
              "      <td>0.000225</td>\n",
              "      <td>0.000230</td>\n",
              "      <td>0.000150</td>\n",
              "      <td>0.000207</td>\n",
              "      <td>0.000144</td>\n",
              "      <td>0.000114</td>\n",
              "      <td>0.000210</td>\n",
              "      <td>0.000329</td>\n",
              "      <td>0.000157</td>\n",
              "      <td>...</td>\n",
              "      <td>0.000058</td>\n",
              "      <td>0.000102</td>\n",
              "      <td>0.000273</td>\n",
              "      <td>0.000165</td>\n",
              "      <td>0.000207</td>\n",
              "      <td>0.000197</td>\n",
              "      <td>0.000104</td>\n",
              "      <td>0.000011</td>\n",
              "      <td>1</td>\n",
              "      <td>0.5</td>\n",
              "    </tr>\n",
              "    <tr>\n",
              "      <th>2</th>\n",
              "      <td>0.000192</td>\n",
              "      <td>0.000263</td>\n",
              "      <td>0.000266</td>\n",
              "      <td>0.000179</td>\n",
              "      <td>0.000199</td>\n",
              "      <td>0.000202</td>\n",
              "      <td>0.000073</td>\n",
              "      <td>0.000173</td>\n",
              "      <td>0.000334</td>\n",
              "      <td>0.000112</td>\n",
              "      <td>...</td>\n",
              "      <td>0.000009</td>\n",
              "      <td>0.000058</td>\n",
              "      <td>0.000270</td>\n",
              "      <td>0.000182</td>\n",
              "      <td>0.000165</td>\n",
              "      <td>0.000172</td>\n",
              "      <td>0.000084</td>\n",
              "      <td>-0.000006</td>\n",
              "      <td>1</td>\n",
              "      <td>0.5</td>\n",
              "    </tr>\n",
              "    <tr>\n",
              "      <th>3</th>\n",
              "      <td>0.000182</td>\n",
              "      <td>0.000258</td>\n",
              "      <td>0.000243</td>\n",
              "      <td>0.000177</td>\n",
              "      <td>0.000252</td>\n",
              "      <td>0.000200</td>\n",
              "      <td>0.000122</td>\n",
              "      <td>0.000200</td>\n",
              "      <td>0.000348</td>\n",
              "      <td>0.000162</td>\n",
              "      <td>...</td>\n",
              "      <td>0.000024</td>\n",
              "      <td>0.000067</td>\n",
              "      <td>0.000211</td>\n",
              "      <td>0.000210</td>\n",
              "      <td>0.000136</td>\n",
              "      <td>0.000174</td>\n",
              "      <td>0.000068</td>\n",
              "      <td>-0.000037</td>\n",
              "      <td>1</td>\n",
              "      <td>0.5</td>\n",
              "    </tr>\n",
              "    <tr>\n",
              "      <th>4</th>\n",
              "      <td>0.000150</td>\n",
              "      <td>0.000261</td>\n",
              "      <td>0.000177</td>\n",
              "      <td>0.000153</td>\n",
              "      <td>0.000195</td>\n",
              "      <td>0.000160</td>\n",
              "      <td>0.000100</td>\n",
              "      <td>0.000196</td>\n",
              "      <td>0.000298</td>\n",
              "      <td>0.000116</td>\n",
              "      <td>...</td>\n",
              "      <td>-0.000009</td>\n",
              "      <td>0.000075</td>\n",
              "      <td>0.000197</td>\n",
              "      <td>0.000185</td>\n",
              "      <td>0.000117</td>\n",
              "      <td>0.000130</td>\n",
              "      <td>0.000027</td>\n",
              "      <td>-0.000029</td>\n",
              "      <td>1</td>\n",
              "      <td>0.5</td>\n",
              "    </tr>\n",
              "    <tr>\n",
              "      <th>5</th>\n",
              "      <td>0.000142</td>\n",
              "      <td>0.000305</td>\n",
              "      <td>0.000240</td>\n",
              "      <td>0.000157</td>\n",
              "      <td>0.000202</td>\n",
              "      <td>0.000155</td>\n",
              "      <td>0.000127</td>\n",
              "      <td>0.000224</td>\n",
              "      <td>0.000341</td>\n",
              "      <td>0.000131</td>\n",
              "      <td>...</td>\n",
              "      <td>0.000056</td>\n",
              "      <td>0.000096</td>\n",
              "      <td>0.000248</td>\n",
              "      <td>0.000136</td>\n",
              "      <td>0.000183</td>\n",
              "      <td>0.000220</td>\n",
              "      <td>0.000062</td>\n",
              "      <td>-0.000062</td>\n",
              "      <td>1</td>\n",
              "      <td>0.5</td>\n",
              "    </tr>\n",
              "    <tr>\n",
              "      <th>6</th>\n",
              "      <td>0.000137</td>\n",
              "      <td>0.000227</td>\n",
              "      <td>0.000229</td>\n",
              "      <td>0.000136</td>\n",
              "      <td>0.000189</td>\n",
              "      <td>0.000139</td>\n",
              "      <td>0.000080</td>\n",
              "      <td>0.000173</td>\n",
              "      <td>0.000335</td>\n",
              "      <td>0.000158</td>\n",
              "      <td>...</td>\n",
              "      <td>-0.000008</td>\n",
              "      <td>0.000092</td>\n",
              "      <td>0.000242</td>\n",
              "      <td>0.000146</td>\n",
              "      <td>0.000136</td>\n",
              "      <td>0.000185</td>\n",
              "      <td>0.000022</td>\n",
              "      <td>0.000015</td>\n",
              "      <td>1</td>\n",
              "      <td>0.5</td>\n",
              "    </tr>\n",
              "    <tr>\n",
              "      <th>7</th>\n",
              "      <td>0.000138</td>\n",
              "      <td>0.000244</td>\n",
              "      <td>0.000208</td>\n",
              "      <td>0.000149</td>\n",
              "      <td>0.000181</td>\n",
              "      <td>0.000118</td>\n",
              "      <td>0.000099</td>\n",
              "      <td>0.000144</td>\n",
              "      <td>0.000282</td>\n",
              "      <td>0.000162</td>\n",
              "      <td>...</td>\n",
              "      <td>0.000087</td>\n",
              "      <td>0.000085</td>\n",
              "      <td>0.000183</td>\n",
              "      <td>0.000130</td>\n",
              "      <td>0.000100</td>\n",
              "      <td>0.000147</td>\n",
              "      <td>0.000056</td>\n",
              "      <td>-0.000007</td>\n",
              "      <td>1</td>\n",
              "      <td>0.5</td>\n",
              "    </tr>\n",
              "  </tbody>\n",
              "</table>\n",
              "<p>8 rows × 26 columns</p>\n",
              "</div>\n",
              "      <button class=\"colab-df-convert\" onclick=\"convertToInteractive('df-8f9e2633-9316-435d-942d-625ca9b965b9')\"\n",
              "              title=\"Convert this dataframe to an interactive table.\"\n",
              "              style=\"display:none;\">\n",
              "        \n",
              "  <svg xmlns=\"http://www.w3.org/2000/svg\" height=\"24px\"viewBox=\"0 0 24 24\"\n",
              "       width=\"24px\">\n",
              "    <path d=\"M0 0h24v24H0V0z\" fill=\"none\"/>\n",
              "    <path d=\"M18.56 5.44l.94 2.06.94-2.06 2.06-.94-2.06-.94-.94-2.06-.94 2.06-2.06.94zm-11 1L8.5 8.5l.94-2.06 2.06-.94-2.06-.94L8.5 2.5l-.94 2.06-2.06.94zm10 10l.94 2.06.94-2.06 2.06-.94-2.06-.94-.94-2.06-.94 2.06-2.06.94z\"/><path d=\"M17.41 7.96l-1.37-1.37c-.4-.4-.92-.59-1.43-.59-.52 0-1.04.2-1.43.59L10.3 9.45l-7.72 7.72c-.78.78-.78 2.05 0 2.83L4 21.41c.39.39.9.59 1.41.59.51 0 1.02-.2 1.41-.59l7.78-7.78 2.81-2.81c.8-.78.8-2.07 0-2.86zM5.41 20L4 18.59l7.72-7.72 1.47 1.35L5.41 20z\"/>\n",
              "  </svg>\n",
              "      </button>\n",
              "      \n",
              "  <style>\n",
              "    .colab-df-container {\n",
              "      display:flex;\n",
              "      flex-wrap:wrap;\n",
              "      gap: 12px;\n",
              "    }\n",
              "\n",
              "    .colab-df-convert {\n",
              "      background-color: #E8F0FE;\n",
              "      border: none;\n",
              "      border-radius: 50%;\n",
              "      cursor: pointer;\n",
              "      display: none;\n",
              "      fill: #1967D2;\n",
              "      height: 32px;\n",
              "      padding: 0 0 0 0;\n",
              "      width: 32px;\n",
              "    }\n",
              "\n",
              "    .colab-df-convert:hover {\n",
              "      background-color: #E2EBFA;\n",
              "      box-shadow: 0px 1px 2px rgba(60, 64, 67, 0.3), 0px 1px 3px 1px rgba(60, 64, 67, 0.15);\n",
              "      fill: #174EA6;\n",
              "    }\n",
              "\n",
              "    [theme=dark] .colab-df-convert {\n",
              "      background-color: #3B4455;\n",
              "      fill: #D2E3FC;\n",
              "    }\n",
              "\n",
              "    [theme=dark] .colab-df-convert:hover {\n",
              "      background-color: #434B5C;\n",
              "      box-shadow: 0px 1px 3px 1px rgba(0, 0, 0, 0.15);\n",
              "      filter: drop-shadow(0px 1px 2px rgba(0, 0, 0, 0.3));\n",
              "      fill: #FFFFFF;\n",
              "    }\n",
              "  </style>\n",
              "\n",
              "      <script>\n",
              "        const buttonEl =\n",
              "          document.querySelector('#df-8f9e2633-9316-435d-942d-625ca9b965b9 button.colab-df-convert');\n",
              "        buttonEl.style.display =\n",
              "          google.colab.kernel.accessAllowed ? 'block' : 'none';\n",
              "\n",
              "        async function convertToInteractive(key) {\n",
              "          const element = document.querySelector('#df-8f9e2633-9316-435d-942d-625ca9b965b9');\n",
              "          const dataTable =\n",
              "            await google.colab.kernel.invokeFunction('convertToInteractive',\n",
              "                                                     [key], {});\n",
              "          if (!dataTable) return;\n",
              "\n",
              "          const docLinkHtml = 'Like what you see? Visit the ' +\n",
              "            '<a target=\"_blank\" href=https://colab.research.google.com/notebooks/data_table.ipynb>data table notebook</a>'\n",
              "            + ' to learn more about interactive tables.';\n",
              "          element.innerHTML = '';\n",
              "          dataTable['output_type'] = 'display_data';\n",
              "          await google.colab.output.renderOutput(dataTable, element);\n",
              "          const docLink = document.createElement('div');\n",
              "          docLink.innerHTML = docLinkHtml;\n",
              "          element.appendChild(docLink);\n",
              "        }\n",
              "      </script>\n",
              "    </div>\n",
              "  </div>\n",
              "  "
            ]
          },
          "metadata": {},
          "execution_count": 71
        }
      ],
      "source": [
        "# Revisamos el conjunto de datos obtenido para pernoflojo\n",
        "df_normal.head(8)"
      ]
    },
    {
      "cell_type": "code",
      "execution_count": null,
      "metadata": {
        "colab": {
          "base_uri": "https://localhost:8080/"
        },
        "id": "x-Ah6HHVKcmO",
        "outputId": "b672611c-34c9-4982-cf2a-7a6b5511cc9f"
      },
      "outputs": [
        {
          "output_type": "execute_result",
          "data": {
            "text/plain": [
              "40.0"
            ]
          },
          "metadata": {},
          "execution_count": 72
        }
      ],
      "source": [
        "# Si dividimos para 99097 el df_pernoflojo deberíamos obtener 20 experimentos en total NO SABEMOS TODAVIA\n",
        "len(df_normal)/99097"
      ]
    },
    {
      "cell_type": "code",
      "execution_count": null,
      "metadata": {
        "id": "H23sUieUKeHg"
      },
      "outputs": [],
      "source": [
        "# Establecemos 2 listas, una con los posibles experimentos y otra con los posibles niveles de white noise, lo cual nos ayudará a segmentar los datos\n",
        "experimentosn = [1, 2, 3, 4, 5, 6, 7, 8, 9, 10]\n",
        "wns = [0.5, 1, 2, 3]\n",
        "# Creamos una lista en donde pondremos todas las imágenes creadas, segmentadas por experimento y white noise\n",
        "arreglo_imagenes_por_experimento_normal = []\n",
        "\n",
        "# Iteramos por experimento y por nivel de white noise\n",
        "for i in experimentosn:\n",
        "  for j in wns:\n",
        "    # Creamos filtros que nos permiten identificar el experimento por su número asociado y por su nivel de white noise dentro del conjunto de datos\n",
        "    filter1 = df_normal[\"#_exp\"] == i\n",
        "    filter2 = df_normal[\"amplitud\"] == j\n",
        "    # Filtramos y deshacemos las filas que no corresponden a la búsqueda\n",
        "    dataset_experimento = df_normal.where(filter1 & filter2).dropna()\n",
        "    # Creamos arreglo en donde almacenaremos listas de imágenes asociadas a cada columna en un experimento individual\n",
        "    arreglo_matrices_asociadas = []\n",
        "\n",
        "    # En el conjunto filtrado, iteramos por cada columna (de la columna 0 a la 23)\n",
        "    for n in range(24):\n",
        "      # Establecemos un límite inferior y un límite superior\n",
        "      indice_inicio = 0\n",
        "      indice_fin = 256\n",
        "      # Del conjunto filtrado, obtenemos un subconjunto con muestras cada 6 pasos\n",
        "      columna_cada_6 = dataset_experimento[n][::6]\n",
        "      # Creamos una lista en donde guardaremos todas las imágenes creadas dentro de la columna en la que se esta iterando\n",
        "      matrices_columna = []\n",
        "    \n",
        "      # Recorremos en valores de 256 la columna del subconjunto creado para generar las imágenes 16x16 correspondientes \n",
        "      while indice_fin < len(columna_cada_6):\n",
        "        # Guardamos el conjunto de 256 datos dentro de un arreglo\n",
        "        vector = columna_cada_6[indice_inicio:indice_fin]\n",
        "        # Redimensionamos el arreglo (de 1x256 a 16x16)\n",
        "        matriz = vector.to_numpy().reshape((16, 16))\n",
        "        # Agregamos la imagen dentro de la lista matrices_columna\n",
        "        matrices_columna.append(matriz)\n",
        "        # Establecemos el nuevo límite inferior y superior en donde se encontrarán los datos de mi nueva imagen 16x16\n",
        "        indice_inicio = indice_fin\n",
        "        indice_fin = indice_fin + 256\n",
        "      \n",
        "      # Agregamos las listas de imágenes 16x16 asociadas a una columna a arreglo_matrices_asociadas\n",
        "      arreglo_matrices_asociadas.append(matrices_columna)\n",
        "    \n",
        "    # Agregamos arreglo_matrices_asociadas a arreglos_imagenes_por_experimento, en donde tenemos listas de listas asociadas a un experimento individual\n",
        "    arreglo_imagenes_por_experimento_normal.append(arreglo_matrices_asociadas)"
      ]
    },
    {
      "cell_type": "code",
      "execution_count": null,
      "metadata": {
        "colab": {
          "base_uri": "https://localhost:8080/"
        },
        "id": "8dv_fI1kKgJq",
        "outputId": "c50d04e7-b70e-4c3e-fdae-d366d21e2722"
      },
      "outputs": [
        {
          "output_type": "execute_result",
          "data": {
            "text/plain": [
              "40"
            ]
          },
          "metadata": {},
          "execution_count": 74
        }
      ],
      "source": [
        "len(arreglo_imagenes_por_experimento_normal)"
      ]
    },
    {
      "cell_type": "code",
      "execution_count": null,
      "metadata": {
        "colab": {
          "base_uri": "https://localhost:8080/"
        },
        "id": "8O4MtiKEKiB8",
        "outputId": "b573442b-d78c-4a65-e18b-a36bf07b74f0"
      },
      "outputs": [
        {
          "output_type": "execute_result",
          "data": {
            "text/plain": [
              "24"
            ]
          },
          "metadata": {},
          "execution_count": 75
        }
      ],
      "source": [
        "len(arreglo_imagenes_por_experimento_normal[0])"
      ]
    },
    {
      "cell_type": "code",
      "execution_count": null,
      "metadata": {
        "colab": {
          "base_uri": "https://localhost:8080/"
        },
        "id": "Sra_IZ-vKkbw",
        "outputId": "8830f58c-6683-47f0-cee7-850a4b7ffa00"
      },
      "outputs": [
        {
          "output_type": "execute_result",
          "data": {
            "text/plain": [
              "64"
            ]
          },
          "metadata": {},
          "execution_count": 76
        }
      ],
      "source": [
        "len(arreglo_imagenes_por_experimento_normal[0][0])"
      ]
    },
    {
      "cell_type": "code",
      "execution_count": null,
      "metadata": {
        "colab": {
          "base_uri": "https://localhost:8080/"
        },
        "id": "KmJRg2R7Kk6Y",
        "outputId": "cbe188a2-0c20-44bb-e322-5203dc564aab"
      },
      "outputs": [
        {
          "output_type": "execute_result",
          "data": {
            "text/plain": [
              "256"
            ]
          },
          "metadata": {},
          "execution_count": 77
        }
      ],
      "source": [
        "arreglo_imagenes_por_experimento_normal[0][0][0].size"
      ]
    },
    {
      "cell_type": "code",
      "execution_count": null,
      "metadata": {
        "colab": {
          "base_uri": "https://localhost:8080/"
        },
        "id": "qFYhOrOJKmpP",
        "outputId": "ea3b1ece-031c-48f0-aa8a-ca7dfaf02b91"
      },
      "outputs": [
        {
          "output_type": "execute_result",
          "data": {
            "text/plain": [
              "(16, 16)"
            ]
          },
          "metadata": {},
          "execution_count": 78
        }
      ],
      "source": [
        "arreglo_imagenes_por_experimento_normal[0][0][0].shape"
      ]
    },
    {
      "cell_type": "code",
      "execution_count": null,
      "metadata": {
        "id": "OZZNz1bYKozn"
      },
      "outputs": [],
      "source": [
        "# Creamos un arreglos general para todas las imágenes de dimensionamiento (24, 16, 16)\n",
        "arreglo_imagenes_normal = []\n",
        "\n",
        "# Iteramos cada experimento en la lista de experimentos creada previamente\n",
        "for experimento_i in arreglo_imagenes_por_experimento_normal:\n",
        "  # Iteramos en un rango de 64 para usarlo posteriormente\n",
        "  for idx in range(64):\n",
        "    # Para cada iteración se crea el arreglo en donde se agregaran las capas correctas de la imagen de dimensionamniento (24, 16, 16)\n",
        "    imagen = []\n",
        "    # Iteramos para cada fila en el experimento (son 24 filas)\n",
        "    for fila in experimento_i:\n",
        "      # Asociamos por índice los valores de cada lista de imágenes para establecer la relación correcta y agregamos al arreglo creado\n",
        "      capa_imagen = fila[idx]\n",
        "      imagen.append(capa_imagen)\n",
        "\n",
        "    # Transformamos la lista de 24 capas a un arreglo numérico\n",
        "    arreglo_imagenes_normal.append(np.dstack(imagen))"
      ]
    },
    {
      "cell_type": "code",
      "execution_count": null,
      "metadata": {
        "colab": {
          "base_uri": "https://localhost:8080/"
        },
        "id": "n4kRhY6WKqrX",
        "outputId": "23158939-bcb7-46be-c779-876bea85ca4c"
      },
      "outputs": [
        {
          "output_type": "execute_result",
          "data": {
            "text/plain": [
              "2560"
            ]
          },
          "metadata": {},
          "execution_count": 80
        }
      ],
      "source": [
        "# Revisamos el número de imágenes creadas\n",
        "len(arreglo_imagenes_normal)"
      ]
    },
    {
      "cell_type": "code",
      "execution_count": null,
      "metadata": {
        "colab": {
          "base_uri": "https://localhost:8080/"
        },
        "id": "qY2fP0bKKsfl",
        "outputId": "9b1237d7-e04c-4d0d-eb6b-8bf2d35cfb1f"
      },
      "outputs": [
        {
          "output_type": "execute_result",
          "data": {
            "text/plain": [
              "((16, 16, 24), numpy.ndarray, 289)"
            ]
          },
          "metadata": {},
          "execution_count": 81
        }
      ],
      "source": [
        "# Revisamos el dimensionamiento y tipo de un elemento aleatorio en la lista de imágenes\n",
        "indice_imagen_normal = randint(0, len(arreglo_imagenes_normal) - 1)\n",
        "arreglo_imagenes_normal[indice_imagen_normal].shape, type(arreglo_imagenes_normal[0]), indice_imagen_normal"
      ]
    },
    {
      "cell_type": "code",
      "execution_count": null,
      "metadata": {
        "id": "3AkqlS-8LsNO"
      },
      "outputs": [],
      "source": [
        "arreglo_imagenes_normal_1 = arreglo_imagenes_normal[:1280]\n",
        "arreglo_imagenes_normal_2 = arreglo_imagenes_normal[1280:]"
      ]
    },
    {
      "cell_type": "code",
      "execution_count": null,
      "metadata": {
        "id": "xbO72XUaL_Fi"
      },
      "outputs": [],
      "source": [
        "imagenes_normal_05 = []\n",
        "imagenes_normal_1 = []\n",
        "imagenes_normal_2 = []\n",
        "imagenes_normal_3 = []"
      ]
    },
    {
      "cell_type": "code",
      "execution_count": null,
      "metadata": {
        "id": "H6NqBifkMEtm"
      },
      "outputs": [],
      "source": [
        "for i in indices_05:\n",
        "  for j in arreglo_imagenes_normal_1[lista_indices[i-1]:lista_indices[i]]:\n",
        "    imagenes_normal_05.append(j)\n",
        "for i in indices_1:\n",
        "  for j in arreglo_imagenes_normal_1[lista_indices[i-1]:lista_indices[i]]:\n",
        "    imagenes_normal_1.append(j)\n",
        "for i in indices_2:\n",
        "  for j in arreglo_imagenes_normal_1[lista_indices[i-1]:lista_indices[i]]:\n",
        "    imagenes_normal_2.append(j)\n",
        "for i in indices_3:\n",
        "  for j in arreglo_imagenes_normal_1[lista_indices[i-1]:lista_indices[i]]:\n",
        "    imagenes_normal_3.append(j)"
      ]
    },
    {
      "cell_type": "code",
      "execution_count": null,
      "metadata": {
        "id": "iqMjmh5CMWa5"
      },
      "outputs": [],
      "source": [
        "for i in indices_05:\n",
        "  for j in arreglo_imagenes_normal_2[lista_indices[i-1]:lista_indices[i]]:\n",
        "    imagenes_normal_05.append(j)\n",
        "for i in indices_1:\n",
        "  for j in arreglo_imagenes_normal_2[lista_indices[i-1]:lista_indices[i]]:\n",
        "    imagenes_normal_1.append(j)\n",
        "for i in indices_2:\n",
        "  for j in arreglo_imagenes_normal_2[lista_indices[i-1]:lista_indices[i]]:\n",
        "    imagenes_normal_2.append(j)\n",
        "for i in indices_3:\n",
        "  for j in arreglo_imagenes_normal_2[lista_indices[i-1]:lista_indices[i]]:\n",
        "    imagenes_normal_3.append(j)"
      ]
    },
    {
      "cell_type": "code",
      "execution_count": null,
      "metadata": {
        "colab": {
          "base_uri": "https://localhost:8080/"
        },
        "id": "9Hm1MdepMZTH",
        "outputId": "3adc5f35-db2d-4ae0-ea8b-53cbaac72594"
      },
      "outputs": [
        {
          "output_type": "execute_result",
          "data": {
            "text/plain": [
              "(640, 640, 640, 640)"
            ]
          },
          "metadata": {},
          "execution_count": 86
        }
      ],
      "source": [
        "len(imagenes_normal_05), len(imagenes_normal_1), len(imagenes_normal_2), len(imagenes_normal_3)"
      ]
    },
    {
      "cell_type": "markdown",
      "metadata": {
        "id": "B-kHBq5MLqK3"
      },
      "source": [
        "## Aleatorizar"
      ]
    },
    {
      "cell_type": "code",
      "execution_count": null,
      "metadata": {
        "id": "HaUUng5JMqe4"
      },
      "outputs": [],
      "source": [
        "np.random.seed(300)\n",
        "\n",
        "aleatorizadas_imagenes_fisura_05 = imagenes_fisura_05\n",
        "aleatorizadas_imagenes_fisura_1 = imagenes_fisura_1\n",
        "aleatorizadas_imagenes_fisura_2 = imagenes_fisura_2\n",
        "aleatorizadas_imagenes_fisura_3 = imagenes_fisura_3\n",
        "\n",
        "aleatorizadas_imagenes_pernoflojo_05 = imagenes_pernoflojo_05\n",
        "aleatorizadas_imagenes_pernoflojo_1 = imagenes_pernoflojo_1\n",
        "aleatorizadas_imagenes_pernoflojo_2 = imagenes_pernoflojo_2\n",
        "aleatorizadas_imagenes_pernoflojo_3 = imagenes_pernoflojo_3\n",
        "\n",
        "aleatorizadas_imagenes_replica_05 = imagenes_replica_05\n",
        "aleatorizadas_imagenes_replica_1 = imagenes_replica_1\n",
        "aleatorizadas_imagenes_replica_2 = imagenes_replica_2\n",
        "aleatorizadas_imagenes_replica_3 = imagenes_replica_3\n",
        "\n",
        "aleatorizadas_imagenes_normal_05 = imagenes_normal_05\n",
        "aleatorizadas_imagenes_normal_1 = imagenes_normal_1\n",
        "aleatorizadas_imagenes_normal_2 = imagenes_normal_2\n",
        "aleatorizadas_imagenes_normal_3 = imagenes_normal_3\n",
        "\n",
        "np.random.shuffle(aleatorizadas_imagenes_fisura_05)\n",
        "np.random.shuffle(aleatorizadas_imagenes_fisura_1)\n",
        "np.random.shuffle(aleatorizadas_imagenes_fisura_2)\n",
        "np.random.shuffle(aleatorizadas_imagenes_fisura_3)\n",
        "\n",
        "np.random.shuffle(aleatorizadas_imagenes_pernoflojo_05)\n",
        "np.random.shuffle(aleatorizadas_imagenes_pernoflojo_1)\n",
        "np.random.shuffle(aleatorizadas_imagenes_pernoflojo_2)\n",
        "np.random.shuffle(aleatorizadas_imagenes_pernoflojo_3)\n",
        "\n",
        "np.random.shuffle(aleatorizadas_imagenes_replica_05)\n",
        "np.random.shuffle(aleatorizadas_imagenes_replica_1)\n",
        "np.random.shuffle(aleatorizadas_imagenes_replica_2)\n",
        "np.random.shuffle(aleatorizadas_imagenes_replica_3)\n",
        "\n",
        "np.random.shuffle(aleatorizadas_imagenes_normal_05)\n",
        "np.random.shuffle(aleatorizadas_imagenes_normal_1)\n",
        "np.random.shuffle(aleatorizadas_imagenes_normal_2)\n",
        "np.random.shuffle(aleatorizadas_imagenes_normal_3)"
      ]
    },
    {
      "cell_type": "code",
      "execution_count": null,
      "metadata": {
        "id": "UEuZqWtBOnzI"
      },
      "outputs": [],
      "source": [
        "lista_listas_imagenes_fallos = [aleatorizadas_imagenes_fisura_05, aleatorizadas_imagenes_fisura_1, aleatorizadas_imagenes_fisura_2, aleatorizadas_imagenes_fisura_3, aleatorizadas_imagenes_pernoflojo_05, aleatorizadas_imagenes_pernoflojo_1, aleatorizadas_imagenes_pernoflojo_2, aleatorizadas_imagenes_pernoflojo_3]\n",
        "lista_listas_imagenes_sano = [aleatorizadas_imagenes_replica_05, aleatorizadas_imagenes_replica_1, aleatorizadas_imagenes_replica_2, aleatorizadas_imagenes_replica_3, aleatorizadas_imagenes_normal_05, aleatorizadas_imagenes_normal_1, aleatorizadas_imagenes_normal_2, aleatorizadas_imagenes_normal_3]"
      ]
    },
    {
      "cell_type": "code",
      "execution_count": null,
      "metadata": {
        "colab": {
          "base_uri": "https://localhost:8080/"
        },
        "id": "H5S0dV0P9G79",
        "outputId": "2cdc576c-2852-4e66-e3ce-9cc46256f452"
      },
      "outputs": [
        {
          "output_type": "execute_result",
          "data": {
            "text/plain": [
              "(320, 640)"
            ]
          },
          "metadata": {},
          "execution_count": 89
        }
      ],
      "source": [
        "len(aleatorizadas_imagenes_fisura_05), len(aleatorizadas_imagenes_normal_05)"
      ]
    },
    {
      "cell_type": "markdown",
      "metadata": {
        "id": "M8J7GeLOQOlL"
      },
      "source": [
        "## Segmentar datos en entrenamiento, validación y prueba"
      ]
    },
    {
      "cell_type": "code",
      "execution_count": null,
      "metadata": {
        "id": "DmHFPLzDQAoE"
      },
      "outputs": [],
      "source": [
        "conjunto_entrenamiento_fallos = []\n",
        "conjunto_validacion_fallos = []\n",
        "conjunto_prueba_fallos = []\n",
        "\n",
        "conjunto_entrenamiento_sano = []\n",
        "conjunto_validacion_sano = []\n",
        "conjunto_prueba_sano = []"
      ]
    },
    {
      "cell_type": "code",
      "execution_count": null,
      "metadata": {
        "id": "KnANjKicQfJt"
      },
      "outputs": [],
      "source": [
        "for lista in lista_listas_imagenes_fallos:\n",
        "  for imagen_entrenamiento in lista[:int(len(lista)*0.7)]:\n",
        "    conjunto_entrenamiento_fallos.append(imagen_entrenamiento)\n",
        "  for imagen_validacion in lista[int(len(lista)*0.7):int(len(lista)*0.7) + int(len(lista)*0.15)]:\n",
        "    conjunto_validacion_fallos.append(imagen_validacion)\n",
        "  for imagen_prueba in lista[int(len(lista)*0.7) + int(len(lista)*0.15):]:\n",
        "    conjunto_prueba_fallos.append(imagen_prueba)\n",
        "\n",
        "for lista in lista_listas_imagenes_sano:\n",
        "  for imagen_entrenamiento in lista[:int(len(lista)*0.7)]:\n",
        "    conjunto_entrenamiento_sano.append(imagen_entrenamiento)\n",
        "  for imagen_validacion in lista[int(len(lista)*0.7):int(len(lista)*0.7) + int(len(lista)*0.15)]:\n",
        "    conjunto_validacion_sano.append(imagen_validacion)\n",
        "  for imagen_prueba in lista[int(len(lista)*0.7) + int(len(lista)*0.15):]:\n",
        "    conjunto_prueba_sano.append(imagen_prueba)"
      ]
    },
    {
      "cell_type": "code",
      "execution_count": null,
      "metadata": {
        "colab": {
          "base_uri": "https://localhost:8080/"
        },
        "id": "iy9JTc14RKeo",
        "outputId": "2ce60734-d637-455f-88d5-56c7ee7c69da"
      },
      "outputs": [
        {
          "output_type": "execute_result",
          "data": {
            "text/plain": [
              "(1792, 384, 384)"
            ]
          },
          "metadata": {},
          "execution_count": 92
        }
      ],
      "source": [
        "len(conjunto_entrenamiento_fallos), len(conjunto_validacion_fallos), len(conjunto_prueba_fallos)"
      ]
    },
    {
      "cell_type": "code",
      "execution_count": null,
      "metadata": {
        "colab": {
          "base_uri": "https://localhost:8080/"
        },
        "id": "Tjcp8ROZRVOc",
        "outputId": "a144ac34-e75b-4182-acda-a228842dcf54"
      },
      "outputs": [
        {
          "output_type": "execute_result",
          "data": {
            "text/plain": [
              "(2688, 576, 576)"
            ]
          },
          "metadata": {},
          "execution_count": 93
        }
      ],
      "source": [
        "len(conjunto_entrenamiento_sano), len(conjunto_validacion_sano), len(conjunto_prueba_sano)"
      ]
    },
    {
      "cell_type": "code",
      "execution_count": null,
      "metadata": {
        "colab": {
          "base_uri": "https://localhost:8080/"
        },
        "id": "HJ-uMS2dWn-U",
        "outputId": "fb70ed06-0227-4313-d915-9a33afc46440"
      },
      "outputs": [
        {
          "output_type": "execute_result",
          "data": {
            "text/plain": [
              "896"
            ]
          },
          "metadata": {},
          "execution_count": 94
        }
      ],
      "source": [
        "len(conjunto_entrenamiento_sano) - len(conjunto_entrenamiento_fallos)"
      ]
    },
    {
      "cell_type": "markdown",
      "metadata": {
        "id": "WhG8mJz4K2_r"
      },
      "source": [
        "## Red Siamesa"
      ]
    },
    {
      "cell_type": "code",
      "execution_count": null,
      "metadata": {
        "id": "h00AKPXySdcW"
      },
      "outputs": [],
      "source": [
        "def crear_pares(arreglo_imagenes_fallos, arreglo_imagenes_sano):\n",
        "  \"\"\"\n",
        "  Función empleada para crear los pares de imágenes que se utilizan\n",
        "  para el entrenamiento de la SNN.\n",
        "  \"\"\"\n",
        "  random.seed(100)\n",
        "  print(\"Creando pares...\")\n",
        "  # Creamos arreglo en donde se insertarán los pares (positivos y negativos)\n",
        "  pares_img = []\n",
        "  # Creamos arreglo en donde se insertarán la clasificación de los pares (similares = 1, no similares = 0)\n",
        "  pares_label = []\n",
        "\n",
        "  # Recorremos el arreglo de imágenes de fisura y por cada imagen recorrida creamos un par positivo y uno negativo\n",
        "  for imagen_fallo in arreglo_imagenes_fallos:\n",
        "\n",
        "    # La imagen positiva será un dato aleatorio perteneciente al arreglo de la misma clase (fisura)\n",
        "    imagen_positiva_fallo = random.choice(arreglo_imagenes_fallos)\n",
        "    # La imagen negativa será un dato aleatorio perteneciente al arreglo de la otra clase (perno flojo)\n",
        "    imagen_negativa_fallo = random.choice(arreglo_imagenes_sano)\n",
        "\n",
        "    # Agregamos el par de imagenes positivas al arreglo de pares de imagenes\n",
        "    pares_img.append([imagen_fallo, imagen_positiva_fallo])\n",
        "    # Agregamos el label correspondiente a un par de imágenes positivas (1)\n",
        "    pares_label.append([1])\n",
        "\n",
        "    # Agregamos el par de imagenes negativas al arreglo de pares de imagenes\n",
        "    pares_img.append([imagen_fallo, imagen_negativa_fallo])\n",
        "    # Agregamos el label correspondiente a un par de imágenes negativas (0)\n",
        "    pares_label.append([0])\n",
        "\n",
        "  # Recorremos el arreglo de imágenes de fisura y por cada imagen recorrida creamos un par positivo y uno negativo\n",
        "  for imagen_sano in arreglo_imagenes_sano:\n",
        "\n",
        "    # La imagen positiva será un dato aleatorio perteneciente al arreglo de la misma clase (perno flojo)\n",
        "    imagen_positiva_sano = random.choice(arreglo_imagenes_sano)\n",
        "    # La imagen negativa será un dato aleatorio perteneciente al arreglo de la otra clase (fisura)\n",
        "    imagen_negativa_sano = random.choice(arreglo_imagenes_fallos)\n",
        "\n",
        "    # Agregamos el par de imagenes positivas al arreglo de pares de imagenes\n",
        "    pares_img.append([imagen_sano, imagen_positiva_sano])\n",
        "    # Agregamos el label correspondiente a un par de imágenes positivas (1)\n",
        "    pares_label.append([1])\n",
        "\n",
        "    # Agregamos el par de imagenes negativas al arreglo de pares de imagenes\n",
        "    pares_img.append([imagen_sano, imagen_negativa_sano])\n",
        "    # Agregamos el label correspondiente a un par de imágenes negativas (0)\n",
        "    pares_label.append([0])\n",
        "\n",
        "  for indice_imagen_fallo in range(len(arreglo_imagenes_sano)-len(arreglo_imagenes_fallos)):\n",
        "\n",
        "    # La imagen positiva será un dato aleatorio perteneciente al arreglo de la misma clase (fisura)\n",
        "    imagen_positiva_fallo = random.choice(arreglo_imagenes_fallos)\n",
        "    # La imagen negativa será un dato aleatorio perteneciente al arreglo de la otra clase (perno flojo)\n",
        "    imagen_negativa_fallo = random.choice(arreglo_imagenes_sano)\n",
        "\n",
        "    # Agregamos el par de imagenes positivas al arreglo de pares de imagenes\n",
        "    pares_img.append([arreglo_imagenes_fallos[i], imagen_positiva_fallo])\n",
        "    # Agregamos el label correspondiente a un par de imágenes positivas (1)\n",
        "    pares_label.append([1])\n",
        "\n",
        "    # Agregamos el par de imagenes negativas al arreglo de pares de imagenes\n",
        "    pares_img.append([arreglo_imagenes_fallos[i], imagen_negativa_fallo])\n",
        "    # Agregamos el label correspondiente a un par de imágenes negativas (0)\n",
        "    pares_label.append([0])\n",
        "  \n",
        "  print(\"Pares creados.\")\n",
        "\n",
        "  return (np.array(pares_img), np.array(pares_label))"
      ]
    },
    {
      "cell_type": "code",
      "execution_count": null,
      "metadata": {
        "id": "d09aUjZgRiS3"
      },
      "outputs": [],
      "source": [
        "def euclidean_distance(vectors):\n",
        "  \n",
        "  # Descomprimimos los vectores en listas separadas\n",
        "  (featsA, featsB) = vectors\n",
        "\n",
        "  # Realizamos la suma de las diferenias cuadradas entre vectores\n",
        "  sumSquared = K.sum(K.square(featsA - featsB), axis=1, keepdims=True)\n",
        "\n",
        "  # Retornamos la distancia euclidiana\n",
        "  return K.sqrt(K.maximum(sumSquared, K.epsilon()))"
      ]
    },
    {
      "cell_type": "code",
      "execution_count": null,
      "metadata": {
        "id": "kZu9BpNhRk3r"
      },
      "outputs": [],
      "source": [
        "# Definimos función de visualización de pérdidas\n",
        "\n",
        "def graficar_curva_perdidas(history):\n",
        "\n",
        "  font_label = {'family': 'serif',\n",
        "      'color':  'black',\n",
        "      'weight': 'normal',\n",
        "      'size': 18,\n",
        "  }\n",
        "\n",
        "  \"\"\"\n",
        "  Función utilizada para visualizar la historia de nuestro modelo.\n",
        "  Incluye pérdidas y precisión a lo largo de cada iteración.\n",
        "  \"\"\"\n",
        "  # Obtenemos las pérdidas de los conjuntos de entrenamiento y validación\n",
        "  loss = history.history['loss']\n",
        "  val_loss = history.history['val_loss']\n",
        "\n",
        "  # Obtenemos la precisión de los conjuntos de entrenamiento y validación\n",
        "  accuracy = history.history['accuracy']\n",
        "  val_accuracy = history.history['val_accuracy']\n",
        "\n",
        "  # Determinamos las iteraciones que hubo durante el entrenamiento\n",
        "  epochs = range(len(history.history['loss']))\n",
        "\n",
        "  # Graficamos las pérdidas de ambos conjuntos a lo largo de las iteraciones\n",
        "  plt.plot(epochs, loss, label='training', linewidth=3)\n",
        "  plt.plot(epochs, val_loss, label='validation', linewidth=3)\n",
        "  plt.title('loss', fontdict=font_label)\n",
        "  plt.xlabel('epochs', fontdict=font_label)\n",
        "  plt.legend()\n",
        "\n",
        "  # Graficamos la precisión de ambos conjuntos a lo largo de las iteraciones\n",
        "  #plt.figure()\n",
        "  #plt.plot(epochs, accuracy, label='training', linewidth=3)\n",
        "  #plt.plot(epochs, val_accuracy, label='validation', linewidth=3)\n",
        "  #plt.title('accuracy', fontweight=\"normal\", fontsize=16)\n",
        "  #plt.xlabel('epochs', fontweight=\"normal\", fontsize=16)\n",
        "  #plt.legend()"
      ]
    },
    {
      "cell_type": "code",
      "execution_count": null,
      "metadata": {
        "colab": {
          "base_uri": "https://localhost:8080/"
        },
        "id": "Vd-j0OA_RoBJ",
        "outputId": "e8b26028-a65a-4cf9-f863-ba5b82f7f1fe"
      },
      "outputs": [
        {
          "output_type": "stream",
          "name": "stdout",
          "text": [
            "Creando pares...\n",
            "Pares creados.\n",
            "Creando pares...\n",
            "Pares creados.\n",
            "Creando pares...\n",
            "Pares creados.\n"
          ]
        }
      ],
      "source": [
        "(pares_entrenamiento, labels_entrenamiento) = crear_pares(conjunto_entrenamiento_fallos, conjunto_entrenamiento_sano)\n",
        "(pares_validacion, labels_validacion) = crear_pares(conjunto_validacion_fallos, conjunto_validacion_sano)\n",
        "(pares_prueba, labels_prueba) = crear_pares(conjunto_prueba_fallos, conjunto_prueba_sano)"
      ]
    },
    {
      "cell_type": "code",
      "execution_count": null,
      "metadata": {
        "id": "6eJRJVQNRokK"
      },
      "outputs": [],
      "source": [
        "np.random.seed(300)\n",
        "\n",
        "pares_aleatorizados = pares_entrenamiento\n",
        "np.random.shuffle(pares_aleatorizados)"
      ]
    },
    {
      "cell_type": "code",
      "execution_count": null,
      "metadata": {
        "id": "dNSKxZVFRqJz"
      },
      "outputs": [],
      "source": [
        "np.random.seed(300)\n",
        "\n",
        "labels_aleatorizados = labels_entrenamiento\n",
        "np.random.shuffle(labels_aleatorizados)"
      ]
    },
    {
      "cell_type": "markdown",
      "metadata": {
        "id": "JtOWW9wz8p8V"
      },
      "source": [
        "## Modelo Experimental 1"
      ]
    },
    {
      "cell_type": "code",
      "execution_count": null,
      "metadata": {
        "id": "l9HkPETg8sQy"
      },
      "outputs": [],
      "source": [
        "# Creamos función que retorna la estructura de la red convolucional que se va a utilizar\n",
        "def build_siamese_model_1(input_shape):\n",
        "  model = tf.keras.Sequential([\n",
        "                                tf.keras.layers.Conv2D(filters=64,\n",
        "                                                        kernel_size=3,\n",
        "                                                        activation='relu',\n",
        "                                                        padding='same',\n",
        "                                                        input_shape=input_shape),\n",
        "                                tf.keras.layers.Flatten(),\n",
        "                                tf.keras.layers.Dense(4960)\n",
        "  ])\n",
        "\n",
        "  return model"
      ]
    },
    {
      "cell_type": "code",
      "execution_count": null,
      "metadata": {
        "colab": {
          "base_uri": "https://localhost:8080/"
        },
        "id": "-XWutkPL8t6O",
        "outputId": "d201deed-f726-4067-8b7d-13c7b66d8f21"
      },
      "outputs": [
        {
          "output_type": "stream",
          "name": "stdout",
          "text": [
            "Epoch 1/5\n",
            "336/336 [==============================] - 411s 1s/step - loss: 0.4036 - accuracy: 0.8318 - val_loss: 0.2606 - val_accuracy: 0.9431\n",
            "Epoch 2/5\n",
            "336/336 [==============================] - 405s 1s/step - loss: 0.1898 - accuracy: 0.9736 - val_loss: 0.1504 - val_accuracy: 0.9800\n",
            "Epoch 3/5\n",
            "336/336 [==============================] - 454s 1s/step - loss: 0.1127 - accuracy: 0.9887 - val_loss: 0.1001 - val_accuracy: 0.9883\n",
            "Epoch 4/5\n",
            "336/336 [==============================] - 408s 1s/step - loss: 0.0762 - accuracy: 0.9944 - val_loss: 0.0794 - val_accuracy: 0.9905\n",
            "Epoch 5/5\n",
            "336/336 [==============================] - 414s 1s/step - loss: 0.0546 - accuracy: 0.9964 - val_loss: 0.0605 - val_accuracy: 0.9939\n"
          ]
        }
      ],
      "source": [
        "tf.random.set_seed(100)\n",
        "\n",
        "# Creamos el modelo general\n",
        "IMG_SHAPE = (16, 16, 24)\n",
        "\n",
        "# Definimos los inputs (imágenes) que ingresan a cada CNN\n",
        "imgA = tf.keras.Input(IMG_SHAPE)\n",
        "imgB = tf.keras.Input(IMG_SHAPE)\n",
        "\n",
        "# Creamos el featureExtractor, el cual obtiene las características principales de las imágenes ingresadas y las muestra en un vector\n",
        "featureExtractor = build_siamese_model_1(input_shape=IMG_SHAPE)\n",
        "\n",
        "# Ingresamos cada imagen al featureExtractor\n",
        "featsA = featureExtractor(imgA)\n",
        "featsB = featureExtractor(imgB)\n",
        "\n",
        "# Creamos una capa Lambda (que aplica una función sobre los datos) para obtener la distancia euclidiana\n",
        "distancia = tf.keras.layers.Lambda(euclidean_distance)([featsA, featsB])\n",
        "\n",
        "# Creamos la última capa asociada a la función de activación sigmoide\n",
        "outputs = tf.keras.layers.Dense(1, activation='sigmoid')(distancia)\n",
        "\n",
        "# Establecemos el modelo general\n",
        "model_1 = tf.keras.Model(inputs=[imgA, imgB], outputs=outputs)\n",
        "\n",
        "# Empleamos el loss como binary_crossentropy porque solo queremos saber si las imágenes son similares o no (no queremos clasificarlas)\n",
        "model_1.compile(loss='binary_crossentropy',\n",
        "                optimizer=tf.keras.optimizers.Adam(learning_rate=0.005),\n",
        "                metrics=['accuracy'])\n",
        "\n",
        "# Hacemos el fit del modelo\n",
        "history_1 = model_1.fit(\n",
        "    [pares_aleatorizados[:, 0], pares_aleatorizados[:, 1]], labels_aleatorizados[:],\n",
        "     validation_data=([pares_validacion[:, 0], pares_validacion[:, 1]], labels_validacion[:]),\n",
        "     batch_size=32,\n",
        "     epochs=5\n",
        ")"
      ]
    },
    {
      "cell_type": "code",
      "execution_count": null,
      "metadata": {
        "colab": {
          "base_uri": "https://localhost:8080/",
          "height": 317
        },
        "id": "zuXOgncq8wPS",
        "outputId": "e6df588e-a103-4f69-f2bf-cfd2cc80e4b6"
      },
      "outputs": [
        {
          "output_type": "display_data",
          "data": {
            "text/plain": [
              "<Figure size 432x288 with 1 Axes>"
            ],
            "image/png": "[encoded data removed]"
          },
          "metadata": {}
        }
      ],
      "source": [
        "graficar_curva_perdidas(history_1)\n",
        "plt.savefig('loss_sanoFallo_conv1_70_pdf_prueba.pdf', bbox_inches='tight')"
      ]
    },
    {
      "cell_type": "markdown",
      "metadata": {
        "id": "YXqGY-oI8gnQ"
      },
      "source": [
        "## Modelo Experimental 2"
      ]
    },
    {
      "cell_type": "code",
      "execution_count": null,
      "metadata": {
        "id": "UQPzuU2j8jLo"
      },
      "outputs": [],
      "source": [
        "# Creamos función que retorna la estructura de la red convolucional que se va a utilizar\n",
        "def build_siamese_model_2(input_shape):\n",
        "  model = tf.keras.Sequential([\n",
        "                                tf.keras.layers.Conv2D(filters=64,\n",
        "                                                        kernel_size=3,\n",
        "                                                        activation='relu',\n",
        "                                                        padding='same',\n",
        "                                                        input_shape=input_shape),\n",
        "                                tf.keras.layers.MaxPooling2D(pool_size=2),\n",
        "                                tf.keras.layers.Conv2D(filters=128,\n",
        "                                                        kernel_size=3,\n",
        "                                                        activation='relu',\n",
        "                                                        padding='same'),\n",
        "                                tf.keras.layers.Flatten(),\n",
        "                                tf.keras.layers.Dense(4960)\n",
        "  ])\n",
        "\n",
        "  return model"
      ]
    },
    {
      "cell_type": "code",
      "execution_count": null,
      "metadata": {
        "colab": {
          "base_uri": "https://localhost:8080/"
        },
        "id": "Jb6OqpZG8lDv",
        "outputId": "c13e59a6-ed2c-4875-8768-80eb6b597a55"
      },
      "outputs": [
        {
          "output_type": "stream",
          "name": "stdout",
          "text": [
            "Epoch 1/5\n",
            "336/336 [==============================] - 230s 682ms/step - loss: 0.3231 - accuracy: 0.8727 - val_loss: 0.1715 - val_accuracy: 0.9987\n",
            "Epoch 2/5\n",
            "336/336 [==============================] - 229s 682ms/step - loss: 0.1253 - accuracy: 0.9974 - val_loss: 0.0805 - val_accuracy: 1.0000\n",
            "Epoch 3/5\n",
            "336/336 [==============================] - 228s 680ms/step - loss: 0.0630 - accuracy: 1.0000 - val_loss: 0.0465 - val_accuracy: 1.0000\n",
            "Epoch 4/5\n",
            "336/336 [==============================] - 229s 682ms/step - loss: 0.0360 - accuracy: 1.0000 - val_loss: 0.0291 - val_accuracy: 1.0000\n",
            "Epoch 5/5\n",
            "336/336 [==============================] - 229s 681ms/step - loss: 0.0235 - accuracy: 1.0000 - val_loss: 0.0211 - val_accuracy: 1.0000\n"
          ]
        }
      ],
      "source": [
        "tf.random.set_seed(100)\n",
        "\n",
        "# Creamos el modelo general\n",
        "IMG_SHAPE = (16, 16, 24)\n",
        "\n",
        "# Definimos los inputs (imágenes) que ingresan a cada CNN\n",
        "imgA = tf.keras.Input(IMG_SHAPE)\n",
        "imgB = tf.keras.Input(IMG_SHAPE)\n",
        "\n",
        "# Creamos el featureExtractor, el cual obtiene las características principales de las imágenes ingresadas y las muestra en un vector\n",
        "featureExtractor = build_siamese_model_2(input_shape=IMG_SHAPE)\n",
        "\n",
        "# Ingresamos cada imagen al featureExtractor\n",
        "featsA = featureExtractor(imgA)\n",
        "featsB = featureExtractor(imgB)\n",
        "\n",
        "# Creamos una capa Lambda (que aplica una función sobre los datos) para obtener la distancia euclidiana\n",
        "distancia = tf.keras.layers.Lambda(euclidean_distance)([featsA, featsB])\n",
        "\n",
        "# Creamos la última capa asociada a la función de activación sigmoide\n",
        "outputs = tf.keras.layers.Dense(1, activation='sigmoid')(distancia)\n",
        "\n",
        "# Establecemos el modelo general\n",
        "model_2 = tf.keras.Model(inputs=[imgA, imgB], outputs=outputs)\n",
        "\n",
        "# Empleamos el loss como binary_crossentropy porque solo queremos saber si las imágenes son similares o no (no queremos clasificarlas)\n",
        "model_2.compile(loss='binary_crossentropy',\n",
        "                optimizer=tf.keras.optimizers.Adam(learning_rate=0.005),\n",
        "                metrics=['accuracy'])\n",
        "\n",
        "# Hacemos el fit del modelo\n",
        "history_2 = model_2.fit(\n",
        "    [pares_aleatorizados[:, 0], pares_aleatorizados[:, 1]], labels_aleatorizados[:],\n",
        "     validation_data=([pares_validacion[:, 0], pares_validacion[:, 1]], labels_validacion[:]),\n",
        "     batch_size=32,\n",
        "     epochs=5\n",
        ")"
      ]
    },
    {
      "cell_type": "code",
      "execution_count": null,
      "metadata": {
        "colab": {
          "base_uri": "https://localhost:8080/",
          "height": 317
        },
        "id": "L412m4qS8pVE",
        "outputId": "0e57845b-9b70-4304-9f16-0c7d429c8dea"
      },
      "outputs": [
        {
          "output_type": "display_data",
          "data": {
            "text/plain": [
              "<Figure size 432x288 with 1 Axes>"
            ],
            "image/png": "[encoded data removed]"
          },
          "metadata": {}
        }
      ],
      "source": [
        "graficar_curva_perdidas(history_2)\n",
        "plt.savefig('loss_sanoFallo_conv2_70_pdf_prueba.pdf', bbox_inches='tight')"
      ]
    },
    {
      "cell_type": "markdown",
      "metadata": {
        "id": "UCZeXikKRx3L"
      },
      "source": [
        "## Matriz de confusión"
      ]
    },
    {
      "cell_type": "code",
      "execution_count": null,
      "metadata": {
        "id": "ksudQrUWRzQo"
      },
      "outputs": [],
      "source": [
        "# Creamos una función que nos permita visualizar la matriz de confusión de los resultados\n",
        "sns.set(font_scale=1.5)\n",
        "\n",
        "def plot_conf_mat(y_test, y_preds):\n",
        "\n",
        "    font_label = {'family': 'serif',\n",
        "        'color':  'black',\n",
        "        'weight': 'normal',\n",
        "        'size': 18,\n",
        "    }\n",
        "    \n",
        "    fig, ax = plt.subplots(figsize=(4,4))\n",
        "    ax = sns.heatmap(confusion_matrix(y_test, y_preds),\n",
        "                     annot=True,\n",
        "                     cbar=False,\n",
        "                     fmt='g')\n",
        "    plt.xlabel('True Class', fontdict=font_label)\n",
        "    plt.ylabel('Predicted Class', fontdict=font_label)"
      ]
    },
    {
      "cell_type": "code",
      "execution_count": null,
      "metadata": {
        "id": "JSthohvxR0tl"
      },
      "outputs": [],
      "source": [
        "# Guardamos las predicciones en una variable\n",
        "predicciones_1 = model_1.predict([pares_prueba[:, 0], pares_prueba[:, 1]])\n",
        "predicciones_2 = model_2.predict([pares_prueba[:, 0], pares_prueba[:, 1]])"
      ]
    },
    {
      "cell_type": "code",
      "execution_count": null,
      "metadata": {
        "id": "OCTXLDLeR2R0"
      },
      "outputs": [],
      "source": [
        "# Redondeamos los valores predecidos para poder compararlos con los valores reales\n",
        "for i in range(len(predicciones_1)):\n",
        "  predicciones_1[i][0] = round(predicciones_1[i][0])\n",
        "\n",
        "for i in range(len(predicciones_2)):\n",
        "  predicciones_2[i][0] = round(predicciones_2[i][0])"
      ]
    },
    {
      "cell_type": "code",
      "execution_count": null,
      "metadata": {
        "colab": {
          "base_uri": "https://localhost:8080/",
          "height": 297
        },
        "id": "7e-TGuZRR3t-",
        "outputId": "9258dac7-022b-44e7-aa46-de9073938eed"
      },
      "outputs": [
        {
          "output_type": "display_data",
          "data": {
            "text/plain": [
              "<Figure size 288x288 with 1 Axes>"
            ],
            "image/png": "[encoded data removed]"
          },
          "metadata": {}
        }
      ],
      "source": [
        "# Graficamos la matriz de confusión\n",
        "plot_conf_mat(labels_prueba, predicciones_1)"
      ]
    },
    {
      "cell_type": "code",
      "execution_count": null,
      "metadata": {
        "colab": {
          "base_uri": "https://localhost:8080/",
          "height": 297
        },
        "id": "DOIIh98wiE18",
        "outputId": "7f9c4fa4-2a66-4b1a-f235-74d21f832aed"
      },
      "outputs": [
        {
          "output_type": "display_data",
          "data": {
            "text/plain": [
              "<Figure size 288x288 with 1 Axes>"
            ],
            "image/png": "[encoded data removed]"
          },
          "metadata": {}
        }
      ],
      "source": [
        "# Graficamos la matriz de confusión\n",
        "plot_conf_mat(labels_prueba, predicciones_2)"
      ]
    },
    {
      "cell_type": "markdown",
      "metadata": {
        "id": "gOuQqEJj8kui"
      },
      "source": [
        "## Conjunto de Prueba Manual\n",
        "Se va a crear de manera manual los pares del conjunto de prueba debido a que se debe tener un seguimiento con respecto a los distintos estados estructurales y niveles de white noise.\n",
        "\n",
        "Para esto se van a utilizar los siguientes conjuntos:\n",
        "* conjunto_prueba_sano\n",
        "* conjunto_prueba_fallo\n",
        "\n",
        "El conjunto conjunto_prueba_sano posee 384 imágenes en total. Estas imágenes se dividen de la siguiente manera:\n",
        "* normal: 256 imágenes\n",
        "* réplica: 128 imágenes\n",
        "\n",
        "Estas divisiones tienen la siguiente estructura según el white noise:\n",
        " \n",
        "normal\n",
        "* Las primeras 64 imágenes son de white noise 0.5\n",
        "* Las siguientes 64 imágenes son de white noise 1\n",
        "* Las siguientes 64 imágenes son de white noise 2\n",
        "* Las últimas 64 imágenes son de white noise 3\n",
        "\n",
        "réplica\n",
        "* Las primeras 32 imágenes son de white noise 0.5\n",
        "* Las siguientes 32 imágenes son de white noise 1\n",
        "* Las siguientes 32 imágenes son de white noise 2\n",
        "* Las últimas 32 imágenes son de white noise 3\n",
        "\n",
        "El conjunto conjunto_prueba_fallo posee 256 imágenes en total. Estas imágenes se dividen de la siguiente manera:\n",
        "* fisura: 128 imágenes\n",
        "* pernoflojo: 128 imágenes\n",
        "\n",
        "Estas divisiones tienen la siguiente estructura según el white noise:\n",
        "\n",
        "fisura\n",
        "* Las primeras 32 imágenes son de white noise 0.5\n",
        "* Las siguientes 32 imágenes son de white noise 1\n",
        "* Las siguientes 32 imágenes son de white noise 2\n",
        "* Las últimas 32 imágenes son de white noise 3\n",
        "\n",
        "pernoflojo\n",
        "* Las primeras 32 imágenes son de white noise 0.5\n",
        "* Las siguientes 32 imágenes son de white noise 1\n",
        "* Las siguientes 32 imágenes son de white noise 2\n",
        "* Las últimas 32 imágenes son de white noise 3\n",
        "\n",
        "El orden de los estados en los conjuntos son:\n",
        "\n",
        "Sano: Primero va réplica y luego normal (Primero 128 réplica y luego 256 normal)\n",
        "\n",
        "Fallo: Primero va fisura y luego pernoflojo (Primero 128 fisura y luego 128 pernoflojo)"
      ]
    },
    {
      "cell_type": "code",
      "execution_count": null,
      "metadata": {
        "id": "BdIHqnja_Umz"
      },
      "outputs": [],
      "source": [
        "prueba_fisura_05 = conjunto_prueba_fallos[:48]\n",
        "prueba_fisura_1 = conjunto_prueba_fallos[48:96]\n",
        "prueba_fisura_2 = conjunto_prueba_fallos[96:144]\n",
        "prueba_fisura_3 = conjunto_prueba_fallos[144:192]"
      ]
    },
    {
      "cell_type": "code",
      "execution_count": null,
      "metadata": {
        "id": "T1X-jcwDIdYk"
      },
      "outputs": [],
      "source": [
        "prueba_pernoflojo_05 = conjunto_prueba_fallos[192:240]\n",
        "prueba_pernoflojo_1 = conjunto_prueba_fallos[240:288]\n",
        "prueba_pernoflojo_2 = conjunto_prueba_fallos[288:336]\n",
        "prueba_pernoflojo_3 = conjunto_prueba_fallos[336:]"
      ]
    },
    {
      "cell_type": "code",
      "execution_count": null,
      "metadata": {
        "id": "-bJ4c7U8I3Pk"
      },
      "outputs": [],
      "source": [
        "prueba_replica_05 = conjunto_prueba_sano[:48]\n",
        "prueba_replica_1 = conjunto_prueba_sano[48:96]\n",
        "prueba_replica_2 = conjunto_prueba_sano[96:144]\n",
        "prueba_replica_3 = conjunto_prueba_sano[144:192]"
      ]
    },
    {
      "cell_type": "code",
      "execution_count": null,
      "metadata": {
        "id": "J836yf1kJFTL"
      },
      "outputs": [],
      "source": [
        "prueba_normal_05 = conjunto_prueba_sano[192:288]\n",
        "prueba_normal_1 = conjunto_prueba_sano[288:384]\n",
        "prueba_normal_2 = conjunto_prueba_sano[384:480]\n",
        "prueba_normal_3 = conjunto_prueba_sano[480:]"
      ]
    },
    {
      "cell_type": "code",
      "execution_count": null,
      "metadata": {
        "id": "w3XNXRXBPtAy"
      },
      "outputs": [],
      "source": [
        "lista_wn_fisura = [prueba_fisura_05, prueba_fisura_1, prueba_fisura_2, prueba_fisura_3]\n",
        "lista_wn_pernoflojo = [prueba_pernoflojo_05, prueba_pernoflojo_1, prueba_pernoflojo_2, prueba_pernoflojo_3]\n",
        "lista_wn_replica = [prueba_replica_05, prueba_replica_1, prueba_replica_2, prueba_replica_3]\n",
        "lista_wn_normal = [prueba_normal_05, prueba_normal_1, prueba_normal_2, prueba_normal_3]"
      ]
    },
    {
      "cell_type": "markdown",
      "metadata": {
        "id": "H-W2gNL7Usgj"
      },
      "source": [
        "Establecemos el conjunto general de pares de prueba y labels de prueba"
      ]
    },
    {
      "cell_type": "code",
      "execution_count": null,
      "metadata": {
        "id": "FwypElKhQMsb"
      },
      "outputs": [],
      "source": [
        "pares_imagenes = []\n",
        "labels_imagenes = []"
      ]
    },
    {
      "cell_type": "markdown",
      "metadata": {
        "id": "OD4YQpgnU1BE"
      },
      "source": [
        "Creamos los pares positivos del conjunto de normal (256 pares positivos)"
      ]
    },
    {
      "cell_type": "code",
      "execution_count": null,
      "metadata": {
        "id": "AL1NhRWlU4Pi"
      },
      "outputs": [],
      "source": [
        "random.seed(100)\n",
        "\n",
        "for i in lista_wn_normal:\n",
        "  for j in range(96):\n",
        "    imagen_actual = i[j]\n",
        "    imagen_aleatoria = []\n",
        "    if j <= 11:\n",
        "      # Par con 0.5 de normal\n",
        "      imagen_aleatoria = random.choice(lista_wn_normal[0])\n",
        "    elif j > 11 and j <= 23:\n",
        "      # Par con 1 de normal\n",
        "      imagen_aleatoria = random.choice(lista_wn_normal[1])\n",
        "    elif j > 23 and j <= 35:\n",
        "      # Par con 2 de normal\n",
        "      imagen_aleatoria = random.choice(lista_wn_normal[2])\n",
        "    elif j > 35 and j <= 47:\n",
        "      # Par con 3 de normal\n",
        "      imagen_aleatoria = random.choice(lista_wn_normal[3])\n",
        "    elif j > 47 and j <= 59:\n",
        "      # Par con 0.5 de replica\n",
        "      imagen_aleatoria = random.choice(lista_wn_replica[0])\n",
        "    elif j > 59 and j <= 71:\n",
        "      # Par con 1 de replica\n",
        "      imagen_aleatoria = random.choice(lista_wn_replica[1])\n",
        "    elif j > 71 and j <= 83:\n",
        "      # Par con 2 de replica\n",
        "      imagen_aleatoria = random.choice(lista_wn_replica[2])\n",
        "    elif j > 83:\n",
        "      # Par con 3 de replica\n",
        "      imagen_aleatoria = random.choice(lista_wn_replica[3])\n",
        "    pares_imagenes.append([imagen_actual, imagen_aleatoria])\n",
        "    labels_imagenes.append([1])"
      ]
    },
    {
      "cell_type": "code",
      "execution_count": null,
      "metadata": {
        "id": "w5umoKhZVd9t",
        "colab": {
          "base_uri": "https://localhost:8080/"
        },
        "outputId": "d075cab1-9285-404b-c18f-4d6da122e13c"
      },
      "outputs": [
        {
          "output_type": "execute_result",
          "data": {
            "text/plain": [
              "(384, 384)"
            ]
          },
          "metadata": {},
          "execution_count": 126
        }
      ],
      "source": [
        "len(pares_imagenes), len(labels_imagenes)"
      ]
    },
    {
      "cell_type": "markdown",
      "metadata": {
        "id": "UDSnG3LgVhX8"
      },
      "source": [
        "Creamos los pares negativos del conjunto de normal (256 pares negativos)"
      ]
    },
    {
      "cell_type": "code",
      "execution_count": null,
      "metadata": {
        "id": "3N0Qfn0IVm6B"
      },
      "outputs": [],
      "source": [
        "random.seed(100)\n",
        "\n",
        "for i in lista_wn_normal:\n",
        "  for j in range(96):\n",
        "    imagen_actual = i[j]\n",
        "    imagen_aleatoria = []\n",
        "    if j <=11:\n",
        "      # Par con 0.5 de fisura\n",
        "      imagen_aleatoria = random.choice(lista_wn_fisura[0])\n",
        "    elif j >11 and j <= 23:\n",
        "      # Par con 1 de fisura\n",
        "      imagen_aleatoria = random.choice(lista_wn_fisura[1])\n",
        "    elif j > 23 and j <= 35:\n",
        "      # Par con 2 de fisura\n",
        "      imagen_aleatoria = random.choice(lista_wn_fisura[2])\n",
        "    elif j > 35 and j <= 47:\n",
        "      # Par con 3 de fisura\n",
        "      imagen_aleatoria = random.choice(lista_wn_fisura[3])\n",
        "    elif j > 47 and j <= 59:\n",
        "      # Par con 0.5 de pernoflojo\n",
        "      imagen_aleatoria = random.choice(lista_wn_pernoflojo[0])\n",
        "    elif j > 59 and j <= 71:\n",
        "      # Par con 1 de pernoflojo\n",
        "      imagen_aleatoria = random.choice(lista_wn_pernoflojo[1])\n",
        "    elif j > 71 and j <= 83:\n",
        "      # Par con 2 de pernoflojo\n",
        "      imagen_aleatoria = random.choice(lista_wn_pernoflojo[2])\n",
        "    elif j > 83:\n",
        "      # Par con 3 de pernoflojo\n",
        "      imagen_aleatoria = random.choice(lista_wn_pernoflojo[3])\n",
        "    pares_imagenes.append([imagen_actual, imagen_aleatoria])\n",
        "    labels_imagenes.append([0])"
      ]
    },
    {
      "cell_type": "code",
      "execution_count": null,
      "metadata": {
        "id": "26gdH7LO7ym5",
        "colab": {
          "base_uri": "https://localhost:8080/"
        },
        "outputId": "0fecffe4-2b37-43d7-c847-e496be6035a7"
      },
      "outputs": [
        {
          "output_type": "execute_result",
          "data": {
            "text/plain": [
              "(768, 768)"
            ]
          },
          "metadata": {},
          "execution_count": 128
        }
      ],
      "source": [
        "len(pares_imagenes), len(labels_imagenes)"
      ]
    },
    {
      "cell_type": "markdown",
      "metadata": {
        "id": "s1o9h2ahZdhl"
      },
      "source": [
        "Creamos los pares positivos del conjunto de réplica (128 pares)"
      ]
    },
    {
      "cell_type": "code",
      "execution_count": null,
      "metadata": {
        "id": "uZfQyHh0Zc8O"
      },
      "outputs": [],
      "source": [
        "random.seed(100)\n",
        "\n",
        "for i in lista_wn_replica:\n",
        "  for j in range(48):\n",
        "    imagen_actual = i[j]\n",
        "    imagen_aleatoria = []\n",
        "    if j <= 11:\n",
        "      # Par con 0.5\n",
        "      imagen_aleatoria = random.choice(lista_wn_replica[0])\n",
        "    elif j > 11 and j <= 23:\n",
        "      # Par con 1\n",
        "      imagen_aleatoria = random.choice(lista_wn_replica[1])\n",
        "    elif j > 23 and j <= 35:\n",
        "      # Par con 2\n",
        "      imagen_aleatoria = random.choice(lista_wn_replica[2])\n",
        "    elif j > 35:\n",
        "      # Par con 3\n",
        "      imagen_aleatoria = random.choice(lista_wn_replica[3])\n",
        "    pares_imagenes.append([imagen_actual, imagen_aleatoria])\n",
        "    labels_imagenes.append([1])"
      ]
    },
    {
      "cell_type": "code",
      "execution_count": null,
      "metadata": {
        "id": "mfT00lt970tv",
        "colab": {
          "base_uri": "https://localhost:8080/"
        },
        "outputId": "183a1d16-f8d1-4296-e4f3-b8b2bf947711"
      },
      "outputs": [
        {
          "output_type": "execute_result",
          "data": {
            "text/plain": [
              "(960, 960)"
            ]
          },
          "metadata": {},
          "execution_count": 130
        }
      ],
      "source": [
        "len(pares_imagenes), len(labels_imagenes)"
      ]
    },
    {
      "cell_type": "markdown",
      "metadata": {
        "id": "miKkGLiUa-ew"
      },
      "source": [
        "Creamos los pares negativos del conjunto de réplica (128 pares)"
      ]
    },
    {
      "cell_type": "code",
      "execution_count": null,
      "metadata": {
        "id": "u9SY5qFTa9sU"
      },
      "outputs": [],
      "source": [
        "random.seed(100)\n",
        "\n",
        "for i in lista_wn_replica:\n",
        "  for j in range(48):\n",
        "    imagen_actual = i[j]\n",
        "    imagen_aleatoria = []\n",
        "    if j <= 5:\n",
        "      # Par con 0.5 de fisura\n",
        "      imagen_aleatoria = random.choice(lista_wn_fisura[0])\n",
        "    elif j > 5 and j <= 11:\n",
        "      # Par con 1 de fisura\n",
        "      imagen_aleatoria = random.choice(lista_wn_fisura[1])\n",
        "    elif j > 11 and j <= 17:\n",
        "      # Par con 2 de fisura\n",
        "      imagen_aleatoria = random.choice(lista_wn_fisura[2])\n",
        "    elif j > 17 and j <= 23:\n",
        "      # Par con 3 de fisura\n",
        "      imagen_aleatoria = random.choice(lista_wn_fisura[3])\n",
        "    elif j > 23 and j <= 29:\n",
        "      # Par con 0.5 de pernoflojo\n",
        "      imagen_aleatoria = random.choice(lista_wn_pernoflojo[0])\n",
        "    elif j > 29 and j <= 35:\n",
        "      # Par con 1 de pernoflojo\n",
        "      imagen_aleatoria = random.choice(lista_wn_pernoflojo[1])\n",
        "    elif j > 35 and j <= 41:\n",
        "      # Par con 2 de pernoflojo\n",
        "      imagen_aleatoria = random.choice(lista_wn_pernoflojo[2])\n",
        "    elif j > 41:\n",
        "      # Par con 3 de pernoflojo\n",
        "      imagen_aleatoria = random.choice(lista_wn_pernoflojo[3])\n",
        "    pares_imagenes.append([imagen_actual, imagen_aleatoria])\n",
        "    labels_imagenes.append([0])"
      ]
    },
    {
      "cell_type": "code",
      "execution_count": null,
      "metadata": {
        "id": "mnjh0Qot75Rv",
        "colab": {
          "base_uri": "https://localhost:8080/"
        },
        "outputId": "85c545de-c359-49e6-ceaa-60a0b1bc5b2f"
      },
      "outputs": [
        {
          "output_type": "execute_result",
          "data": {
            "text/plain": [
              "(1152, 1152)"
            ]
          },
          "metadata": {},
          "execution_count": 132
        }
      ],
      "source": [
        "len(pares_imagenes), len(labels_imagenes)"
      ]
    },
    {
      "cell_type": "markdown",
      "metadata": {
        "id": "6OBzjzlLhkeJ"
      },
      "source": [
        "Creamos los pares positivos del conjunto fisura (128 pares)"
      ]
    },
    {
      "cell_type": "code",
      "execution_count": null,
      "metadata": {
        "id": "vQcct3PJhthW"
      },
      "outputs": [],
      "source": [
        "random.seed(100)\n",
        "\n",
        "for i in lista_wn_fisura:\n",
        "  for j in range(48):\n",
        "    imagen_actual = i[j]\n",
        "    imagen_aleatoria = []\n",
        "    if j <= 5:\n",
        "      # Par con 0.5 de fisura\n",
        "      imagen_aleatoria = random.choice(lista_wn_fisura[0])\n",
        "    elif j > 5 and j <= 11:\n",
        "      # Par con 1 de fisura\n",
        "      imagen_aleatoria = random.choice(lista_wn_fisura[1])\n",
        "    elif j > 11 and j <= 17:\n",
        "      # Par con 2 de fisura\n",
        "      imagen_aleatoria = random.choice(lista_wn_fisura[2])\n",
        "    elif j > 17 and j <= 23:\n",
        "      # Par con 3 de fisura\n",
        "      imagen_aleatoria = random.choice(lista_wn_fisura[3])\n",
        "    elif j > 23 and j <= 29:\n",
        "      # Par con 0.5 de pernoflojo\n",
        "      imagen_aleatoria = random.choice(lista_wn_pernoflojo[0])\n",
        "    elif j > 29 and j <= 35:\n",
        "      # Par con 1 de pernoflojo\n",
        "      imagen_aleatoria = random.choice(lista_wn_pernoflojo[1])\n",
        "    elif j > 35 and j <= 41:\n",
        "      # Par con 2 de pernoflojo\n",
        "      imagen_aleatoria = random.choice(lista_wn_pernoflojo[2])\n",
        "    elif j > 41:\n",
        "      # Par con 3 de pernoflojo\n",
        "      imagen_aleatoria = random.choice(lista_wn_pernoflojo[3])\n",
        "    pares_imagenes.append([imagen_actual, imagen_aleatoria])\n",
        "    labels_imagenes.append([1])"
      ]
    },
    {
      "cell_type": "code",
      "execution_count": null,
      "metadata": {
        "id": "Fj-FaJHf778c",
        "colab": {
          "base_uri": "https://localhost:8080/"
        },
        "outputId": "0973a444-b15d-4d3e-8718-6fc6f946706b"
      },
      "outputs": [
        {
          "output_type": "execute_result",
          "data": {
            "text/plain": [
              "(1344, 1344)"
            ]
          },
          "metadata": {},
          "execution_count": 134
        }
      ],
      "source": [
        "len(pares_imagenes), len(labels_imagenes)"
      ]
    },
    {
      "cell_type": "markdown",
      "metadata": {
        "id": "NStASBmPkU7L"
      },
      "source": [
        "Creamos los pares negativos del conjunto de fisura (128 pares)"
      ]
    },
    {
      "cell_type": "code",
      "execution_count": null,
      "metadata": {
        "id": "hVsQQfrukYeu"
      },
      "outputs": [],
      "source": [
        "random.seed(100)\n",
        "\n",
        "for i in lista_wn_fisura:\n",
        "  for j in range(48):\n",
        "    imagen_actual = i[j]\n",
        "    imagen_aleatoria = []\n",
        "    if j <= 5:\n",
        "      # Par con 0.5 de normal\n",
        "      imagen_aleatoria = random.choice(lista_wn_normal[0])\n",
        "    elif j > 5 and j <= 11:\n",
        "      # Par con 1 de normal\n",
        "      imagen_aleatoria = random.choice(lista_wn_normal[1])\n",
        "    elif j > 11 and j <= 17:\n",
        "      # Par con 2 de normal\n",
        "      imagen_aleatoria = random.choice(lista_wn_normal[2])\n",
        "    elif j > 17 and j <= 23:\n",
        "      # Par con 3 de normal\n",
        "      imagen_aleatoria = random.choice(lista_wn_normal[3])\n",
        "    elif j > 23 and j <= 29:\n",
        "      # Par con 0.5 de replica\n",
        "      imagen_aleatoria = random.choice(lista_wn_replica[0])\n",
        "    elif j > 29 and j <= 35:\n",
        "      # Par con 1 de replica\n",
        "      imagen_aleatoria = random.choice(lista_wn_replica[1])\n",
        "    elif j > 35 and j <= 41:\n",
        "      # Par con 2 de replica\n",
        "      imagen_aleatoria = random.choice(lista_wn_replica[2])\n",
        "    elif j > 41:\n",
        "      # Par con 3 de replica\n",
        "      imagen_aleatoria = random.choice(lista_wn_replica[3])\n",
        "    pares_imagenes.append([imagen_actual, imagen_aleatoria])\n",
        "    labels_imagenes.append([0])"
      ]
    },
    {
      "cell_type": "code",
      "execution_count": null,
      "metadata": {
        "id": "x4mLET1c7-UL",
        "colab": {
          "base_uri": "https://localhost:8080/"
        },
        "outputId": "79c6b9d6-8b5a-45c0-9039-e85cdc6842e4"
      },
      "outputs": [
        {
          "output_type": "execute_result",
          "data": {
            "text/plain": [
              "(1536, 1536)"
            ]
          },
          "metadata": {},
          "execution_count": 136
        }
      ],
      "source": [
        "len(pares_imagenes), len(labels_imagenes)"
      ]
    },
    {
      "cell_type": "markdown",
      "metadata": {
        "id": "wWBTGCeulEgG"
      },
      "source": [
        "Creamos los pares positivos del conjunto de pernoflojo (128 pares)"
      ]
    },
    {
      "cell_type": "code",
      "execution_count": null,
      "metadata": {
        "id": "t4xTY62XlDjj"
      },
      "outputs": [],
      "source": [
        "random.seed(100)\n",
        "\n",
        "for i in lista_wn_pernoflojo:\n",
        "  for j in range(48):\n",
        "    imagen_actual = i[j]\n",
        "    imagen_aleatoria = []\n",
        "    if j <= 5:\n",
        "      # Par con 0.5 de pernoflojo\n",
        "      imagen_aleatoria = random.choice(lista_wn_pernoflojo[0])\n",
        "    elif j > 5 and j <= 11:\n",
        "      # Par con 1 de pernoflojo\n",
        "      imagen_aleatoria = random.choice(lista_wn_pernoflojo[1])\n",
        "    elif j > 11 and j <= 17:\n",
        "      # Par con 2 de pernoflojo\n",
        "      imagen_aleatoria = random.choice(lista_wn_pernoflojo[2])\n",
        "    elif j > 17 and j <= 23:\n",
        "      # Par con 3 de pernoflojo\n",
        "      imagen_aleatoria = random.choice(lista_wn_pernoflojo[3])\n",
        "    elif j > 23 and j <= 29:\n",
        "      # Par con 0.5 de fisura\n",
        "      imagen_aleatoria = random.choice(lista_wn_fisura[0])\n",
        "    elif j > 29 and j <= 35:\n",
        "      # Par con 1 de fisura\n",
        "      imagen_aleatoria = random.choice(lista_wn_fisura[1])\n",
        "    elif j > 35 and j <= 41:\n",
        "      # Par con 2 de fisura\n",
        "      imagen_aleatoria = random.choice(lista_wn_fisura[2])\n",
        "    elif j > 41:\n",
        "      # Par con 3 de fisura\n",
        "      imagen_aleatoria = random.choice(lista_wn_fisura[3])\n",
        "    pares_imagenes.append([imagen_actual, imagen_aleatoria])\n",
        "    labels_imagenes.append([1])"
      ]
    },
    {
      "cell_type": "code",
      "execution_count": null,
      "metadata": {
        "id": "QROTl7kt8AZN",
        "colab": {
          "base_uri": "https://localhost:8080/"
        },
        "outputId": "cfd4a98f-6052-454d-b280-2101ff2611da"
      },
      "outputs": [
        {
          "output_type": "execute_result",
          "data": {
            "text/plain": [
              "(1728, 1728)"
            ]
          },
          "metadata": {},
          "execution_count": 138
        }
      ],
      "source": [
        "len(pares_imagenes), len(labels_imagenes)"
      ]
    },
    {
      "cell_type": "markdown",
      "metadata": {
        "id": "6hkPjBpMmdXK"
      },
      "source": [
        "Creamos los pares negativos del conjunto de pernoflojo (128 pares)"
      ]
    },
    {
      "cell_type": "code",
      "execution_count": null,
      "metadata": {
        "id": "ihbnzCtamhiO"
      },
      "outputs": [],
      "source": [
        "random.seed(100)\n",
        "\n",
        "for i in lista_wn_pernoflojo:\n",
        "  for j in range(48):\n",
        "    imagen_actual = i[j]\n",
        "    imagen_aleatoria = []\n",
        "    if j <= 5:\n",
        "      # Par con 0.5 de normal\n",
        "      imagen_aleatoria = random.choice(lista_wn_normal[0])\n",
        "    elif j > 5 and j <= 11:\n",
        "      # Par con 1 de normal\n",
        "      imagen_aleatoria = random.choice(lista_wn_normal[1])\n",
        "    elif j > 11 and j <= 17:\n",
        "      # Par con 2 de normal\n",
        "      imagen_aleatoria = random.choice(lista_wn_normal[2])\n",
        "    elif j > 17 and j <= 23:\n",
        "      # Par con 3 de normal\n",
        "      imagen_aleatoria = random.choice(lista_wn_normal[3])\n",
        "    elif j > 23 and j <= 29:\n",
        "      # Par con 0.5 de réplica\n",
        "      imagen_aleatoria = random.choice(lista_wn_replica[0])\n",
        "    elif j > 29 and j <= 35:\n",
        "      # Par con 1 de réplica\n",
        "      imagen_aleatoria = random.choice(lista_wn_replica[1])\n",
        "    elif j > 35 and j <= 41:\n",
        "      # Par con 2 de réplica\n",
        "      imagen_aleatoria = random.choice(lista_wn_replica[2])\n",
        "    elif j > 41:\n",
        "      # Par con 3 de réplica\n",
        "      imagen_aleatoria = random.choice(lista_wn_replica[3])\n",
        "    pares_imagenes.append([imagen_actual, imagen_aleatoria])\n",
        "    labels_imagenes.append([0])"
      ]
    },
    {
      "cell_type": "code",
      "execution_count": null,
      "metadata": {
        "id": "Njsb1h-l8Cce",
        "colab": {
          "base_uri": "https://localhost:8080/"
        },
        "outputId": "47f86c6e-522b-47c5-9f93-14bf7dd077d7"
      },
      "outputs": [
        {
          "output_type": "execute_result",
          "data": {
            "text/plain": [
              "(1920, 1920)"
            ]
          },
          "metadata": {},
          "execution_count": 140
        }
      ],
      "source": [
        "len(pares_imagenes), len(labels_imagenes)"
      ]
    },
    {
      "cell_type": "markdown",
      "metadata": {
        "id": "VvtATGaTm2Xo"
      },
      "source": [
        "IGUALAMOS FALLOS CON LA REPETICIÓN"
      ]
    },
    {
      "cell_type": "markdown",
      "metadata": {
        "id": "4WeBGNsTnFGp"
      },
      "source": [
        "Creamos pares positivos del conjunto de fisura (64 pares)"
      ]
    },
    {
      "cell_type": "code",
      "execution_count": null,
      "metadata": {
        "id": "Ugpj-57Wm32d"
      },
      "outputs": [],
      "source": [
        "random.seed(100)\n",
        "\n",
        "for i in lista_wn_fisura:\n",
        "  for j in range(24):\n",
        "    imagen_actual = i[j]\n",
        "    imagen_aleatoria = []\n",
        "    if j <= 2:\n",
        "      # Par con 0.5 de fisura\n",
        "      imagen_aleatoria = random.choice(lista_wn_fisura[0])\n",
        "    elif j > 2 and j <= 5:\n",
        "      # Par con 1 de fisura\n",
        "      imagen_aleatoria = random.choice(lista_wn_fisura[1])\n",
        "    elif j > 5 and j <= 8:\n",
        "      # Par con 2 de fisura\n",
        "      imagen_aleatoria = random.choice(lista_wn_fisura[2])\n",
        "    elif j > 8 and j <= 11:\n",
        "      # Par con 3 de fisura\n",
        "      imagen_aleatoria = random.choice(lista_wn_fisura[3])\n",
        "    elif j > 11 and j <= 14:\n",
        "      # Par con 0.5 de pernoflojo\n",
        "      imagen_aleatoria = random.choice(lista_wn_pernoflojo[0])\n",
        "    elif j > 14 and j <= 17:\n",
        "      # Par con 1 de pernoflojo\n",
        "      imagen_aleatoria = random.choice(lista_wn_pernoflojo[1])\n",
        "    elif j > 17 and j <= 20:\n",
        "      # Par con 2 de pernoflojo\n",
        "      imagen_aleatoria = random.choice(lista_wn_pernoflojo[2])\n",
        "    elif j > 20:\n",
        "      # Par con 3 de pernoflojo\n",
        "      imagen_aleatoria = random.choice(lista_wn_pernoflojo[3])\n",
        "    pares_imagenes.append([imagen_actual, imagen_aleatoria])\n",
        "    labels_imagenes.append([1])"
      ]
    },
    {
      "cell_type": "code",
      "execution_count": null,
      "metadata": {
        "id": "FXNYf7Ic8FF0",
        "colab": {
          "base_uri": "https://localhost:8080/"
        },
        "outputId": "929cbe90-435b-490e-8991-e3975c9dc28d"
      },
      "outputs": [
        {
          "output_type": "execute_result",
          "data": {
            "text/plain": [
              "(2016, 2016)"
            ]
          },
          "metadata": {},
          "execution_count": 142
        }
      ],
      "source": [
        "len(pares_imagenes), len(labels_imagenes)"
      ]
    },
    {
      "cell_type": "markdown",
      "metadata": {
        "id": "kwzFq11YnrLq"
      },
      "source": [
        "Creamos pares negativos del conjunto de fisura (64 pares)"
      ]
    },
    {
      "cell_type": "code",
      "execution_count": null,
      "metadata": {
        "id": "nr99fDKdnqmB"
      },
      "outputs": [],
      "source": [
        "random.seed(100)\n",
        "\n",
        "for i in lista_wn_fisura:\n",
        "  for j in range(24):\n",
        "    imagen_actual = i[j]\n",
        "    imagen_aleatoria = []\n",
        "    if j <= 2:\n",
        "      # Par con 0.5 de normal\n",
        "      imagen_aleatoria = random.choice(lista_wn_normal[0])\n",
        "    elif j > 2 and j <= 5:\n",
        "      # Par con 1 de normal\n",
        "      imagen_aleatoria = random.choice(lista_wn_normal[1])\n",
        "    elif j > 5 and j <= 8:\n",
        "      # Par con 2 de normal\n",
        "      imagen_aleatoria = random.choice(lista_wn_normal[2])\n",
        "    elif j > 8 and j <= 11:\n",
        "      # Par con 3 de normal\n",
        "      imagen_aleatoria = random.choice(lista_wn_normal[3])\n",
        "    elif j > 11 and j <= 14:\n",
        "      # Par con 0.5 de replica\n",
        "      imagen_aleatoria = random.choice(lista_wn_replica[0])\n",
        "    elif j > 14 and j <= 17:\n",
        "      # Par con 1 de replica\n",
        "      imagen_aleatoria = random.choice(lista_wn_replica[1])\n",
        "    elif j > 17 and j <= 20:\n",
        "      # Par con 2 de replica\n",
        "      imagen_aleatoria = random.choice(lista_wn_replica[2])\n",
        "    elif j > 20:\n",
        "      # Par con 3 de replica\n",
        "      imagen_aleatoria = random.choice(lista_wn_replica[3])\n",
        "    pares_imagenes.append([imagen_actual, imagen_aleatoria])\n",
        "    labels_imagenes.append([0])"
      ]
    },
    {
      "cell_type": "code",
      "execution_count": null,
      "metadata": {
        "id": "TscSmRLQ8HlJ",
        "colab": {
          "base_uri": "https://localhost:8080/"
        },
        "outputId": "69c85d78-e3f8-4b83-c844-7627ced570f3"
      },
      "outputs": [
        {
          "output_type": "execute_result",
          "data": {
            "text/plain": [
              "(2112, 2112)"
            ]
          },
          "metadata": {},
          "execution_count": 144
        }
      ],
      "source": [
        "len(pares_imagenes), len(labels_imagenes)"
      ]
    },
    {
      "cell_type": "markdown",
      "metadata": {
        "id": "GFkWzLBvoCn9"
      },
      "source": [
        "Creamos los pares positivos del conjunto de pernoflojo (64 pares)"
      ]
    },
    {
      "cell_type": "code",
      "execution_count": null,
      "metadata": {
        "id": "otMjmYfXoFwd"
      },
      "outputs": [],
      "source": [
        "random.seed(100)\n",
        "\n",
        "for i in lista_wn_pernoflojo:\n",
        "  for j in range(24):\n",
        "    imagen_actual = i[j]\n",
        "    imagen_aleatoria = []\n",
        "    if j <= 2:\n",
        "      # Par con 0.5 de pernoflojo\n",
        "      imagen_aleatoria = random.choice(lista_wn_pernoflojo[0])\n",
        "    elif j > 2 and j <= 5:\n",
        "      # Par con 1 de pernoflojo\n",
        "      imagen_aleatoria = random.choice(lista_wn_pernoflojo[1])\n",
        "    elif j > 5 and j <= 8:\n",
        "      # Par con 2 de pernoflojo\n",
        "      imagen_aleatoria = random.choice(lista_wn_pernoflojo[2])\n",
        "    elif j > 8 and j <= 11:\n",
        "      # Par con 3 de pernoflojo\n",
        "      imagen_aleatoria = random.choice(lista_wn_pernoflojo[3])\n",
        "    elif j > 11 and j <= 14:\n",
        "      # Par con 0.5 de fisura\n",
        "      imagen_aleatoria = random.choice(lista_wn_fisura[0])\n",
        "    elif j > 14 and j <= 17:\n",
        "      # Par con 1 de fisura\n",
        "      imagen_aleatoria = random.choice(lista_wn_fisura[1])\n",
        "    elif j > 17 and j <= 20:\n",
        "      # Par con 2 de fisura\n",
        "      imagen_aleatoria = random.choice(lista_wn_fisura[2])\n",
        "    elif j > 20:\n",
        "      # Par con 3 de fisura\n",
        "      imagen_aleatoria = random.choice(lista_wn_fisura[3])\n",
        "    pares_imagenes.append([imagen_actual, imagen_aleatoria])\n",
        "    labels_imagenes.append([1])"
      ]
    },
    {
      "cell_type": "code",
      "execution_count": null,
      "metadata": {
        "id": "LhPR7IqF8LJl",
        "colab": {
          "base_uri": "https://localhost:8080/"
        },
        "outputId": "6f99d3db-142b-4ab1-a7b1-d14dd4624b5c"
      },
      "outputs": [
        {
          "output_type": "execute_result",
          "data": {
            "text/plain": [
              "(2208, 2208)"
            ]
          },
          "metadata": {},
          "execution_count": 146
        }
      ],
      "source": [
        "len(pares_imagenes), len(labels_imagenes)"
      ]
    },
    {
      "cell_type": "markdown",
      "metadata": {
        "id": "sIk9Redkoc27"
      },
      "source": [
        "Creamos pares negativos del conjunto de pernoflojo (64 pares)"
      ]
    },
    {
      "cell_type": "code",
      "execution_count": null,
      "metadata": {
        "id": "Dl6eQ1x7okPN"
      },
      "outputs": [],
      "source": [
        "random.seed(100)\n",
        "\n",
        "for i in lista_wn_pernoflojo:\n",
        "  for j in range(24):\n",
        "    imagen_actual = i[j]\n",
        "    imagen_aleatoria = []\n",
        "    if j <= 2:\n",
        "      # Par con 0.5 de normal\n",
        "      imagen_aleatoria = random.choice(lista_wn_normal[0])\n",
        "    elif j > 2 and j <= 5:\n",
        "      # Par con 1 de normal\n",
        "      imagen_aleatoria = random.choice(lista_wn_normal[1])\n",
        "    elif j > 5 and j <= 8:\n",
        "      # Par con 2 de normal\n",
        "      imagen_aleatoria = random.choice(lista_wn_normal[2])\n",
        "    elif j > 8 and j <= 11:\n",
        "      # Par con 3 de normal\n",
        "      imagen_aleatoria = random.choice(lista_wn_normal[3])\n",
        "    elif j > 11 and j <= 14:\n",
        "      # Par con 0.5 de réplica\n",
        "      imagen_aleatoria = random.choice(lista_wn_replica[0])\n",
        "    elif j > 14 and j <= 17:\n",
        "      # Par con 1 de réplica\n",
        "      imagen_aleatoria = random.choice(lista_wn_replica[1])\n",
        "    elif j > 17 and j <= 20:\n",
        "      # Par con 2 de réplica\n",
        "      imagen_aleatoria = random.choice(lista_wn_replica[2])\n",
        "    elif j > 20:\n",
        "      # Par con 3 de réplica\n",
        "      imagen_aleatoria = random.choice(lista_wn_replica[3])\n",
        "    pares_imagenes.append([imagen_actual, imagen_aleatoria])\n",
        "    labels_imagenes.append([0])"
      ]
    },
    {
      "cell_type": "code",
      "execution_count": null,
      "metadata": {
        "id": "FwOVRJ3a8N_N",
        "colab": {
          "base_uri": "https://localhost:8080/"
        },
        "outputId": "83cb532f-0d0a-4777-b60b-922e8654a9b3"
      },
      "outputs": [
        {
          "output_type": "execute_result",
          "data": {
            "text/plain": [
              "(2304, 2304)"
            ]
          },
          "metadata": {},
          "execution_count": 148
        }
      ],
      "source": [
        "len(pares_imagenes), len(labels_imagenes)"
      ]
    },
    {
      "cell_type": "markdown",
      "metadata": {
        "id": "SjSxGgO4pWtd"
      },
      "source": [
        "Conjunto de prueba final"
      ]
    },
    {
      "cell_type": "code",
      "execution_count": null,
      "metadata": {
        "id": "BQvOZVf7pYEd"
      },
      "outputs": [],
      "source": [
        "(pares_prueba_final, labels_prueba_final) = (np.array(pares_imagenes), np.array(labels_imagenes))"
      ]
    },
    {
      "cell_type": "markdown",
      "metadata": {
        "id": "oWsKgHyFpamB"
      },
      "source": [
        "Prueba de modelo 1 (1 convolucional)"
      ]
    },
    {
      "cell_type": "code",
      "execution_count": null,
      "metadata": {
        "id": "iT_RLxcRpc02"
      },
      "outputs": [],
      "source": [
        "# Guardamos las predicciones en una variable\n",
        "predicciones_final = model_1.predict([pares_prueba_final[:, 0], pares_prueba_final[:, 1]])"
      ]
    },
    {
      "cell_type": "code",
      "execution_count": null,
      "metadata": {
        "id": "03ZIza3ipema"
      },
      "outputs": [],
      "source": [
        "# Redondeamos los valores predecidos para poder compararlos con los valores reales\n",
        "for i in range(len(predicciones_final)):\n",
        "  predicciones_final[i][0] = round(predicciones_final[i][0])"
      ]
    },
    {
      "cell_type": "code",
      "execution_count": null,
      "metadata": {
        "colab": {
          "base_uri": "https://localhost:8080/",
          "height": 297
        },
        "id": "joIuTqo4pjdt",
        "outputId": "015402c2-3d30-4ff6-d550-b45bcedd200b"
      },
      "outputs": [
        {
          "output_type": "display_data",
          "data": {
            "text/plain": [
              "<Figure size 288x288 with 1 Axes>"
            ],
            "image/png": "[encoded data removed]"
          },
          "metadata": {}
        }
      ],
      "source": [
        "# Graficamos la matriz de confusión\n",
        "plot_conf_mat(labels_imagenes, predicciones_final)\n",
        "plt.savefig('cm_sanoFallo_conv1_70_pdf_prueba.pdf', bbox_inches='tight')"
      ]
    },
    {
      "cell_type": "markdown",
      "metadata": {
        "id": "u2_LBKuTpkku"
      },
      "source": [
        "Prueba de modelo 2 (2 convolucionales)"
      ]
    },
    {
      "cell_type": "code",
      "execution_count": null,
      "metadata": {
        "id": "eP43ZUdSpnZ1"
      },
      "outputs": [],
      "source": [
        "predicciones_final_2 = model_2.predict([pares_prueba_final[:, 0], pares_prueba_final[:, 1]])"
      ]
    },
    {
      "cell_type": "code",
      "execution_count": null,
      "metadata": {
        "id": "Ti00AwANpqGL"
      },
      "outputs": [],
      "source": [
        "# Redondeamos los valores predecidos para poder compararlos con los valores reales\n",
        "for i in range(len(predicciones_final_2)):\n",
        "  predicciones_final_2[i][0] = round(predicciones_final_2[i][0])"
      ]
    },
    {
      "cell_type": "code",
      "execution_count": null,
      "metadata": {
        "id": "3tzVLaMDprqn",
        "colab": {
          "base_uri": "https://localhost:8080/",
          "height": 297
        },
        "outputId": "7b5ea710-bd9d-4cb7-c478-409b85c94a64"
      },
      "outputs": [
        {
          "output_type": "display_data",
          "data": {
            "text/plain": [
              "<Figure size 288x288 with 1 Axes>"
            ],
            "image/png": "[encoded data removed]"
          },
          "metadata": {}
        }
      ],
      "source": [
        "# Graficamos la matriz de confusión\n",
        "plot_conf_mat(labels_imagenes, predicciones_final_2)\n",
        "plt.savefig('cm_sanoFallo_conv2_70_pdf_prueba.pdf', bbox_inches='tight')"
      ]
    },
    {
      "cell_type": "markdown",
      "metadata": {
        "id": "qr327eV_puen"
      },
      "source": [
        "Visualizamos las predicciones para determinar el rendimiento por White Noise"
      ]
    },
    {
      "cell_type": "code",
      "execution_count": null,
      "metadata": {
        "id": "GzB-24TfpxgO"
      },
      "outputs": [],
      "source": [
        "len(predicciones_final)"
      ]
    },
    {
      "cell_type": "code",
      "execution_count": null,
      "metadata": {
        "id": "3vRDmC7bpyzO"
      },
      "outputs": [],
      "source": [
        "predicciones_final == labels_imagenes"
      ]
    },
    {
      "cell_type": "code",
      "execution_count": null,
      "metadata": {
        "id": "yMCm6wJsp1fZ"
      },
      "outputs": [],
      "source": [
        "verificar_pandas = pd.DataFrame(predicciones_final == labels_imagenes)"
      ]
    },
    {
      "cell_type": "code",
      "execution_count": null,
      "metadata": {
        "colab": {
          "base_uri": "https://localhost:8080/",
          "height": 423
        },
        "id": "zDNTTWNep20B",
        "outputId": "4994b902-54ee-42ef-d25a-33d92047fae7"
      },
      "outputs": [
        {
          "data": {
            "text/html": [
              "\n",
              "  <div id=\"df-e6ad2130-6030-4368-b2e7-89880890c6a3\">\n",
              "    <div class=\"colab-df-container\">\n",
              "      <div>\n",
              "<style scoped>\n",
              "    .dataframe tbody tr th:only-of-type {\n",
              "        vertical-align: middle;\n",
              "    }\n",
              "\n",
              "    .dataframe tbody tr th {\n",
              "        vertical-align: top;\n",
              "    }\n",
              "\n",
              "    .dataframe thead th {\n",
              "        text-align: right;\n",
              "    }\n",
              "</style>\n",
              "<table border=\"1\" class=\"dataframe\">\n",
              "  <thead>\n",
              "    <tr style=\"text-align: right;\">\n",
              "      <th></th>\n",
              "      <th>0</th>\n",
              "    </tr>\n",
              "  </thead>\n",
              "  <tbody>\n",
              "    <tr>\n",
              "      <th>0</th>\n",
              "      <td>True</td>\n",
              "    </tr>\n",
              "    <tr>\n",
              "      <th>1</th>\n",
              "      <td>True</td>\n",
              "    </tr>\n",
              "    <tr>\n",
              "      <th>2</th>\n",
              "      <td>True</td>\n",
              "    </tr>\n",
              "    <tr>\n",
              "      <th>3</th>\n",
              "      <td>True</td>\n",
              "    </tr>\n",
              "    <tr>\n",
              "      <th>4</th>\n",
              "      <td>True</td>\n",
              "    </tr>\n",
              "    <tr>\n",
              "      <th>...</th>\n",
              "      <td>...</td>\n",
              "    </tr>\n",
              "    <tr>\n",
              "      <th>1531</th>\n",
              "      <td>True</td>\n",
              "    </tr>\n",
              "    <tr>\n",
              "      <th>1532</th>\n",
              "      <td>True</td>\n",
              "    </tr>\n",
              "    <tr>\n",
              "      <th>1533</th>\n",
              "      <td>True</td>\n",
              "    </tr>\n",
              "    <tr>\n",
              "      <th>1534</th>\n",
              "      <td>True</td>\n",
              "    </tr>\n",
              "    <tr>\n",
              "      <th>1535</th>\n",
              "      <td>True</td>\n",
              "    </tr>\n",
              "  </tbody>\n",
              "</table>\n",
              "<p>1536 rows × 1 columns</p>\n",
              "</div>\n",
              "      <button class=\"colab-df-convert\" onclick=\"convertToInteractive('df-e6ad2130-6030-4368-b2e7-89880890c6a3')\"\n",
              "              title=\"Convert this dataframe to an interactive table.\"\n",
              "              style=\"display:none;\">\n",
              "        \n",
              "  <svg xmlns=\"http://www.w3.org/2000/svg\" height=\"24px\"viewBox=\"0 0 24 24\"\n",
              "       width=\"24px\">\n",
              "    <path d=\"M0 0h24v24H0V0z\" fill=\"none\"/>\n",
              "    <path d=\"M18.56 5.44l.94 2.06.94-2.06 2.06-.94-2.06-.94-.94-2.06-.94 2.06-2.06.94zm-11 1L8.5 8.5l.94-2.06 2.06-.94-2.06-.94L8.5 2.5l-.94 2.06-2.06.94zm10 10l.94 2.06.94-2.06 2.06-.94-2.06-.94-.94-2.06-.94 2.06-2.06.94z\"/><path d=\"M17.41 7.96l-1.37-1.37c-.4-.4-.92-.59-1.43-.59-.52 0-1.04.2-1.43.59L10.3 9.45l-7.72 7.72c-.78.78-.78 2.05 0 2.83L4 21.41c.39.39.9.59 1.41.59.51 0 1.02-.2 1.41-.59l7.78-7.78 2.81-2.81c.8-.78.8-2.07 0-2.86zM5.41 20L4 18.59l7.72-7.72 1.47 1.35L5.41 20z\"/>\n",
              "  </svg>\n",
              "      </button>\n",
              "      \n",
              "  <style>\n",
              "    .colab-df-container {\n",
              "      display:flex;\n",
              "      flex-wrap:wrap;\n",
              "      gap: 12px;\n",
              "    }\n",
              "\n",
              "    .colab-df-convert {\n",
              "      background-color: #E8F0FE;\n",
              "      border: none;\n",
              "      border-radius: 50%;\n",
              "      cursor: pointer;\n",
              "      display: none;\n",
              "      fill: #1967D2;\n",
              "      height: 32px;\n",
              "      padding: 0 0 0 0;\n",
              "      width: 32px;\n",
              "    }\n",
              "\n",
              "    .colab-df-convert:hover {\n",
              "      background-color: #E2EBFA;\n",
              "      box-shadow: 0px 1px 2px rgba(60, 64, 67, 0.3), 0px 1px 3px 1px rgba(60, 64, 67, 0.15);\n",
              "      fill: #174EA6;\n",
              "    }\n",
              "\n",
              "    [theme=dark] .colab-df-convert {\n",
              "      background-color: #3B4455;\n",
              "      fill: #D2E3FC;\n",
              "    }\n",
              "\n",
              "    [theme=dark] .colab-df-convert:hover {\n",
              "      background-color: #434B5C;\n",
              "      box-shadow: 0px 1px 3px 1px rgba(0, 0, 0, 0.15);\n",
              "      filter: drop-shadow(0px 1px 2px rgba(0, 0, 0, 0.3));\n",
              "      fill: #FFFFFF;\n",
              "    }\n",
              "  </style>\n",
              "\n",
              "      <script>\n",
              "        const buttonEl =\n",
              "          document.querySelector('#df-e6ad2130-6030-4368-b2e7-89880890c6a3 button.colab-df-convert');\n",
              "        buttonEl.style.display =\n",
              "          google.colab.kernel.accessAllowed ? 'block' : 'none';\n",
              "\n",
              "        async function convertToInteractive(key) {\n",
              "          const element = document.querySelector('#df-e6ad2130-6030-4368-b2e7-89880890c6a3');\n",
              "          const dataTable =\n",
              "            await google.colab.kernel.invokeFunction('convertToInteractive',\n",
              "                                                     [key], {});\n",
              "          if (!dataTable) return;\n",
              "\n",
              "          const docLinkHtml = 'Like what you see? Visit the ' +\n",
              "            '<a target=\"_blank\" href=https://colab.research.google.com/notebooks/data_table.ipynb>data table notebook</a>'\n",
              "            + ' to learn more about interactive tables.';\n",
              "          element.innerHTML = '';\n",
              "          dataTable['output_type'] = 'display_data';\n",
              "          await google.colab.output.renderOutput(dataTable, element);\n",
              "          const docLink = document.createElement('div');\n",
              "          docLink.innerHTML = docLinkHtml;\n",
              "          element.appendChild(docLink);\n",
              "        }\n",
              "      </script>\n",
              "    </div>\n",
              "  </div>\n",
              "  "
            ],
            "text/plain": [
              "         0\n",
              "0     True\n",
              "1     True\n",
              "2     True\n",
              "3     True\n",
              "4     True\n",
              "...    ...\n",
              "1531  True\n",
              "1532  True\n",
              "1533  True\n",
              "1534  True\n",
              "1535  True\n",
              "\n",
              "[1536 rows x 1 columns]"
            ]
          },
          "execution_count": 158,
          "metadata": {},
          "output_type": "execute_result"
        }
      ],
      "source": [
        "verificar_pandas"
      ]
    },
    {
      "cell_type": "code",
      "execution_count": null,
      "metadata": {
        "id": "fGXSuEQzqDsr"
      },
      "outputs": [],
      "source": [
        "verificar_pandas.to_excel(\"verificar_Sano_Fallo.xlsx\")"
      ]
    }
  ],
  "metadata": {
    "colab": {
      "provenance": [],
      "authorship_tag": "ABX9TyNX7/nd4oLF3WxC6HJwxT/O"
    },
    "kernelspec": {
      "display_name": "Python 3",
      "name": "python3"
    },
    "language_info": {
      "name": "python"
    }
  },
  "nbformat": 4,
  "nbformat_minor": 0
}