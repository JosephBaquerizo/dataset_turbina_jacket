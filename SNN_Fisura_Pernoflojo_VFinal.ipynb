{
  "nbformat": 4,
  "nbformat_minor": 0,
  "metadata": {
    "colab": {
      "provenance": [],
      "authorship_tag": "ABX9TyPQK3MqyhiR/XaXuncTMPxQ"
    },
    "kernelspec": {
      "name": "python3",
      "display_name": "Python 3"
    },
    "language_info": {
      "name": "python"
    }
  },
  "cells": [
    {
      "cell_type": "markdown",
      "metadata": {
        "id": "_sR-AYoszcLQ"
      },
      "source": [
        "## Importaciones"
      ]
    },
    {
      "cell_type": "code",
      "metadata": {
        "id": "UPoaA2BczVVb"
      },
      "source": [
        "from google.colab import drive\n",
        "from os import listdir\n",
        "from os.path import isfile, join\n",
        "from scipy.io import loadmat\n",
        "from random import randint\n",
        "from sklearn.utils import shuffle\n",
        "from sklearn.metrics import confusion_matrix, classification_report\n",
        "\n",
        "import seaborn as sns\n",
        "import matplotlib.pyplot as plt\n",
        "import tensorflow as tf\n",
        "import tensorflow.keras.backend as K\n",
        "import pandas as pd\n",
        "import numpy as np\n",
        "import random\n",
        "\n",
        "import datetime\n",
        "import os"
      ],
      "execution_count": null,
      "outputs": []
    },
    {
      "cell_type": "markdown",
      "metadata": {
        "id": "THARwFnRz-Xx"
      },
      "source": [
        "## Obtención de Datos"
      ]
    },
    {
      "cell_type": "code",
      "metadata": {
        "colab": {
          "base_uri": "https://localhost:8080/"
        },
        "id": "HieJoUHh0ABW",
        "outputId": "7654148f-2ab1-4a0f-8f55-95a0e8634b69"
      },
      "source": [
        "# Establecemos conexión con Google Drive para acceder a la carpeta de datasets\n",
        "drive.mount('/content/drive')"
      ],
      "execution_count": null,
      "outputs": [
        {
          "output_type": "stream",
          "name": "stdout",
          "text": [
            "Drive already mounted at /content/drive; to attempt to forcibly remount, call drive.mount(\"/content/drive\", force_remount=True).\n"
          ]
        }
      ]
    },
    {
      "cell_type": "code",
      "metadata": {
        "id": "rXvHVxIU0CYk"
      },
      "source": [
        "# Guardamos la dirección de los datasets (experimentos) en una variable para utilizala posteriormente\n",
        "dataset_datos_dir = 'drive/MyDrive/DATOS_EXPERIMENTALES_JACKET/DATOS'"
      ],
      "execution_count": null,
      "outputs": []
    },
    {
      "cell_type": "code",
      "metadata": {
        "id": "7M14oPac0RZs"
      },
      "source": [
        "# Obtenemos una lista con todos los nombres de los archivos relacionados a los experimentos realizados\n",
        "dataset_datos_files = [dataset_datos_dir+'/'+filename for filename in listdir(dataset_datos_dir) if isfile(join(dataset_datos_dir, filename))]"
      ],
      "execution_count": null,
      "outputs": []
    },
    {
      "cell_type": "code",
      "metadata": {
        "id": "3t1i0rst0T9O"
      },
      "source": [
        "# Creamos listas en donde se almacenarán los archivos relacionados a experimentos de fisura y experimentos de perno flojo respectivamente\n",
        "datos_fisura = []\n",
        "datos_pernoflojo = []"
      ],
      "execution_count": null,
      "outputs": []
    },
    {
      "cell_type": "code",
      "metadata": {
        "id": "UBZmoNfe0VOi"
      },
      "source": [
        "# Iteramos los nombres de todos los archivos en la lista general previamente creada\n",
        "for filename in listdir(dataset_datos_dir):\n",
        "  # Obtenemos el nombre del archivo tal cual, sin direcciones previas\n",
        "  if isfile(join(dataset_datos_dir, filename)):\n",
        "    nombre_archivo = filename.split('.')[0]\n",
        "    # El estado de fisura se asocia al número 3 en los nombres de los archivos, si cumple la condición el archivo, guardamos en la lista datos_fisura\n",
        "    if (nombre_archivo.split('_')[0] == '3'):\n",
        "      datos_fisura.append(dataset_datos_dir + '/' + filename)\n",
        "    # El estado de fisura se asocia al número 4 en los nombres de los archivos, si cumple la condición el archivo, guardamos en la lista datos_pernoflojo\n",
        "    elif (nombre_archivo.split('_')[0] == '4'):\n",
        "      datos_pernoflojo.append(dataset_datos_dir + '/' + filename)"
      ],
      "execution_count": null,
      "outputs": []
    },
    {
      "cell_type": "markdown",
      "metadata": {
        "id": "C5msURIh0XnD"
      },
      "source": [
        "## Datos Fisura"
      ]
    },
    {
      "cell_type": "code",
      "metadata": {
        "id": "df--q6T90W0a"
      },
      "source": [
        "# Se crean 2 listas, una asociada al número de experimento y otra asociada al nivel de white noise presente durante el experimento \n",
        "numero_experimentos_fisura = []\n",
        "amplitud_experimentos_fisura = []"
      ],
      "execution_count": null,
      "outputs": []
    },
    {
      "cell_type": "code",
      "metadata": {
        "id": "f4ymIcSI0cX7"
      },
      "source": [
        "# Iteramos los nombres de los archivos dentro del conjunto que contiene los datos de fisura\n",
        "for nombre_archivo in datos_fisura:\n",
        "  # Obtenemos el nombre del experimento\n",
        "  nombre_experimento = nombre_archivo.split('/')[4]\n",
        "  # Obtenemos el número del experimento\n",
        "  numero_experimento = nombre_experimento.split('_')[1]\n",
        "  # Obtenemos el nivel de white noise del experimento\n",
        "  amplitud_experimento = nombre_experimento.split('.')[0].split('_')[2].replace('A', '')\n",
        "  # Agregamos el número del experimento a la lista numero_experimentos_fisura creada anteriormente\n",
        "  numero_experimentos_fisura.append(int(numero_experimento))\n",
        "  # Agregamos el nivel de white noise del experimento a la lista amplitud_experimentos_fisura creada anteriormente\n",
        "  if amplitud_experimento == '05':\n",
        "    amplitud_experimento = 0.5\n",
        "    amplitud_experimentos_fisura.append(amplitud_experimento)\n",
        "  else:\n",
        "    amplitud_experimentos_fisura.append(int(amplitud_experimento))"
      ],
      "execution_count": null,
      "outputs": []
    },
    {
      "cell_type": "code",
      "metadata": {
        "id": "jnST37DA0d5X"
      },
      "source": [
        "# Creamos un DataFrame vacío\n",
        "df_fisura = pd.DataFrame()"
      ],
      "execution_count": null,
      "outputs": []
    },
    {
      "cell_type": "code",
      "metadata": {
        "id": "skTdAqcd0fpI"
      },
      "source": [
        "# Iteramos por rango la lista datos_fisura\n",
        "for indice in range(len(datos_fisura)):\n",
        "  # Obtenemos la dirección dentro de la iteración correspondiente\n",
        "  direccion = datos_fisura[indice]\n",
        "  # Transformamos el .mat a un formato en el que se pueda transformar a DataFrame\n",
        "  mat = loadmat(direccion)\n",
        "  df = pd.DataFrame(mat['data'])\n",
        "  # Para todos los valores del experimento, creamos columnas en donde sus valores se asocian con el nivel de wn y el # de experimento\n",
        "  df['#_exp'] = numero_experimentos_fisura[indice]\n",
        "  df['amplitud'] = amplitud_experimentos_fisura[indice]\n",
        "  # Colocamos al final del DataFrame df_fisura creado el nuevo DataFrame \n",
        "  df_fisura = pd.concat([df_fisura, df], axis = 0)"
      ],
      "execution_count": null,
      "outputs": []
    },
    {
      "cell_type": "code",
      "metadata": {
        "colab": {
          "base_uri": "https://localhost:8080/",
          "height": 330
        },
        "id": "Cc-3T19m0hLh",
        "outputId": "900735f0-1b20-4474-cf47-51b9b67317a8"
      },
      "source": [
        "# Revisamos el conjunto de datos obtenido para fisura\n",
        "df_fisura.head(8)"
      ],
      "execution_count": null,
      "outputs": [
        {
          "output_type": "execute_result",
          "data": {
            "text/plain": [
              "          0         1         2         3         4         5         6  \\\n",
              "0  0.000132  0.000185  0.000122  0.000105  0.000141  0.000075  0.000007   \n",
              "1  0.000092  0.000223  0.000166  0.000127  0.000191  0.000137  0.000075   \n",
              "2  0.000091  0.000280  0.000188  0.000130  0.000172  0.000102  0.000161   \n",
              "3  0.000179  0.000199  0.000249  0.000102  0.000268  0.000140  0.000126   \n",
              "4  0.000282  0.000277  0.000202  0.000211  0.000251  0.000159  0.000096   \n",
              "5  0.000005  0.000196  0.000247  0.000109  0.000186  0.000115  0.000042   \n",
              "6  0.000176  0.000372  0.000223  0.000154  0.000258  0.000165  0.000170   \n",
              "7  0.000133  0.000171  0.000187  0.000182  0.000237  0.000159  0.000121   \n",
              "\n",
              "          7         8         9  ...        16        17        18        19  \\\n",
              "0  0.000231  0.000299  0.000113  ... -0.000017  0.000046  0.000200  0.000169   \n",
              "1  0.000192  0.000240  0.000095  ...  0.000085  0.000074  0.000128  0.000163   \n",
              "2  0.000158  0.000211  0.000123  ...  0.000011  0.000079  0.000117  0.000146   \n",
              "3  0.000231  0.000239  0.000102  ...  0.000031  0.000079  0.000257  0.000110   \n",
              "4  0.000205  0.000342  0.000113  ...  0.000047  0.000150  0.000271  0.000168   \n",
              "5  0.000129  0.000255  0.000108  ... -0.000008  0.000081  0.000173  0.000165   \n",
              "6  0.000157  0.000228  0.000126  ...  0.000065  0.000070  0.000140  0.000145   \n",
              "7  0.000280  0.000293  0.000096  ... -0.000004  0.000102  0.000201  0.000193   \n",
              "\n",
              "         20        21        22        23  #_exp  amplitud  \n",
              "0  0.000097  0.000196 -0.000053  0.000018      1       1.0  \n",
              "1  0.000074  0.000085  0.000063 -0.000027      1       1.0  \n",
              "2  0.000085  0.000089 -0.000014  0.000020      1       1.0  \n",
              "3  0.000050  0.000120  0.000080  0.000057      1       1.0  \n",
              "4  0.000126  0.000224  0.000105  0.000058      1       1.0  \n",
              "5  0.000126  0.000107 -0.000012  0.000006      1       1.0  \n",
              "6  0.000099  0.000115  0.000068 -0.000031      1       1.0  \n",
              "7  0.000180  0.000171 -0.000009  0.000095      1       1.0  \n",
              "\n",
              "[8 rows x 26 columns]"
            ],
            "text/html": [
              "\n",
              "  <div id=\"df-260e5375-e110-49f6-9048-674acfb0f8f6\">\n",
              "    <div class=\"colab-df-container\">\n",
              "      <div>\n",
              "<style scoped>\n",
              "    .dataframe tbody tr th:only-of-type {\n",
              "        vertical-align: middle;\n",
              "    }\n",
              "\n",
              "    .dataframe tbody tr th {\n",
              "        vertical-align: top;\n",
              "    }\n",
              "\n",
              "    .dataframe thead th {\n",
              "        text-align: right;\n",
              "    }\n",
              "</style>\n",
              "<table border=\"1\" class=\"dataframe\">\n",
              "  <thead>\n",
              "    <tr style=\"text-align: right;\">\n",
              "      <th></th>\n",
              "      <th>0</th>\n",
              "      <th>1</th>\n",
              "      <th>2</th>\n",
              "      <th>3</th>\n",
              "      <th>4</th>\n",
              "      <th>5</th>\n",
              "      <th>6</th>\n",
              "      <th>7</th>\n",
              "      <th>8</th>\n",
              "      <th>9</th>\n",
              "      <th>...</th>\n",
              "      <th>16</th>\n",
              "      <th>17</th>\n",
              "      <th>18</th>\n",
              "      <th>19</th>\n",
              "      <th>20</th>\n",
              "      <th>21</th>\n",
              "      <th>22</th>\n",
              "      <th>23</th>\n",
              "      <th>#_exp</th>\n",
              "      <th>amplitud</th>\n",
              "    </tr>\n",
              "  </thead>\n",
              "  <tbody>\n",
              "    <tr>\n",
              "      <th>0</th>\n",
              "      <td>0.000132</td>\n",
              "      <td>0.000185</td>\n",
              "      <td>0.000122</td>\n",
              "      <td>0.000105</td>\n",
              "      <td>0.000141</td>\n",
              "      <td>0.000075</td>\n",
              "      <td>0.000007</td>\n",
              "      <td>0.000231</td>\n",
              "      <td>0.000299</td>\n",
              "      <td>0.000113</td>\n",
              "      <td>...</td>\n",
              "      <td>-0.000017</td>\n",
              "      <td>0.000046</td>\n",
              "      <td>0.000200</td>\n",
              "      <td>0.000169</td>\n",
              "      <td>0.000097</td>\n",
              "      <td>0.000196</td>\n",
              "      <td>-0.000053</td>\n",
              "      <td>0.000018</td>\n",
              "      <td>1</td>\n",
              "      <td>1.0</td>\n",
              "    </tr>\n",
              "    <tr>\n",
              "      <th>1</th>\n",
              "      <td>0.000092</td>\n",
              "      <td>0.000223</td>\n",
              "      <td>0.000166</td>\n",
              "      <td>0.000127</td>\n",
              "      <td>0.000191</td>\n",
              "      <td>0.000137</td>\n",
              "      <td>0.000075</td>\n",
              "      <td>0.000192</td>\n",
              "      <td>0.000240</td>\n",
              "      <td>0.000095</td>\n",
              "      <td>...</td>\n",
              "      <td>0.000085</td>\n",
              "      <td>0.000074</td>\n",
              "      <td>0.000128</td>\n",
              "      <td>0.000163</td>\n",
              "      <td>0.000074</td>\n",
              "      <td>0.000085</td>\n",
              "      <td>0.000063</td>\n",
              "      <td>-0.000027</td>\n",
              "      <td>1</td>\n",
              "      <td>1.0</td>\n",
              "    </tr>\n",
              "    <tr>\n",
              "      <th>2</th>\n",
              "      <td>0.000091</td>\n",
              "      <td>0.000280</td>\n",
              "      <td>0.000188</td>\n",
              "      <td>0.000130</td>\n",
              "      <td>0.000172</td>\n",
              "      <td>0.000102</td>\n",
              "      <td>0.000161</td>\n",
              "      <td>0.000158</td>\n",
              "      <td>0.000211</td>\n",
              "      <td>0.000123</td>\n",
              "      <td>...</td>\n",
              "      <td>0.000011</td>\n",
              "      <td>0.000079</td>\n",
              "      <td>0.000117</td>\n",
              "      <td>0.000146</td>\n",
              "      <td>0.000085</td>\n",
              "      <td>0.000089</td>\n",
              "      <td>-0.000014</td>\n",
              "      <td>0.000020</td>\n",
              "      <td>1</td>\n",
              "      <td>1.0</td>\n",
              "    </tr>\n",
              "    <tr>\n",
              "      <th>3</th>\n",
              "      <td>0.000179</td>\n",
              "      <td>0.000199</td>\n",
              "      <td>0.000249</td>\n",
              "      <td>0.000102</td>\n",
              "      <td>0.000268</td>\n",
              "      <td>0.000140</td>\n",
              "      <td>0.000126</td>\n",
              "      <td>0.000231</td>\n",
              "      <td>0.000239</td>\n",
              "      <td>0.000102</td>\n",
              "      <td>...</td>\n",
              "      <td>0.000031</td>\n",
              "      <td>0.000079</td>\n",
              "      <td>0.000257</td>\n",
              "      <td>0.000110</td>\n",
              "      <td>0.000050</td>\n",
              "      <td>0.000120</td>\n",
              "      <td>0.000080</td>\n",
              "      <td>0.000057</td>\n",
              "      <td>1</td>\n",
              "      <td>1.0</td>\n",
              "    </tr>\n",
              "    <tr>\n",
              "      <th>4</th>\n",
              "      <td>0.000282</td>\n",
              "      <td>0.000277</td>\n",
              "      <td>0.000202</td>\n",
              "      <td>0.000211</td>\n",
              "      <td>0.000251</td>\n",
              "      <td>0.000159</td>\n",
              "      <td>0.000096</td>\n",
              "      <td>0.000205</td>\n",
              "      <td>0.000342</td>\n",
              "      <td>0.000113</td>\n",
              "      <td>...</td>\n",
              "      <td>0.000047</td>\n",
              "      <td>0.000150</td>\n",
              "      <td>0.000271</td>\n",
              "      <td>0.000168</td>\n",
              "      <td>0.000126</td>\n",
              "      <td>0.000224</td>\n",
              "      <td>0.000105</td>\n",
              "      <td>0.000058</td>\n",
              "      <td>1</td>\n",
              "      <td>1.0</td>\n",
              "    </tr>\n",
              "    <tr>\n",
              "      <th>5</th>\n",
              "      <td>0.000005</td>\n",
              "      <td>0.000196</td>\n",
              "      <td>0.000247</td>\n",
              "      <td>0.000109</td>\n",
              "      <td>0.000186</td>\n",
              "      <td>0.000115</td>\n",
              "      <td>0.000042</td>\n",
              "      <td>0.000129</td>\n",
              "      <td>0.000255</td>\n",
              "      <td>0.000108</td>\n",
              "      <td>...</td>\n",
              "      <td>-0.000008</td>\n",
              "      <td>0.000081</td>\n",
              "      <td>0.000173</td>\n",
              "      <td>0.000165</td>\n",
              "      <td>0.000126</td>\n",
              "      <td>0.000107</td>\n",
              "      <td>-0.000012</td>\n",
              "      <td>0.000006</td>\n",
              "      <td>1</td>\n",
              "      <td>1.0</td>\n",
              "    </tr>\n",
              "    <tr>\n",
              "      <th>6</th>\n",
              "      <td>0.000176</td>\n",
              "      <td>0.000372</td>\n",
              "      <td>0.000223</td>\n",
              "      <td>0.000154</td>\n",
              "      <td>0.000258</td>\n",
              "      <td>0.000165</td>\n",
              "      <td>0.000170</td>\n",
              "      <td>0.000157</td>\n",
              "      <td>0.000228</td>\n",
              "      <td>0.000126</td>\n",
              "      <td>...</td>\n",
              "      <td>0.000065</td>\n",
              "      <td>0.000070</td>\n",
              "      <td>0.000140</td>\n",
              "      <td>0.000145</td>\n",
              "      <td>0.000099</td>\n",
              "      <td>0.000115</td>\n",
              "      <td>0.000068</td>\n",
              "      <td>-0.000031</td>\n",
              "      <td>1</td>\n",
              "      <td>1.0</td>\n",
              "    </tr>\n",
              "    <tr>\n",
              "      <th>7</th>\n",
              "      <td>0.000133</td>\n",
              "      <td>0.000171</td>\n",
              "      <td>0.000187</td>\n",
              "      <td>0.000182</td>\n",
              "      <td>0.000237</td>\n",
              "      <td>0.000159</td>\n",
              "      <td>0.000121</td>\n",
              "      <td>0.000280</td>\n",
              "      <td>0.000293</td>\n",
              "      <td>0.000096</td>\n",
              "      <td>...</td>\n",
              "      <td>-0.000004</td>\n",
              "      <td>0.000102</td>\n",
              "      <td>0.000201</td>\n",
              "      <td>0.000193</td>\n",
              "      <td>0.000180</td>\n",
              "      <td>0.000171</td>\n",
              "      <td>-0.000009</td>\n",
              "      <td>0.000095</td>\n",
              "      <td>1</td>\n",
              "      <td>1.0</td>\n",
              "    </tr>\n",
              "  </tbody>\n",
              "</table>\n",
              "<p>8 rows × 26 columns</p>\n",
              "</div>\n",
              "      <button class=\"colab-df-convert\" onclick=\"convertToInteractive('df-260e5375-e110-49f6-9048-674acfb0f8f6')\"\n",
              "              title=\"Convert this dataframe to an interactive table.\"\n",
              "              style=\"display:none;\">\n",
              "        \n",
              "  <svg xmlns=\"http://www.w3.org/2000/svg\" height=\"24px\"viewBox=\"0 0 24 24\"\n",
              "       width=\"24px\">\n",
              "    <path d=\"M0 0h24v24H0V0z\" fill=\"none\"/>\n",
              "    <path d=\"M18.56 5.44l.94 2.06.94-2.06 2.06-.94-2.06-.94-.94-2.06-.94 2.06-2.06.94zm-11 1L8.5 8.5l.94-2.06 2.06-.94-2.06-.94L8.5 2.5l-.94 2.06-2.06.94zm10 10l.94 2.06.94-2.06 2.06-.94-2.06-.94-.94-2.06-.94 2.06-2.06.94z\"/><path d=\"M17.41 7.96l-1.37-1.37c-.4-.4-.92-.59-1.43-.59-.52 0-1.04.2-1.43.59L10.3 9.45l-7.72 7.72c-.78.78-.78 2.05 0 2.83L4 21.41c.39.39.9.59 1.41.59.51 0 1.02-.2 1.41-.59l7.78-7.78 2.81-2.81c.8-.78.8-2.07 0-2.86zM5.41 20L4 18.59l7.72-7.72 1.47 1.35L5.41 20z\"/>\n",
              "  </svg>\n",
              "      </button>\n",
              "      \n",
              "  <style>\n",
              "    .colab-df-container {\n",
              "      display:flex;\n",
              "      flex-wrap:wrap;\n",
              "      gap: 12px;\n",
              "    }\n",
              "\n",
              "    .colab-df-convert {\n",
              "      background-color: #E8F0FE;\n",
              "      border: none;\n",
              "      border-radius: 50%;\n",
              "      cursor: pointer;\n",
              "      display: none;\n",
              "      fill: #1967D2;\n",
              "      height: 32px;\n",
              "      padding: 0 0 0 0;\n",
              "      width: 32px;\n",
              "    }\n",
              "\n",
              "    .colab-df-convert:hover {\n",
              "      background-color: #E2EBFA;\n",
              "      box-shadow: 0px 1px 2px rgba(60, 64, 67, 0.3), 0px 1px 3px 1px rgba(60, 64, 67, 0.15);\n",
              "      fill: #174EA6;\n",
              "    }\n",
              "\n",
              "    [theme=dark] .colab-df-convert {\n",
              "      background-color: #3B4455;\n",
              "      fill: #D2E3FC;\n",
              "    }\n",
              "\n",
              "    [theme=dark] .colab-df-convert:hover {\n",
              "      background-color: #434B5C;\n",
              "      box-shadow: 0px 1px 3px 1px rgba(0, 0, 0, 0.15);\n",
              "      filter: drop-shadow(0px 1px 2px rgba(0, 0, 0, 0.3));\n",
              "      fill: #FFFFFF;\n",
              "    }\n",
              "  </style>\n",
              "\n",
              "      <script>\n",
              "        const buttonEl =\n",
              "          document.querySelector('#df-260e5375-e110-49f6-9048-674acfb0f8f6 button.colab-df-convert');\n",
              "        buttonEl.style.display =\n",
              "          google.colab.kernel.accessAllowed ? 'block' : 'none';\n",
              "\n",
              "        async function convertToInteractive(key) {\n",
              "          const element = document.querySelector('#df-260e5375-e110-49f6-9048-674acfb0f8f6');\n",
              "          const dataTable =\n",
              "            await google.colab.kernel.invokeFunction('convertToInteractive',\n",
              "                                                     [key], {});\n",
              "          if (!dataTable) return;\n",
              "\n",
              "          const docLinkHtml = 'Like what you see? Visit the ' +\n",
              "            '<a target=\"_blank\" href=https://colab.research.google.com/notebooks/data_table.ipynb>data table notebook</a>'\n",
              "            + ' to learn more about interactive tables.';\n",
              "          element.innerHTML = '';\n",
              "          dataTable['output_type'] = 'display_data';\n",
              "          await google.colab.output.renderOutput(dataTable, element);\n",
              "          const docLink = document.createElement('div');\n",
              "          docLink.innerHTML = docLinkHtml;\n",
              "          element.appendChild(docLink);\n",
              "        }\n",
              "      </script>\n",
              "    </div>\n",
              "  </div>\n",
              "  "
            ]
          },
          "metadata": {},
          "execution_count": 11
        }
      ]
    },
    {
      "cell_type": "code",
      "metadata": {
        "colab": {
          "base_uri": "https://localhost:8080/"
        },
        "id": "MgWc_6MR0jBH",
        "outputId": "0f890a20-5933-46d8-f784-f6c77d5583e1"
      },
      "source": [
        "# Si dividimos para 99097 el df_fisura deberíamos obtener 20 experimentos en total\n",
        "len(df_fisura)/99097"
      ],
      "execution_count": null,
      "outputs": [
        {
          "output_type": "execute_result",
          "data": {
            "text/plain": [
              "20.0"
            ]
          },
          "metadata": {},
          "execution_count": 12
        }
      ]
    },
    {
      "cell_type": "code",
      "metadata": {
        "id": "XDkZgVJg0kmt"
      },
      "source": [
        "# Establecemos 2 listas, una con los posibles experimentos y otra con los posibles niveles de white noise, lo cual nos ayudará a segmentar los datos\n",
        "experimentos = [1, 2, 3, 4, 5]\n",
        "wns = [0.5, 1, 2, 3]\n",
        "# Creamos una lista en donde pondremos todas las imágenes creadas, segmentadas por experimento y white noise\n",
        "arreglo_imagenes_por_experimento_fisura = []\n",
        "\n",
        "# Iteramos por experimento y por nivel de white noise\n",
        "for i in experimentos:\n",
        "  for j in wns:\n",
        "    # Creamos filtros que nos permiten identificar el experimento por su número asociado y por su nivel de white noise dentro del conjunto de datos\n",
        "    filter1 = df_fisura[\"#_exp\"] == i\n",
        "    filter2 = df_fisura[\"amplitud\"] == j\n",
        "    # Filtramos y deshacemos las filas que no corresponden a la búsqueda\n",
        "    dataset_experimento = df_fisura.where(filter1 & filter2).dropna()\n",
        "    # Creamos arreglo en donde almacenaremos listas de imágenes asociadas a cada columna en un experimento individual\n",
        "    arreglo_matrices_asociadas = []\n",
        "\n",
        "    # En el conjunto filtrado, iteramos por cada columna (de la columna 0 a la 23)\n",
        "    for n in range(24):\n",
        "      # Establecemos un límite inferior y un límite superior\n",
        "      indice_inicio = 0\n",
        "      indice_fin = 256\n",
        "      # Del conjunto filtrado, obtenemos un subconjunto con muestras cada 6 pasos\n",
        "      columna_cada_6 = dataset_experimento[n][::6]\n",
        "      # Creamos una lista en donde guardaremos todas las imágenes creadas dentro de la columna en la que se esta iterando\n",
        "      matrices_columna = []\n",
        "    \n",
        "      # Recorremos en valores de 256 la columna del subconjunto creado para generar las imágenes 16x16 correspondientes \n",
        "      while indice_fin < len(columna_cada_6):\n",
        "        # Guardamos el conjunto de 256 datos dentro de un arreglo\n",
        "        vector = columna_cada_6[indice_inicio:indice_fin]\n",
        "        # Redimensionamos el arreglo (de 1x256 a 16x16)\n",
        "        matriz = vector.to_numpy().reshape((16, 16))\n",
        "        # Agregamos la imagen dentro de la lista matrices_columna\n",
        "        matrices_columna.append(matriz)\n",
        "        # Establecemos el nuevo límite inferior y superior en donde se encontrarán los datos de mi nueva imagen 16x16\n",
        "        indice_inicio = indice_fin\n",
        "        indice_fin = indice_fin + 256\n",
        "      \n",
        "      # Agregamos las listas de imágenes 16x16 asociadas a una columna a arreglo_matrices_asociadas\n",
        "      arreglo_matrices_asociadas.append(matrices_columna)\n",
        "    \n",
        "    # Agregamos arreglo_matrices_asociadas a arreglos_imagenes_por_experimento, en donde tenemos listas de listas asociadas a un experimento individual\n",
        "    arreglo_imagenes_por_experimento_fisura.append(arreglo_matrices_asociadas)"
      ],
      "execution_count": null,
      "outputs": []
    },
    {
      "cell_type": "code",
      "metadata": {
        "colab": {
          "base_uri": "https://localhost:8080/"
        },
        "id": "Ks5LfReQ0m8E",
        "outputId": "8c00a961-379f-4a09-f661-67c389865b64"
      },
      "source": [
        "len(arreglo_imagenes_por_experimento_fisura)"
      ],
      "execution_count": null,
      "outputs": [
        {
          "output_type": "execute_result",
          "data": {
            "text/plain": [
              "20"
            ]
          },
          "metadata": {},
          "execution_count": 14
        }
      ]
    },
    {
      "cell_type": "code",
      "metadata": {
        "colab": {
          "base_uri": "https://localhost:8080/"
        },
        "id": "vNLBWd7-0oqQ",
        "outputId": "9c21369e-1995-48df-9d51-7d6df36f8f9b"
      },
      "source": [
        "len(arreglo_imagenes_por_experimento_fisura[0])"
      ],
      "execution_count": null,
      "outputs": [
        {
          "output_type": "execute_result",
          "data": {
            "text/plain": [
              "24"
            ]
          },
          "metadata": {},
          "execution_count": 15
        }
      ]
    },
    {
      "cell_type": "code",
      "metadata": {
        "colab": {
          "base_uri": "https://localhost:8080/"
        },
        "id": "0vwSSBvc0qHf",
        "outputId": "022e2918-5358-40aa-a4b0-f231399f30e3"
      },
      "source": [
        "len(arreglo_imagenes_por_experimento_fisura[0][0])"
      ],
      "execution_count": null,
      "outputs": [
        {
          "output_type": "execute_result",
          "data": {
            "text/plain": [
              "64"
            ]
          },
          "metadata": {},
          "execution_count": 16
        }
      ]
    },
    {
      "cell_type": "code",
      "metadata": {
        "colab": {
          "base_uri": "https://localhost:8080/"
        },
        "id": "ns60xBVd0rS_",
        "outputId": "08588450-b7d2-4735-947e-1cb7f5fa5b40"
      },
      "source": [
        "arreglo_imagenes_por_experimento_fisura[0][0][0].size"
      ],
      "execution_count": null,
      "outputs": [
        {
          "output_type": "execute_result",
          "data": {
            "text/plain": [
              "256"
            ]
          },
          "metadata": {},
          "execution_count": 17
        }
      ]
    },
    {
      "cell_type": "code",
      "metadata": {
        "colab": {
          "base_uri": "https://localhost:8080/"
        },
        "id": "ZKQsXwL10stW",
        "outputId": "2d544566-5b1c-46a1-b02a-2a22101ab417"
      },
      "source": [
        "arreglo_imagenes_por_experimento_fisura[0][0][0].shape"
      ],
      "execution_count": null,
      "outputs": [
        {
          "output_type": "execute_result",
          "data": {
            "text/plain": [
              "(16, 16)"
            ]
          },
          "metadata": {},
          "execution_count": 18
        }
      ]
    },
    {
      "cell_type": "code",
      "metadata": {
        "colab": {
          "base_uri": "https://localhost:8080/"
        },
        "id": "dHG6tJtRaU8o",
        "outputId": "fab76779-2ff1-44a8-bbf4-50b2ca64cf9b"
      },
      "source": [
        "type(arreglo_imagenes_por_experimento_fisura[0][0][0])"
      ],
      "execution_count": null,
      "outputs": [
        {
          "output_type": "execute_result",
          "data": {
            "text/plain": [
              "numpy.ndarray"
            ]
          },
          "metadata": {},
          "execution_count": 19
        }
      ]
    },
    {
      "cell_type": "code",
      "metadata": {
        "id": "MEqBUuQS0uQP"
      },
      "source": [
        "# Creamos un arreglos general para todas las imágenes de dimensionamiento (24, 16, 16)\n",
        "arreglo_imagenes_fisura = []\n",
        "\n",
        "# Iteramos cada experimento en la lista de experimentos creada previamente\n",
        "for experimento in arreglo_imagenes_por_experimento_fisura:\n",
        "  # Iteramos en un rango de 64 para usarlo posteriormente\n",
        "  for idx in range(64):\n",
        "    # Para cada iteración se crea el arreglo en donde se agregaran las capas correctas de la imagen de dimensionamniento (24, 16, 16)\n",
        "    imagen = []\n",
        "    # Iteramos para cada fila en el experimento (son 24 filas)\n",
        "    for fila in experimento:\n",
        "      # Asociamos por índice los valores de cada lista de imágenes para establecer la relación correcta y agregamos al arreglo creado\n",
        "      capa_imagen = fila[idx]\n",
        "      imagen.append(capa_imagen)\n",
        "\n",
        "    # Transformamos la lista de 24 capas a un arreglo numérico\n",
        "    arreglo_imagenes_fisura.append(np.dstack(imagen))"
      ],
      "execution_count": null,
      "outputs": []
    },
    {
      "cell_type": "code",
      "metadata": {
        "colab": {
          "base_uri": "https://localhost:8080/"
        },
        "id": "Xmyuma6U0wBG",
        "outputId": "bd13bfc9-a3cf-4ad5-accf-08829a25d0ff"
      },
      "source": [
        "# Revisamos el número de imágenes creadas\n",
        "len(arreglo_imagenes_fisura)"
      ],
      "execution_count": null,
      "outputs": [
        {
          "output_type": "execute_result",
          "data": {
            "text/plain": [
              "1280"
            ]
          },
          "metadata": {},
          "execution_count": 21
        }
      ]
    },
    {
      "cell_type": "code",
      "metadata": {
        "colab": {
          "base_uri": "https://localhost:8080/"
        },
        "id": "QozQW3DH0xk6",
        "outputId": "37703d72-0afc-490f-bc9e-403c5ad6d2bf"
      },
      "source": [
        "# Revisamos el dimensionamiento y tipo de un elemento aleatorio en la lista de imágenes\n",
        "indice_imagen_fisura = randint(0, len(arreglo_imagenes_fisura) - 1)\n",
        "arreglo_imagenes_fisura[indice_imagen_fisura].shape, type(arreglo_imagenes_fisura[0]), indice_imagen_fisura"
      ],
      "execution_count": null,
      "outputs": [
        {
          "output_type": "execute_result",
          "data": {
            "text/plain": [
              "((16, 16, 24), numpy.ndarray, 279)"
            ]
          },
          "metadata": {},
          "execution_count": 22
        }
      ]
    },
    {
      "cell_type": "code",
      "metadata": {
        "id": "oJj-xYXW0y9s"
      },
      "source": [
        "imagenes_fisura_05 = []\n",
        "imagenes_fisura_1 = []\n",
        "imagenes_fisura_2 = []\n",
        "imagenes_fisura_3 = []"
      ],
      "execution_count": null,
      "outputs": []
    },
    {
      "cell_type": "code",
      "metadata": {
        "colab": {
          "base_uri": "https://localhost:8080/"
        },
        "id": "x_fosruW000Z",
        "outputId": "4e27ffc0-781b-4bfd-d123-ad5b2a59ade3"
      },
      "source": [
        "lista_indices = [0]\n",
        "indice_contador = 0\n",
        "\n",
        "while indice_contador < 1280:\n",
        "  indice_contador = indice_contador + 64\n",
        "  lista_indices.append(indice_contador)\n",
        "print(lista_indices)"
      ],
      "execution_count": null,
      "outputs": [
        {
          "output_type": "stream",
          "name": "stdout",
          "text": [
            "[0, 64, 128, 192, 256, 320, 384, 448, 512, 576, 640, 704, 768, 832, 896, 960, 1024, 1088, 1152, 1216, 1280]\n"
          ]
        }
      ]
    },
    {
      "cell_type": "code",
      "metadata": {
        "id": "taSyvEW902W_"
      },
      "source": [
        "# indices paa fisura, pernoflojo y replica\n",
        "indices_05 = [1, 5, 9, 13, 17]\n",
        "indices_1 = [2, 6, 10, 14, 18]\n",
        "indices_2 = [3, 7, 11, 15, 19]\n",
        "indices_3 = [4, 8, 12, 16, 20]"
      ],
      "execution_count": null,
      "outputs": []
    },
    {
      "cell_type": "code",
      "metadata": {
        "id": "b5m9aRxf03uk"
      },
      "source": [
        "for i in indices_05:\n",
        "  for j in arreglo_imagenes_fisura[lista_indices[i-1]:lista_indices[i]]:\n",
        "    imagenes_fisura_05.append(j)\n",
        "for i in indices_1:\n",
        "  for j in arreglo_imagenes_fisura[lista_indices[i-1]:lista_indices[i]]:\n",
        "    imagenes_fisura_1.append(j)\n",
        "for i in indices_2:\n",
        "  for j in arreglo_imagenes_fisura[lista_indices[i-1]:lista_indices[i]]:\n",
        "    imagenes_fisura_2.append(j)\n",
        "for i in indices_3:\n",
        "  for j in arreglo_imagenes_fisura[lista_indices[i-1]:lista_indices[i]]:\n",
        "    imagenes_fisura_3.append(j)"
      ],
      "execution_count": null,
      "outputs": []
    },
    {
      "cell_type": "code",
      "metadata": {
        "colab": {
          "base_uri": "https://localhost:8080/"
        },
        "id": "j60tH4iB05uc",
        "outputId": "eeba3c94-b7fd-42aa-b786-9e77e61a7f82"
      },
      "source": [
        "len(imagenes_fisura_05), len(imagenes_fisura_1), len(imagenes_fisura_2), len(imagenes_fisura_3)"
      ],
      "execution_count": null,
      "outputs": [
        {
          "output_type": "execute_result",
          "data": {
            "text/plain": [
              "(320, 320, 320, 320)"
            ]
          },
          "metadata": {},
          "execution_count": 27
        }
      ]
    },
    {
      "cell_type": "markdown",
      "metadata": {
        "id": "Yv8EVjy-07ZI"
      },
      "source": [
        "## Datos Perno Flojo"
      ]
    },
    {
      "cell_type": "code",
      "metadata": {
        "id": "VBn1gSBk09AG"
      },
      "source": [
        "# Se crean 2 listas, una asociada al número de experimento y otra asociada al nivel de white noise presente durante el experimento \n",
        "numero_experimentos_pernoflojo = []\n",
        "amplitud_experimentos_pernoflojo = []"
      ],
      "execution_count": null,
      "outputs": []
    },
    {
      "cell_type": "code",
      "metadata": {
        "id": "SjDzdqZB0-bI"
      },
      "source": [
        "# Iteramos los nombres de los archivos dentro del conjunto que contiene los datos de fisura\n",
        "for nombre_archivo in datos_pernoflojo:\n",
        "  # Obtenemos el nombre del experimento\n",
        "  nombre_experimento = nombre_archivo.split('/')[4]\n",
        "  # Obtenemos el número del experimento\n",
        "  numero_experimento = nombre_experimento.split('_')[1]\n",
        "  # Obtenemos el nivel de white noise del experimento\n",
        "  amplitud_experimento = nombre_experimento.split('.')[0].split('_')[2].replace('A', '')\n",
        "  # Agregamos el número del experimento a la lista numero_experimentos_pernoflojo creada anteriormente\n",
        "  numero_experimentos_pernoflojo.append(int(numero_experimento))\n",
        "  # Agregamos el nivel de white noise del experimento a la lista amplitud_experimentos_pernoflojo creada anteriormente\n",
        "  if amplitud_experimento == '05':\n",
        "    amplitud_experimento = 0.5\n",
        "    amplitud_experimentos_pernoflojo.append(amplitud_experimento)\n",
        "  else:\n",
        "    amplitud_experimentos_pernoflojo.append(int(amplitud_experimento))"
      ],
      "execution_count": null,
      "outputs": []
    },
    {
      "cell_type": "code",
      "metadata": {
        "id": "mPB0meeU0_uK"
      },
      "source": [
        "# Creamos un DataFrame vacío\n",
        "df_pernoflojo = pd.DataFrame()"
      ],
      "execution_count": null,
      "outputs": []
    },
    {
      "cell_type": "code",
      "metadata": {
        "id": "jnniuouJ1BhU"
      },
      "source": [
        "# Iteramos por rango la lista datos_fisura\n",
        "for indice in range(len(datos_pernoflojo)):\n",
        "  # Obtenemos la dirección dentro de la iteración correspondiente\n",
        "  direccion = datos_pernoflojo[indice]\n",
        "  # Transformamos el .mat a un formato en el que se pueda transformar a DataFrame\n",
        "  mat = loadmat(direccion)\n",
        "  df = pd.DataFrame(mat['data'])\n",
        "  # Para todos los valores del experimento, creamos columnas en donde sus valores se asocian con el nivel de wn y el # de experimento\n",
        "  df['#_exp'] = numero_experimentos_pernoflojo[indice]\n",
        "  df['amplitud'] = amplitud_experimentos_pernoflojo[indice]\n",
        "  # Colocamos al final del DataFrame df_fisura creado el nuevo DataFrame \n",
        "  df_pernoflojo = pd.concat([df_pernoflojo, df], axis = 0)"
      ],
      "execution_count": null,
      "outputs": []
    },
    {
      "cell_type": "code",
      "metadata": {
        "colab": {
          "base_uri": "https://localhost:8080/",
          "height": 330
        },
        "id": "hr6m0aTs1DI9",
        "outputId": "16ec100a-ea35-4063-b448-9f0e81a1bc97"
      },
      "source": [
        "# Revisamos el conjunto de datos obtenido para pernoflojo\n",
        "df_pernoflojo.head(8)"
      ],
      "execution_count": null,
      "outputs": [
        {
          "output_type": "execute_result",
          "data": {
            "text/plain": [
              "          0         1         2         3         4         5         6  \\\n",
              "0  0.000168  0.000204  0.000213  0.000135  0.000201  0.000099  0.000108   \n",
              "1  0.000122  0.000277  0.000213  0.000180  0.000230  0.000172  0.000068   \n",
              "2  0.000099  0.000214  0.000128  0.000153  0.000217  0.000100  0.000064   \n",
              "3  0.000150  0.000258  0.000209  0.000163  0.000213  0.000120  0.000066   \n",
              "4  0.000194  0.000244  0.000194  0.000201  0.000202  0.000127  0.000133   \n",
              "5  0.000156  0.000287  0.000188  0.000119  0.000234  0.000127  0.000102   \n",
              "6  0.000150  0.000230  0.000198  0.000239  0.000247  0.000150  0.000052   \n",
              "7  0.000130  0.000230  0.000207  0.000116  0.000212  0.000108  0.000096   \n",
              "\n",
              "          7         8         9  ...        16        17        18        19  \\\n",
              "0  0.000189  0.000212  0.000093  ...  0.000010  0.000085  0.000151  0.000136   \n",
              "1  0.000213  0.000214  0.000095  ...  0.000021  0.000022  0.000203  0.000139   \n",
              "2  0.000174  0.000225  0.000116  ...  0.000023  0.000089  0.000225  0.000162   \n",
              "3  0.000157  0.000220  0.000096  ...  0.000062  0.000077  0.000212  0.000178   \n",
              "4  0.000197  0.000212  0.000110  ...  0.000092  0.000097  0.000183  0.000170   \n",
              "5  0.000198  0.000216  0.000097  ...  0.000061  0.000097  0.000231  0.000156   \n",
              "6  0.000178  0.000255  0.000115  ...  0.000060  0.000124  0.000225  0.000157   \n",
              "7  0.000178  0.000200  0.000130  ...  0.000031  0.000045  0.000236  0.000178   \n",
              "\n",
              "         20        21        22        23  #_exp  amplitud  \n",
              "0  0.000116  0.000099  0.000054  0.000111      1       0.5  \n",
              "1  0.000076  0.000164  0.000089  0.000076      1       0.5  \n",
              "2  0.000098  0.000154  0.000091  0.000092      1       0.5  \n",
              "3  0.000123  0.000150  0.000056  0.000130      1       0.5  \n",
              "4  0.000114  0.000127  0.000064  0.000087      1       0.5  \n",
              "5  0.000090  0.000155  0.000076  0.000091      1       0.5  \n",
              "6  0.000133  0.000153  0.000060  0.000087      1       0.5  \n",
              "7  0.000081  0.000160  0.000079  0.000115      1       0.5  \n",
              "\n",
              "[8 rows x 26 columns]"
            ],
            "text/html": [
              "\n",
              "  <div id=\"df-86df7650-870b-4a68-8f9f-6142d5c5575f\">\n",
              "    <div class=\"colab-df-container\">\n",
              "      <div>\n",
              "<style scoped>\n",
              "    .dataframe tbody tr th:only-of-type {\n",
              "        vertical-align: middle;\n",
              "    }\n",
              "\n",
              "    .dataframe tbody tr th {\n",
              "        vertical-align: top;\n",
              "    }\n",
              "\n",
              "    .dataframe thead th {\n",
              "        text-align: right;\n",
              "    }\n",
              "</style>\n",
              "<table border=\"1\" class=\"dataframe\">\n",
              "  <thead>\n",
              "    <tr style=\"text-align: right;\">\n",
              "      <th></th>\n",
              "      <th>0</th>\n",
              "      <th>1</th>\n",
              "      <th>2</th>\n",
              "      <th>3</th>\n",
              "      <th>4</th>\n",
              "      <th>5</th>\n",
              "      <th>6</th>\n",
              "      <th>7</th>\n",
              "      <th>8</th>\n",
              "      <th>9</th>\n",
              "      <th>...</th>\n",
              "      <th>16</th>\n",
              "      <th>17</th>\n",
              "      <th>18</th>\n",
              "      <th>19</th>\n",
              "      <th>20</th>\n",
              "      <th>21</th>\n",
              "      <th>22</th>\n",
              "      <th>23</th>\n",
              "      <th>#_exp</th>\n",
              "      <th>amplitud</th>\n",
              "    </tr>\n",
              "  </thead>\n",
              "  <tbody>\n",
              "    <tr>\n",
              "      <th>0</th>\n",
              "      <td>0.000168</td>\n",
              "      <td>0.000204</td>\n",
              "      <td>0.000213</td>\n",
              "      <td>0.000135</td>\n",
              "      <td>0.000201</td>\n",
              "      <td>0.000099</td>\n",
              "      <td>0.000108</td>\n",
              "      <td>0.000189</td>\n",
              "      <td>0.000212</td>\n",
              "      <td>0.000093</td>\n",
              "      <td>...</td>\n",
              "      <td>0.000010</td>\n",
              "      <td>0.000085</td>\n",
              "      <td>0.000151</td>\n",
              "      <td>0.000136</td>\n",
              "      <td>0.000116</td>\n",
              "      <td>0.000099</td>\n",
              "      <td>0.000054</td>\n",
              "      <td>0.000111</td>\n",
              "      <td>1</td>\n",
              "      <td>0.5</td>\n",
              "    </tr>\n",
              "    <tr>\n",
              "      <th>1</th>\n",
              "      <td>0.000122</td>\n",
              "      <td>0.000277</td>\n",
              "      <td>0.000213</td>\n",
              "      <td>0.000180</td>\n",
              "      <td>0.000230</td>\n",
              "      <td>0.000172</td>\n",
              "      <td>0.000068</td>\n",
              "      <td>0.000213</td>\n",
              "      <td>0.000214</td>\n",
              "      <td>0.000095</td>\n",
              "      <td>...</td>\n",
              "      <td>0.000021</td>\n",
              "      <td>0.000022</td>\n",
              "      <td>0.000203</td>\n",
              "      <td>0.000139</td>\n",
              "      <td>0.000076</td>\n",
              "      <td>0.000164</td>\n",
              "      <td>0.000089</td>\n",
              "      <td>0.000076</td>\n",
              "      <td>1</td>\n",
              "      <td>0.5</td>\n",
              "    </tr>\n",
              "    <tr>\n",
              "      <th>2</th>\n",
              "      <td>0.000099</td>\n",
              "      <td>0.000214</td>\n",
              "      <td>0.000128</td>\n",
              "      <td>0.000153</td>\n",
              "      <td>0.000217</td>\n",
              "      <td>0.000100</td>\n",
              "      <td>0.000064</td>\n",
              "      <td>0.000174</td>\n",
              "      <td>0.000225</td>\n",
              "      <td>0.000116</td>\n",
              "      <td>...</td>\n",
              "      <td>0.000023</td>\n",
              "      <td>0.000089</td>\n",
              "      <td>0.000225</td>\n",
              "      <td>0.000162</td>\n",
              "      <td>0.000098</td>\n",
              "      <td>0.000154</td>\n",
              "      <td>0.000091</td>\n",
              "      <td>0.000092</td>\n",
              "      <td>1</td>\n",
              "      <td>0.5</td>\n",
              "    </tr>\n",
              "    <tr>\n",
              "      <th>3</th>\n",
              "      <td>0.000150</td>\n",
              "      <td>0.000258</td>\n",
              "      <td>0.000209</td>\n",
              "      <td>0.000163</td>\n",
              "      <td>0.000213</td>\n",
              "      <td>0.000120</td>\n",
              "      <td>0.000066</td>\n",
              "      <td>0.000157</td>\n",
              "      <td>0.000220</td>\n",
              "      <td>0.000096</td>\n",
              "      <td>...</td>\n",
              "      <td>0.000062</td>\n",
              "      <td>0.000077</td>\n",
              "      <td>0.000212</td>\n",
              "      <td>0.000178</td>\n",
              "      <td>0.000123</td>\n",
              "      <td>0.000150</td>\n",
              "      <td>0.000056</td>\n",
              "      <td>0.000130</td>\n",
              "      <td>1</td>\n",
              "      <td>0.5</td>\n",
              "    </tr>\n",
              "    <tr>\n",
              "      <th>4</th>\n",
              "      <td>0.000194</td>\n",
              "      <td>0.000244</td>\n",
              "      <td>0.000194</td>\n",
              "      <td>0.000201</td>\n",
              "      <td>0.000202</td>\n",
              "      <td>0.000127</td>\n",
              "      <td>0.000133</td>\n",
              "      <td>0.000197</td>\n",
              "      <td>0.000212</td>\n",
              "      <td>0.000110</td>\n",
              "      <td>...</td>\n",
              "      <td>0.000092</td>\n",
              "      <td>0.000097</td>\n",
              "      <td>0.000183</td>\n",
              "      <td>0.000170</td>\n",
              "      <td>0.000114</td>\n",
              "      <td>0.000127</td>\n",
              "      <td>0.000064</td>\n",
              "      <td>0.000087</td>\n",
              "      <td>1</td>\n",
              "      <td>0.5</td>\n",
              "    </tr>\n",
              "    <tr>\n",
              "      <th>5</th>\n",
              "      <td>0.000156</td>\n",
              "      <td>0.000287</td>\n",
              "      <td>0.000188</td>\n",
              "      <td>0.000119</td>\n",
              "      <td>0.000234</td>\n",
              "      <td>0.000127</td>\n",
              "      <td>0.000102</td>\n",
              "      <td>0.000198</td>\n",
              "      <td>0.000216</td>\n",
              "      <td>0.000097</td>\n",
              "      <td>...</td>\n",
              "      <td>0.000061</td>\n",
              "      <td>0.000097</td>\n",
              "      <td>0.000231</td>\n",
              "      <td>0.000156</td>\n",
              "      <td>0.000090</td>\n",
              "      <td>0.000155</td>\n",
              "      <td>0.000076</td>\n",
              "      <td>0.000091</td>\n",
              "      <td>1</td>\n",
              "      <td>0.5</td>\n",
              "    </tr>\n",
              "    <tr>\n",
              "      <th>6</th>\n",
              "      <td>0.000150</td>\n",
              "      <td>0.000230</td>\n",
              "      <td>0.000198</td>\n",
              "      <td>0.000239</td>\n",
              "      <td>0.000247</td>\n",
              "      <td>0.000150</td>\n",
              "      <td>0.000052</td>\n",
              "      <td>0.000178</td>\n",
              "      <td>0.000255</td>\n",
              "      <td>0.000115</td>\n",
              "      <td>...</td>\n",
              "      <td>0.000060</td>\n",
              "      <td>0.000124</td>\n",
              "      <td>0.000225</td>\n",
              "      <td>0.000157</td>\n",
              "      <td>0.000133</td>\n",
              "      <td>0.000153</td>\n",
              "      <td>0.000060</td>\n",
              "      <td>0.000087</td>\n",
              "      <td>1</td>\n",
              "      <td>0.5</td>\n",
              "    </tr>\n",
              "    <tr>\n",
              "      <th>7</th>\n",
              "      <td>0.000130</td>\n",
              "      <td>0.000230</td>\n",
              "      <td>0.000207</td>\n",
              "      <td>0.000116</td>\n",
              "      <td>0.000212</td>\n",
              "      <td>0.000108</td>\n",
              "      <td>0.000096</td>\n",
              "      <td>0.000178</td>\n",
              "      <td>0.000200</td>\n",
              "      <td>0.000130</td>\n",
              "      <td>...</td>\n",
              "      <td>0.000031</td>\n",
              "      <td>0.000045</td>\n",
              "      <td>0.000236</td>\n",
              "      <td>0.000178</td>\n",
              "      <td>0.000081</td>\n",
              "      <td>0.000160</td>\n",
              "      <td>0.000079</td>\n",
              "      <td>0.000115</td>\n",
              "      <td>1</td>\n",
              "      <td>0.5</td>\n",
              "    </tr>\n",
              "  </tbody>\n",
              "</table>\n",
              "<p>8 rows × 26 columns</p>\n",
              "</div>\n",
              "      <button class=\"colab-df-convert\" onclick=\"convertToInteractive('df-86df7650-870b-4a68-8f9f-6142d5c5575f')\"\n",
              "              title=\"Convert this dataframe to an interactive table.\"\n",
              "              style=\"display:none;\">\n",
              "        \n",
              "  <svg xmlns=\"http://www.w3.org/2000/svg\" height=\"24px\"viewBox=\"0 0 24 24\"\n",
              "       width=\"24px\">\n",
              "    <path d=\"M0 0h24v24H0V0z\" fill=\"none\"/>\n",
              "    <path d=\"M18.56 5.44l.94 2.06.94-2.06 2.06-.94-2.06-.94-.94-2.06-.94 2.06-2.06.94zm-11 1L8.5 8.5l.94-2.06 2.06-.94-2.06-.94L8.5 2.5l-.94 2.06-2.06.94zm10 10l.94 2.06.94-2.06 2.06-.94-2.06-.94-.94-2.06-.94 2.06-2.06.94z\"/><path d=\"M17.41 7.96l-1.37-1.37c-.4-.4-.92-.59-1.43-.59-.52 0-1.04.2-1.43.59L10.3 9.45l-7.72 7.72c-.78.78-.78 2.05 0 2.83L4 21.41c.39.39.9.59 1.41.59.51 0 1.02-.2 1.41-.59l7.78-7.78 2.81-2.81c.8-.78.8-2.07 0-2.86zM5.41 20L4 18.59l7.72-7.72 1.47 1.35L5.41 20z\"/>\n",
              "  </svg>\n",
              "      </button>\n",
              "      \n",
              "  <style>\n",
              "    .colab-df-container {\n",
              "      display:flex;\n",
              "      flex-wrap:wrap;\n",
              "      gap: 12px;\n",
              "    }\n",
              "\n",
              "    .colab-df-convert {\n",
              "      background-color: #E8F0FE;\n",
              "      border: none;\n",
              "      border-radius: 50%;\n",
              "      cursor: pointer;\n",
              "      display: none;\n",
              "      fill: #1967D2;\n",
              "      height: 32px;\n",
              "      padding: 0 0 0 0;\n",
              "      width: 32px;\n",
              "    }\n",
              "\n",
              "    .colab-df-convert:hover {\n",
              "      background-color: #E2EBFA;\n",
              "      box-shadow: 0px 1px 2px rgba(60, 64, 67, 0.3), 0px 1px 3px 1px rgba(60, 64, 67, 0.15);\n",
              "      fill: #174EA6;\n",
              "    }\n",
              "\n",
              "    [theme=dark] .colab-df-convert {\n",
              "      background-color: #3B4455;\n",
              "      fill: #D2E3FC;\n",
              "    }\n",
              "\n",
              "    [theme=dark] .colab-df-convert:hover {\n",
              "      background-color: #434B5C;\n",
              "      box-shadow: 0px 1px 3px 1px rgba(0, 0, 0, 0.15);\n",
              "      filter: drop-shadow(0px 1px 2px rgba(0, 0, 0, 0.3));\n",
              "      fill: #FFFFFF;\n",
              "    }\n",
              "  </style>\n",
              "\n",
              "      <script>\n",
              "        const buttonEl =\n",
              "          document.querySelector('#df-86df7650-870b-4a68-8f9f-6142d5c5575f button.colab-df-convert');\n",
              "        buttonEl.style.display =\n",
              "          google.colab.kernel.accessAllowed ? 'block' : 'none';\n",
              "\n",
              "        async function convertToInteractive(key) {\n",
              "          const element = document.querySelector('#df-86df7650-870b-4a68-8f9f-6142d5c5575f');\n",
              "          const dataTable =\n",
              "            await google.colab.kernel.invokeFunction('convertToInteractive',\n",
              "                                                     [key], {});\n",
              "          if (!dataTable) return;\n",
              "\n",
              "          const docLinkHtml = 'Like what you see? Visit the ' +\n",
              "            '<a target=\"_blank\" href=https://colab.research.google.com/notebooks/data_table.ipynb>data table notebook</a>'\n",
              "            + ' to learn more about interactive tables.';\n",
              "          element.innerHTML = '';\n",
              "          dataTable['output_type'] = 'display_data';\n",
              "          await google.colab.output.renderOutput(dataTable, element);\n",
              "          const docLink = document.createElement('div');\n",
              "          docLink.innerHTML = docLinkHtml;\n",
              "          element.appendChild(docLink);\n",
              "        }\n",
              "      </script>\n",
              "    </div>\n",
              "  </div>\n",
              "  "
            ]
          },
          "metadata": {},
          "execution_count": 32
        }
      ]
    },
    {
      "cell_type": "code",
      "metadata": {
        "colab": {
          "base_uri": "https://localhost:8080/"
        },
        "id": "u-Kkx38k1FzV",
        "outputId": "3aafcb97-6c96-4267-91ee-bd2edc30e9c4"
      },
      "source": [
        "# Si dividimos para 99097 el df_pernoflojo deberíamos obtener 20 experimentos en total\n",
        "len(df_pernoflojo)/99097"
      ],
      "execution_count": null,
      "outputs": [
        {
          "output_type": "execute_result",
          "data": {
            "text/plain": [
              "20.0"
            ]
          },
          "metadata": {},
          "execution_count": 33
        }
      ]
    },
    {
      "cell_type": "code",
      "metadata": {
        "id": "T2pAMDNW1GQB"
      },
      "source": [
        "# Establecemos 2 listas, una con los posibles experimentos y otra con los posibles niveles de white noise, lo cual nos ayudará a segmentar los datos\n",
        "experimentos = [1, 2, 3, 4, 5]\n",
        "wns = [0.5, 1, 2, 3]\n",
        "# Creamos una lista en donde pondremos todas las imágenes creadas, segmentadas por experimento y white noise\n",
        "arreglo_imagenes_por_experimento_pernoflojo = []\n",
        "\n",
        "# Iteramos por experimento y por nivel de white noise\n",
        "for i in experimentos:\n",
        "  for j in wns:\n",
        "    # Creamos filtros que nos permiten identificar el experimento por su número asociado y por su nivel de white noise dentro del conjunto de datos\n",
        "    filter1 = df_pernoflojo[\"#_exp\"] == i\n",
        "    filter2 = df_pernoflojo[\"amplitud\"] == j\n",
        "    # Filtramos y deshacemos las filas que no corresponden a la búsqueda\n",
        "    dataset_experimento = df_pernoflojo.where(filter1 & filter2).dropna()\n",
        "    # Creamos arreglo en donde almacenaremos listas de imágenes asociadas a cada columna en un experimento individual\n",
        "    arreglo_matrices_asociadas = []\n",
        "\n",
        "    # En el conjunto filtrado, iteramos por cada columna (de la columna 0 a la 23)\n",
        "    for n in range(24):\n",
        "      # Establecemos un límite inferior y un límite superior\n",
        "      indice_inicio = 0\n",
        "      indice_fin = 256\n",
        "      # Del conjunto filtrado, obtenemos un subconjunto con muestras cada 6 pasos\n",
        "      columna_cada_6 = dataset_experimento[n][::6]\n",
        "      # Creamos una lista en donde guardaremos todas las imágenes creadas dentro de la columna en la que se esta iterando\n",
        "      matrices_columna = []\n",
        "    \n",
        "      # Recorremos en valores de 256 la columna del subconjunto creado para generar las imágenes 16x16 correspondientes \n",
        "      while indice_fin < len(columna_cada_6):\n",
        "        # Guardamos el conjunto de 256 datos dentro de un arreglo\n",
        "        vector = columna_cada_6[indice_inicio:indice_fin]\n",
        "        # Redimensionamos el arreglo (de 1x256 a 16x16)\n",
        "        matriz = vector.to_numpy().reshape((16, 16))\n",
        "        # Agregamos la imagen dentro de la lista matrices_columna\n",
        "        matrices_columna.append(matriz)\n",
        "        # Establecemos el nuevo límite inferior y superior en donde se encontrarán los datos de mi nueva imagen 16x16\n",
        "        indice_inicio = indice_fin\n",
        "        indice_fin = indice_fin + 256\n",
        "      \n",
        "      # Agregamos las listas de imágenes 16x16 asociadas a una columna a arreglo_matrices_asociadas\n",
        "      arreglo_matrices_asociadas.append(matrices_columna)\n",
        "    \n",
        "    # Agregamos arreglo_matrices_asociadas a arreglos_imagenes_por_experimento, en donde tenemos listas de listas asociadas a un experimento individual\n",
        "    arreglo_imagenes_por_experimento_pernoflojo.append(arreglo_matrices_asociadas)"
      ],
      "execution_count": null,
      "outputs": []
    },
    {
      "cell_type": "code",
      "metadata": {
        "colab": {
          "base_uri": "https://localhost:8080/"
        },
        "id": "omEKc7HW1JR9",
        "outputId": "e5db4f0d-3f70-45ce-85f0-b8d2549cff6c"
      },
      "source": [
        "len(arreglo_imagenes_por_experimento_pernoflojo)"
      ],
      "execution_count": null,
      "outputs": [
        {
          "output_type": "execute_result",
          "data": {
            "text/plain": [
              "20"
            ]
          },
          "metadata": {},
          "execution_count": 35
        }
      ]
    },
    {
      "cell_type": "code",
      "metadata": {
        "colab": {
          "base_uri": "https://localhost:8080/"
        },
        "id": "T0kKU5ku1KxV",
        "outputId": "30e7d850-c472-4735-b3b8-7d203b660106"
      },
      "source": [
        "len(arreglo_imagenes_por_experimento_pernoflojo[0])"
      ],
      "execution_count": null,
      "outputs": [
        {
          "output_type": "execute_result",
          "data": {
            "text/plain": [
              "24"
            ]
          },
          "metadata": {},
          "execution_count": 36
        }
      ]
    },
    {
      "cell_type": "code",
      "metadata": {
        "colab": {
          "base_uri": "https://localhost:8080/"
        },
        "id": "uTVhc0kN1M9i",
        "outputId": "1b177a8e-1073-472e-9fea-03a5a7b6c984"
      },
      "source": [
        "len(arreglo_imagenes_por_experimento_pernoflojo[0][0])"
      ],
      "execution_count": null,
      "outputs": [
        {
          "output_type": "execute_result",
          "data": {
            "text/plain": [
              "64"
            ]
          },
          "metadata": {},
          "execution_count": 37
        }
      ]
    },
    {
      "cell_type": "code",
      "metadata": {
        "colab": {
          "base_uri": "https://localhost:8080/"
        },
        "id": "jr3JfgCK1OF6",
        "outputId": "c4f148f1-fa4f-4b92-b138-2b29ebd9c4fb"
      },
      "source": [
        "arreglo_imagenes_por_experimento_pernoflojo[0][0][0].size"
      ],
      "execution_count": null,
      "outputs": [
        {
          "output_type": "execute_result",
          "data": {
            "text/plain": [
              "256"
            ]
          },
          "metadata": {},
          "execution_count": 38
        }
      ]
    },
    {
      "cell_type": "code",
      "metadata": {
        "colab": {
          "base_uri": "https://localhost:8080/"
        },
        "id": "N6hJaZPE1PNx",
        "outputId": "972727aa-3ee9-4277-e45a-9bec8a1a306f"
      },
      "source": [
        "arreglo_imagenes_por_experimento_pernoflojo[0][0][0].shape"
      ],
      "execution_count": null,
      "outputs": [
        {
          "output_type": "execute_result",
          "data": {
            "text/plain": [
              "(16, 16)"
            ]
          },
          "metadata": {},
          "execution_count": 39
        }
      ]
    },
    {
      "cell_type": "code",
      "metadata": {
        "id": "KRRbZCFA1Qrx"
      },
      "source": [
        "# Creamos un arreglos general para todas las imágenes de dimensionamiento (24, 16, 16)\n",
        "arreglo_imagenes_pernoflojo = []\n",
        "\n",
        "# Iteramos cada experimento en la lista de experimentos creada previamente\n",
        "for experimento_i in arreglo_imagenes_por_experimento_pernoflojo:\n",
        "  # Iteramos en un rango de 64 para usarlo posteriormente\n",
        "  for idx in range(64):\n",
        "    # Para cada iteración se crea el arreglo en donde se agregaran las capas correctas de la imagen de dimensionamniento (24, 16, 16)\n",
        "    imagen = []\n",
        "    # Iteramos para cada fila en el experimento (son 24 filas)\n",
        "    for fila in experimento_i:\n",
        "      # Asociamos por índice los valores de cada lista de imágenes para establecer la relación correcta y agregamos al arreglo creado\n",
        "      capa_imagen = fila[idx]\n",
        "      imagen.append(capa_imagen)\n",
        "\n",
        "    # Transformamos la lista de 24 capas a un arreglo numérico\n",
        "    arreglo_imagenes_pernoflojo.append(np.dstack(imagen))"
      ],
      "execution_count": null,
      "outputs": []
    },
    {
      "cell_type": "code",
      "metadata": {
        "colab": {
          "base_uri": "https://localhost:8080/"
        },
        "id": "BJjGhgwu1SMj",
        "outputId": "8a3a096d-ad2e-4cc0-8952-0212c3f1d8db"
      },
      "source": [
        "# Revisamos el número de imágenes creadas\n",
        "len(arreglo_imagenes_pernoflojo)"
      ],
      "execution_count": null,
      "outputs": [
        {
          "output_type": "execute_result",
          "data": {
            "text/plain": [
              "1280"
            ]
          },
          "metadata": {},
          "execution_count": 41
        }
      ]
    },
    {
      "cell_type": "code",
      "metadata": {
        "colab": {
          "base_uri": "https://localhost:8080/"
        },
        "id": "WklhXZKv1Utt",
        "outputId": "969e9bff-ba1c-4602-a5da-fc8d831e3e33"
      },
      "source": [
        "# Revisamos el dimensionamiento y tipo de un elemento aleatorio en la lista de imágenes\n",
        "indice_imagen_pernoflojo = randint(0, len(arreglo_imagenes_pernoflojo) - 1)\n",
        "arreglo_imagenes_pernoflojo[indice_imagen_pernoflojo].shape, type(arreglo_imagenes_pernoflojo[0]), indice_imagen_pernoflojo"
      ],
      "execution_count": null,
      "outputs": [
        {
          "output_type": "execute_result",
          "data": {
            "text/plain": [
              "((16, 16, 24), numpy.ndarray, 1085)"
            ]
          },
          "metadata": {},
          "execution_count": 42
        }
      ]
    },
    {
      "cell_type": "code",
      "metadata": {
        "id": "2GIbx9XG1VLg"
      },
      "source": [
        "imagenes_pernoflojo_05 = []\n",
        "imagenes_pernoflojo_1 = []\n",
        "imagenes_pernoflojo_2 = []\n",
        "imagenes_pernoflojo_3 = []"
      ],
      "execution_count": null,
      "outputs": []
    },
    {
      "cell_type": "code",
      "metadata": {
        "id": "I2Zaxw0m1Wd2"
      },
      "source": [
        "for i in indices_05:\n",
        "  for j in arreglo_imagenes_pernoflojo[lista_indices[i-1]:lista_indices[i]]:\n",
        "    imagenes_pernoflojo_05.append(j)\n",
        "for i in indices_1:\n",
        "  for j in arreglo_imagenes_pernoflojo[lista_indices[i-1]:lista_indices[i]]:\n",
        "    imagenes_pernoflojo_1.append(j)\n",
        "for i in indices_2:\n",
        "  for j in arreglo_imagenes_pernoflojo[lista_indices[i-1]:lista_indices[i]]:\n",
        "    imagenes_pernoflojo_2.append(j)\n",
        "for i in indices_3:\n",
        "  for j in arreglo_imagenes_pernoflojo[lista_indices[i-1]:lista_indices[i]]:\n",
        "    imagenes_pernoflojo_3.append(j)"
      ],
      "execution_count": null,
      "outputs": []
    },
    {
      "cell_type": "code",
      "metadata": {
        "colab": {
          "base_uri": "https://localhost:8080/"
        },
        "id": "jFWecPzz1YFj",
        "outputId": "2e86c362-c10a-4ce3-a361-286decf8a8b0"
      },
      "source": [
        "len(imagenes_pernoflojo_05), len(imagenes_pernoflojo_1), len(imagenes_pernoflojo_2), len(imagenes_pernoflojo_3)"
      ],
      "execution_count": null,
      "outputs": [
        {
          "output_type": "execute_result",
          "data": {
            "text/plain": [
              "(320, 320, 320, 320)"
            ]
          },
          "metadata": {},
          "execution_count": 45
        }
      ]
    },
    {
      "cell_type": "markdown",
      "metadata": {
        "id": "wWcC_khN1aFD"
      },
      "source": [
        "## Aleatorizar"
      ]
    },
    {
      "cell_type": "code",
      "metadata": {
        "id": "ArPwnh5v1Zhi"
      },
      "source": [
        "np.random.seed(300)\n",
        "\n",
        "aleatorizadas_imagenes_fisura_05 = imagenes_fisura_05\n",
        "aleatorizadas_imagenes_fisura_1 = imagenes_fisura_1\n",
        "aleatorizadas_imagenes_fisura_2 = imagenes_fisura_2\n",
        "aleatorizadas_imagenes_fisura_3 = imagenes_fisura_3\n",
        "\n",
        "aleatorizadas_imagenes_pernoflojo_05 = imagenes_pernoflojo_05\n",
        "aleatorizadas_imagenes_pernoflojo_1 = imagenes_pernoflojo_1\n",
        "aleatorizadas_imagenes_pernoflojo_2 = imagenes_pernoflojo_2\n",
        "aleatorizadas_imagenes_pernoflojo_3 = imagenes_pernoflojo_3\n",
        "\n",
        "np.random.shuffle(aleatorizadas_imagenes_fisura_05)\n",
        "np.random.shuffle(aleatorizadas_imagenes_fisura_1)\n",
        "np.random.shuffle(aleatorizadas_imagenes_fisura_2)\n",
        "np.random.shuffle(aleatorizadas_imagenes_fisura_3)\n",
        "\n",
        "np.random.shuffle(aleatorizadas_imagenes_pernoflojo_05)\n",
        "np.random.shuffle(aleatorizadas_imagenes_pernoflojo_1)\n",
        "np.random.shuffle(aleatorizadas_imagenes_pernoflojo_2)\n",
        "np.random.shuffle(aleatorizadas_imagenes_pernoflojo_3)"
      ],
      "execution_count": null,
      "outputs": []
    },
    {
      "cell_type": "code",
      "metadata": {
        "id": "SpOPVW-31eAa"
      },
      "source": [
        "lista_listas_imagenes_fisura = [aleatorizadas_imagenes_fisura_05, aleatorizadas_imagenes_fisura_1, aleatorizadas_imagenes_fisura_2, aleatorizadas_imagenes_fisura_3]\n",
        "lista_listas_imagenes_pernoflojo = [aleatorizadas_imagenes_pernoflojo_05, aleatorizadas_imagenes_pernoflojo_1, aleatorizadas_imagenes_pernoflojo_2, aleatorizadas_imagenes_pernoflojo_3]"
      ],
      "execution_count": null,
      "outputs": []
    },
    {
      "cell_type": "markdown",
      "metadata": {
        "id": "0UbRkgTJ1gz9"
      },
      "source": [
        "## Segmentar datos en entrenamiento, validación y prueba"
      ]
    },
    {
      "cell_type": "code",
      "metadata": {
        "id": "nJJD71oc1fqA"
      },
      "source": [
        "porcentaje_80 = int(320*0.8)\n",
        "porcentaje_10 = int(320*0.1)"
      ],
      "execution_count": null,
      "outputs": []
    },
    {
      "cell_type": "code",
      "metadata": {
        "id": "GHYCaAQ51la6"
      },
      "source": [
        "# Para 80 10 10 \n",
        "conjunto_entrenamiento_fisura_1 = []\n",
        "conjunto_validacion_fisura_1 = []\n",
        "conjunto_prueba_fisura_1 = []\n",
        "\n",
        "conjunto_entrenamiento_pernoflojo_1 = []\n",
        "conjunto_validacion_pernoflojo_1 = []\n",
        "conjunto_prueba_pernoflojo_1 = []"
      ],
      "execution_count": null,
      "outputs": []
    },
    {
      "cell_type": "code",
      "metadata": {
        "id": "I5Vdo6x-1m9R"
      },
      "source": [
        "# Para 80 10 10\n",
        "for lista in lista_listas_imagenes_fisura:\n",
        "  for imagen_entrenamiento in lista[:porcentaje_80]:\n",
        "    conjunto_entrenamiento_fisura_1.append(imagen_entrenamiento)\n",
        "  for imagen_validacion in lista[porcentaje_80:porcentaje_80 + porcentaje_10]:\n",
        "    conjunto_validacion_fisura_1.append(imagen_validacion)\n",
        "  for imagen_prueba in lista[porcentaje_80 + porcentaje_10:]:\n",
        "    conjunto_prueba_fisura_1.append(imagen_prueba)\n",
        "\n",
        "for lista in lista_listas_imagenes_pernoflojo:\n",
        "  for imagen_entrenamiento in lista[:porcentaje_80]:\n",
        "    conjunto_entrenamiento_pernoflojo_1.append(imagen_entrenamiento)\n",
        "  for imagen_validacion in lista[porcentaje_80:porcentaje_80 + porcentaje_10]:\n",
        "    conjunto_validacion_pernoflojo_1.append(imagen_validacion)\n",
        "  for imagen_prueba in lista[porcentaje_80 + porcentaje_10:]:\n",
        "    conjunto_prueba_pernoflojo_1.append(imagen_prueba)"
      ],
      "execution_count": null,
      "outputs": []
    },
    {
      "cell_type": "markdown",
      "metadata": {
        "id": "2gHRo0zX1r8E"
      },
      "source": [
        "## Red Neuronal Siamesa"
      ]
    },
    {
      "cell_type": "code",
      "metadata": {
        "id": "BPBWgI3O1t6N"
      },
      "source": [
        "def crear_pares(arreglo_imagenes_fisura, arreglo_imagenes_pernoflojo):\n",
        "  \"\"\"\n",
        "  Función empleada para crear los pares de imágenes que se utilizan\n",
        "  para el entrenamiento de la SNN.\n",
        "  \"\"\"\n",
        "  print(\"Creando pares...\")\n",
        "  random.seed(100)\n",
        "  # Creamos arreglo en donde se insertarán los pares (positivos y negativos)\n",
        "  pares_img = []\n",
        "  # Creamos arreglo en donde se insertarán la clasificación de los pares (similares = 1, no similares = 0)\n",
        "  pares_label = []\n",
        "\n",
        "  # Recorremos el arreglo de imágenes de fisura y por cada imagen recorrida creamos un par positivo y uno negativo\n",
        "  for imagen_fisura in arreglo_imagenes_fisura:\n",
        "\n",
        "    # La imagen positiva será un dato aleatorio perteneciente al arreglo de la misma clase (fisura)\n",
        "    imagen_positiva_fisura = random.choice(arreglo_imagenes_fisura)\n",
        "    # La imagen negativa será un dato aleatorio perteneciente al arreglo de la otra clase (perno flojo)\n",
        "    imagen_negativa_fisura = random.choice(arreglo_imagenes_pernoflojo)\n",
        "\n",
        "    # Agregamos el par de imagenes positivas al arreglo de pares de imagenes\n",
        "    pares_img.append([imagen_fisura, imagen_positiva_fisura])\n",
        "    # Agregamos el label correspondiente a un par de imágenes positivas (1)\n",
        "    pares_label.append([1])\n",
        "\n",
        "    # Agregamos el par de imagenes negativas al arreglo de pares de imagenes\n",
        "    pares_img.append([imagen_fisura, imagen_negativa_fisura])\n",
        "    # Agregamos el label correspondiente a un par de imágenes negativas (0)\n",
        "    pares_label.append([0])\n",
        "\n",
        "  # Recorremos el arreglo de imágenes de fisura y por cada imagen recorrida creamos un par positivo y uno negativo\n",
        "  for imagen_pernoflojo in arreglo_imagenes_pernoflojo:\n",
        "\n",
        "    # La imagen positiva será un dato aleatorio perteneciente al arreglo de la misma clase (perno flojo)\n",
        "    imagen_positiva_pernoflojo = random.choice(arreglo_imagenes_pernoflojo)\n",
        "    # La imagen negativa será un dato aleatorio perteneciente al arreglo de la otra clase (fisura)\n",
        "    imagen_negativa_pernoflojo = random.choice(arreglo_imagenes_fisura)\n",
        "\n",
        "    # Agregamos el par de imagenes positivas al arreglo de pares de imagenes\n",
        "    pares_img.append([imagen_pernoflojo, imagen_positiva_pernoflojo])\n",
        "    # Agregamos el label correspondiente a un par de imágenes positivas (1)\n",
        "    pares_label.append([1])\n",
        "\n",
        "    # Agregamos el par de imagenes negativas al arreglo de pares de imagenes\n",
        "    pares_img.append([imagen_pernoflojo, imagen_negativa_pernoflojo])\n",
        "    # Agregamos el label correspondiente a un par de imágenes negativas (0)\n",
        "    pares_label.append([0])\n",
        "  \n",
        "  print(\"Pares creados.\")\n",
        "\n",
        "  return (np.array(pares_img), np.array(pares_label))"
      ],
      "execution_count": null,
      "outputs": []
    },
    {
      "cell_type": "markdown",
      "metadata": {
        "id": "RVYzu77m1x7X"
      },
      "source": [
        "## SNN"
      ]
    },
    {
      "cell_type": "code",
      "metadata": {
        "id": "WEZyLOo81ws3"
      },
      "source": [
        "def euclidean_distance(vectors):\n",
        "  \n",
        "  # Descomprimimos los vectores en listas separadas\n",
        "  (featsA, featsB) = vectors\n",
        "\n",
        "  # Realizamos la suma de las diferenias cuadradas entre vectores\n",
        "  sumSquared = K.sum(K.square(featsA - featsB), axis=1, keepdims=True)\n",
        "\n",
        "  # Retornamos la distancia euclidiana\n",
        "  return K.sqrt(K.maximum(sumSquared, K.epsilon()))"
      ],
      "execution_count": null,
      "outputs": []
    },
    {
      "cell_type": "code",
      "metadata": {
        "id": "DVxLIr2O10WK"
      },
      "source": [
        "# Definimos función de visualización de pérdidas\n",
        "\n",
        "def graficar_curva_perdidas(history):\n",
        "\n",
        "  font_label = {'family': 'serif',\n",
        "      'color':  'black',\n",
        "      'weight': 'normal',\n",
        "      'size': 18,\n",
        "  }\n",
        "\n",
        "  \"\"\"\n",
        "  Función utilizada para visualizar la historia de nuestro modelo.\n",
        "  Incluye pérdidas y precisión a lo largo de cada iteración.\n",
        "  \"\"\"\n",
        "  # Obtenemos las pérdidas de los conjuntos de entrenamiento y validación\n",
        "  loss = history.history['loss']\n",
        "  val_loss = history.history['val_loss']\n",
        "\n",
        "  # Obtenemos la precisión de los conjuntos de entrenamiento y validación\n",
        "  accuracy = history.history['accuracy']\n",
        "  val_accuracy = history.history['val_accuracy']\n",
        "\n",
        "  # Determinamos las iteraciones que hubo durante el entrenamiento\n",
        "  epochs = range(len(history.history['loss']))\n",
        "\n",
        "  # Graficamos las pérdidas de ambos conjuntos a lo largo de las iteraciones\n",
        "  plt.plot(epochs, loss, label='training', linewidth=3)\n",
        "  plt.plot(epochs, val_loss, label='validation', linewidth=3)\n",
        "  plt.title('loss', fontdict=font_label)\n",
        "  plt.xlabel('epochs', fontdict=font_label)\n",
        "  plt.legend()\n",
        "\n",
        "  # Graficamos la precisión de ambos conjuntos a lo largo de las iteraciones\n",
        "  #plt.figure()\n",
        "  #plt.plot(epochs, accuracy, label='training')\n",
        "  #plt.plot(epochs, val_accuracy, label='validation')\n",
        "  #plt.title('accuracy')\n",
        "  #plt.xlabel('epochs')\n",
        "  #plt.legend()"
      ],
      "execution_count": null,
      "outputs": []
    },
    {
      "cell_type": "markdown",
      "metadata": {
        "id": "jJxSIpU612f-"
      },
      "source": [
        "Creación de Pares"
      ]
    },
    {
      "cell_type": "code",
      "metadata": {
        "colab": {
          "base_uri": "https://localhost:8080/"
        },
        "id": "xgZlJROx14VV",
        "outputId": "f874d079-996d-4f91-d659-05ff33b8ffd6"
      },
      "source": [
        "(pares_m1_entrenamiento, labels_m1_entrenamiento) = crear_pares(conjunto_entrenamiento_fisura_1, conjunto_entrenamiento_pernoflojo_1)\n",
        "(pares_m1_validacion, labels_m1_validacion) = crear_pares(conjunto_validacion_fisura_1, conjunto_validacion_pernoflojo_1)\n",
        "(pares_m1_prueba, labels_m1_prueba) = crear_pares(conjunto_prueba_fisura_1, conjunto_prueba_pernoflojo_1)"
      ],
      "execution_count": null,
      "outputs": [
        {
          "output_type": "stream",
          "name": "stdout",
          "text": [
            "Creando pares...\n",
            "Pares creados.\n",
            "Creando pares...\n",
            "Pares creados.\n",
            "Creando pares...\n",
            "Pares creados.\n"
          ]
        }
      ]
    },
    {
      "cell_type": "code",
      "metadata": {
        "id": "xEVldWnQ16BO"
      },
      "source": [
        "np.random.seed(300)\n",
        "\n",
        "pares_aleatorizados_m1 = pares_m1_entrenamiento\n",
        "np.random.shuffle(pares_aleatorizados_m1)"
      ],
      "execution_count": null,
      "outputs": []
    },
    {
      "cell_type": "code",
      "metadata": {
        "id": "cATP_4zg17Z4"
      },
      "source": [
        "np.random.seed(300)\n",
        "\n",
        "labels_aleatorizados_m1 = labels_m1_entrenamiento\n",
        "np.random.shuffle(labels_aleatorizados_m1)"
      ],
      "execution_count": null,
      "outputs": []
    },
    {
      "cell_type": "markdown",
      "source": [
        "## Modelo de 1 Red Convolucional"
      ],
      "metadata": {
        "id": "Rwx-U46N8K9o"
      }
    },
    {
      "cell_type": "code",
      "source": [
        "# Creamos función que retorna la estructura de la red convolucional que se va a utilizar\n",
        "def build_siamese_model_1(input_shape):\n",
        "  model = tf.keras.Sequential([\n",
        "                                tf.keras.layers.Conv2D(filters=64,\n",
        "                                                        kernel_size=3,\n",
        "                                                        activation='relu',\n",
        "                                                        padding='same',\n",
        "                                                        input_shape=input_shape),\n",
        "                                tf.keras.layers.Flatten(),\n",
        "                                tf.keras.layers.Dense(4960)\n",
        "  ])\n",
        "\n",
        "  return model"
      ],
      "metadata": {
        "id": "R5SqOf1U4CG6"
      },
      "execution_count": null,
      "outputs": []
    },
    {
      "cell_type": "code",
      "source": [
        "tf.random.set_seed(100)\n",
        "\n",
        "# Creamos el modelo general\n",
        "IMG_SHAPE = (16, 16, 24)\n",
        "\n",
        "# Definimos los inputs (imágenes) que ingresan a cada CNN\n",
        "imgA = tf.keras.Input(IMG_SHAPE)\n",
        "imgB = tf.keras.Input(IMG_SHAPE)\n",
        "\n",
        "# Creamos el featureExtractor, el cual obtiene las características principales de las imágenes ingresadas y las muestra en un vector\n",
        "featureExtractor = build_siamese_model_1(input_shape=IMG_SHAPE)\n",
        "\n",
        "# Ingresamos cada imagen al featureExtractor\n",
        "featsA = featureExtractor(imgA)\n",
        "featsB = featureExtractor(imgB)\n",
        "\n",
        "# Creamos una capa Lambda (que aplica una función sobre los datos) para obtener la distancia euclidiana\n",
        "distancia = tf.keras.layers.Lambda(euclidean_distance)([featsA, featsB])\n",
        "\n",
        "# Creamos la última capa asociada a la función de activación sigmoide\n",
        "outputs = tf.keras.layers.Dense(1, activation='sigmoid')(distancia)\n",
        "\n",
        "# Establecemos el modelo general\n",
        "model_1 = tf.keras.Model(inputs=[imgA, imgB], outputs=outputs)\n",
        "\n",
        "# Empleamos el loss como binary_crossentropy porque solo queremos saber si las imágenes son similares o no (no queremos clasificarlas)\n",
        "model_1.compile(loss='binary_crossentropy',\n",
        "                optimizer=tf.keras.optimizers.Adam(learning_rate=0.005),\n",
        "                metrics=['accuracy'])\n",
        "\n",
        "# Hacemos el fit del modelo\n",
        "history_1 = model_1.fit(\n",
        "    [pares_aleatorizados_m1[:, 0], pares_aleatorizados_m1[:, 1]], labels_aleatorizados_m1[:],\n",
        "     validation_data=([pares_m1_validacion[:, 0], pares_m1_validacion[:, 1]], labels_m1_validacion[:]),\n",
        "     batch_size=32,\n",
        "     epochs=10\n",
        ")"
      ],
      "metadata": {
        "colab": {
          "base_uri": "https://localhost:8080/"
        },
        "id": "WIEKDpLQ4Izy",
        "outputId": "c2c4ee01-8057-41db-c8ad-457f0ee08623"
      },
      "execution_count": null,
      "outputs": [
        {
          "output_type": "stream",
          "name": "stdout",
          "text": [
            "Epoch 1/10\n",
            "128/128 [==============================] - 159s 1s/step - loss: 0.5643 - accuracy: 0.6147 - val_loss: 0.4351 - val_accuracy: 0.7715\n",
            "Epoch 2/10\n",
            "128/128 [==============================] - 147s 1s/step - loss: 0.3662 - accuracy: 0.8662 - val_loss: 0.3387 - val_accuracy: 0.8984\n",
            "Epoch 3/10\n",
            "128/128 [==============================] - 149s 1s/step - loss: 0.2725 - accuracy: 0.9429 - val_loss: 0.2776 - val_accuracy: 0.9219\n",
            "Epoch 4/10\n",
            "128/128 [==============================] - 152s 1s/step - loss: 0.2100 - accuracy: 0.9675 - val_loss: 0.2315 - val_accuracy: 0.9434\n",
            "Epoch 5/10\n",
            "128/128 [==============================] - 148s 1s/step - loss: 0.1633 - accuracy: 0.9805 - val_loss: 0.1906 - val_accuracy: 0.9648\n",
            "Epoch 6/10\n",
            "128/128 [==============================] - 147s 1s/step - loss: 0.1269 - accuracy: 0.9907 - val_loss: 0.1734 - val_accuracy: 0.9629\n",
            "Epoch 7/10\n",
            "128/128 [==============================] - 147s 1s/step - loss: 0.0982 - accuracy: 0.9946 - val_loss: 0.1571 - val_accuracy: 0.9609\n",
            "Epoch 8/10\n",
            "128/128 [==============================] - 147s 1s/step - loss: 0.0787 - accuracy: 0.9980 - val_loss: 0.1521 - val_accuracy: 0.9629\n",
            "Epoch 9/10\n",
            "128/128 [==============================] - 148s 1s/step - loss: 0.0624 - accuracy: 0.9990 - val_loss: 0.1462 - val_accuracy: 0.9590\n",
            "Epoch 10/10\n",
            "128/128 [==============================] - 147s 1s/step - loss: 0.0497 - accuracy: 0.9993 - val_loss: 0.1334 - val_accuracy: 0.9629\n"
          ]
        }
      ]
    },
    {
      "cell_type": "code",
      "source": [
        "graficar_curva_perdidas(history_1)\n",
        "plt.savefig('loss_fisuraPernoflojo_1conv_80_pdf_prueba.pdf', bbox_inches='tight')"
      ],
      "metadata": {
        "id": "SG7EIStkFxo6",
        "colab": {
          "base_uri": "https://localhost:8080/",
          "height": 306
        },
        "outputId": "fd1f2f79-f2a6-4bb4-a4e5-839b9aa29811"
      },
      "execution_count": null,
      "outputs": [
        {
          "output_type": "display_data",
          "data": {
            "text/plain": [
              "<Figure size 432x288 with 1 Axes>"
            ],
            "image/png": "[encoded data removed]"
          },
          "metadata": {
            "needs_background": "light"
          }
        }
      ]
    },
    {
      "cell_type": "markdown",
      "source": [
        "## Modelo de 2 Redes Convolucionales"
      ],
      "metadata": {
        "id": "T3eHeTFG8HqI"
      }
    },
    {
      "cell_type": "code",
      "source": [
        "# Creamos función que retorna la estructura de la red convolucional que se va a utilizar\n",
        "def build_siamese_model_2(input_shape):\n",
        "  model = tf.keras.Sequential([\n",
        "                                tf.keras.layers.Conv2D(filters=64,\n",
        "                                                        kernel_size=3,\n",
        "                                                        activation='relu',\n",
        "                                                        padding='same',\n",
        "                                                        input_shape=input_shape),\n",
        "                                tf.keras.layers.MaxPooling2D(pool_size=2),\n",
        "                                tf.keras.layers.Conv2D(filters=128,\n",
        "                                                        kernel_size=3,\n",
        "                                                        activation='relu',\n",
        "                                                        padding='same'),\n",
        "                                tf.keras.layers.Flatten(),\n",
        "                                tf.keras.layers.Dense(4960)\n",
        "  ])\n",
        "\n",
        "  return model"
      ],
      "metadata": {
        "id": "KQBnxaiCzpCf"
      },
      "execution_count": null,
      "outputs": []
    },
    {
      "cell_type": "code",
      "source": [
        "tf.random.set_seed(100)\n",
        "\n",
        "# Creamos el modelo general\n",
        "IMG_SHAPE = (16, 16, 24)\n",
        "\n",
        "# Definimos los inputs (imágenes) que ingresan a cada CNN\n",
        "imgA = tf.keras.Input(IMG_SHAPE)\n",
        "imgB = tf.keras.Input(IMG_SHAPE)\n",
        "\n",
        "# Creamos el featureExtractor, el cual obtiene las características principales de las imágenes ingresadas y las muestra en un vector\n",
        "featureExtractor = build_siamese_model_2(input_shape=IMG_SHAPE)\n",
        "\n",
        "# Ingresamos cada imagen al featureExtractor\n",
        "featsA = featureExtractor(imgA)\n",
        "featsB = featureExtractor(imgB)\n",
        "\n",
        "# Creamos una capa Lambda (que aplica una función sobre los datos) para obtener la distancia euclidiana\n",
        "distancia = tf.keras.layers.Lambda(euclidean_distance)([featsA, featsB])\n",
        "\n",
        "# Creamos la última capa asociada a la función de activación sigmoide\n",
        "outputs = tf.keras.layers.Dense(1, activation='sigmoid')(distancia)\n",
        "\n",
        "# Establecemos el modelo general\n",
        "model_2 = tf.keras.Model(inputs=[imgA, imgB], outputs=outputs)\n",
        "\n",
        "# Empleamos el loss como binary_crossentropy porque solo queremos saber si las imágenes son similares o no (no queremos clasificarlas)\n",
        "model_2.compile(loss='binary_crossentropy',\n",
        "                optimizer=tf.keras.optimizers.Adam(learning_rate=0.005),\n",
        "                metrics=['accuracy'])\n",
        "\n",
        "# Hacemos el fit del modelo\n",
        "history_2 = model_2.fit(\n",
        "    [pares_aleatorizados_m1[:, 0], pares_aleatorizados_m1[:, 1]], labels_aleatorizados_m1[:],\n",
        "     validation_data=([pares_m1_validacion[:, 0], pares_m1_validacion[:, 1]], labels_m1_validacion[:]),\n",
        "     batch_size=32,\n",
        "     epochs=10\n",
        ")"
      ],
      "metadata": {
        "colab": {
          "base_uri": "https://localhost:8080/"
        },
        "id": "vYjiKcBuzvdh",
        "outputId": "d30dd9ab-31ca-46a1-998e-48a8a319b1dd"
      },
      "execution_count": null,
      "outputs": [
        {
          "output_type": "stream",
          "name": "stdout",
          "text": [
            "Epoch 1/10\n",
            "128/128 [==============================] - 84s 645ms/step - loss: 0.4793 - accuracy: 0.6858 - val_loss: 0.3688 - val_accuracy: 0.8398\n",
            "Epoch 2/10\n",
            "128/128 [==============================] - 82s 642ms/step - loss: 0.3050 - accuracy: 0.9216 - val_loss: 0.3101 - val_accuracy: 0.9297\n",
            "Epoch 3/10\n",
            "128/128 [==============================] - 83s 647ms/step - loss: 0.2175 - accuracy: 0.9746 - val_loss: 0.1995 - val_accuracy: 0.9766\n",
            "Epoch 4/10\n",
            "128/128 [==============================] - 87s 680ms/step - loss: 0.1540 - accuracy: 0.9934 - val_loss: 0.1516 - val_accuracy: 0.9902\n",
            "Epoch 5/10\n",
            "128/128 [==============================] - 83s 647ms/step - loss: 0.1180 - accuracy: 0.9963 - val_loss: 0.1280 - val_accuracy: 0.9922\n",
            "Epoch 6/10\n",
            "128/128 [==============================] - 83s 650ms/step - loss: 0.0869 - accuracy: 0.9985 - val_loss: 0.0969 - val_accuracy: 0.9961\n",
            "Epoch 7/10\n",
            "128/128 [==============================] - 83s 651ms/step - loss: 0.0662 - accuracy: 1.0000 - val_loss: 0.0733 - val_accuracy: 0.9961\n",
            "Epoch 8/10\n",
            "128/128 [==============================] - 84s 656ms/step - loss: 0.0520 - accuracy: 1.0000 - val_loss: 0.0636 - val_accuracy: 0.9980\n",
            "Epoch 9/10\n",
            "128/128 [==============================] - 82s 642ms/step - loss: 0.0404 - accuracy: 1.0000 - val_loss: 0.0535 - val_accuracy: 1.0000\n",
            "Epoch 10/10\n",
            "128/128 [==============================] - 82s 642ms/step - loss: 0.0340 - accuracy: 1.0000 - val_loss: 0.0507 - val_accuracy: 1.0000\n"
          ]
        }
      ]
    },
    {
      "cell_type": "code",
      "source": [
        "graficar_curva_perdidas(history_2)\n",
        "plt.savefig('loss_fisuraPernoflojo_2conv_80_pdf_prueba.pdf', bbox_inches='tight')"
      ],
      "metadata": {
        "id": "Xv5JRJuNFryq",
        "colab": {
          "base_uri": "https://localhost:8080/",
          "height": 306
        },
        "outputId": "ee265a5b-42f7-4feb-fc62-03fdc0d2fb23"
      },
      "execution_count": null,
      "outputs": [
        {
          "output_type": "display_data",
          "data": {
            "text/plain": [
              "<Figure size 432x288 with 1 Axes>"
            ],
            "image/png": "[encoded data removed]"
          },
          "metadata": {
            "needs_background": "light"
          }
        }
      ]
    },
    {
      "cell_type": "markdown",
      "metadata": {
        "id": "wfknXZHr2KWM"
      },
      "source": [
        "## Matrices de Confusión"
      ]
    },
    {
      "cell_type": "code",
      "metadata": {
        "id": "2XEsqcJ42L62"
      },
      "source": [
        "# Creamos una función que nos permita visualizar la matriz de confusión de los resultados\n",
        "sns.set(font_scale=1.5)\n",
        "\n",
        "def plot_conf_mat(y_test, y_preds):\n",
        "\n",
        "    font_label = {'family': 'serif',\n",
        "      'color':  'black',\n",
        "      'weight': 'normal',\n",
        "      'size': 18,\n",
        "    }\n",
        "    \n",
        "    fig, ax = plt.subplots(figsize=(4,4))\n",
        "    ax = sns.heatmap(confusion_matrix(y_test, y_preds),\n",
        "                     annot=True,\n",
        "                     cbar=False,\n",
        "                     fmt='g')\n",
        "    plt.xlabel('True Class', fontdict=font_label)\n",
        "    plt.ylabel('Predicted Class', fontdict=font_label)"
      ],
      "execution_count": null,
      "outputs": []
    },
    {
      "cell_type": "code",
      "metadata": {
        "id": "MM_vrD3e2NMQ"
      },
      "source": [
        "# Guardamos las predicciones en una variable\n",
        "predicciones_1 = model_1.predict([pares_m1_prueba[:, 0], pares_m1_prueba[:, 1]])\n",
        "predicciones_2 = model_2.predict([pares_m1_prueba[:, 0], pares_m1_prueba[:, 1]])"
      ],
      "execution_count": null,
      "outputs": []
    },
    {
      "cell_type": "code",
      "metadata": {
        "id": "A3vU7fnL2OcD"
      },
      "source": [
        "# Redondeamos los valores predecidos para poder compararlos con los valores reales\n",
        "for i in range(len(predicciones_1)):\n",
        "  predicciones_1[i][0] = round(predicciones_1[i][0])\n",
        "\n",
        "for i in range(len(predicciones_2)):\n",
        "  predicciones_2[i][0] = round(predicciones_2[i][0])"
      ],
      "execution_count": null,
      "outputs": []
    },
    {
      "cell_type": "code",
      "metadata": {
        "id": "96R2zSXO2P9M",
        "colab": {
          "base_uri": "https://localhost:8080/",
          "height": 297
        },
        "outputId": "90f2376d-f7b5-417f-fd7d-ec29daf21b7f"
      },
      "source": [
        "# Graficamos la matriz de confusión\n",
        "plot_conf_mat(labels_m1_prueba, predicciones_1)"
      ],
      "execution_count": null,
      "outputs": [
        {
          "output_type": "display_data",
          "data": {
            "text/plain": [
              "<Figure size 288x288 with 1 Axes>"
            ],
            "image/png": "[encoded data removed]"
          },
          "metadata": {}
        }
      ]
    },
    {
      "cell_type": "code",
      "source": [
        "# Graficamos la matriz de confusión\n",
        "plot_conf_mat(labels_m1_prueba, predicciones_2)"
      ],
      "metadata": {
        "id": "-sFW1bYiKdlW",
        "colab": {
          "base_uri": "https://localhost:8080/",
          "height": 297
        },
        "outputId": "1bd0cd75-d3be-437e-c63b-cf1c4ba4a9c8"
      },
      "execution_count": null,
      "outputs": [
        {
          "output_type": "display_data",
          "data": {
            "text/plain": [
              "<Figure size 288x288 with 1 Axes>"
            ],
            "image/png": "[encoded data removed]"
          },
          "metadata": {}
        }
      ]
    },
    {
      "cell_type": "markdown",
      "source": [
        "## Conjunto de Prueba Manual\n",
        "Se va a crear de manera manual los pares del conjunto de prueba debido a que se debe tener un seguimiento con respecto a los distintos estados estructurales y niveles de white noise.\n",
        "\n",
        "Para esto se van a utilizar los siguientes conjuntos:\n",
        "* conjunto_prueba_fisura_1\n",
        "* conjunto_prueba_pernoflojo_1\n",
        "\n",
        "Estos dos conjuntos poseen 128 imágenes en total. Para ambos conjuntos se tiene que:\n",
        "* Las primeras 32 imágenes son de white noise 0.5\n",
        "* Las siguientes 32 imágenes son de white noise 1\n",
        "* Las siguientes 32 imágenes son de white noise 2\n",
        "* Las últimas 32 imágenes son de white noise 3"
      ],
      "metadata": {
        "id": "JiA_5yVQA1b4"
      }
    },
    {
      "cell_type": "code",
      "source": [
        "len(conjunto_prueba_fisura_1), len(conjunto_prueba_pernoflojo_1)"
      ],
      "metadata": {
        "id": "KhOk3c0P1Uo7",
        "colab": {
          "base_uri": "https://localhost:8080/"
        },
        "outputId": "062d41cb-40dd-4175-cdfc-97f8a36318af"
      },
      "execution_count": null,
      "outputs": [
        {
          "output_type": "execute_result",
          "data": {
            "text/plain": [
              "(128, 128)"
            ]
          },
          "metadata": {},
          "execution_count": 68
        }
      ]
    },
    {
      "cell_type": "code",
      "source": [
        "prueba_fisura_05 = conjunto_prueba_fisura_1[:32]\n",
        "prueba_fisura_1 = conjunto_prueba_fisura_1[32:64]\n",
        "prueba_fisura_2 = conjunto_prueba_fisura_1[64:96]\n",
        "prueba_fisura_3 = conjunto_prueba_fisura_1[96:]"
      ],
      "metadata": {
        "id": "KxJRHXNhDxhB"
      },
      "execution_count": null,
      "outputs": []
    },
    {
      "cell_type": "code",
      "source": [
        "len(prueba_fisura_05), len(prueba_fisura_1), len(prueba_fisura_2), len(prueba_fisura_3)"
      ],
      "metadata": {
        "id": "x9qFhuQfD97D",
        "colab": {
          "base_uri": "https://localhost:8080/"
        },
        "outputId": "3c70e55d-3ce2-4ec6-d6fe-26bee2085a49"
      },
      "execution_count": null,
      "outputs": [
        {
          "output_type": "execute_result",
          "data": {
            "text/plain": [
              "(32, 32, 32, 32)"
            ]
          },
          "metadata": {},
          "execution_count": 70
        }
      ]
    },
    {
      "cell_type": "code",
      "source": [
        "lista_wn_fisura = [prueba_fisura_05, prueba_fisura_1, prueba_fisura_2, prueba_fisura_3]"
      ],
      "metadata": {
        "id": "8ZpwFMRwMyMC"
      },
      "execution_count": null,
      "outputs": []
    },
    {
      "cell_type": "code",
      "source": [
        "prueba_pernoflojo_05 = conjunto_prueba_pernoflojo_1[:32]\n",
        "prueba_pernoflojo_1 = conjunto_prueba_pernoflojo_1[32:64]\n",
        "prueba_pernoflojo_2 = conjunto_prueba_pernoflojo_1[64:96]\n",
        "prueba_pernoflojo_3 = conjunto_prueba_pernoflojo_1[96:]"
      ],
      "metadata": {
        "id": "W8AsCSBLA_Y-"
      },
      "execution_count": null,
      "outputs": []
    },
    {
      "cell_type": "code",
      "source": [
        "lista_wn_pernoflojo = [prueba_pernoflojo_05, prueba_pernoflojo_1, prueba_pernoflojo_2, prueba_pernoflojo_3]"
      ],
      "metadata": {
        "id": "FQ6ivOgqQh7_"
      },
      "execution_count": null,
      "outputs": []
    },
    {
      "cell_type": "code",
      "source": [
        "len(prueba_pernoflojo_05), len(prueba_pernoflojo_1), len(prueba_pernoflojo_2), len(prueba_pernoflojo_3)"
      ],
      "metadata": {
        "id": "wAmRQdwjDmoY",
        "colab": {
          "base_uri": "https://localhost:8080/"
        },
        "outputId": "af9743f4-8de6-4a8d-fc59-fddf1087c8a5"
      },
      "execution_count": null,
      "outputs": [
        {
          "output_type": "execute_result",
          "data": {
            "text/plain": [
              "(32, 32, 32, 32)"
            ]
          },
          "metadata": {},
          "execution_count": 74
        }
      ]
    },
    {
      "cell_type": "markdown",
      "source": [
        "Establecemos el conjunto general de pares de prueba y labels de prueba"
      ],
      "metadata": {
        "id": "IMdEMHBoPsI3"
      }
    },
    {
      "cell_type": "code",
      "source": [
        "pares_imagenes = []\n",
        "labels_imagenes = []"
      ],
      "metadata": {
        "id": "MCrVrEtKPv_a"
      },
      "execution_count": null,
      "outputs": []
    },
    {
      "cell_type": "markdown",
      "source": [
        "Creamos los pares positivos del conjunto de fisura"
      ],
      "metadata": {
        "id": "tafCNh2RMbkU"
      }
    },
    {
      "cell_type": "code",
      "source": [
        "random.seed(100)\n",
        "\n",
        "for i in lista_wn_fisura:\n",
        "  for j in range(32):\n",
        "    imagen_actual = i[j]\n",
        "    imagen_aleatoria = []\n",
        "    if j <= 7:\n",
        "      # Par con 0.5\n",
        "      imagen_aleatoria = random.choice(lista_wn_fisura[0])\n",
        "    elif j > 7 and j <= 15:\n",
        "      # Par con 1\n",
        "      imagen_aleatoria = random.choice(lista_wn_fisura[1])\n",
        "    elif j > 15 and j <= 23:\n",
        "      # Par con 2\n",
        "      imagen_aleatoria = random.choice(lista_wn_fisura[2])\n",
        "    elif j > 23:\n",
        "      # Par con 3\n",
        "      imagen_aleatoria = random.choice(lista_wn_fisura[3])\n",
        "    pares_imagenes.append([imagen_actual, imagen_aleatoria])\n",
        "    labels_imagenes.append([1])"
      ],
      "metadata": {
        "id": "3hnUE95WMFrm"
      },
      "execution_count": null,
      "outputs": []
    },
    {
      "cell_type": "code",
      "source": [
        "len(pares_imagenes), len(labels_imagenes)"
      ],
      "metadata": {
        "id": "3YWzWbVPPj0Y",
        "colab": {
          "base_uri": "https://localhost:8080/"
        },
        "outputId": "f511e53b-6b20-4bfb-b0a3-044a0db079f9"
      },
      "execution_count": null,
      "outputs": [
        {
          "output_type": "execute_result",
          "data": {
            "text/plain": [
              "(128, 128)"
            ]
          },
          "metadata": {},
          "execution_count": 77
        }
      ]
    },
    {
      "cell_type": "markdown",
      "source": [
        "Creamos los pares negativos del conjunto de fisura"
      ],
      "metadata": {
        "id": "FF8PlRTvP0ch"
      }
    },
    {
      "cell_type": "code",
      "source": [
        "random.seed(100)\n",
        "\n",
        "for i in lista_wn_fisura:\n",
        "  for j in range(32):\n",
        "    imagen_actual = i[j]\n",
        "    imagen_aleatoria = []\n",
        "    if j <= 7:\n",
        "      # Par con 0.5\n",
        "      imagen_aleatoria = random.choice(lista_wn_pernoflojo[0])\n",
        "    elif j > 7 and j <= 15:\n",
        "      # Par con 1\n",
        "      imagen_aleatoria = random.choice(lista_wn_pernoflojo[1])\n",
        "    elif j > 15 and j <= 23:\n",
        "      # Par con 2\n",
        "      imagen_aleatoria = random.choice(lista_wn_pernoflojo[2])\n",
        "    elif j > 23:\n",
        "      # Par con 3\n",
        "      imagen_aleatoria = random.choice(lista_wn_pernoflojo[3])\n",
        "    pares_imagenes.append([imagen_actual, imagen_aleatoria])\n",
        "    labels_imagenes.append([0])"
      ],
      "metadata": {
        "id": "aLG8tJp-PmPV"
      },
      "execution_count": null,
      "outputs": []
    },
    {
      "cell_type": "code",
      "source": [
        "len(pares_imagenes), len(labels_imagenes)"
      ],
      "metadata": {
        "id": "z2mwN5IPQ823",
        "colab": {
          "base_uri": "https://localhost:8080/"
        },
        "outputId": "39fc7660-bc8b-4d28-fbdf-fc5aef5c2b3b"
      },
      "execution_count": null,
      "outputs": [
        {
          "output_type": "execute_result",
          "data": {
            "text/plain": [
              "(256, 256)"
            ]
          },
          "metadata": {},
          "execution_count": 79
        }
      ]
    },
    {
      "cell_type": "markdown",
      "source": [
        "Creamos los pares positivos del conjunto de pernoflojo"
      ],
      "metadata": {
        "id": "D4tD5KnXRHcf"
      }
    },
    {
      "cell_type": "code",
      "source": [
        "random.seed(100)\n",
        "\n",
        "for i in lista_wn_pernoflojo:\n",
        "  for j in range(32):\n",
        "    imagen_actual = i[j]\n",
        "    imagen_aleatoria = []\n",
        "    if j <= 7:\n",
        "      # Par con 0.5\n",
        "      imagen_aleatoria = random.choice(lista_wn_pernoflojo[0])\n",
        "    elif j > 7 and j <= 15:\n",
        "      # Par con 1\n",
        "      imagen_aleatoria = random.choice(lista_wn_pernoflojo[1])\n",
        "    elif j > 15 and j <= 23:\n",
        "      # Par con 2\n",
        "      imagen_aleatoria = random.choice(lista_wn_pernoflojo[2])\n",
        "    elif j > 23:\n",
        "      # Par con 3\n",
        "      imagen_aleatoria = random.choice(lista_wn_pernoflojo[3])\n",
        "    pares_imagenes.append([imagen_actual, imagen_aleatoria])\n",
        "    labels_imagenes.append([1])"
      ],
      "metadata": {
        "id": "RavNgo27Q-pG"
      },
      "execution_count": null,
      "outputs": []
    },
    {
      "cell_type": "code",
      "source": [
        "len(pares_imagenes), len(labels_imagenes)"
      ],
      "metadata": {
        "id": "9OP5gfEVRaQ3",
        "colab": {
          "base_uri": "https://localhost:8080/"
        },
        "outputId": "e689124a-fde5-4c00-ccab-b878dcc096c8"
      },
      "execution_count": null,
      "outputs": [
        {
          "output_type": "execute_result",
          "data": {
            "text/plain": [
              "(384, 384)"
            ]
          },
          "metadata": {},
          "execution_count": 81
        }
      ]
    },
    {
      "cell_type": "markdown",
      "source": [
        "Creamos los pares negativos del conjunto de pernoflojo"
      ],
      "metadata": {
        "id": "tTakt422RgBR"
      }
    },
    {
      "cell_type": "code",
      "source": [
        "random.seed(100)\n",
        "\n",
        "for i in lista_wn_pernoflojo:\n",
        "  for j in range(32):\n",
        "    imagen_actual = i[j]\n",
        "    imagen_aleatoria = []\n",
        "    if j <= 7:\n",
        "      # Par con 0.5\n",
        "      imagen_aleatoria = random.choice(lista_wn_fisura[0])\n",
        "    elif j > 7 and j <= 15:\n",
        "      # Par con 1\n",
        "      imagen_aleatoria = random.choice(lista_wn_fisura[1])\n",
        "    elif j > 15 and j <= 23:\n",
        "      # Par con 2\n",
        "      imagen_aleatoria = random.choice(lista_wn_fisura[2])\n",
        "    elif j > 23:\n",
        "      # Par con 3\n",
        "      imagen_aleatoria = random.choice(lista_wn_fisura[3])\n",
        "    pares_imagenes.append([imagen_actual, imagen_aleatoria])\n",
        "    labels_imagenes.append([0])"
      ],
      "metadata": {
        "id": "Y5PYjyuiRd_e"
      },
      "execution_count": null,
      "outputs": []
    },
    {
      "cell_type": "code",
      "source": [
        "len(pares_imagenes), len(labels_imagenes)"
      ],
      "metadata": {
        "id": "IHVn8U2DRxe-",
        "colab": {
          "base_uri": "https://localhost:8080/"
        },
        "outputId": "4ea0b2c7-4739-4e92-8fc1-5ce7a6404b40"
      },
      "execution_count": null,
      "outputs": [
        {
          "output_type": "execute_result",
          "data": {
            "text/plain": [
              "(512, 512)"
            ]
          },
          "metadata": {},
          "execution_count": 83
        }
      ]
    },
    {
      "cell_type": "markdown",
      "source": [
        "Conjunto de prueba final"
      ],
      "metadata": {
        "id": "g79dpD7zSHI2"
      }
    },
    {
      "cell_type": "code",
      "source": [
        "(pares_prueba_final, labels_prueba_final) = (np.array(pares_imagenes), np.array(labels_imagenes))"
      ],
      "metadata": {
        "id": "1a4zeMl5R0V9"
      },
      "execution_count": null,
      "outputs": []
    },
    {
      "cell_type": "markdown",
      "source": [
        "Prueba de modelo 1 (1 convolucional)"
      ],
      "metadata": {
        "id": "i5fzkSlTV2VE"
      }
    },
    {
      "cell_type": "code",
      "source": [
        "# Guardamos las predicciones en una variable\n",
        "predicciones_final = model_1.predict([pares_prueba_final[:, 0], pares_prueba_final[:, 1]])"
      ],
      "metadata": {
        "id": "FDrrikVuSPWO"
      },
      "execution_count": null,
      "outputs": []
    },
    {
      "cell_type": "code",
      "source": [
        "# Redondeamos los valores predecidos para poder compararlos con los valores reales\n",
        "for i in range(len(predicciones_final)):\n",
        "  predicciones_final[i][0] = round(predicciones_final[i][0])"
      ],
      "metadata": {
        "id": "ebY1VUVES1lO"
      },
      "execution_count": null,
      "outputs": []
    },
    {
      "cell_type": "code",
      "source": [
        "# Graficamos la matriz de confusión\n",
        "plot_conf_mat(labels_imagenes, predicciones_final)\n",
        "plt.savefig('cm_fisuraPerno_1_pdf_80_prueba.pdf', bbox_inches='tight')"
      ],
      "metadata": {
        "id": "6yBmGeDKVtH-",
        "colab": {
          "base_uri": "https://localhost:8080/",
          "height": 297
        },
        "outputId": "1439637b-4003-4757-defd-6602304104c7"
      },
      "execution_count": null,
      "outputs": [
        {
          "output_type": "display_data",
          "data": {
            "text/plain": [
              "<Figure size 288x288 with 1 Axes>"
            ],
            "image/png": "[encoded data removed]"
          },
          "metadata": {}
        }
      ]
    },
    {
      "cell_type": "markdown",
      "source": [
        "Prueba de modelo 2 (2 convolucionales)"
      ],
      "metadata": {
        "id": "f6_P8n3ZV6ma"
      }
    },
    {
      "cell_type": "code",
      "source": [
        "# Guardamos las predicciones en una variable\n",
        "predicciones_final_2 = model_2.predict([pares_prueba_final[:, 0], pares_prueba_final[:, 1]])"
      ],
      "metadata": {
        "id": "j3xH80-fVwYG"
      },
      "execution_count": null,
      "outputs": []
    },
    {
      "cell_type": "code",
      "source": [
        "# Redondeamos los valores predecidos para poder compararlos con los valores reales\n",
        "for i in range(len(predicciones_final_2)):\n",
        "  predicciones_final_2[i][0] = round(predicciones_final_2[i][0])"
      ],
      "metadata": {
        "id": "5kDNzAcVWEsH"
      },
      "execution_count": null,
      "outputs": []
    },
    {
      "cell_type": "code",
      "source": [
        "# Graficamos la matriz de confusión\n",
        "plot_conf_mat(labels_imagenes, predicciones_final_2)\n",
        "plt.savefig('cm_fisuraPerno_2_pdf_80_prueba.pdf', bbox_inches='tight')"
      ],
      "metadata": {
        "id": "9pEXF3MhWJEO",
        "colab": {
          "base_uri": "https://localhost:8080/",
          "height": 297
        },
        "outputId": "5fa58910-09b4-4645-cdbe-9829537a6405"
      },
      "execution_count": null,
      "outputs": [
        {
          "output_type": "display_data",
          "data": {
            "text/plain": [
              "<Figure size 288x288 with 1 Axes>"
            ],
            "image/png": "[encoded data removed]"
          },
          "metadata": {}
        }
      ]
    },
    {
      "cell_type": "markdown",
      "source": [
        "Visualizamos las predicciones para determinar el rendimiento por White Noise"
      ],
      "metadata": {
        "id": "WFEaJB3RWg6B"
      }
    },
    {
      "cell_type": "code",
      "source": [
        "len(predicciones_final)"
      ],
      "metadata": {
        "id": "t3H-spTUWj5u"
      },
      "execution_count": null,
      "outputs": []
    },
    {
      "cell_type": "code",
      "source": [
        "predicciones_final == labels_imagenes"
      ],
      "metadata": {
        "id": "w18rmVE9WluG"
      },
      "execution_count": null,
      "outputs": []
    },
    {
      "cell_type": "code",
      "source": [
        "verificar_pandas = pd.DataFrame(predicciones_final == labels_imagenes)"
      ],
      "metadata": {
        "id": "RoGHiAARcDxX"
      },
      "execution_count": null,
      "outputs": []
    },
    {
      "cell_type": "code",
      "source": [
        "verificar_pandas"
      ],
      "metadata": {
        "id": "KldUh9SjcTWn"
      },
      "execution_count": null,
      "outputs": []
    },
    {
      "cell_type": "code",
      "source": [
        "wn_1 = []\n",
        "\n",
        "conteo = 0\n",
        "while conteo != 4:\n",
        "  for i in range(32):\n",
        "    wn_1.append(0.5)\n",
        "  for i in range(32):\n",
        "    wn_1.append(1)\n",
        "  for i in range(32):\n",
        "    wn_1.append(2)\n",
        "  for i in range(32):\n",
        "    wn_1.append(3)\n",
        "  conteo += 1"
      ],
      "metadata": {
        "id": "xfROZP5KdsJl"
      },
      "execution_count": null,
      "outputs": []
    },
    {
      "cell_type": "code",
      "source": [
        "len(wn_1)"
      ],
      "metadata": {
        "id": "zyft_--teNUo"
      },
      "execution_count": null,
      "outputs": []
    },
    {
      "cell_type": "code",
      "source": [
        "wn_2 = []\n",
        "\n",
        "conteo = 0\n",
        "while conteo != 16:\n",
        "  for i in range(8):\n",
        "    wn_2.append(0.5)\n",
        "  for i in range(8):\n",
        "    wn_2.append(1)\n",
        "  for i in range(8):\n",
        "    wn_2.append(2)\n",
        "  for i in range(8):\n",
        "    wn_2.append(3)\n",
        "  conteo += 1"
      ],
      "metadata": {
        "id": "EpsV_CgneQkJ"
      },
      "execution_count": null,
      "outputs": []
    },
    {
      "cell_type": "code",
      "source": [
        "len(wn_2)"
      ],
      "metadata": {
        "id": "ENpSZL70ewL2"
      },
      "execution_count": null,
      "outputs": []
    },
    {
      "cell_type": "code",
      "source": [
        "verificar_pandas[\"WN_1\"] = wn_1\n",
        "verificar_pandas[\"WN_2\"] = wn_2"
      ],
      "metadata": {
        "id": "jqlEcKaXfKMS"
      },
      "execution_count": null,
      "outputs": []
    },
    {
      "cell_type": "code",
      "source": [
        "verificar_pandas"
      ],
      "metadata": {
        "id": "nx9ELxwYfS6W"
      },
      "execution_count": null,
      "outputs": []
    },
    {
      "cell_type": "code",
      "source": [
        "verificar_pandas.to_excel(\"verificar_Fisura_Pernoflojo.xlsx\")"
      ],
      "metadata": {
        "id": "FKqJXYn9cUP_"
      },
      "execution_count": null,
      "outputs": []
    }
  ]
}