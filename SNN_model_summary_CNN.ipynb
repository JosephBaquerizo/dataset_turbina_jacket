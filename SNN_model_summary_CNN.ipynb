{
  "nbformat": 4,
  "nbformat_minor": 0,
  "metadata": {
    "colab": {
      "name": "SNN_model_summary_CNN.ipynb",
      "provenance": [],
      "collapsed_sections": [],
      "authorship_tag": "ABX9TyOt29PaL9ery+Sri/BUYd8F"
    },
    "kernelspec": {
      "name": "python3",
      "display_name": "Python 3"
    },
    "language_info": {
      "name": "python"
    }
  },
  "cells": [
    {
      "cell_type": "markdown",
      "metadata": {
        "id": "AGjK8lThkL00"
      },
      "source": [
        "# Summary de SNN convolutional network"
      ]
    },
    {
      "cell_type": "code",
      "metadata": {
        "id": "T3P_Hw4skJpD"
      },
      "source": [
        "import tensorflow as tf"
      ],
      "execution_count": 1,
      "outputs": []
    },
    {
      "cell_type": "code",
      "metadata": {
        "id": "UsCu_e7MkT2S"
      },
      "source": [
        "model = tf.keras.Sequential([\n",
        "                              tf.keras.layers.Conv2D(filters=64,\n",
        "                                                      kernel_size=10,\n",
        "                                                      activation='relu',\n",
        "                                                      padding='same',\n",
        "                                                      input_shape=(24, 16, 16)),\n",
        "                              tf.keras.layers.MaxPooling2D(pool_size=2),\n",
        "                              tf.keras.layers.Conv2D(filters=128,\n",
        "                                                      kernel_size=7,\n",
        "                                                      activation='relu',\n",
        "                                                      padding='same'),\n",
        "                              tf.keras.layers.MaxPooling2D(pool_size=2),\n",
        "                              tf.keras.layers.Conv2D(filters=128,\n",
        "                                                       kernel_size=4,\n",
        "                                                      activation='relu',\n",
        "                                                      padding='same'),\n",
        "                              tf.keras.layers.MaxPooling2D(pool_size=2),\n",
        "                              tf.keras.layers.Conv2D(filters=256,\n",
        "                                                      kernel_size=4,\n",
        "                                                      activation='relu',\n",
        "                                                      padding='same'),\n",
        "                              tf.keras.layers.Flatten(),\n",
        "                              tf.keras.layers.Dense(4960)\n",
        "])"
      ],
      "execution_count": 3,
      "outputs": []
    },
    {
      "cell_type": "code",
      "metadata": {
        "colab": {
          "base_uri": "https://localhost:8080/"
        },
        "id": "DUhj1jM-kv14",
        "outputId": "44288a2e-a492-4215-eb36-644350bcfc7b"
      },
      "source": [
        "model.summary()"
      ],
      "execution_count": 4,
      "outputs": [
        {
          "output_type": "stream",
          "name": "stdout",
          "text": [
            "Model: \"sequential\"\n",
            "_________________________________________________________________\n",
            "Layer (type)                 Output Shape              Param #   \n",
            "=================================================================\n",
            "conv2d (Conv2D)              (None, 24, 16, 64)        102464    \n",
            "_________________________________________________________________\n",
            "max_pooling2d (MaxPooling2D) (None, 12, 8, 64)         0         \n",
            "_________________________________________________________________\n",
            "conv2d_1 (Conv2D)            (None, 12, 8, 128)        401536    \n",
            "_________________________________________________________________\n",
            "max_pooling2d_1 (MaxPooling2 (None, 6, 4, 128)         0         \n",
            "_________________________________________________________________\n",
            "conv2d_2 (Conv2D)            (None, 6, 4, 128)         262272    \n",
            "_________________________________________________________________\n",
            "max_pooling2d_2 (MaxPooling2 (None, 3, 2, 128)         0         \n",
            "_________________________________________________________________\n",
            "conv2d_3 (Conv2D)            (None, 3, 2, 256)         524544    \n",
            "_________________________________________________________________\n",
            "flatten (Flatten)            (None, 1536)              0         \n",
            "_________________________________________________________________\n",
            "dense (Dense)                (None, 4960)              7623520   \n",
            "=================================================================\n",
            "Total params: 8,914,336\n",
            "Trainable params: 8,914,336\n",
            "Non-trainable params: 0\n",
            "_________________________________________________________________\n"
          ]
        }
      ]
    },
    {
      "cell_type": "markdown",
      "metadata": {
        "id": "1-bVL4jilwGV"
      },
      "source": [
        "La primera dimensión es None debido a que puede ser variable. En un modelo de keras, la primera dimensión de un modelo siempre se encuentra asociada al batch size."
      ]
    }
  ]
}