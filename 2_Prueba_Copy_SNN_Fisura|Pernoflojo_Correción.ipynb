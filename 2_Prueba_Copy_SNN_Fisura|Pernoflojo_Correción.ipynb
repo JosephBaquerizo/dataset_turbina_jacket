{
  "nbformat": 4,
  "nbformat_minor": 0,
  "metadata": {
    "colab": {
      "name": "2_Prueba_Copy_SNN_Fisura|Pernoflojo_Correción.ipynb",
      "provenance": [],
      "collapsed_sections": [],
      "authorship_tag": "ABX9TyO8MesAUTXYYVXd6m571Lql",
      "include_colab_link": true
    },
    "kernelspec": {
      "name": "python3",
      "display_name": "Python 3"
    },
    "language_info": {
      "name": "python"
    }
  },
  "cells": [
    {
      "cell_type": "markdown",
      "metadata": {
        "id": "view-in-github",
        "colab_type": "text"
      },
      "source": [
        "<a href=\"https://colab.research.google.com/github/JosephBaquerizo/dataset_turbina_jacket/blob/main/2_Prueba_Copy_SNN_Fisura%7CPernoflojo_Correci%C3%B3n.ipynb\" target=\"_parent\"><img src=\"https://colab.research.google.com/assets/colab-badge.svg\" alt=\"Open In Colab\"/></a>"
      ]
    },
    {
      "cell_type": "markdown",
      "metadata": {
        "id": "k8JtmheHipJs"
      },
      "source": [
        "## Importaciones"
      ]
    },
    {
      "cell_type": "code",
      "metadata": {
        "id": "_VEK-k6oiW2c"
      },
      "source": [
        "from google.colab import drive\n",
        "from os import listdir\n",
        "from os.path import isfile, join\n",
        "from scipy.io import loadmat\n",
        "from random import randint\n",
        "from sklearn.utils import shuffle\n",
        "from sklearn.metrics import confusion_matrix, classification_report\n",
        "\n",
        "import seaborn as sns\n",
        "import matplotlib.pyplot as plt\n",
        "import tensorflow as tf\n",
        "import tensorflow.keras.backend as K\n",
        "import pandas as pd\n",
        "import numpy as np\n",
        "import random\n",
        "\n",
        "import datetime\n",
        "import os"
      ],
      "execution_count": 75,
      "outputs": []
    },
    {
      "cell_type": "markdown",
      "metadata": {
        "id": "9ngTWA10is25"
      },
      "source": [
        "## Obtención de Datos"
      ]
    },
    {
      "cell_type": "code",
      "metadata": {
        "colab": {
          "base_uri": "https://localhost:8080/"
        },
        "id": "CD2HdgURiu39",
        "outputId": "dcf46ea5-2e03-4690-d446-760b79c6ce0a"
      },
      "source": [
        "# Establecemos conexión con Google Drive para acceder a la carpeta de datasets\n",
        "drive.mount('/content/drive')"
      ],
      "execution_count": 76,
      "outputs": [
        {
          "output_type": "stream",
          "name": "stdout",
          "text": [
            "Drive already mounted at /content/drive; to attempt to forcibly remount, call drive.mount(\"/content/drive\", force_remount=True).\n"
          ]
        }
      ]
    },
    {
      "cell_type": "code",
      "metadata": {
        "id": "32pLFNaniwlQ"
      },
      "source": [
        "# Guardamos la dirección de los datasets (experimentos) en una variable para utilizala posteriormente\n",
        "dataset_datos_dir = 'drive/MyDrive/DATOS_EXPERIMENTALES_JACKET/DATOS'"
      ],
      "execution_count": 77,
      "outputs": []
    },
    {
      "cell_type": "code",
      "metadata": {
        "id": "8xR31JHLiyiM"
      },
      "source": [
        "# Obtenemos una lista con todos los nombres de los archivos relacionados a los experimentos realizados\n",
        "dataset_datos_files = [dataset_datos_dir+'/'+filename for filename in listdir(dataset_datos_dir) if isfile(join(dataset_datos_dir, filename))]"
      ],
      "execution_count": 78,
      "outputs": []
    },
    {
      "cell_type": "code",
      "metadata": {
        "id": "-TblwaAGi0al"
      },
      "source": [
        "# Creamos listas en donde se almacenarán los archivos relacionados a experimentos de fisura y experimentos de perno flojo respectivamente\n",
        "datos_fisura = []\n",
        "datos_pernoflojo = []"
      ],
      "execution_count": 79,
      "outputs": []
    },
    {
      "cell_type": "code",
      "metadata": {
        "id": "Fujaa6G5i2nE"
      },
      "source": [
        "# Iteramos los nombres de todos los archivos en la lista general previamente creada\n",
        "for filename in listdir(dataset_datos_dir):\n",
        "  # Obtenemos el nombre del archivo tal cual, sin direcciones previas\n",
        "  if isfile(join(dataset_datos_dir, filename)):\n",
        "    nombre_archivo = filename.split('.')[0]\n",
        "    # El estado de fisura se asocia al número 3 en los nombres de los archivos, si cumple la condición el archivo, guardamos en la lista datos_fisura\n",
        "    if (nombre_archivo.split('_')[0] == '3'):\n",
        "      datos_fisura.append(dataset_datos_dir + '/' + filename)\n",
        "    # El estado de fisura se asocia al número 4 en los nombres de los archivos, si cumple la condición el archivo, guardamos en la lista datos_pernoflojo\n",
        "    elif (nombre_archivo.split('_')[0] == '4'):\n",
        "      datos_pernoflojo.append(dataset_datos_dir + '/' + filename)"
      ],
      "execution_count": 80,
      "outputs": []
    },
    {
      "cell_type": "markdown",
      "metadata": {
        "id": "-BCAi8Jgi5ZD"
      },
      "source": [
        "## Datos Fisura"
      ]
    },
    {
      "cell_type": "code",
      "metadata": {
        "id": "PZBcIqFci4Kg"
      },
      "source": [
        "# Se crean 2 listas, una asociada al número de experimento y otra asociada al nivel de white noise presente durante el experimento \n",
        "numero_experimentos_fisura = []\n",
        "amplitud_experimentos_fisura = []"
      ],
      "execution_count": 81,
      "outputs": []
    },
    {
      "cell_type": "code",
      "metadata": {
        "id": "zaFHIIYDi9uv"
      },
      "source": [
        "# Iteramos los nombres de los archivos dentro del conjunto que contiene los datos de fisura\n",
        "for nombre_archivo in datos_fisura:\n",
        "  # Obtenemos el nombre del experimento\n",
        "  nombre_experimento = nombre_archivo.split('/')[4]\n",
        "  # Obtenemos el número del experimento\n",
        "  numero_experimento = nombre_experimento.split('_')[1]\n",
        "  # Obtenemos el nivel de white noise del experimento\n",
        "  amplitud_experimento = nombre_experimento.split('.')[0].split('_')[2].replace('A', '')\n",
        "  # Agregamos el número del experimento a la lista numero_experimentos_fisura creada anteriormente\n",
        "  numero_experimentos_fisura.append(int(numero_experimento))\n",
        "  # Agregamos el nivel de white noise del experimento a la lista amplitud_experimentos_fisura creada anteriormente\n",
        "  if amplitud_experimento == '05':\n",
        "    amplitud_experimento = 0.5\n",
        "    amplitud_experimentos_fisura.append(amplitud_experimento)\n",
        "  else:\n",
        "    amplitud_experimentos_fisura.append(int(amplitud_experimento))"
      ],
      "execution_count": 82,
      "outputs": []
    },
    {
      "cell_type": "code",
      "metadata": {
        "id": "FU7ejmR9jDdG"
      },
      "source": [
        "# Creamos un DataFrame vacío\n",
        "df_fisura = pd.DataFrame()"
      ],
      "execution_count": 83,
      "outputs": []
    },
    {
      "cell_type": "code",
      "metadata": {
        "id": "xKyTZgwSjOvl"
      },
      "source": [
        "# Iteramos por rango la lista datos_fisura\n",
        "for indice in range(len(datos_fisura)):\n",
        "  # Obtenemos la dirección dentro de la iteración correspondiente\n",
        "  direccion = datos_fisura[indice]\n",
        "  # Transformamos el .mat a un formato en el que se pueda transformar a DataFrame\n",
        "  mat = loadmat(direccion)\n",
        "  df = pd.DataFrame(mat['data'])\n",
        "  # Para todos los valores del experimento, creamos columnas en donde sus valores se asocian con el nivel de wn y el # de experimento\n",
        "  df['#_exp'] = numero_experimentos_fisura[indice]\n",
        "  df['amplitud'] = amplitud_experimentos_fisura[indice]\n",
        "  # Colocamos al final del DataFrame df_fisura creado el nuevo DataFrame \n",
        "  df_fisura = pd.concat([df_fisura, df], axis = 0)"
      ],
      "execution_count": 84,
      "outputs": []
    },
    {
      "cell_type": "code",
      "metadata": {
        "colab": {
          "base_uri": "https://localhost:8080/",
          "height": 317
        },
        "id": "V3xWYvlRjQix",
        "outputId": "2c31ef97-8b70-474d-b24f-4d138e65350c"
      },
      "source": [
        "# Revisamos el conjunto de datos obtenido para fisura\n",
        "df_fisura.head(8)"
      ],
      "execution_count": 85,
      "outputs": [
        {
          "output_type": "execute_result",
          "data": {
            "text/html": [
              "<div>\n",
              "<style scoped>\n",
              "    .dataframe tbody tr th:only-of-type {\n",
              "        vertical-align: middle;\n",
              "    }\n",
              "\n",
              "    .dataframe tbody tr th {\n",
              "        vertical-align: top;\n",
              "    }\n",
              "\n",
              "    .dataframe thead th {\n",
              "        text-align: right;\n",
              "    }\n",
              "</style>\n",
              "<table border=\"1\" class=\"dataframe\">\n",
              "  <thead>\n",
              "    <tr style=\"text-align: right;\">\n",
              "      <th></th>\n",
              "      <th>0</th>\n",
              "      <th>1</th>\n",
              "      <th>2</th>\n",
              "      <th>3</th>\n",
              "      <th>4</th>\n",
              "      <th>5</th>\n",
              "      <th>6</th>\n",
              "      <th>7</th>\n",
              "      <th>8</th>\n",
              "      <th>9</th>\n",
              "      <th>10</th>\n",
              "      <th>11</th>\n",
              "      <th>12</th>\n",
              "      <th>13</th>\n",
              "      <th>14</th>\n",
              "      <th>15</th>\n",
              "      <th>16</th>\n",
              "      <th>17</th>\n",
              "      <th>18</th>\n",
              "      <th>19</th>\n",
              "      <th>20</th>\n",
              "      <th>21</th>\n",
              "      <th>22</th>\n",
              "      <th>23</th>\n",
              "      <th>#_exp</th>\n",
              "      <th>amplitud</th>\n",
              "    </tr>\n",
              "  </thead>\n",
              "  <tbody>\n",
              "    <tr>\n",
              "      <th>0</th>\n",
              "      <td>0.000132</td>\n",
              "      <td>0.000185</td>\n",
              "      <td>0.000122</td>\n",
              "      <td>0.000105</td>\n",
              "      <td>0.000141</td>\n",
              "      <td>0.000075</td>\n",
              "      <td>0.000007</td>\n",
              "      <td>0.000231</td>\n",
              "      <td>0.000299</td>\n",
              "      <td>0.000113</td>\n",
              "      <td>0.000228</td>\n",
              "      <td>0.000225</td>\n",
              "      <td>0.000168</td>\n",
              "      <td>0.000018</td>\n",
              "      <td>0.000344</td>\n",
              "      <td>0.000275</td>\n",
              "      <td>-0.000017</td>\n",
              "      <td>0.000046</td>\n",
              "      <td>0.000200</td>\n",
              "      <td>0.000169</td>\n",
              "      <td>0.000097</td>\n",
              "      <td>0.000196</td>\n",
              "      <td>-0.000053</td>\n",
              "      <td>0.000018</td>\n",
              "      <td>1</td>\n",
              "      <td>1.0</td>\n",
              "    </tr>\n",
              "    <tr>\n",
              "      <th>1</th>\n",
              "      <td>0.000092</td>\n",
              "      <td>0.000223</td>\n",
              "      <td>0.000166</td>\n",
              "      <td>0.000127</td>\n",
              "      <td>0.000191</td>\n",
              "      <td>0.000137</td>\n",
              "      <td>0.000075</td>\n",
              "      <td>0.000192</td>\n",
              "      <td>0.000240</td>\n",
              "      <td>0.000095</td>\n",
              "      <td>0.000279</td>\n",
              "      <td>0.000231</td>\n",
              "      <td>0.000145</td>\n",
              "      <td>0.000037</td>\n",
              "      <td>0.000339</td>\n",
              "      <td>0.000092</td>\n",
              "      <td>0.000085</td>\n",
              "      <td>0.000074</td>\n",
              "      <td>0.000128</td>\n",
              "      <td>0.000163</td>\n",
              "      <td>0.000074</td>\n",
              "      <td>0.000085</td>\n",
              "      <td>0.000063</td>\n",
              "      <td>-0.000027</td>\n",
              "      <td>1</td>\n",
              "      <td>1.0</td>\n",
              "    </tr>\n",
              "    <tr>\n",
              "      <th>2</th>\n",
              "      <td>0.000091</td>\n",
              "      <td>0.000280</td>\n",
              "      <td>0.000188</td>\n",
              "      <td>0.000130</td>\n",
              "      <td>0.000172</td>\n",
              "      <td>0.000102</td>\n",
              "      <td>0.000161</td>\n",
              "      <td>0.000158</td>\n",
              "      <td>0.000211</td>\n",
              "      <td>0.000123</td>\n",
              "      <td>0.000269</td>\n",
              "      <td>0.000206</td>\n",
              "      <td>0.000198</td>\n",
              "      <td>0.000041</td>\n",
              "      <td>0.000312</td>\n",
              "      <td>0.000179</td>\n",
              "      <td>0.000011</td>\n",
              "      <td>0.000079</td>\n",
              "      <td>0.000117</td>\n",
              "      <td>0.000146</td>\n",
              "      <td>0.000085</td>\n",
              "      <td>0.000089</td>\n",
              "      <td>-0.000014</td>\n",
              "      <td>0.000020</td>\n",
              "      <td>1</td>\n",
              "      <td>1.0</td>\n",
              "    </tr>\n",
              "    <tr>\n",
              "      <th>3</th>\n",
              "      <td>0.000179</td>\n",
              "      <td>0.000199</td>\n",
              "      <td>0.000249</td>\n",
              "      <td>0.000102</td>\n",
              "      <td>0.000268</td>\n",
              "      <td>0.000140</td>\n",
              "      <td>0.000126</td>\n",
              "      <td>0.000231</td>\n",
              "      <td>0.000239</td>\n",
              "      <td>0.000102</td>\n",
              "      <td>0.000284</td>\n",
              "      <td>0.000175</td>\n",
              "      <td>0.000164</td>\n",
              "      <td>0.000082</td>\n",
              "      <td>0.000311</td>\n",
              "      <td>0.000235</td>\n",
              "      <td>0.000031</td>\n",
              "      <td>0.000079</td>\n",
              "      <td>0.000257</td>\n",
              "      <td>0.000110</td>\n",
              "      <td>0.000050</td>\n",
              "      <td>0.000120</td>\n",
              "      <td>0.000080</td>\n",
              "      <td>0.000057</td>\n",
              "      <td>1</td>\n",
              "      <td>1.0</td>\n",
              "    </tr>\n",
              "    <tr>\n",
              "      <th>4</th>\n",
              "      <td>0.000282</td>\n",
              "      <td>0.000277</td>\n",
              "      <td>0.000202</td>\n",
              "      <td>0.000211</td>\n",
              "      <td>0.000251</td>\n",
              "      <td>0.000159</td>\n",
              "      <td>0.000096</td>\n",
              "      <td>0.000205</td>\n",
              "      <td>0.000342</td>\n",
              "      <td>0.000113</td>\n",
              "      <td>0.000240</td>\n",
              "      <td>0.000272</td>\n",
              "      <td>0.000214</td>\n",
              "      <td>0.000057</td>\n",
              "      <td>0.000304</td>\n",
              "      <td>0.000302</td>\n",
              "      <td>0.000047</td>\n",
              "      <td>0.000150</td>\n",
              "      <td>0.000271</td>\n",
              "      <td>0.000168</td>\n",
              "      <td>0.000126</td>\n",
              "      <td>0.000224</td>\n",
              "      <td>0.000105</td>\n",
              "      <td>0.000058</td>\n",
              "      <td>1</td>\n",
              "      <td>1.0</td>\n",
              "    </tr>\n",
              "    <tr>\n",
              "      <th>5</th>\n",
              "      <td>0.000005</td>\n",
              "      <td>0.000196</td>\n",
              "      <td>0.000247</td>\n",
              "      <td>0.000109</td>\n",
              "      <td>0.000186</td>\n",
              "      <td>0.000115</td>\n",
              "      <td>0.000042</td>\n",
              "      <td>0.000129</td>\n",
              "      <td>0.000255</td>\n",
              "      <td>0.000108</td>\n",
              "      <td>0.000315</td>\n",
              "      <td>0.000214</td>\n",
              "      <td>0.000237</td>\n",
              "      <td>-0.000001</td>\n",
              "      <td>0.000334</td>\n",
              "      <td>0.000202</td>\n",
              "      <td>-0.000008</td>\n",
              "      <td>0.000081</td>\n",
              "      <td>0.000173</td>\n",
              "      <td>0.000165</td>\n",
              "      <td>0.000126</td>\n",
              "      <td>0.000107</td>\n",
              "      <td>-0.000012</td>\n",
              "      <td>0.000006</td>\n",
              "      <td>1</td>\n",
              "      <td>1.0</td>\n",
              "    </tr>\n",
              "    <tr>\n",
              "      <th>6</th>\n",
              "      <td>0.000176</td>\n",
              "      <td>0.000372</td>\n",
              "      <td>0.000223</td>\n",
              "      <td>0.000154</td>\n",
              "      <td>0.000258</td>\n",
              "      <td>0.000165</td>\n",
              "      <td>0.000170</td>\n",
              "      <td>0.000157</td>\n",
              "      <td>0.000228</td>\n",
              "      <td>0.000126</td>\n",
              "      <td>0.000282</td>\n",
              "      <td>0.000219</td>\n",
              "      <td>0.000198</td>\n",
              "      <td>0.000081</td>\n",
              "      <td>0.000333</td>\n",
              "      <td>0.000146</td>\n",
              "      <td>0.000065</td>\n",
              "      <td>0.000070</td>\n",
              "      <td>0.000140</td>\n",
              "      <td>0.000145</td>\n",
              "      <td>0.000099</td>\n",
              "      <td>0.000115</td>\n",
              "      <td>0.000068</td>\n",
              "      <td>-0.000031</td>\n",
              "      <td>1</td>\n",
              "      <td>1.0</td>\n",
              "    </tr>\n",
              "    <tr>\n",
              "      <th>7</th>\n",
              "      <td>0.000133</td>\n",
              "      <td>0.000171</td>\n",
              "      <td>0.000187</td>\n",
              "      <td>0.000182</td>\n",
              "      <td>0.000237</td>\n",
              "      <td>0.000159</td>\n",
              "      <td>0.000121</td>\n",
              "      <td>0.000280</td>\n",
              "      <td>0.000293</td>\n",
              "      <td>0.000096</td>\n",
              "      <td>0.000248</td>\n",
              "      <td>0.000202</td>\n",
              "      <td>0.000160</td>\n",
              "      <td>0.000015</td>\n",
              "      <td>0.000319</td>\n",
              "      <td>0.000335</td>\n",
              "      <td>-0.000004</td>\n",
              "      <td>0.000102</td>\n",
              "      <td>0.000201</td>\n",
              "      <td>0.000193</td>\n",
              "      <td>0.000180</td>\n",
              "      <td>0.000171</td>\n",
              "      <td>-0.000009</td>\n",
              "      <td>0.000095</td>\n",
              "      <td>1</td>\n",
              "      <td>1.0</td>\n",
              "    </tr>\n",
              "  </tbody>\n",
              "</table>\n",
              "</div>"
            ],
            "text/plain": [
              "          0         1         2         3  ...        22        23  #_exp  amplitud\n",
              "0  0.000132  0.000185  0.000122  0.000105  ... -0.000053  0.000018      1       1.0\n",
              "1  0.000092  0.000223  0.000166  0.000127  ...  0.000063 -0.000027      1       1.0\n",
              "2  0.000091  0.000280  0.000188  0.000130  ... -0.000014  0.000020      1       1.0\n",
              "3  0.000179  0.000199  0.000249  0.000102  ...  0.000080  0.000057      1       1.0\n",
              "4  0.000282  0.000277  0.000202  0.000211  ...  0.000105  0.000058      1       1.0\n",
              "5  0.000005  0.000196  0.000247  0.000109  ... -0.000012  0.000006      1       1.0\n",
              "6  0.000176  0.000372  0.000223  0.000154  ...  0.000068 -0.000031      1       1.0\n",
              "7  0.000133  0.000171  0.000187  0.000182  ... -0.000009  0.000095      1       1.0\n",
              "\n",
              "[8 rows x 26 columns]"
            ]
          },
          "metadata": {},
          "execution_count": 85
        }
      ]
    },
    {
      "cell_type": "code",
      "metadata": {
        "colab": {
          "base_uri": "https://localhost:8080/"
        },
        "id": "_VYjX1RajZ9n",
        "outputId": "acfaffe4-f18a-4668-84ab-596c86f7a84f"
      },
      "source": [
        "# Si dividimos para 99097 el df_fisura deberíamos obtener 20 experimentos en total\n",
        "len(df_fisura)/99097"
      ],
      "execution_count": 86,
      "outputs": [
        {
          "output_type": "execute_result",
          "data": {
            "text/plain": [
              "20.0"
            ]
          },
          "metadata": {},
          "execution_count": 86
        }
      ]
    },
    {
      "cell_type": "code",
      "metadata": {
        "id": "6_MIOfsYjboG"
      },
      "source": [
        "# Establecemos 2 listas, una con los posibles experimentos y otra con los posibles niveles de white noise, lo cual nos ayudará a segmentar los datos\n",
        "experimentos = [1, 2, 3, 4, 5]\n",
        "wns = [0.5, 1, 2, 3]\n",
        "# Creamos una lista en donde pondremos todas las imágenes creadas, segmentadas por experimento y white noise\n",
        "arreglo_imagenes_por_experimento_fisura = []\n",
        "\n",
        "# Iteramos por experimento y por nivel de white noise\n",
        "for i in experimentos:\n",
        "  for j in wns:\n",
        "    # Creamos filtros que nos permiten identificar el experimento por su número asociado y por su nivel de white noise dentro del conjunto de datos\n",
        "    filter1 = df_fisura[\"#_exp\"] == i\n",
        "    filter2 = df_fisura[\"amplitud\"] == j\n",
        "    # Filtramos y deshacemos las filas que no corresponden a la búsqueda\n",
        "    dataset_experimento = df_fisura.where(filter1 & filter2).dropna()\n",
        "    # Creamos arreglo en donde almacenaremos listas de imágenes asociadas a cada columna en un experimento individual\n",
        "    arreglo_matrices_asociadas = []\n",
        "\n",
        "    # En el conjunto filtrado, iteramos por cada columna (de la columna 0 a la 23)\n",
        "    for n in range(24):\n",
        "      # Establecemos un límite inferior y un límite superior\n",
        "      indice_inicio = 0\n",
        "      indice_fin = 256\n",
        "      # Del conjunto filtrado, obtenemos un subconjunto con muestras cada 6 pasos\n",
        "      columna_cada_6 = dataset_experimento[n][::6]\n",
        "      # Creamos una lista en donde guardaremos todas las imágenes creadas dentro de la columna en la que se esta iterando\n",
        "      matrices_columna = []\n",
        "    \n",
        "      # Recorremos en valores de 256 la columna del subconjunto creado para generar las imágenes 16x16 correspondientes \n",
        "      while indice_fin < len(columna_cada_6):\n",
        "        # Guardamos el conjunto de 256 datos dentro de un arreglo\n",
        "        vector = columna_cada_6[indice_inicio:indice_fin]\n",
        "        # Redimensionamos el arreglo (de 1x256 a 16x16)\n",
        "        matriz = vector.to_numpy().reshape((16, 16))\n",
        "        # Agregamos la imagen dentro de la lista matrices_columna\n",
        "        matrices_columna.append(matriz)\n",
        "        # Establecemos el nuevo límite inferior y superior en donde se encontrarán los datos de mi nueva imagen 16x16\n",
        "        indice_inicio = indice_fin\n",
        "        indice_fin = indice_fin + 256\n",
        "      \n",
        "      # Agregamos las listas de imágenes 16x16 asociadas a una columna a arreglo_matrices_asociadas\n",
        "      arreglo_matrices_asociadas.append(matrices_columna)\n",
        "    \n",
        "    # Agregamos arreglo_matrices_asociadas a arreglos_imagenes_por_experimento, en donde tenemos listas de listas asociadas a un experimento individual\n",
        "    arreglo_imagenes_por_experimento_fisura.append(arreglo_matrices_asociadas)"
      ],
      "execution_count": 87,
      "outputs": []
    },
    {
      "cell_type": "code",
      "metadata": {
        "colab": {
          "base_uri": "https://localhost:8080/"
        },
        "id": "ApbOsD0ajeqV",
        "outputId": "ca1bca81-96dc-4c28-8d0d-b41a66d42f93"
      },
      "source": [
        "len(arreglo_imagenes_por_experimento_fisura)"
      ],
      "execution_count": 88,
      "outputs": [
        {
          "output_type": "execute_result",
          "data": {
            "text/plain": [
              "20"
            ]
          },
          "metadata": {},
          "execution_count": 88
        }
      ]
    },
    {
      "cell_type": "code",
      "metadata": {
        "colab": {
          "base_uri": "https://localhost:8080/"
        },
        "id": "FLu_2xONjhbN",
        "outputId": "12580f7e-780b-419d-d8da-226d65c90627"
      },
      "source": [
        "len(arreglo_imagenes_por_experimento_fisura[0])"
      ],
      "execution_count": 89,
      "outputs": [
        {
          "output_type": "execute_result",
          "data": {
            "text/plain": [
              "24"
            ]
          },
          "metadata": {},
          "execution_count": 89
        }
      ]
    },
    {
      "cell_type": "code",
      "metadata": {
        "colab": {
          "base_uri": "https://localhost:8080/"
        },
        "id": "ti139yhsjjoQ",
        "outputId": "1a335a43-4de5-41b9-89ec-e53035c3fea1"
      },
      "source": [
        "len(arreglo_imagenes_por_experimento_fisura[0][0])"
      ],
      "execution_count": 90,
      "outputs": [
        {
          "output_type": "execute_result",
          "data": {
            "text/plain": [
              "64"
            ]
          },
          "metadata": {},
          "execution_count": 90
        }
      ]
    },
    {
      "cell_type": "code",
      "metadata": {
        "colab": {
          "base_uri": "https://localhost:8080/"
        },
        "id": "PnpVg6ZhjkDV",
        "outputId": "d39f1431-3da8-4f0b-c7e1-ef6c75eeee48"
      },
      "source": [
        "arreglo_imagenes_por_experimento_fisura[0][0][0].size"
      ],
      "execution_count": 91,
      "outputs": [
        {
          "output_type": "execute_result",
          "data": {
            "text/plain": [
              "256"
            ]
          },
          "metadata": {},
          "execution_count": 91
        }
      ]
    },
    {
      "cell_type": "code",
      "metadata": {
        "colab": {
          "base_uri": "https://localhost:8080/"
        },
        "id": "0vE29CD4jl6p",
        "outputId": "675e8118-a6ce-4c21-e16d-40f22e80c5e5"
      },
      "source": [
        "arreglo_imagenes_por_experimento_fisura[0][0][0].shape"
      ],
      "execution_count": 92,
      "outputs": [
        {
          "output_type": "execute_result",
          "data": {
            "text/plain": [
              "(16, 16)"
            ]
          },
          "metadata": {},
          "execution_count": 92
        }
      ]
    },
    {
      "cell_type": "code",
      "metadata": {
        "id": "KUL59Lpcjntb"
      },
      "source": [
        "# Creamos un arreglos general para todas las imágenes de dimensionamiento (24, 16, 16)\n",
        "arreglo_imagenes_fisura = []\n",
        "\n",
        "# Iteramos cada experimento en la lista de experimentos creada previamente\n",
        "for experimento in arreglo_imagenes_por_experimento_fisura:\n",
        "  # Iteramos en un rango de 64 para usarlo posteriormente\n",
        "  for idx in range(64):\n",
        "    # Para cada iteración se crea el arreglo en donde se agregaran las capas correctas de la imagen de dimensionamniento (24, 16, 16)\n",
        "    imagen = []\n",
        "    # Iteramos para cada fila en el experimento (son 24 filas)\n",
        "    for fila in experimento:\n",
        "      # Asociamos por índice los valores de cada lista de imágenes para establecer la relación correcta y agregamos al arreglo creado\n",
        "      capa_imagen = fila[idx]\n",
        "      imagen.append(capa_imagen)\n",
        "\n",
        "    # Transformamos la lista de 24 capas a un arreglo numérico\n",
        "    arreglo_imagenes_fisura.append(np.array(imagen))"
      ],
      "execution_count": 93,
      "outputs": []
    },
    {
      "cell_type": "code",
      "metadata": {
        "colab": {
          "base_uri": "https://localhost:8080/"
        },
        "id": "mKOjTn7MjqlQ",
        "outputId": "51f88eed-2449-4001-84e4-d9187fa59681"
      },
      "source": [
        "# Revisamos el número de imágenes creadas\n",
        "len(arreglo_imagenes_fisura)"
      ],
      "execution_count": 94,
      "outputs": [
        {
          "output_type": "execute_result",
          "data": {
            "text/plain": [
              "1280"
            ]
          },
          "metadata": {},
          "execution_count": 94
        }
      ]
    },
    {
      "cell_type": "code",
      "metadata": {
        "colab": {
          "base_uri": "https://localhost:8080/"
        },
        "id": "lMMoktMMjsfR",
        "outputId": "9b84f04b-0376-4c79-8e5a-e530389ce7e5"
      },
      "source": [
        "# Revisamos el dimensionamiento y tipo de un elemento aleatorio en la lista de imágenes\n",
        "indice_imagen_fisura = randint(0, len(arreglo_imagenes_fisura) - 1)\n",
        "arreglo_imagenes_fisura[indice_imagen_fisura].shape, type(arreglo_imagenes_fisura[0]), indice_imagen_fisura"
      ],
      "execution_count": 95,
      "outputs": [
        {
          "output_type": "execute_result",
          "data": {
            "text/plain": [
              "((24, 16, 16), numpy.ndarray, 432)"
            ]
          },
          "metadata": {},
          "execution_count": 95
        }
      ]
    },
    {
      "cell_type": "code",
      "metadata": {
        "id": "Y3N75No2kyEm"
      },
      "source": [
        "imagenes_fisura_05 = []\n",
        "imagenes_fisura_1 = []\n",
        "imagenes_fisura_2 = []\n",
        "imagenes_fisura_3 = []"
      ],
      "execution_count": 96,
      "outputs": []
    },
    {
      "cell_type": "code",
      "metadata": {
        "colab": {
          "base_uri": "https://localhost:8080/"
        },
        "id": "-bafvj3Ok03H",
        "outputId": "d69451ae-ac0a-4891-d407-8ec0d33c9dcb"
      },
      "source": [
        "lista_indices = [0]\n",
        "indice_contador = 0\n",
        "\n",
        "while indice_contador < 1280:\n",
        "  indice_contador = indice_contador + 64\n",
        "  lista_indices.append(indice_contador)\n",
        "print(lista_indices)"
      ],
      "execution_count": 97,
      "outputs": [
        {
          "output_type": "stream",
          "name": "stdout",
          "text": [
            "[0, 64, 128, 192, 256, 320, 384, 448, 512, 576, 640, 704, 768, 832, 896, 960, 1024, 1088, 1152, 1216, 1280]\n"
          ]
        }
      ]
    },
    {
      "cell_type": "code",
      "metadata": {
        "id": "tbvJ0yKsk3GP"
      },
      "source": [
        "# indices paa fisura, pernoflojo y replica\n",
        "indices_05 = [1, 5, 9, 13, 17]\n",
        "indices_1 = [2, 6, 10, 14, 18]\n",
        "indices_2 = [3, 7, 11, 15, 19]\n",
        "indices_3 = [4, 8, 12, 16, 20]"
      ],
      "execution_count": 98,
      "outputs": []
    },
    {
      "cell_type": "code",
      "metadata": {
        "id": "9czYk3H3k6as"
      },
      "source": [
        "for i in indices_05:\n",
        "  for j in arreglo_imagenes_fisura[lista_indices[i-1]:lista_indices[i]]:\n",
        "    imagenes_fisura_05.append(j)\n",
        "for i in indices_1:\n",
        "  for j in arreglo_imagenes_fisura[lista_indices[i-1]:lista_indices[i]]:\n",
        "    imagenes_fisura_1.append(j)\n",
        "for i in indices_2:\n",
        "  for j in arreglo_imagenes_fisura[lista_indices[i-1]:lista_indices[i]]:\n",
        "    imagenes_fisura_2.append(j)\n",
        "for i in indices_3:\n",
        "  for j in arreglo_imagenes_fisura[lista_indices[i-1]:lista_indices[i]]:\n",
        "    imagenes_fisura_3.append(j)"
      ],
      "execution_count": 99,
      "outputs": []
    },
    {
      "cell_type": "code",
      "metadata": {
        "colab": {
          "base_uri": "https://localhost:8080/"
        },
        "id": "ac0B7h4Uk8RL",
        "outputId": "0eb44bac-7c86-44ed-a5ef-b204e27f8a67"
      },
      "source": [
        "len(imagenes_fisura_05), len(imagenes_fisura_1), len(imagenes_fisura_2), len(imagenes_fisura_3)"
      ],
      "execution_count": 100,
      "outputs": [
        {
          "output_type": "execute_result",
          "data": {
            "text/plain": [
              "(320, 320, 320, 320)"
            ]
          },
          "metadata": {},
          "execution_count": 100
        }
      ]
    },
    {
      "cell_type": "markdown",
      "metadata": {
        "id": "6R2L7tDDjvVM"
      },
      "source": [
        "## Datos Perno Flojo"
      ]
    },
    {
      "cell_type": "code",
      "metadata": {
        "id": "yMW8R_7Qjw03"
      },
      "source": [
        "# Se crean 2 listas, una asociada al número de experimento y otra asociada al nivel de white noise presente durante el experimento \n",
        "numero_experimentos_pernoflojo = []\n",
        "amplitud_experimentos_pernoflojo = []"
      ],
      "execution_count": 101,
      "outputs": []
    },
    {
      "cell_type": "code",
      "metadata": {
        "id": "pzTjh-ONjzCl"
      },
      "source": [
        "# Iteramos los nombres de los archivos dentro del conjunto que contiene los datos de fisura\n",
        "for nombre_archivo in datos_pernoflojo:\n",
        "  # Obtenemos el nombre del experimento\n",
        "  nombre_experimento = nombre_archivo.split('/')[4]\n",
        "  # Obtenemos el número del experimento\n",
        "  numero_experimento = nombre_experimento.split('_')[1]\n",
        "  # Obtenemos el nivel de white noise del experimento\n",
        "  amplitud_experimento = nombre_experimento.split('.')[0].split('_')[2].replace('A', '')\n",
        "  # Agregamos el número del experimento a la lista numero_experimentos_pernoflojo creada anteriormente\n",
        "  numero_experimentos_pernoflojo.append(int(numero_experimento))\n",
        "  # Agregamos el nivel de white noise del experimento a la lista amplitud_experimentos_pernoflojo creada anteriormente\n",
        "  if amplitud_experimento == '05':\n",
        "    amplitud_experimento = 0.5\n",
        "    amplitud_experimentos_pernoflojo.append(amplitud_experimento)\n",
        "  else:\n",
        "    amplitud_experimentos_pernoflojo.append(int(amplitud_experimento))"
      ],
      "execution_count": 102,
      "outputs": []
    },
    {
      "cell_type": "code",
      "metadata": {
        "id": "qYqWzHq0j2Zu"
      },
      "source": [
        "# Creamos un DataFrame vacío\n",
        "df_pernoflojo = pd.DataFrame()"
      ],
      "execution_count": 103,
      "outputs": []
    },
    {
      "cell_type": "code",
      "metadata": {
        "id": "FaEMUacAj4c7"
      },
      "source": [
        "# Iteramos por rango la lista datos_fisura\n",
        "for indice in range(len(datos_pernoflojo)):\n",
        "  # Obtenemos la dirección dentro de la iteración correspondiente\n",
        "  direccion = datos_pernoflojo[indice]\n",
        "  # Transformamos el .mat a un formato en el que se pueda transformar a DataFrame\n",
        "  mat = loadmat(direccion)\n",
        "  df = pd.DataFrame(mat['data'])\n",
        "  # Para todos los valores del experimento, creamos columnas en donde sus valores se asocian con el nivel de wn y el # de experimento\n",
        "  df['#_exp'] = numero_experimentos_pernoflojo[indice]\n",
        "  df['amplitud'] = amplitud_experimentos_pernoflojo[indice]\n",
        "  # Colocamos al final del DataFrame df_fisura creado el nuevo DataFrame \n",
        "  df_pernoflojo = pd.concat([df_pernoflojo, df], axis = 0)"
      ],
      "execution_count": 104,
      "outputs": []
    },
    {
      "cell_type": "code",
      "metadata": {
        "colab": {
          "base_uri": "https://localhost:8080/",
          "height": 317
        },
        "id": "YGnLe4kuj5PN",
        "outputId": "2e7497f2-d51b-4a40-cd2e-ba9ac4c25fe8"
      },
      "source": [
        "# Revisamos el conjunto de datos obtenido para pernoflojo\n",
        "df_pernoflojo.head(8)"
      ],
      "execution_count": 105,
      "outputs": [
        {
          "output_type": "execute_result",
          "data": {
            "text/html": [
              "<div>\n",
              "<style scoped>\n",
              "    .dataframe tbody tr th:only-of-type {\n",
              "        vertical-align: middle;\n",
              "    }\n",
              "\n",
              "    .dataframe tbody tr th {\n",
              "        vertical-align: top;\n",
              "    }\n",
              "\n",
              "    .dataframe thead th {\n",
              "        text-align: right;\n",
              "    }\n",
              "</style>\n",
              "<table border=\"1\" class=\"dataframe\">\n",
              "  <thead>\n",
              "    <tr style=\"text-align: right;\">\n",
              "      <th></th>\n",
              "      <th>0</th>\n",
              "      <th>1</th>\n",
              "      <th>2</th>\n",
              "      <th>3</th>\n",
              "      <th>4</th>\n",
              "      <th>5</th>\n",
              "      <th>6</th>\n",
              "      <th>7</th>\n",
              "      <th>8</th>\n",
              "      <th>9</th>\n",
              "      <th>10</th>\n",
              "      <th>11</th>\n",
              "      <th>12</th>\n",
              "      <th>13</th>\n",
              "      <th>14</th>\n",
              "      <th>15</th>\n",
              "      <th>16</th>\n",
              "      <th>17</th>\n",
              "      <th>18</th>\n",
              "      <th>19</th>\n",
              "      <th>20</th>\n",
              "      <th>21</th>\n",
              "      <th>22</th>\n",
              "      <th>23</th>\n",
              "      <th>#_exp</th>\n",
              "      <th>amplitud</th>\n",
              "    </tr>\n",
              "  </thead>\n",
              "  <tbody>\n",
              "    <tr>\n",
              "      <th>0</th>\n",
              "      <td>0.000168</td>\n",
              "      <td>0.000204</td>\n",
              "      <td>0.000213</td>\n",
              "      <td>0.000135</td>\n",
              "      <td>0.000201</td>\n",
              "      <td>0.000099</td>\n",
              "      <td>0.000108</td>\n",
              "      <td>0.000189</td>\n",
              "      <td>0.000212</td>\n",
              "      <td>0.000093</td>\n",
              "      <td>0.000257</td>\n",
              "      <td>0.000196</td>\n",
              "      <td>0.000173</td>\n",
              "      <td>0.000029</td>\n",
              "      <td>0.000316</td>\n",
              "      <td>0.000202</td>\n",
              "      <td>0.000010</td>\n",
              "      <td>0.000085</td>\n",
              "      <td>0.000151</td>\n",
              "      <td>0.000136</td>\n",
              "      <td>0.000116</td>\n",
              "      <td>0.000099</td>\n",
              "      <td>0.000054</td>\n",
              "      <td>0.000111</td>\n",
              "      <td>1</td>\n",
              "      <td>0.5</td>\n",
              "    </tr>\n",
              "    <tr>\n",
              "      <th>1</th>\n",
              "      <td>0.000122</td>\n",
              "      <td>0.000277</td>\n",
              "      <td>0.000213</td>\n",
              "      <td>0.000180</td>\n",
              "      <td>0.000230</td>\n",
              "      <td>0.000172</td>\n",
              "      <td>0.000068</td>\n",
              "      <td>0.000213</td>\n",
              "      <td>0.000214</td>\n",
              "      <td>0.000095</td>\n",
              "      <td>0.000272</td>\n",
              "      <td>0.000172</td>\n",
              "      <td>0.000173</td>\n",
              "      <td>0.000050</td>\n",
              "      <td>0.000292</td>\n",
              "      <td>0.000178</td>\n",
              "      <td>0.000021</td>\n",
              "      <td>0.000022</td>\n",
              "      <td>0.000203</td>\n",
              "      <td>0.000139</td>\n",
              "      <td>0.000076</td>\n",
              "      <td>0.000164</td>\n",
              "      <td>0.000089</td>\n",
              "      <td>0.000076</td>\n",
              "      <td>1</td>\n",
              "      <td>0.5</td>\n",
              "    </tr>\n",
              "    <tr>\n",
              "      <th>2</th>\n",
              "      <td>0.000099</td>\n",
              "      <td>0.000214</td>\n",
              "      <td>0.000128</td>\n",
              "      <td>0.000153</td>\n",
              "      <td>0.000217</td>\n",
              "      <td>0.000100</td>\n",
              "      <td>0.000064</td>\n",
              "      <td>0.000174</td>\n",
              "      <td>0.000225</td>\n",
              "      <td>0.000116</td>\n",
              "      <td>0.000245</td>\n",
              "      <td>0.000202</td>\n",
              "      <td>0.000140</td>\n",
              "      <td>0.000012</td>\n",
              "      <td>0.000309</td>\n",
              "      <td>0.000256</td>\n",
              "      <td>0.000023</td>\n",
              "      <td>0.000089</td>\n",
              "      <td>0.000225</td>\n",
              "      <td>0.000162</td>\n",
              "      <td>0.000098</td>\n",
              "      <td>0.000154</td>\n",
              "      <td>0.000091</td>\n",
              "      <td>0.000092</td>\n",
              "      <td>1</td>\n",
              "      <td>0.5</td>\n",
              "    </tr>\n",
              "    <tr>\n",
              "      <th>3</th>\n",
              "      <td>0.000150</td>\n",
              "      <td>0.000258</td>\n",
              "      <td>0.000209</td>\n",
              "      <td>0.000163</td>\n",
              "      <td>0.000213</td>\n",
              "      <td>0.000120</td>\n",
              "      <td>0.000066</td>\n",
              "      <td>0.000157</td>\n",
              "      <td>0.000220</td>\n",
              "      <td>0.000096</td>\n",
              "      <td>0.000229</td>\n",
              "      <td>0.000203</td>\n",
              "      <td>0.000157</td>\n",
              "      <td>0.000057</td>\n",
              "      <td>0.000292</td>\n",
              "      <td>0.000260</td>\n",
              "      <td>0.000062</td>\n",
              "      <td>0.000077</td>\n",
              "      <td>0.000212</td>\n",
              "      <td>0.000178</td>\n",
              "      <td>0.000123</td>\n",
              "      <td>0.000150</td>\n",
              "      <td>0.000056</td>\n",
              "      <td>0.000130</td>\n",
              "      <td>1</td>\n",
              "      <td>0.5</td>\n",
              "    </tr>\n",
              "    <tr>\n",
              "      <th>4</th>\n",
              "      <td>0.000194</td>\n",
              "      <td>0.000244</td>\n",
              "      <td>0.000194</td>\n",
              "      <td>0.000201</td>\n",
              "      <td>0.000202</td>\n",
              "      <td>0.000127</td>\n",
              "      <td>0.000133</td>\n",
              "      <td>0.000197</td>\n",
              "      <td>0.000212</td>\n",
              "      <td>0.000110</td>\n",
              "      <td>0.000266</td>\n",
              "      <td>0.000199</td>\n",
              "      <td>0.000181</td>\n",
              "      <td>0.000040</td>\n",
              "      <td>0.000336</td>\n",
              "      <td>0.000209</td>\n",
              "      <td>0.000092</td>\n",
              "      <td>0.000097</td>\n",
              "      <td>0.000183</td>\n",
              "      <td>0.000170</td>\n",
              "      <td>0.000114</td>\n",
              "      <td>0.000127</td>\n",
              "      <td>0.000064</td>\n",
              "      <td>0.000087</td>\n",
              "      <td>1</td>\n",
              "      <td>0.5</td>\n",
              "    </tr>\n",
              "    <tr>\n",
              "      <th>5</th>\n",
              "      <td>0.000156</td>\n",
              "      <td>0.000287</td>\n",
              "      <td>0.000188</td>\n",
              "      <td>0.000119</td>\n",
              "      <td>0.000234</td>\n",
              "      <td>0.000127</td>\n",
              "      <td>0.000102</td>\n",
              "      <td>0.000198</td>\n",
              "      <td>0.000216</td>\n",
              "      <td>0.000097</td>\n",
              "      <td>0.000280</td>\n",
              "      <td>0.000222</td>\n",
              "      <td>0.000140</td>\n",
              "      <td>0.000058</td>\n",
              "      <td>0.000296</td>\n",
              "      <td>0.000212</td>\n",
              "      <td>0.000061</td>\n",
              "      <td>0.000097</td>\n",
              "      <td>0.000231</td>\n",
              "      <td>0.000156</td>\n",
              "      <td>0.000090</td>\n",
              "      <td>0.000155</td>\n",
              "      <td>0.000076</td>\n",
              "      <td>0.000091</td>\n",
              "      <td>1</td>\n",
              "      <td>0.5</td>\n",
              "    </tr>\n",
              "    <tr>\n",
              "      <th>6</th>\n",
              "      <td>0.000150</td>\n",
              "      <td>0.000230</td>\n",
              "      <td>0.000198</td>\n",
              "      <td>0.000239</td>\n",
              "      <td>0.000247</td>\n",
              "      <td>0.000150</td>\n",
              "      <td>0.000052</td>\n",
              "      <td>0.000178</td>\n",
              "      <td>0.000255</td>\n",
              "      <td>0.000115</td>\n",
              "      <td>0.000235</td>\n",
              "      <td>0.000189</td>\n",
              "      <td>0.000216</td>\n",
              "      <td>0.000072</td>\n",
              "      <td>0.000299</td>\n",
              "      <td>0.000233</td>\n",
              "      <td>0.000060</td>\n",
              "      <td>0.000124</td>\n",
              "      <td>0.000225</td>\n",
              "      <td>0.000157</td>\n",
              "      <td>0.000133</td>\n",
              "      <td>0.000153</td>\n",
              "      <td>0.000060</td>\n",
              "      <td>0.000087</td>\n",
              "      <td>1</td>\n",
              "      <td>0.5</td>\n",
              "    </tr>\n",
              "    <tr>\n",
              "      <th>7</th>\n",
              "      <td>0.000130</td>\n",
              "      <td>0.000230</td>\n",
              "      <td>0.000207</td>\n",
              "      <td>0.000116</td>\n",
              "      <td>0.000212</td>\n",
              "      <td>0.000108</td>\n",
              "      <td>0.000096</td>\n",
              "      <td>0.000178</td>\n",
              "      <td>0.000200</td>\n",
              "      <td>0.000130</td>\n",
              "      <td>0.000260</td>\n",
              "      <td>0.000203</td>\n",
              "      <td>0.000216</td>\n",
              "      <td>0.000057</td>\n",
              "      <td>0.000329</td>\n",
              "      <td>0.000261</td>\n",
              "      <td>0.000031</td>\n",
              "      <td>0.000045</td>\n",
              "      <td>0.000236</td>\n",
              "      <td>0.000178</td>\n",
              "      <td>0.000081</td>\n",
              "      <td>0.000160</td>\n",
              "      <td>0.000079</td>\n",
              "      <td>0.000115</td>\n",
              "      <td>1</td>\n",
              "      <td>0.5</td>\n",
              "    </tr>\n",
              "  </tbody>\n",
              "</table>\n",
              "</div>"
            ],
            "text/plain": [
              "          0         1         2         3  ...        22        23  #_exp  amplitud\n",
              "0  0.000168  0.000204  0.000213  0.000135  ...  0.000054  0.000111      1       0.5\n",
              "1  0.000122  0.000277  0.000213  0.000180  ...  0.000089  0.000076      1       0.5\n",
              "2  0.000099  0.000214  0.000128  0.000153  ...  0.000091  0.000092      1       0.5\n",
              "3  0.000150  0.000258  0.000209  0.000163  ...  0.000056  0.000130      1       0.5\n",
              "4  0.000194  0.000244  0.000194  0.000201  ...  0.000064  0.000087      1       0.5\n",
              "5  0.000156  0.000287  0.000188  0.000119  ...  0.000076  0.000091      1       0.5\n",
              "6  0.000150  0.000230  0.000198  0.000239  ...  0.000060  0.000087      1       0.5\n",
              "7  0.000130  0.000230  0.000207  0.000116  ...  0.000079  0.000115      1       0.5\n",
              "\n",
              "[8 rows x 26 columns]"
            ]
          },
          "metadata": {},
          "execution_count": 105
        }
      ]
    },
    {
      "cell_type": "code",
      "metadata": {
        "colab": {
          "base_uri": "https://localhost:8080/"
        },
        "id": "eCRL48h-j75w",
        "outputId": "3a7e6378-68e6-4ba0-b254-8cf4e5455728"
      },
      "source": [
        "# Si dividimos para 99097 el df_pernoflojo deberíamos obtener 20 experimentos en total\n",
        "len(df_pernoflojo)/99097"
      ],
      "execution_count": 106,
      "outputs": [
        {
          "output_type": "execute_result",
          "data": {
            "text/plain": [
              "20.0"
            ]
          },
          "metadata": {},
          "execution_count": 106
        }
      ]
    },
    {
      "cell_type": "code",
      "metadata": {
        "id": "LkRnOfwWj9Z7"
      },
      "source": [
        "# Establecemos 2 listas, una con los posibles experimentos y otra con los posibles niveles de white noise, lo cual nos ayudará a segmentar los datos\n",
        "experimentos = [1, 2, 3, 4, 5]\n",
        "wns = [0.5, 1, 2, 3]\n",
        "# Creamos una lista en donde pondremos todas las imágenes creadas, segmentadas por experimento y white noise\n",
        "arreglo_imagenes_por_experimento_pernoflojo = []\n",
        "\n",
        "# Iteramos por experimento y por nivel de white noise\n",
        "for i in experimentos:\n",
        "  for j in wns:\n",
        "    # Creamos filtros que nos permiten identificar el experimento por su número asociado y por su nivel de white noise dentro del conjunto de datos\n",
        "    filter1 = df_pernoflojo[\"#_exp\"] == i\n",
        "    filter2 = df_pernoflojo[\"amplitud\"] == j\n",
        "    # Filtramos y deshacemos las filas que no corresponden a la búsqueda\n",
        "    dataset_experimento = df_pernoflojo.where(filter1 & filter2).dropna()\n",
        "    # Creamos arreglo en donde almacenaremos listas de imágenes asociadas a cada columna en un experimento individual\n",
        "    arreglo_matrices_asociadas = []\n",
        "\n",
        "    # En el conjunto filtrado, iteramos por cada columna (de la columna 0 a la 23)\n",
        "    for n in range(24):\n",
        "      # Establecemos un límite inferior y un límite superior\n",
        "      indice_inicio = 0\n",
        "      indice_fin = 256\n",
        "      # Del conjunto filtrado, obtenemos un subconjunto con muestras cada 6 pasos\n",
        "      columna_cada_6 = dataset_experimento[n][::6]\n",
        "      # Creamos una lista en donde guardaremos todas las imágenes creadas dentro de la columna en la que se esta iterando\n",
        "      matrices_columna = []\n",
        "    \n",
        "      # Recorremos en valores de 256 la columna del subconjunto creado para generar las imágenes 16x16 correspondientes \n",
        "      while indice_fin < len(columna_cada_6):\n",
        "        # Guardamos el conjunto de 256 datos dentro de un arreglo\n",
        "        vector = columna_cada_6[indice_inicio:indice_fin]\n",
        "        # Redimensionamos el arreglo (de 1x256 a 16x16)\n",
        "        matriz = vector.to_numpy().reshape((16, 16))\n",
        "        # Agregamos la imagen dentro de la lista matrices_columna\n",
        "        matrices_columna.append(matriz)\n",
        "        # Establecemos el nuevo límite inferior y superior en donde se encontrarán los datos de mi nueva imagen 16x16\n",
        "        indice_inicio = indice_fin\n",
        "        indice_fin = indice_fin + 256\n",
        "      \n",
        "      # Agregamos las listas de imágenes 16x16 asociadas a una columna a arreglo_matrices_asociadas\n",
        "      arreglo_matrices_asociadas.append(matrices_columna)\n",
        "    \n",
        "    # Agregamos arreglo_matrices_asociadas a arreglos_imagenes_por_experimento, en donde tenemos listas de listas asociadas a un experimento individual\n",
        "    arreglo_imagenes_por_experimento_pernoflojo.append(arreglo_matrices_asociadas)"
      ],
      "execution_count": 107,
      "outputs": []
    },
    {
      "cell_type": "code",
      "metadata": {
        "colab": {
          "base_uri": "https://localhost:8080/"
        },
        "id": "1ET0HKZmkAEp",
        "outputId": "c35c3959-9b48-4088-f7c0-2fc24d6f8696"
      },
      "source": [
        "len(arreglo_imagenes_por_experimento_pernoflojo)"
      ],
      "execution_count": 108,
      "outputs": [
        {
          "output_type": "execute_result",
          "data": {
            "text/plain": [
              "20"
            ]
          },
          "metadata": {},
          "execution_count": 108
        }
      ]
    },
    {
      "cell_type": "code",
      "metadata": {
        "colab": {
          "base_uri": "https://localhost:8080/"
        },
        "id": "6bcDKi6QkBXl",
        "outputId": "d5ffb54f-133a-4d9a-b925-603cb6d5c8e4"
      },
      "source": [
        "len(arreglo_imagenes_por_experimento_pernoflojo[0])"
      ],
      "execution_count": 109,
      "outputs": [
        {
          "output_type": "execute_result",
          "data": {
            "text/plain": [
              "24"
            ]
          },
          "metadata": {},
          "execution_count": 109
        }
      ]
    },
    {
      "cell_type": "code",
      "metadata": {
        "colab": {
          "base_uri": "https://localhost:8080/"
        },
        "id": "Yy5PAXe2kDR1",
        "outputId": "acbc13a4-7fc7-451b-955f-c4a573fd2a42"
      },
      "source": [
        "len(arreglo_imagenes_por_experimento_pernoflojo[0][0])"
      ],
      "execution_count": 110,
      "outputs": [
        {
          "output_type": "execute_result",
          "data": {
            "text/plain": [
              "64"
            ]
          },
          "metadata": {},
          "execution_count": 110
        }
      ]
    },
    {
      "cell_type": "code",
      "metadata": {
        "colab": {
          "base_uri": "https://localhost:8080/"
        },
        "id": "KNK55M_dkEwr",
        "outputId": "f5aa3f9b-d9f7-4444-cb0d-7521fab439a4"
      },
      "source": [
        "arreglo_imagenes_por_experimento_pernoflojo[0][0][0].size"
      ],
      "execution_count": 111,
      "outputs": [
        {
          "output_type": "execute_result",
          "data": {
            "text/plain": [
              "256"
            ]
          },
          "metadata": {},
          "execution_count": 111
        }
      ]
    },
    {
      "cell_type": "code",
      "metadata": {
        "colab": {
          "base_uri": "https://localhost:8080/"
        },
        "id": "gakgLrNWkGKi",
        "outputId": "05e09713-111b-4e6f-c025-d3512a6e267e"
      },
      "source": [
        "arreglo_imagenes_por_experimento_pernoflojo[0][0][0].shape"
      ],
      "execution_count": 112,
      "outputs": [
        {
          "output_type": "execute_result",
          "data": {
            "text/plain": [
              "(16, 16)"
            ]
          },
          "metadata": {},
          "execution_count": 112
        }
      ]
    },
    {
      "cell_type": "code",
      "metadata": {
        "id": "TuP5ijE2kH4F"
      },
      "source": [
        "# Creamos un arreglos general para todas las imágenes de dimensionamiento (24, 16, 16)\n",
        "arreglo_imagenes_pernoflojo = []\n",
        "\n",
        "# Iteramos cada experimento en la lista de experimentos creada previamente\n",
        "for experimento_i in arreglo_imagenes_por_experimento_pernoflojo:\n",
        "  # Iteramos en un rango de 64 para usarlo posteriormente\n",
        "  for idx in range(64):\n",
        "    # Para cada iteración se crea el arreglo en donde se agregaran las capas correctas de la imagen de dimensionamniento (24, 16, 16)\n",
        "    imagen = []\n",
        "    # Iteramos para cada fila en el experimento (son 24 filas)\n",
        "    for fila in experimento_i:\n",
        "      # Asociamos por índice los valores de cada lista de imágenes para establecer la relación correcta y agregamos al arreglo creado\n",
        "      capa_imagen = fila[idx]\n",
        "      imagen.append(capa_imagen)\n",
        "\n",
        "    # Transformamos la lista de 24 capas a un arreglo numérico\n",
        "    arreglo_imagenes_pernoflojo.append(np.array(imagen))"
      ],
      "execution_count": 113,
      "outputs": []
    },
    {
      "cell_type": "code",
      "metadata": {
        "colab": {
          "base_uri": "https://localhost:8080/"
        },
        "id": "mUU04BbukJwl",
        "outputId": "c5c4337d-7f52-43cb-add9-829b7a1ff5e9"
      },
      "source": [
        "# Revisamos el número de imágenes creadas\n",
        "len(arreglo_imagenes_pernoflojo)"
      ],
      "execution_count": 114,
      "outputs": [
        {
          "output_type": "execute_result",
          "data": {
            "text/plain": [
              "1280"
            ]
          },
          "metadata": {},
          "execution_count": 114
        }
      ]
    },
    {
      "cell_type": "code",
      "metadata": {
        "colab": {
          "base_uri": "https://localhost:8080/"
        },
        "id": "Efy77RzukLHd",
        "outputId": "a70c0ac5-849b-4da5-e6c2-425de12b8a34"
      },
      "source": [
        "# Revisamos el dimensionamiento y tipo de un elemento aleatorio en la lista de imágenes\n",
        "indice_imagen_pernoflojo = randint(0, len(arreglo_imagenes_pernoflojo) - 1)\n",
        "arreglo_imagenes_pernoflojo[indice_imagen_pernoflojo].shape, type(arreglo_imagenes_pernoflojo[0]), indice_imagen_pernoflojo"
      ],
      "execution_count": 115,
      "outputs": [
        {
          "output_type": "execute_result",
          "data": {
            "text/plain": [
              "((24, 16, 16), numpy.ndarray, 99)"
            ]
          },
          "metadata": {},
          "execution_count": 115
        }
      ]
    },
    {
      "cell_type": "code",
      "metadata": {
        "id": "-1jfC3KMlBxE"
      },
      "source": [
        "imagenes_pernoflojo_05 = []\n",
        "imagenes_pernoflojo_1 = []\n",
        "imagenes_pernoflojo_2 = []\n",
        "imagenes_pernoflojo_3 = []"
      ],
      "execution_count": 116,
      "outputs": []
    },
    {
      "cell_type": "code",
      "metadata": {
        "id": "xjT6MP4jlDNi"
      },
      "source": [
        "for i in indices_05:\n",
        "  for j in arreglo_imagenes_pernoflojo[lista_indices[i-1]:lista_indices[i]]:\n",
        "    imagenes_pernoflojo_05.append(j)\n",
        "for i in indices_1:\n",
        "  for j in arreglo_imagenes_pernoflojo[lista_indices[i-1]:lista_indices[i]]:\n",
        "    imagenes_pernoflojo_1.append(j)\n",
        "for i in indices_2:\n",
        "  for j in arreglo_imagenes_pernoflojo[lista_indices[i-1]:lista_indices[i]]:\n",
        "    imagenes_pernoflojo_2.append(j)\n",
        "for i in indices_3:\n",
        "  for j in arreglo_imagenes_pernoflojo[lista_indices[i-1]:lista_indices[i]]:\n",
        "    imagenes_pernoflojo_3.append(j)"
      ],
      "execution_count": 117,
      "outputs": []
    },
    {
      "cell_type": "code",
      "metadata": {
        "colab": {
          "base_uri": "https://localhost:8080/"
        },
        "id": "dpjbYC4IlE6P",
        "outputId": "3ea0e065-6313-4dbc-dcad-4aa1fcaeb57d"
      },
      "source": [
        "len(imagenes_pernoflojo_05), len(imagenes_pernoflojo_1), len(imagenes_pernoflojo_2), len(imagenes_pernoflojo_3)"
      ],
      "execution_count": 118,
      "outputs": [
        {
          "output_type": "execute_result",
          "data": {
            "text/plain": [
              "(320, 320, 320, 320)"
            ]
          },
          "metadata": {},
          "execution_count": 118
        }
      ]
    },
    {
      "cell_type": "markdown",
      "metadata": {
        "id": "ykFWAA6_lLsY"
      },
      "source": [
        "## Aleatorizar"
      ]
    },
    {
      "cell_type": "code",
      "metadata": {
        "id": "VW_LefwGlOKA"
      },
      "source": [
        "np.random.seed(300)\n",
        "\n",
        "aleatorizadas_imagenes_fisura_05 = imagenes_fisura_05\n",
        "aleatorizadas_imagenes_fisura_1 = imagenes_fisura_1\n",
        "aleatorizadas_imagenes_fisura_2 = imagenes_fisura_2\n",
        "aleatorizadas_imagenes_fisura_3 = imagenes_fisura_3\n",
        "\n",
        "aleatorizadas_imagenes_pernoflojo_05 = imagenes_pernoflojo_05\n",
        "aleatorizadas_imagenes_pernoflojo_1 = imagenes_pernoflojo_1\n",
        "aleatorizadas_imagenes_pernoflojo_2 = imagenes_pernoflojo_2\n",
        "aleatorizadas_imagenes_pernoflojo_3 = imagenes_pernoflojo_3\n",
        "\n",
        "np.random.shuffle(aleatorizadas_imagenes_fisura_05)\n",
        "np.random.shuffle(aleatorizadas_imagenes_fisura_1)\n",
        "np.random.shuffle(aleatorizadas_imagenes_fisura_2)\n",
        "np.random.shuffle(aleatorizadas_imagenes_fisura_3)\n",
        "\n",
        "np.random.shuffle(aleatorizadas_imagenes_pernoflojo_05)\n",
        "np.random.shuffle(aleatorizadas_imagenes_pernoflojo_1)\n",
        "np.random.shuffle(aleatorizadas_imagenes_pernoflojo_2)\n",
        "np.random.shuffle(aleatorizadas_imagenes_pernoflojo_3)"
      ],
      "execution_count": 119,
      "outputs": []
    },
    {
      "cell_type": "code",
      "metadata": {
        "id": "UthDdOQulQEj"
      },
      "source": [
        "lista_listas_imagenes_fisura = [aleatorizadas_imagenes_fisura_05, aleatorizadas_imagenes_fisura_1, aleatorizadas_imagenes_fisura_2, aleatorizadas_imagenes_fisura_3]\n",
        "lista_listas_imagenes_pernoflojo = [aleatorizadas_imagenes_pernoflojo_05, aleatorizadas_imagenes_pernoflojo_1, aleatorizadas_imagenes_pernoflojo_2, aleatorizadas_imagenes_pernoflojo_3]"
      ],
      "execution_count": 120,
      "outputs": []
    },
    {
      "cell_type": "markdown",
      "metadata": {
        "id": "av44sE5rnFH3"
      },
      "source": [
        "## Segmentar datos en entrenamiento, validación y prueba"
      ]
    },
    {
      "cell_type": "code",
      "metadata": {
        "id": "GcKwP3gYldoT"
      },
      "source": [
        "porcentaje_80 = int(320*0.8)\n",
        "porcentaje_10 = int(320*0.1)\n",
        "porcentaje_15 = int(320*0.15)\n",
        "porcentaje_70 = int(320*0.7)"
      ],
      "execution_count": 121,
      "outputs": []
    },
    {
      "cell_type": "code",
      "metadata": {
        "id": "Z7dmVt5ClntL"
      },
      "source": [
        "# Para 80 10 10 \n",
        "conjunto_entrenamiento_fisura_1 = []\n",
        "conjunto_validacion_fisura_1 = []\n",
        "conjunto_prueba_fisura_1 = []\n",
        "\n",
        "conjunto_entrenamiento_pernoflojo_1 = []\n",
        "conjunto_validacion_pernoflojo_1 = []\n",
        "conjunto_prueba_pernoflojo_1 = []\n",
        "\n",
        "# Para 80 15 5\n",
        "conjunto_entrenamiento_fisura_2 = []\n",
        "conjunto_validacion_fisura_2 = []\n",
        "conjunto_prueba_fisura_2 = []\n",
        "\n",
        "conjunto_entrenamiento_pernoflojo_2 = []\n",
        "conjunto_validacion_pernoflojo_2 = []\n",
        "conjunto_prueba_pernoflojo_2 = []\n",
        "\n",
        "# Para 70 15 15\n",
        "conjunto_entrenamiento_fisura_3 = []\n",
        "conjunto_validacion_fisura_3 = []\n",
        "conjunto_prueba_fisura_3 = []\n",
        "\n",
        "conjunto_entrenamiento_pernoflojo_3 = []\n",
        "conjunto_validacion_pernoflojo_3 = []\n",
        "conjunto_prueba_pernoflojo_3 = []"
      ],
      "execution_count": 122,
      "outputs": []
    },
    {
      "cell_type": "code",
      "metadata": {
        "id": "DIzsN-L9mBkm"
      },
      "source": [
        "# Para 80 10 10\n",
        "for lista in lista_listas_imagenes_fisura:\n",
        "  for imagen_entrenamiento in lista[:porcentaje_80]:\n",
        "    conjunto_entrenamiento_fisura_1.append(imagen_entrenamiento)\n",
        "  for imagen_validacion in lista[porcentaje_80:porcentaje_80 + porcentaje_10]:\n",
        "    conjunto_validacion_fisura_1.append(imagen_validacion)\n",
        "  for imagen_prueba in lista[porcentaje_80 + porcentaje_10:]:\n",
        "    conjunto_prueba_fisura_1.append(imagen_prueba)\n",
        "\n",
        "for lista in lista_listas_imagenes_pernoflojo:\n",
        "  for imagen_entrenamiento in lista[:porcentaje_80]:\n",
        "    conjunto_entrenamiento_pernoflojo_1.append(imagen_entrenamiento)\n",
        "  for imagen_validacion in lista[porcentaje_80:porcentaje_80 + porcentaje_10]:\n",
        "    conjunto_validacion_pernoflojo_1.append(imagen_validacion)\n",
        "  for imagen_prueba in lista[porcentaje_80 + porcentaje_10:]:\n",
        "    conjunto_prueba_pernoflojo_1.append(imagen_prueba)"
      ],
      "execution_count": 123,
      "outputs": []
    },
    {
      "cell_type": "code",
      "metadata": {
        "id": "ojVwsYcQmFYA"
      },
      "source": [
        "# Para 80 15 5\n",
        "for lista in lista_listas_imagenes_fisura:\n",
        "  for imagen_entrenamiento in lista[:porcentaje_80]:\n",
        "    conjunto_entrenamiento_fisura_2.append(imagen_entrenamiento)\n",
        "  for imagen_validacion in lista[porcentaje_80:porcentaje_80 + porcentaje_15]:\n",
        "    conjunto_validacion_fisura_2.append(imagen_validacion)\n",
        "  for imagen_prueba in lista[porcentaje_80 + porcentaje_15:]:\n",
        "    conjunto_prueba_fisura_2.append(imagen_prueba)\n",
        "\n",
        "for lista in lista_listas_imagenes_pernoflojo:\n",
        "  for imagen_entrenamiento in lista[:porcentaje_80]:\n",
        "    conjunto_entrenamiento_pernoflojo_2.append(imagen_entrenamiento)\n",
        "  for imagen_validacion in lista[porcentaje_80:porcentaje_80 + porcentaje_15]:\n",
        "    conjunto_validacion_pernoflojo_2.append(imagen_validacion)\n",
        "  for imagen_prueba in lista[porcentaje_80 + porcentaje_15:]:\n",
        "    conjunto_prueba_pernoflojo_2.append(imagen_prueba)"
      ],
      "execution_count": 124,
      "outputs": []
    },
    {
      "cell_type": "code",
      "metadata": {
        "id": "sNQpu6vpmOcg"
      },
      "source": [
        "# Para 70 15 15\n",
        "for lista in lista_listas_imagenes_fisura:\n",
        "  for imagen_entrenamiento in lista[:porcentaje_70]:\n",
        "    conjunto_entrenamiento_fisura_3.append(imagen_entrenamiento)\n",
        "  for imagen_validacion in lista[porcentaje_70:porcentaje_70 + porcentaje_15]:\n",
        "    conjunto_validacion_fisura_3.append(imagen_validacion)\n",
        "  for imagen_prueba in lista[porcentaje_70 + porcentaje_15:]:\n",
        "    conjunto_prueba_fisura_3.append(imagen_prueba)\n",
        "\n",
        "for lista in lista_listas_imagenes_pernoflojo:\n",
        "  for imagen_entrenamiento in lista[:porcentaje_70]:\n",
        "    conjunto_entrenamiento_pernoflojo_3.append(imagen_entrenamiento)\n",
        "  for imagen_validacion in lista[porcentaje_70:porcentaje_70 + porcentaje_15]:\n",
        "    conjunto_validacion_pernoflojo_3.append(imagen_validacion)\n",
        "  for imagen_prueba in lista[porcentaje_70 + porcentaje_15:]:\n",
        "    conjunto_prueba_pernoflojo_3.append(imagen_prueba)"
      ],
      "execution_count": 125,
      "outputs": []
    },
    {
      "cell_type": "markdown",
      "metadata": {
        "id": "KgW729DnkOAp"
      },
      "source": [
        "## Red Neuronal Siamesa"
      ]
    },
    {
      "cell_type": "code",
      "metadata": {
        "id": "HKOeEcJ2kPrs"
      },
      "source": [
        "def crear_pares(arreglo_imagenes_fisura, arreglo_imagenes_pernoflojo):\n",
        "  \"\"\"\n",
        "  Función empleada para crear los pares de imágenes que se utilizan\n",
        "  para el entrenamiento de la SNN.\n",
        "  \"\"\"\n",
        "  print(\"Creando pares...\")\n",
        "  # Creamos arreglo en donde se insertarán los pares (positivos y negativos)\n",
        "  pares_img = []\n",
        "  # Creamos arreglo en donde se insertarán la clasificación de los pares (similares = 1, no similares = 0)\n",
        "  pares_label = []\n",
        "\n",
        "  # Recorremos el arreglo de imágenes de fisura y por cada imagen recorrida creamos un par positivo y uno negativo\n",
        "  for imagen_fisura in arreglo_imagenes_fisura:\n",
        "\n",
        "    # La imagen positiva será un dato aleatorio perteneciente al arreglo de la misma clase (fisura)\n",
        "    imagen_positiva_fisura = random.choice(arreglo_imagenes_fisura)\n",
        "    # La imagen negativa será un dato aleatorio perteneciente al arreglo de la otra clase (perno flojo)\n",
        "    imagen_negativa_fisura = random.choice(arreglo_imagenes_pernoflojo)\n",
        "\n",
        "    # Agregamos el par de imagenes positivas al arreglo de pares de imagenes\n",
        "    pares_img.append([imagen_fisura, imagen_positiva_fisura])\n",
        "    # Agregamos el label correspondiente a un par de imágenes positivas (1)\n",
        "    pares_label.append([1])\n",
        "\n",
        "    # Agregamos el par de imagenes negativas al arreglo de pares de imagenes\n",
        "    pares_img.append([imagen_fisura, imagen_negativa_fisura])\n",
        "    # Agregamos el label correspondiente a un par de imágenes negativas (0)\n",
        "    pares_label.append([0])\n",
        "\n",
        "  # Recorremos el arreglo de imágenes de fisura y por cada imagen recorrida creamos un par positivo y uno negativo\n",
        "  for imagen_pernoflojo in arreglo_imagenes_pernoflojo:\n",
        "\n",
        "    # La imagen positiva será un dato aleatorio perteneciente al arreglo de la misma clase (perno flojo)\n",
        "    imagen_positiva_pernoflojo = random.choice(arreglo_imagenes_pernoflojo)\n",
        "    # La imagen negativa será un dato aleatorio perteneciente al arreglo de la otra clase (fisura)\n",
        "    imagen_negativa_pernoflojo = random.choice(arreglo_imagenes_fisura)\n",
        "\n",
        "    # Agregamos el par de imagenes positivas al arreglo de pares de imagenes\n",
        "    pares_img.append([imagen_pernoflojo, imagen_positiva_pernoflojo])\n",
        "    # Agregamos el label correspondiente a un par de imágenes positivas (1)\n",
        "    pares_label.append([1])\n",
        "\n",
        "    # Agregamos el par de imagenes negativas al arreglo de pares de imagenes\n",
        "    pares_img.append([imagen_pernoflojo, imagen_negativa_pernoflojo])\n",
        "    # Agregamos el label correspondiente a un par de imágenes negativas (0)\n",
        "    pares_label.append([0])\n",
        "  \n",
        "  print(\"Pares creados.\")\n",
        "\n",
        "  return (np.array(pares_img), np.array(pares_label))"
      ],
      "execution_count": 126,
      "outputs": []
    },
    {
      "cell_type": "markdown",
      "metadata": {
        "id": "eBDNdiIXwSzA"
      },
      "source": [
        "## SNN"
      ]
    },
    {
      "cell_type": "code",
      "metadata": {
        "id": "Kk0qARI0wQ1R"
      },
      "source": [
        "def euclidean_distance(vectors):\n",
        "  \n",
        "  # Descomprimimos los vectores en listas separadas\n",
        "  (featsA, featsB) = vectors\n",
        "\n",
        "  # Realizamos la suma de las diferenias cuadradas entre vectores\n",
        "  sumSquared = K.sum(K.square(featsA - featsB), axis=1, keepdims=True)\n",
        "\n",
        "  # Retornamos la distancia euclidiana\n",
        "  return K.sqrt(K.maximum(sumSquared, K.epsilon()))"
      ],
      "execution_count": 127,
      "outputs": []
    },
    {
      "cell_type": "code",
      "metadata": {
        "id": "rxQOme8ZwUne"
      },
      "source": [
        "# Definimos función de visualización de pérdidas\n",
        "\n",
        "def graficar_curva_perdidas(history):\n",
        "  \"\"\"\n",
        "  Función utilizada para visualizar la historia de nuestro modelo.\n",
        "  Incluye pérdidas y precisión a lo largo de cada iteración.\n",
        "  \"\"\"\n",
        "  # Obtenemos las pérdidas de los conjuntos de entrenamiento y validación\n",
        "  loss = history.history['loss']\n",
        "  val_loss = history.history['val_loss']\n",
        "\n",
        "  # Obtenemos la precisión de los conjuntos de entrenamiento y validación\n",
        "  accuracy = history.history['accuracy']\n",
        "  val_accuracy = history.history['val_accuracy']\n",
        "\n",
        "  # Determinamos las iteraciones que hubo durante el entrenamiento\n",
        "  epochs = range(len(history.history['loss']))\n",
        "\n",
        "  # Graficamos las pérdidas de ambos conjuntos a lo largo de las iteraciones\n",
        "  plt.plot(epochs, loss, label='training_loss')\n",
        "  plt.plot(epochs, val_loss, label='val_loss')\n",
        "  plt.title('loss')\n",
        "  plt.xlabel('epochs')\n",
        "  plt.legend()\n",
        "\n",
        "  # Graficamos la precisión de ambos conjuntos a lo largo de las iteraciones\n",
        "  plt.figure()\n",
        "  plt.plot(epochs, accuracy, label='training_accuracy')\n",
        "  plt.plot(epochs, val_accuracy, label='val_accuracy')\n",
        "  plt.title('accuracy')\n",
        "  plt.xlabel('epochs')\n",
        "  plt.legend()"
      ],
      "execution_count": 128,
      "outputs": []
    },
    {
      "cell_type": "markdown",
      "metadata": {
        "id": "_gKP1aRHwWSi"
      },
      "source": [
        "Modelo Experimental #1\n",
        "\n",
        "- entrenamiento = 80%\n",
        "\n",
        "- validación = 10%\n",
        "\n",
        "- prueba = 10%"
      ]
    },
    {
      "cell_type": "code",
      "metadata": {
        "colab": {
          "base_uri": "https://localhost:8080/"
        },
        "id": "8iaSHrF4-55Z",
        "outputId": "785a354b-a72f-4478-8553-b742357a5890"
      },
      "source": [
        "(pares_m1_entrenamiento, labels_m1_entrenamiento) = crear_pares(conjunto_entrenamiento_fisura_1, conjunto_entrenamiento_pernoflojo_1)\n",
        "(pares_m1_validacion, labels_m1_validacion) = crear_pares(conjunto_validacion_fisura_1, conjunto_validacion_pernoflojo_1)\n",
        "(pares_m1_prueba, labels_m1_prueba) = crear_pares(conjunto_prueba_fisura_1, conjunto_prueba_pernoflojo_1)"
      ],
      "execution_count": 129,
      "outputs": [
        {
          "output_type": "stream",
          "name": "stdout",
          "text": [
            "Creando pares...\n",
            "Pares creados.\n",
            "Creando pares...\n",
            "Pares creados.\n",
            "Creando pares...\n",
            "Pares creados.\n"
          ]
        }
      ]
    },
    {
      "cell_type": "code",
      "metadata": {
        "id": "WspgawP9-8fv"
      },
      "source": [
        "np.random.seed(300)\n",
        "\n",
        "pares_aleatorizados_m1 = pares_m1_entrenamiento\n",
        "np.random.shuffle(pares_aleatorizados_m1)"
      ],
      "execution_count": 130,
      "outputs": []
    },
    {
      "cell_type": "code",
      "metadata": {
        "id": "efqtys0B-9L0"
      },
      "source": [
        "np.random.seed(300)\n",
        "\n",
        "labels_aleatorizados_m1 = labels_m1_entrenamiento\n",
        "np.random.shuffle(labels_aleatorizados_m1)"
      ],
      "execution_count": 131,
      "outputs": []
    },
    {
      "cell_type": "code",
      "metadata": {
        "id": "40wmOhGHwXkS"
      },
      "source": [
        "# Creamos función que retorna la estructura de la red convolucional que se va a utilizar\n",
        "def build_siamese_model_1(input_shape):\n",
        "  model = tf.keras.Sequential([\n",
        "                                tf.keras.layers.Conv2D(filters=64,\n",
        "                                                        kernel_size=10,\n",
        "                                                        activation='relu',\n",
        "                                                        padding='same',\n",
        "                                                        input_shape=input_shape),\n",
        "                                tf.keras.layers.MaxPooling2D(pool_size=2),\n",
        "                                tf.keras.layers.Conv2D(filters=128,\n",
        "                                                        kernel_size=7,\n",
        "                                                        activation='relu',\n",
        "                                                        padding='same'),\n",
        "                                tf.keras.layers.MaxPooling2D(pool_size=2),\n",
        "                                tf.keras.layers.Conv2D(filters=128,\n",
        "                                                        kernel_size=4,\n",
        "                                                        activation='relu',\n",
        "                                                        padding='same'),\n",
        "                                tf.keras.layers.MaxPooling2D(pool_size=2),\n",
        "                                tf.keras.layers.Conv2D(filters=256,\n",
        "                                                        kernel_size=4,\n",
        "                                                        activation='relu',\n",
        "                                                        padding='same'),\n",
        "                                tf.keras.layers.Flatten(),\n",
        "                                tf.keras.layers.Dense(4960)\n",
        "  ])\n",
        "\n",
        "  return model"
      ],
      "execution_count": 132,
      "outputs": []
    },
    {
      "cell_type": "code",
      "metadata": {
        "colab": {
          "base_uri": "https://localhost:8080/"
        },
        "id": "2Jr1W0nNweHg",
        "outputId": "d2e38a73-4ad3-40e0-99a4-e89219b9e43c"
      },
      "source": [
        "tf.random.set_seed(100)\n",
        "\n",
        "# Creamos el modelo general\n",
        "IMG_SHAPE = (24, 16, 16)\n",
        "\n",
        "# Definimos los inputs (imágenes) que ingresan a cada CNN\n",
        "imgA = tf.keras.Input(IMG_SHAPE)\n",
        "imgB = tf.keras.Input(IMG_SHAPE)\n",
        "\n",
        "# Creamos el featureExtractor, el cual obtiene las características principales de las imágenes ingresadas y las muestra en un vector\n",
        "featureExtractor = build_siamese_model_1(input_shape=IMG_SHAPE)\n",
        "\n",
        "# Ingresamos cada imagen al featureExtractor\n",
        "featsA = featureExtractor(imgA)\n",
        "featsB = featureExtractor(imgB)\n",
        "\n",
        "# Creamos una capa Lambda (que aplica una función sobre los datos) para obtener la distancia euclidiana\n",
        "distancia = tf.keras.layers.Lambda(euclidean_distance)([featsA, featsB])\n",
        "\n",
        "# Creamos la última capa asociada a la función de activación sigmoide\n",
        "outputs = tf.keras.layers.Dense(1, activation='sigmoid')(distancia)\n",
        "\n",
        "# Establecemos el modelo general\n",
        "model_1 = tf.keras.Model(inputs=[imgA, imgB], outputs=outputs)\n",
        "\n",
        "# Empleamos el loss como binary_crossentropy porque solo queremos saber si las imágenes son similares o no (no queremos clasificarlas)\n",
        "model_1.compile(loss='binary_crossentropy',\n",
        "                optimizer=tf.keras.optimizers.Adam(learning_rate=0.005),\n",
        "                metrics=['accuracy'])\n",
        "\n",
        "# Hacemos el fit del modelo\n",
        "history_1 = model_1.fit(\n",
        "    [pares_aleatorizados_m1[:, 0], pares_aleatorizados_m1[:, 1]], labels_aleatorizados_m1[:],\n",
        "     validation_data=([pares_m1_validacion[:, 0], pares_m1_validacion[:, 1]], labels_m1_validacion[:]),\n",
        "     batch_size=32,\n",
        "     epochs=10\n",
        ")"
      ],
      "execution_count": 133,
      "outputs": [
        {
          "output_type": "stream",
          "name": "stdout",
          "text": [
            "Epoch 1/10\n",
            "128/128 [==============================] - 78s 607ms/step - loss: 0.6231 - accuracy: 0.5432 - val_loss: 0.4445 - val_accuracy: 0.7617\n",
            "Epoch 2/10\n",
            "128/128 [==============================] - 77s 602ms/step - loss: 0.3809 - accuracy: 0.8462 - val_loss: 0.3230 - val_accuracy: 0.9609\n",
            "Epoch 3/10\n",
            "128/128 [==============================] - 77s 600ms/step - loss: 0.2509 - accuracy: 0.9548 - val_loss: 0.2581 - val_accuracy: 0.9277\n",
            "Epoch 4/10\n",
            "128/128 [==============================] - 77s 601ms/step - loss: 0.1837 - accuracy: 0.9802 - val_loss: 0.1904 - val_accuracy: 0.9961\n",
            "Epoch 5/10\n",
            "128/128 [==============================] - 77s 602ms/step - loss: 0.1239 - accuracy: 0.9937 - val_loss: 0.1407 - val_accuracy: 0.9766\n",
            "Epoch 6/10\n",
            "128/128 [==============================] - 77s 602ms/step - loss: 0.0882 - accuracy: 0.9985 - val_loss: 0.1118 - val_accuracy: 0.9824\n",
            "Epoch 7/10\n",
            "128/128 [==============================] - 80s 622ms/step - loss: 0.0674 - accuracy: 0.9995 - val_loss: 0.0915 - val_accuracy: 0.9883\n",
            "Epoch 8/10\n",
            "128/128 [==============================] - 77s 603ms/step - loss: 0.0505 - accuracy: 0.9993 - val_loss: 0.0806 - val_accuracy: 0.9883\n",
            "Epoch 9/10\n",
            "128/128 [==============================] - 77s 603ms/step - loss: 0.0378 - accuracy: 1.0000 - val_loss: 0.0649 - val_accuracy: 0.9902\n",
            "Epoch 10/10\n",
            "128/128 [==============================] - 77s 604ms/step - loss: 0.0321 - accuracy: 1.0000 - val_loss: 0.0580 - val_accuracy: 0.9941\n"
          ]
        }
      ]
    },
    {
      "cell_type": "code",
      "metadata": {
        "colab": {
          "base_uri": "https://localhost:8080/",
          "height": 619
        },
        "id": "KKVwMs26QLbs",
        "outputId": "529515d5-7392-4fb0-c50a-51e9cd1c7aa6"
      },
      "source": [
        "graficar_curva_perdidas(history_1)"
      ],
      "execution_count": 134,
      "outputs": [
        {
          "output_type": "display_data",
          "data": {
            "image/png": "[encoded data removed]",
            "text/plain": [
              "<Figure size 432x288 with 1 Axes>"
            ]
          },
          "metadata": {}
        },
        {
          "output_type": "display_data",
          "data": {
            "image/png": "[encoded data removed]",
            "text/plain": [
              "<Figure size 432x288 with 1 Axes>"
            ]
          },
          "metadata": {}
        }
      ]
    },
    {
      "cell_type": "markdown",
      "metadata": {
        "id": "n6l5B3oVS813"
      },
      "source": [
        "Modelo Experimental #2\n",
        "\n",
        "- entrenamiento = 80%\n",
        "\n",
        "- validación = 15%\n",
        "\n",
        "- prueba = 5%"
      ]
    },
    {
      "cell_type": "code",
      "metadata": {
        "colab": {
          "base_uri": "https://localhost:8080/"
        },
        "id": "4eJBBw1TTMq8",
        "outputId": "4f2cf343-d275-410a-c2b6-085a4b81d3cd"
      },
      "source": [
        "(pares_m2_entrenamiento, labels_m2_entrenamiento) = crear_pares(conjunto_entrenamiento_fisura_2, conjunto_entrenamiento_pernoflojo_2)\n",
        "(pares_m2_validacion, labels_m2_validacion) = crear_pares(conjunto_validacion_fisura_2, conjunto_validacion_pernoflojo_2)\n",
        "(pares_m2_prueba, labels_m2_prueba) = crear_pares(conjunto_prueba_fisura_2, conjunto_prueba_pernoflojo_2)"
      ],
      "execution_count": 135,
      "outputs": [
        {
          "output_type": "stream",
          "name": "stdout",
          "text": [
            "Creando pares...\n",
            "Pares creados.\n",
            "Creando pares...\n",
            "Pares creados.\n",
            "Creando pares...\n",
            "Pares creados.\n"
          ]
        }
      ]
    },
    {
      "cell_type": "code",
      "metadata": {
        "id": "45c7Xrm0TqW3"
      },
      "source": [
        "np.random.seed(300)\n",
        "\n",
        "pares_aleatorizados_m2 = pares_m2_entrenamiento\n",
        "np.random.shuffle(pares_aleatorizados_m2)"
      ],
      "execution_count": 136,
      "outputs": []
    },
    {
      "cell_type": "code",
      "metadata": {
        "id": "4bNqI928Tuw-"
      },
      "source": [
        "np.random.seed(300)\n",
        "\n",
        "labels_aleatorizados_m2 = labels_m2_entrenamiento\n",
        "np.random.shuffle(labels_aleatorizados_m2)"
      ],
      "execution_count": 137,
      "outputs": []
    },
    {
      "cell_type": "code",
      "metadata": {
        "id": "pKb-xsYsSyjy"
      },
      "source": [
        "# Creamos función que retorna la estructura de la red convolucional que se va a utilizar\n",
        "def build_siamese_model_2(input_shape):\n",
        "  model = tf.keras.Sequential([\n",
        "                                tf.keras.layers.Conv2D(filters=64,\n",
        "                                                        kernel_size=10,\n",
        "                                                        activation='relu',\n",
        "                                                        padding='same',\n",
        "                                                        input_shape=input_shape),\n",
        "                                tf.keras.layers.MaxPooling2D(pool_size=2),\n",
        "                                tf.keras.layers.Conv2D(filters=128,\n",
        "                                                        kernel_size=7,\n",
        "                                                        activation='relu',\n",
        "                                                        padding='same'),\n",
        "                                tf.keras.layers.MaxPooling2D(pool_size=2),\n",
        "                                tf.keras.layers.Conv2D(filters=128,\n",
        "                                                        kernel_size=4,\n",
        "                                                        activation='relu',\n",
        "                                                        padding='same'),\n",
        "                                tf.keras.layers.MaxPooling2D(pool_size=2),\n",
        "                                tf.keras.layers.Conv2D(filters=256,\n",
        "                                                        kernel_size=4,\n",
        "                                                        activation='relu',\n",
        "                                                        padding='same'),\n",
        "                                tf.keras.layers.Flatten(),\n",
        "                                tf.keras.layers.Dense(4960)\n",
        "  ])\n",
        "\n",
        "  return model"
      ],
      "execution_count": 138,
      "outputs": []
    },
    {
      "cell_type": "code",
      "metadata": {
        "colab": {
          "base_uri": "https://localhost:8080/"
        },
        "id": "PGbICiC-TEzN",
        "outputId": "4a4396ea-f1d4-4349-8599-69040b8766c8"
      },
      "source": [
        "tf.random.set_seed(100)\n",
        "\n",
        "IMG_SHAPE = (24, 16, 16)\n",
        "\n",
        "imgA = tf.keras.Input(IMG_SHAPE)\n",
        "imgB = tf.keras.Input(IMG_SHAPE)\n",
        "\n",
        "featureExtractor = build_siamese_model_2(input_shape=IMG_SHAPE)\n",
        "\n",
        "featsA = featureExtractor(imgA)\n",
        "featsB = featureExtractor(imgB)\n",
        "\n",
        "distancia = tf.keras.layers.Lambda(euclidean_distance)([featsA, featsB])\n",
        "\n",
        "outputs = tf.keras.layers.Dense(1, activation='sigmoid')(distancia)\n",
        "\n",
        "model_2 = tf.keras.Model(inputs=[imgA, imgB], outputs=outputs)\n",
        "\n",
        "model_2.compile(loss='binary_crossentropy',\n",
        "                optimizer=tf.keras.optimizers.Adam(learning_rate=0.005),\n",
        "                metrics=['accuracy'])\n",
        "\n",
        "history_2 = model_2.fit(\n",
        "    [pares_aleatorizados_m2[:, 0], pares_aleatorizados_m2[:, 1]], labels_aleatorizados_m2[:],\n",
        "     validation_data=([pares_m2_validacion[:, 0], pares_m2_validacion[:, 1]], labels_m2_validacion[:]),\n",
        "     batch_size=32,\n",
        "     epochs=10\n",
        ")"
      ],
      "execution_count": 139,
      "outputs": [
        {
          "output_type": "stream",
          "name": "stdout",
          "text": [
            "Epoch 1/10\n",
            "128/128 [==============================] - 80s 623ms/step - loss: 0.5959 - accuracy: 0.5864 - val_loss: 0.4336 - val_accuracy: 0.7826\n",
            "Epoch 2/10\n",
            "128/128 [==============================] - 80s 629ms/step - loss: 0.3552 - accuracy: 0.8787 - val_loss: 0.3114 - val_accuracy: 0.9206\n",
            "Epoch 3/10\n",
            "128/128 [==============================] - 81s 629ms/step - loss: 0.2266 - accuracy: 0.9685 - val_loss: 0.2207 - val_accuracy: 0.9466\n",
            "Epoch 4/10\n",
            "128/128 [==============================] - 81s 630ms/step - loss: 0.1570 - accuracy: 0.9924 - val_loss: 0.1799 - val_accuracy: 0.9674\n",
            "Epoch 5/10\n",
            "128/128 [==============================] - 81s 630ms/step - loss: 0.1136 - accuracy: 0.9988 - val_loss: 0.1621 - val_accuracy: 0.9661\n",
            "Epoch 6/10\n",
            "128/128 [==============================] - 81s 629ms/step - loss: 0.0822 - accuracy: 0.9990 - val_loss: 0.1166 - val_accuracy: 0.9883\n",
            "Epoch 7/10\n",
            "128/128 [==============================] - 81s 630ms/step - loss: 0.0623 - accuracy: 0.9995 - val_loss: 0.0785 - val_accuracy: 0.9961\n",
            "Epoch 8/10\n",
            "128/128 [==============================] - 81s 631ms/step - loss: 0.0452 - accuracy: 0.9998 - val_loss: 0.0793 - val_accuracy: 0.9922\n",
            "Epoch 9/10\n",
            "128/128 [==============================] - 81s 631ms/step - loss: 0.0365 - accuracy: 1.0000 - val_loss: 0.0586 - val_accuracy: 0.9961\n",
            "Epoch 10/10\n",
            "128/128 [==============================] - 84s 654ms/step - loss: 0.0284 - accuracy: 1.0000 - val_loss: 0.0487 - val_accuracy: 0.9974\n"
          ]
        }
      ]
    },
    {
      "cell_type": "code",
      "metadata": {
        "colab": {
          "base_uri": "https://localhost:8080/",
          "height": 619
        },
        "id": "_Pk1_E-qTn8o",
        "outputId": "efa8dec8-372d-43f4-d5c8-9f080daff2fa"
      },
      "source": [
        "graficar_curva_perdidas(history_2)"
      ],
      "execution_count": 140,
      "outputs": [
        {
          "output_type": "display_data",
          "data": {
            "image/png": "[encoded data removed]",
            "text/plain": [
              "<Figure size 432x288 with 1 Axes>"
            ]
          },
          "metadata": {}
        },
        {
          "output_type": "display_data",
          "data": {
            "image/png": "[encoded data removed]",
            "text/plain": [
              "<Figure size 432x288 with 1 Axes>"
            ]
          },
          "metadata": {}
        }
      ]
    },
    {
      "cell_type": "markdown",
      "metadata": {
        "id": "YeqY4huzWrgb"
      },
      "source": [
        "\n",
        "Modelo Experimental #3\n",
        "\n",
        "- entrenamiento = 70%\n",
        "\n",
        "- validación = 15%\n",
        "\n",
        "- prueba = 15%"
      ]
    },
    {
      "cell_type": "code",
      "metadata": {
        "colab": {
          "base_uri": "https://localhost:8080/"
        },
        "id": "ecs7jBt-WoDo",
        "outputId": "2d1f5eaf-75ae-40a2-d4b3-14bdb2b5375f"
      },
      "source": [
        "(pares_m3_entrenamiento, labels_m3_entrenamiento) = crear_pares(conjunto_entrenamiento_fisura_3, conjunto_entrenamiento_pernoflojo_3)\n",
        "(pares_m3_validacion, labels_m3_validacion) = crear_pares(conjunto_validacion_fisura_3, conjunto_validacion_pernoflojo_3)\n",
        "(pares_m3_prueba, labels_m3_prueba) = crear_pares(conjunto_prueba_fisura_3, conjunto_prueba_pernoflojo_3)"
      ],
      "execution_count": 141,
      "outputs": [
        {
          "output_type": "stream",
          "name": "stdout",
          "text": [
            "Creando pares...\n",
            "Pares creados.\n",
            "Creando pares...\n",
            "Pares creados.\n",
            "Creando pares...\n",
            "Pares creados.\n"
          ]
        }
      ]
    },
    {
      "cell_type": "code",
      "metadata": {
        "id": "9TR2HT2fXDm-"
      },
      "source": [
        "np.random.seed(300)\n",
        "\n",
        "pares_aleatorizados_m3 = pares_m3_entrenamiento\n",
        "np.random.shuffle(pares_aleatorizados_m3)"
      ],
      "execution_count": 142,
      "outputs": []
    },
    {
      "cell_type": "code",
      "metadata": {
        "id": "neMfMff2XKgD"
      },
      "source": [
        "np.random.seed(300)\n",
        "\n",
        "labels_aleatorizados_m3 = labels_m3_entrenamiento\n",
        "np.random.shuffle(labels_aleatorizados_m3)"
      ],
      "execution_count": 143,
      "outputs": []
    },
    {
      "cell_type": "code",
      "metadata": {
        "id": "m25JP0DEXOHU"
      },
      "source": [
        "def build_siamese_model_3(input_shape):\n",
        "  model = tf.keras.Sequential([\n",
        "                                tf.keras.layers.Conv2D(filters=64,\n",
        "                                                        kernel_size=10,\n",
        "                                                        activation='relu',\n",
        "                                                        padding='same',\n",
        "                                                        input_shape=input_shape),\n",
        "                                tf.keras.layers.MaxPooling2D(pool_size=2),\n",
        "                                tf.keras.layers.Conv2D(filters=128,\n",
        "                                                        kernel_size=7,\n",
        "                                                        activation='relu',\n",
        "                                                        padding='same'),\n",
        "                                tf.keras.layers.MaxPooling2D(pool_size=2),\n",
        "                                tf.keras.layers.Conv2D(filters=128,\n",
        "                                                        kernel_size=4,\n",
        "                                                        activation='relu',\n",
        "                                                        padding='same'),\n",
        "                                tf.keras.layers.MaxPooling2D(pool_size=2),\n",
        "                                tf.keras.layers.Conv2D(filters=256,\n",
        "                                                        kernel_size=4,\n",
        "                                                        activation='relu',\n",
        "                                                        padding='same'),\n",
        "                                tf.keras.layers.Flatten(),\n",
        "                                tf.keras.layers.Dense(4960)\n",
        "  ])\n",
        "\n",
        "  return model"
      ],
      "execution_count": 145,
      "outputs": []
    },
    {
      "cell_type": "code",
      "metadata": {
        "colab": {
          "base_uri": "https://localhost:8080/"
        },
        "id": "2AG0QOrvXTQV",
        "outputId": "5633798a-ddb7-43cb-9a39-95cbbfa7ca8d"
      },
      "source": [
        "tf.random.set_seed(100)\n",
        "\n",
        "IMG_SHAPE = (24, 16, 16)\n",
        "\n",
        "imgA = tf.keras.Input(IMG_SHAPE)\n",
        "imgB = tf.keras.Input(IMG_SHAPE)\n",
        "\n",
        "featureExtractor = build_siamese_model_3(input_shape=IMG_SHAPE)\n",
        "\n",
        "featsA = featureExtractor(imgA)\n",
        "featsB = featureExtractor(imgB)\n",
        "\n",
        "distancia = tf.keras.layers.Lambda(euclidean_distance)([featsA, featsB])\n",
        "\n",
        "outputs = tf.keras.layers.Dense(1, activation='sigmoid')(distancia)\n",
        "\n",
        "model_3 = tf.keras.Model(inputs=[imgA, imgB], outputs=outputs)\n",
        "\n",
        "model_3.compile(loss='binary_crossentropy',\n",
        "                optimizer=tf.keras.optimizers.Adam(learning_rate=0.005),\n",
        "                metrics=['accuracy'])\n",
        "\n",
        "history_3 = model_3.fit(\n",
        "    [pares_aleatorizados_m3[:, 0], pares_aleatorizados_m3[:, 1]], labels_aleatorizados_m3[:],\n",
        "     validation_data=([pares_m3_validacion[:, 0], pares_m3_validacion[:, 1]], labels_m3_validacion[:]),\n",
        "     batch_size=32,\n",
        "     epochs=10\n",
        ")"
      ],
      "execution_count": 146,
      "outputs": [
        {
          "output_type": "stream",
          "name": "stdout",
          "text": [
            "Epoch 1/10\n",
            "112/112 [==============================] - 71s 632ms/step - loss: 0.6933 - accuracy: 0.4950 - val_loss: 0.6931 - val_accuracy: 0.5000\n",
            "Epoch 2/10\n",
            "112/112 [==============================] - 70s 623ms/step - loss: 0.6932 - accuracy: 0.5006 - val_loss: 0.6932 - val_accuracy: 0.5000\n",
            "Epoch 3/10\n",
            "112/112 [==============================] - 70s 623ms/step - loss: 0.6933 - accuracy: 0.4961 - val_loss: 0.6932 - val_accuracy: 0.5000\n",
            "Epoch 4/10\n",
            "112/112 [==============================] - 70s 622ms/step - loss: 0.6933 - accuracy: 0.5017 - val_loss: 0.6932 - val_accuracy: 0.5000\n",
            "Epoch 5/10\n",
            "112/112 [==============================] - 70s 621ms/step - loss: 0.6934 - accuracy: 0.4939 - val_loss: 0.6932 - val_accuracy: 0.5000\n",
            "Epoch 6/10\n",
            "112/112 [==============================] - 70s 622ms/step - loss: 0.6933 - accuracy: 0.4849 - val_loss: 0.6931 - val_accuracy: 0.5000\n",
            "Epoch 7/10\n",
            "112/112 [==============================] - 70s 622ms/step - loss: 0.6933 - accuracy: 0.4883 - val_loss: 0.6931 - val_accuracy: 0.5000\n",
            "Epoch 8/10\n",
            "112/112 [==============================] - 69s 620ms/step - loss: 0.6933 - accuracy: 0.4994 - val_loss: 0.6932 - val_accuracy: 0.5000\n",
            "Epoch 9/10\n",
            "112/112 [==============================] - 70s 624ms/step - loss: 0.6934 - accuracy: 0.4933 - val_loss: 0.6932 - val_accuracy: 0.5000\n",
            "Epoch 10/10\n",
            "112/112 [==============================] - 70s 624ms/step - loss: 0.6935 - accuracy: 0.4849 - val_loss: 0.6932 - val_accuracy: 0.5000\n"
          ]
        }
      ]
    },
    {
      "cell_type": "code",
      "metadata": {
        "colab": {
          "base_uri": "https://localhost:8080/",
          "height": 619
        },
        "id": "uHeYQFCK0atJ",
        "outputId": "8e8e51a0-a06c-4f01-8817-db279c98d0c2"
      },
      "source": [
        "graficar_curva_perdidas(history_3)"
      ],
      "execution_count": 147,
      "outputs": [
        {
          "output_type": "display_data",
          "data": {
            "image/png": "[encoded data removed]",
            "text/plain": [
              "<Figure size 432x288 with 1 Axes>"
            ]
          },
          "metadata": {}
        },
        {
          "output_type": "display_data",
          "data": {
            "image/png": "[encoded data removed]",
            "text/plain": [
              "<Figure size 432x288 with 1 Axes>"
            ]
          },
          "metadata": {}
        }
      ]
    },
    {
      "cell_type": "markdown",
      "metadata": {
        "id": "jt1_xtduaRAi"
      },
      "source": [
        "## Matriz de confusión"
      ]
    },
    {
      "cell_type": "code",
      "metadata": {
        "id": "N0-kJq25XtmM"
      },
      "source": [
        "# Creamos una función que nos permita visualizar la matriz de confusión de los resultados\n",
        "sns.set(font_scale=1.5)\n",
        "\n",
        "def plot_conf_mat(y_test, y_preds):\n",
        "    \n",
        "    fig, ax = plt.subplots(figsize=(4,4))\n",
        "    ax = sns.heatmap(confusion_matrix(y_test, y_preds),\n",
        "                     annot=True,\n",
        "                     cbar=False,\n",
        "                     fmt='g')\n",
        "    plt.xlabel('Label Reales')\n",
        "    plt.ylabel('Predicciones')"
      ],
      "execution_count": 148,
      "outputs": []
    },
    {
      "cell_type": "code",
      "metadata": {
        "id": "1w2mccOKaTI8"
      },
      "source": [
        "# Guardamos las predicciones en una variable\n",
        "predicciones_1 = model_1.predict([pares_m1_prueba[:, 0], pares_m1_prueba[:, 1]])"
      ],
      "execution_count": 150,
      "outputs": []
    },
    {
      "cell_type": "code",
      "metadata": {
        "id": "AW90OAl7aVfT"
      },
      "source": [
        "# Redondeamos los valores predecidos para poder compararlos con los valores reales\n",
        "for i in range(len(predicciones_1)):\n",
        "  predicciones_1[i][0] = round(predicciones_1[i][0])"
      ],
      "execution_count": 151,
      "outputs": []
    },
    {
      "cell_type": "code",
      "metadata": {
        "colab": {
          "base_uri": "https://localhost:8080/",
          "height": 298
        },
        "id": "7gHTHVlzabcx",
        "outputId": "d1fad4cc-1a93-4cf4-8ea9-b59f2e378411"
      },
      "source": [
        "# Graficamos la matriz de confusión\n",
        "plot_conf_mat(labels_m1_prueba, predicciones_1)"
      ],
      "execution_count": 153,
      "outputs": [
        {
          "output_type": "display_data",
          "data": {
            "image/png": "[encoded data removed]",
            "text/plain": [
              "<Figure size 288x288 with 1 Axes>"
            ]
          },
          "metadata": {}
        }
      ]
    },
    {
      "cell_type": "code",
      "metadata": {
        "id": "be5ubT9Sant2"
      },
      "source": [
        "# Guardamos las predicciones en una variable\n",
        "predicciones_2 = model_2.predict([pares_m2_prueba[:, 0], pares_m2_prueba[:, 1]])"
      ],
      "execution_count": 154,
      "outputs": []
    },
    {
      "cell_type": "code",
      "metadata": {
        "id": "XRKlYoWi_lia"
      },
      "source": [
        "# Redondeamos los valores predecidos para poder compararlos con los valores reales\n",
        "for i in range(len(predicciones_2)):\n",
        "  predicciones_2[i][0] = round(predicciones_2[i][0])"
      ],
      "execution_count": 155,
      "outputs": []
    },
    {
      "cell_type": "code",
      "metadata": {
        "colab": {
          "base_uri": "https://localhost:8080/",
          "height": 298
        },
        "id": "O_h9qAbT_nqv",
        "outputId": "c8ea6220-636d-4df1-e5e7-fa62af81f584"
      },
      "source": [
        "# Graficamos la matriz de confusión\n",
        "plot_conf_mat(labels_m2_prueba, predicciones_2)"
      ],
      "execution_count": 156,
      "outputs": [
        {
          "output_type": "display_data",
          "data": {
            "image/png": "[encoded data removed]",
            "text/plain": [
              "<Figure size 288x288 with 1 Axes>"
            ]
          },
          "metadata": {}
        }
      ]
    },
    {
      "cell_type": "code",
      "metadata": {
        "id": "Ai6aLPRr_upY"
      },
      "source": [
        "# Guardamos las predicciones en una variable\n",
        "predicciones_3 = model_3.predict([pares_m3_prueba[:, 0], pares_m3_prueba[:, 1]])"
      ],
      "execution_count": 157,
      "outputs": []
    },
    {
      "cell_type": "code",
      "metadata": {
        "id": "yrelJQ_H_wcE"
      },
      "source": [
        "# Redondeamos los valores predecidos para poder compararlos con los valores reales\n",
        "for i in range(len(predicciones_3)):\n",
        "  predicciones_3[i][0] = round(predicciones_3[i][0])"
      ],
      "execution_count": 158,
      "outputs": []
    },
    {
      "cell_type": "code",
      "metadata": {
        "colab": {
          "base_uri": "https://localhost:8080/",
          "height": 298
        },
        "id": "82hvS23B_yYZ",
        "outputId": "c6085bce-c8f8-4cf5-88b4-03959cd7a72a"
      },
      "source": [
        "# Graficamos la matriz de confusión\n",
        "plot_conf_mat(labels_m3_prueba, predicciones_3)"
      ],
      "execution_count": 159,
      "outputs": [
        {
          "output_type": "display_data",
          "data": {
            "image/png": "[encoded data removed]",
            "text/plain": [
              "<Figure size 288x288 with 1 Axes>"
            ]
          },
          "metadata": {}
        }
      ]
    }
  ]
}