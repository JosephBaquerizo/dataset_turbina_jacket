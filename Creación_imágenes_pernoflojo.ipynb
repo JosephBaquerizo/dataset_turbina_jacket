{
  "nbformat": 4,
  "nbformat_minor": 0,
  "metadata": {
    "colab": {
      "name": "Creación_imágenes_pernoflojo.ipynb",
      "provenance": [],
      "collapsed_sections": [],
      "authorship_tag": "ABX9TyP8CECv8YS1XYY/te4+o6Wd"
    },
    "kernelspec": {
      "name": "python3",
      "display_name": "Python 3"
    },
    "language_info": {
      "name": "python"
    }
  },
  "cells": [
    {
      "cell_type": "markdown",
      "metadata": {
        "id": "wwdjjaoqoWwu"
      },
      "source": [
        "# Creación de Imágenes Temporales Asociadas a una Frecuencia de Muestreo Específica\n",
        "En este notebook se realizará el mismo procedimiento del archivo Creación_imágenes_fisura, sólo que ahora en el conjunto de datos asociados a pernoflojo."
      ]
    },
    {
      "cell_type": "markdown",
      "metadata": {
        "id": "WWeLFSx4n0L0"
      },
      "source": [
        "## Importaciones\n",
        "Se realizan las importaciones necesarias para llevar a cabo la obtención y procesamiento de datos."
      ]
    },
    {
      "cell_type": "code",
      "metadata": {
        "id": "EZCEiYnFhEDn"
      },
      "source": [
        "from google.colab import drive\n",
        "from os import listdir\n",
        "from os.path import isfile, join\n",
        "from scipy.io import loadmat\n",
        "from random import randint\n",
        "\n",
        "import pandas as pd\n",
        "import numpy as np\n",
        "import random\n",
        "\n",
        "import os"
      ],
      "execution_count": 42,
      "outputs": []
    },
    {
      "cell_type": "markdown",
      "metadata": {
        "id": "YSf4sH0Bn3zh"
      },
      "source": [
        "## Obtención de Datos\n",
        "Nos conectamos con Google Drive para obtener el dataset general y segmentar los datos relacionados a pernoflojo."
      ]
    },
    {
      "cell_type": "code",
      "metadata": {
        "colab": {
          "base_uri": "https://localhost:8080/"
        },
        "id": "anbrLAkhhK78",
        "outputId": "354caec2-1a84-4124-846a-40befa67ceba"
      },
      "source": [
        "drive.mount('/content/drive')"
      ],
      "execution_count": 43,
      "outputs": [
        {
          "output_type": "stream",
          "text": [
            "Drive already mounted at /content/drive; to attempt to forcibly remount, call drive.mount(\"/content/drive\", force_remount=True).\n"
          ],
          "name": "stdout"
        }
      ]
    },
    {
      "cell_type": "code",
      "metadata": {
        "id": "TBFrayvuhPBe"
      },
      "source": [
        "dataset_datos_dir = 'drive/MyDrive/DATOS_EXPERIMENTALES_JACKET/DATOS'"
      ],
      "execution_count": 44,
      "outputs": []
    },
    {
      "cell_type": "code",
      "metadata": {
        "id": "0rI9TH1shQ6_"
      },
      "source": [
        "dataset_datos_files = [dataset_datos_dir+'/'+filename for filename in listdir(dataset_datos_dir) if isfile(join(dataset_datos_dir, filename))]"
      ],
      "execution_count": 45,
      "outputs": []
    },
    {
      "cell_type": "code",
      "metadata": {
        "id": "DV2Z0wIthRXp"
      },
      "source": [
        "# Creamos listas en donde se almacenarán los archivos relacionados a experimentos de fisura y experimentos de perno flojo respectivamente\n",
        "datos_fisura = []\n",
        "datos_pernoflojo = []\n",
        "\n",
        "# Iteramos los nombres de todos los archivos en la lista general previamente creada\n",
        "for filename in listdir(dataset_datos_dir):\n",
        "  # Obtenemos el nombre del archivo tal cual, sin direcciones previas\n",
        "  if isfile(join(dataset_datos_dir, filename)):\n",
        "    nombre_archivo = filename.split('.')[0]\n",
        "    # El estado de fisura se asocia al número 3 en los nombres de los archivos, si cumple la condición el archivo, guardamos en la lista datos_fisura\n",
        "    if (nombre_archivo.split('_')[0] == '3'):\n",
        "      datos_fisura.append(dataset_datos_dir + '/' + filename)\n",
        "    # El estado de fisura se asocia al número 4 en los nombres de los archivos, si cumple la condición el archivo, guardamos en la lista datos_pernoflojo\n",
        "    elif (nombre_archivo.split('_')[0] == '4'):\n",
        "      datos_pernoflojo.append(dataset_datos_dir + '/' + filename)"
      ],
      "execution_count": 46,
      "outputs": []
    },
    {
      "cell_type": "markdown",
      "metadata": {
        "id": "RFAh8oAFmwS_"
      },
      "source": [
        "### Dataset Pernoflojo\n",
        "Llevamos el dataset pernoflojo a un DataFrame en donde estarán todos los experimentos asociados a este tipo de daño apilados."
      ]
    },
    {
      "cell_type": "code",
      "metadata": {
        "id": "eUWlTUvfmqVF"
      },
      "source": [
        "# Se crean 2 listas, una asociada al número de experimento y otra asociada al nivel de white noise presente durante el experimento \n",
        "numero_experimentos_pernoflojo = []\n",
        "amplitud_experimentos_pernoflojo = []\n",
        "\n",
        "# Iteramos los nombres de los archivos dentro del conjunto que contiene los datos de fisura\n",
        "for nombre_archivo in datos_pernoflojo:\n",
        "  # Obtenemos el nombre del experimento\n",
        "  nombre_experimento = nombre_archivo.split('/')[4]\n",
        "  # Obtenemos el número del experimento\n",
        "  numero_experimento = nombre_experimento.split('_')[1]\n",
        "  # Obtenemos el nivel de white noise del experimento\n",
        "  amplitud_experimento = nombre_experimento.split('.')[0].split('_')[2].replace('A', '')\n",
        "  # Agregamos el número del experimento a la lista numero_experimentos_pernoflojo creada anteriormente\n",
        "  numero_experimentos_pernoflojo.append(int(numero_experimento))\n",
        "  # Agregamos el nivel de white noise del experimento a la lista amplitud_experimentos_pernoflojo creada anteriormente\n",
        "  if amplitud_experimento == '05':\n",
        "    amplitud_experimento = 0.5\n",
        "    amplitud_experimentos_pernoflojo.append(amplitud_experimento)\n",
        "  else:\n",
        "    amplitud_experimentos_pernoflojo.append(int(amplitud_experimento))"
      ],
      "execution_count": 47,
      "outputs": []
    },
    {
      "cell_type": "code",
      "metadata": {
        "id": "RwPLwCzQm0ID"
      },
      "source": [
        "# Creamos un DataFrame vacío\n",
        "df_pernoflojo = pd.DataFrame()\n",
        "\n",
        "# Iteramos por rango la lista datos_fisura\n",
        "for indice in range(len(datos_pernoflojo)):\n",
        "  # Obtenemos la dirección dentro de la iteración correspondiente\n",
        "  direccion = datos_pernoflojo[indice]\n",
        "  # Transformamos el .mat a un formato en el que se pueda transformar a DataFrame\n",
        "  mat = loadmat(direccion)\n",
        "  df = pd.DataFrame(mat['data'])\n",
        "  # Para todos los valores del experimento, creamos columnas en donde sus valores se asocian con el nivel de wn y el # de experimento\n",
        "  df['#_exp'] = numero_experimentos_pernoflojo[indice]\n",
        "  df['amplitud'] = amplitud_experimentos_pernoflojo[indice]\n",
        "  # Colocamos al final del DataFrame df_fisura creado el nuevo DataFrame \n",
        "  df_pernoflojo = pd.concat([df_pernoflojo, df], axis = 0)"
      ],
      "execution_count": 48,
      "outputs": []
    },
    {
      "cell_type": "code",
      "metadata": {
        "colab": {
          "base_uri": "https://localhost:8080/",
          "height": 317
        },
        "id": "wF_HEmr7m2cX",
        "outputId": "e1096437-c593-46a9-ff65-ac885a4fb0b2"
      },
      "source": [
        "# Revisamos el conjunto de datos obtenido para pernoflojo\n",
        "df_pernoflojo.head(8)"
      ],
      "execution_count": 49,
      "outputs": [
        {
          "output_type": "execute_result",
          "data": {
            "text/html": [
              "<div>\n",
              "<style scoped>\n",
              "    .dataframe tbody tr th:only-of-type {\n",
              "        vertical-align: middle;\n",
              "    }\n",
              "\n",
              "    .dataframe tbody tr th {\n",
              "        vertical-align: top;\n",
              "    }\n",
              "\n",
              "    .dataframe thead th {\n",
              "        text-align: right;\n",
              "    }\n",
              "</style>\n",
              "<table border=\"1\" class=\"dataframe\">\n",
              "  <thead>\n",
              "    <tr style=\"text-align: right;\">\n",
              "      <th></th>\n",
              "      <th>0</th>\n",
              "      <th>1</th>\n",
              "      <th>2</th>\n",
              "      <th>3</th>\n",
              "      <th>4</th>\n",
              "      <th>5</th>\n",
              "      <th>6</th>\n",
              "      <th>7</th>\n",
              "      <th>8</th>\n",
              "      <th>9</th>\n",
              "      <th>10</th>\n",
              "      <th>11</th>\n",
              "      <th>12</th>\n",
              "      <th>13</th>\n",
              "      <th>14</th>\n",
              "      <th>15</th>\n",
              "      <th>16</th>\n",
              "      <th>17</th>\n",
              "      <th>18</th>\n",
              "      <th>19</th>\n",
              "      <th>20</th>\n",
              "      <th>21</th>\n",
              "      <th>22</th>\n",
              "      <th>23</th>\n",
              "      <th>#_exp</th>\n",
              "      <th>amplitud</th>\n",
              "    </tr>\n",
              "  </thead>\n",
              "  <tbody>\n",
              "    <tr>\n",
              "      <th>0</th>\n",
              "      <td>0.000168</td>\n",
              "      <td>0.000204</td>\n",
              "      <td>0.000213</td>\n",
              "      <td>0.000135</td>\n",
              "      <td>0.000201</td>\n",
              "      <td>0.000099</td>\n",
              "      <td>0.000108</td>\n",
              "      <td>0.000189</td>\n",
              "      <td>0.000212</td>\n",
              "      <td>0.000093</td>\n",
              "      <td>0.000257</td>\n",
              "      <td>0.000196</td>\n",
              "      <td>0.000173</td>\n",
              "      <td>0.000029</td>\n",
              "      <td>0.000316</td>\n",
              "      <td>0.000202</td>\n",
              "      <td>0.000010</td>\n",
              "      <td>0.000085</td>\n",
              "      <td>0.000151</td>\n",
              "      <td>0.000136</td>\n",
              "      <td>0.000116</td>\n",
              "      <td>0.000099</td>\n",
              "      <td>0.000054</td>\n",
              "      <td>0.000111</td>\n",
              "      <td>1</td>\n",
              "      <td>0.5</td>\n",
              "    </tr>\n",
              "    <tr>\n",
              "      <th>1</th>\n",
              "      <td>0.000122</td>\n",
              "      <td>0.000277</td>\n",
              "      <td>0.000213</td>\n",
              "      <td>0.000180</td>\n",
              "      <td>0.000230</td>\n",
              "      <td>0.000172</td>\n",
              "      <td>0.000068</td>\n",
              "      <td>0.000213</td>\n",
              "      <td>0.000214</td>\n",
              "      <td>0.000095</td>\n",
              "      <td>0.000272</td>\n",
              "      <td>0.000172</td>\n",
              "      <td>0.000173</td>\n",
              "      <td>0.000050</td>\n",
              "      <td>0.000292</td>\n",
              "      <td>0.000178</td>\n",
              "      <td>0.000021</td>\n",
              "      <td>0.000022</td>\n",
              "      <td>0.000203</td>\n",
              "      <td>0.000139</td>\n",
              "      <td>0.000076</td>\n",
              "      <td>0.000164</td>\n",
              "      <td>0.000089</td>\n",
              "      <td>0.000076</td>\n",
              "      <td>1</td>\n",
              "      <td>0.5</td>\n",
              "    </tr>\n",
              "    <tr>\n",
              "      <th>2</th>\n",
              "      <td>0.000099</td>\n",
              "      <td>0.000214</td>\n",
              "      <td>0.000128</td>\n",
              "      <td>0.000153</td>\n",
              "      <td>0.000217</td>\n",
              "      <td>0.000100</td>\n",
              "      <td>0.000064</td>\n",
              "      <td>0.000174</td>\n",
              "      <td>0.000225</td>\n",
              "      <td>0.000116</td>\n",
              "      <td>0.000245</td>\n",
              "      <td>0.000202</td>\n",
              "      <td>0.000140</td>\n",
              "      <td>0.000012</td>\n",
              "      <td>0.000309</td>\n",
              "      <td>0.000256</td>\n",
              "      <td>0.000023</td>\n",
              "      <td>0.000089</td>\n",
              "      <td>0.000225</td>\n",
              "      <td>0.000162</td>\n",
              "      <td>0.000098</td>\n",
              "      <td>0.000154</td>\n",
              "      <td>0.000091</td>\n",
              "      <td>0.000092</td>\n",
              "      <td>1</td>\n",
              "      <td>0.5</td>\n",
              "    </tr>\n",
              "    <tr>\n",
              "      <th>3</th>\n",
              "      <td>0.000150</td>\n",
              "      <td>0.000258</td>\n",
              "      <td>0.000209</td>\n",
              "      <td>0.000163</td>\n",
              "      <td>0.000213</td>\n",
              "      <td>0.000120</td>\n",
              "      <td>0.000066</td>\n",
              "      <td>0.000157</td>\n",
              "      <td>0.000220</td>\n",
              "      <td>0.000096</td>\n",
              "      <td>0.000229</td>\n",
              "      <td>0.000203</td>\n",
              "      <td>0.000157</td>\n",
              "      <td>0.000057</td>\n",
              "      <td>0.000292</td>\n",
              "      <td>0.000260</td>\n",
              "      <td>0.000062</td>\n",
              "      <td>0.000077</td>\n",
              "      <td>0.000212</td>\n",
              "      <td>0.000178</td>\n",
              "      <td>0.000123</td>\n",
              "      <td>0.000150</td>\n",
              "      <td>0.000056</td>\n",
              "      <td>0.000130</td>\n",
              "      <td>1</td>\n",
              "      <td>0.5</td>\n",
              "    </tr>\n",
              "    <tr>\n",
              "      <th>4</th>\n",
              "      <td>0.000194</td>\n",
              "      <td>0.000244</td>\n",
              "      <td>0.000194</td>\n",
              "      <td>0.000201</td>\n",
              "      <td>0.000202</td>\n",
              "      <td>0.000127</td>\n",
              "      <td>0.000133</td>\n",
              "      <td>0.000197</td>\n",
              "      <td>0.000212</td>\n",
              "      <td>0.000110</td>\n",
              "      <td>0.000266</td>\n",
              "      <td>0.000199</td>\n",
              "      <td>0.000181</td>\n",
              "      <td>0.000040</td>\n",
              "      <td>0.000336</td>\n",
              "      <td>0.000209</td>\n",
              "      <td>0.000092</td>\n",
              "      <td>0.000097</td>\n",
              "      <td>0.000183</td>\n",
              "      <td>0.000170</td>\n",
              "      <td>0.000114</td>\n",
              "      <td>0.000127</td>\n",
              "      <td>0.000064</td>\n",
              "      <td>0.000087</td>\n",
              "      <td>1</td>\n",
              "      <td>0.5</td>\n",
              "    </tr>\n",
              "    <tr>\n",
              "      <th>5</th>\n",
              "      <td>0.000156</td>\n",
              "      <td>0.000287</td>\n",
              "      <td>0.000188</td>\n",
              "      <td>0.000119</td>\n",
              "      <td>0.000234</td>\n",
              "      <td>0.000127</td>\n",
              "      <td>0.000102</td>\n",
              "      <td>0.000198</td>\n",
              "      <td>0.000216</td>\n",
              "      <td>0.000097</td>\n",
              "      <td>0.000280</td>\n",
              "      <td>0.000222</td>\n",
              "      <td>0.000140</td>\n",
              "      <td>0.000058</td>\n",
              "      <td>0.000296</td>\n",
              "      <td>0.000212</td>\n",
              "      <td>0.000061</td>\n",
              "      <td>0.000097</td>\n",
              "      <td>0.000231</td>\n",
              "      <td>0.000156</td>\n",
              "      <td>0.000090</td>\n",
              "      <td>0.000155</td>\n",
              "      <td>0.000076</td>\n",
              "      <td>0.000091</td>\n",
              "      <td>1</td>\n",
              "      <td>0.5</td>\n",
              "    </tr>\n",
              "    <tr>\n",
              "      <th>6</th>\n",
              "      <td>0.000150</td>\n",
              "      <td>0.000230</td>\n",
              "      <td>0.000198</td>\n",
              "      <td>0.000239</td>\n",
              "      <td>0.000247</td>\n",
              "      <td>0.000150</td>\n",
              "      <td>0.000052</td>\n",
              "      <td>0.000178</td>\n",
              "      <td>0.000255</td>\n",
              "      <td>0.000115</td>\n",
              "      <td>0.000235</td>\n",
              "      <td>0.000189</td>\n",
              "      <td>0.000216</td>\n",
              "      <td>0.000072</td>\n",
              "      <td>0.000299</td>\n",
              "      <td>0.000233</td>\n",
              "      <td>0.000060</td>\n",
              "      <td>0.000124</td>\n",
              "      <td>0.000225</td>\n",
              "      <td>0.000157</td>\n",
              "      <td>0.000133</td>\n",
              "      <td>0.000153</td>\n",
              "      <td>0.000060</td>\n",
              "      <td>0.000087</td>\n",
              "      <td>1</td>\n",
              "      <td>0.5</td>\n",
              "    </tr>\n",
              "    <tr>\n",
              "      <th>7</th>\n",
              "      <td>0.000130</td>\n",
              "      <td>0.000230</td>\n",
              "      <td>0.000207</td>\n",
              "      <td>0.000116</td>\n",
              "      <td>0.000212</td>\n",
              "      <td>0.000108</td>\n",
              "      <td>0.000096</td>\n",
              "      <td>0.000178</td>\n",
              "      <td>0.000200</td>\n",
              "      <td>0.000130</td>\n",
              "      <td>0.000260</td>\n",
              "      <td>0.000203</td>\n",
              "      <td>0.000216</td>\n",
              "      <td>0.000057</td>\n",
              "      <td>0.000329</td>\n",
              "      <td>0.000261</td>\n",
              "      <td>0.000031</td>\n",
              "      <td>0.000045</td>\n",
              "      <td>0.000236</td>\n",
              "      <td>0.000178</td>\n",
              "      <td>0.000081</td>\n",
              "      <td>0.000160</td>\n",
              "      <td>0.000079</td>\n",
              "      <td>0.000115</td>\n",
              "      <td>1</td>\n",
              "      <td>0.5</td>\n",
              "    </tr>\n",
              "  </tbody>\n",
              "</table>\n",
              "</div>"
            ],
            "text/plain": [
              "          0         1         2         3  ...        22        23  #_exp  amplitud\n",
              "0  0.000168  0.000204  0.000213  0.000135  ...  0.000054  0.000111      1       0.5\n",
              "1  0.000122  0.000277  0.000213  0.000180  ...  0.000089  0.000076      1       0.5\n",
              "2  0.000099  0.000214  0.000128  0.000153  ...  0.000091  0.000092      1       0.5\n",
              "3  0.000150  0.000258  0.000209  0.000163  ...  0.000056  0.000130      1       0.5\n",
              "4  0.000194  0.000244  0.000194  0.000201  ...  0.000064  0.000087      1       0.5\n",
              "5  0.000156  0.000287  0.000188  0.000119  ...  0.000076  0.000091      1       0.5\n",
              "6  0.000150  0.000230  0.000198  0.000239  ...  0.000060  0.000087      1       0.5\n",
              "7  0.000130  0.000230  0.000207  0.000116  ...  0.000079  0.000115      1       0.5\n",
              "\n",
              "[8 rows x 26 columns]"
            ]
          },
          "metadata": {
            "tags": []
          },
          "execution_count": 49
        }
      ]
    },
    {
      "cell_type": "code",
      "metadata": {
        "colab": {
          "base_uri": "https://localhost:8080/"
        },
        "id": "SPwCaCMUm4Dt",
        "outputId": "9a521e42-5fc6-48b9-c771-5d2c7dcd1496"
      },
      "source": [
        "# Si dividimos para 99097 el df_pernoflojo deberíamos obtener 20 experimentos en total\n",
        "len(df_pernoflojo)/99097"
      ],
      "execution_count": 50,
      "outputs": [
        {
          "output_type": "execute_result",
          "data": {
            "text/plain": [
              "20.0"
            ]
          },
          "metadata": {
            "tags": []
          },
          "execution_count": 50
        }
      ]
    },
    {
      "cell_type": "markdown",
      "metadata": {
        "id": "cB_85zTdm7yK"
      },
      "source": [
        "#### Procesamiento de Datos\n",
        "Creamos las imágenes de (24, 16, 16) a partir de los datos del df_pernoflojo."
      ]
    },
    {
      "cell_type": "code",
      "metadata": {
        "id": "vL_svG-Gm5yi"
      },
      "source": [
        "# Establecemos 2 listas, una con los posibles experimentos y otra con los posibles niveles de white noise, lo cual nos ayudará a segmentar los datos\n",
        "experimentos = [1, 2, 3, 4, 5]\n",
        "wns = [0.5, 1, 2, 3]\n",
        "# Creamos una lista en donde pondremos todas las imágenes creadas, segmentadas por experimento y white noise\n",
        "arreglo_imagenes_por_experimento_pernoflojo = []\n",
        "\n",
        "# Iteramos por experimento y por nivel de white noise\n",
        "for i in experimentos:\n",
        "  for j in wns:\n",
        "    # Creamos filtros que nos permiten identificar el experimento por su número asociado y por su nivel de white noise dentro del conjunto de datos\n",
        "    filter1 = df_pernoflojo[\"#_exp\"] == i\n",
        "    filter2 = df_pernoflojo[\"amplitud\"] == j\n",
        "    # Filtramos y deshacemos las filas que no corresponden a la búsqueda\n",
        "    dataset_experimento = df_pernoflojo.where(filter1 & filter2).dropna()\n",
        "    # Creamos arreglo en donde almacenaremos listas de imágenes asociadas a cada columna en un experimento individual\n",
        "    arreglo_matrices_asociadas = []\n",
        "\n",
        "    # En el conjunto filtrado, iteramos por cada columna (de la columna 0 a la 23)\n",
        "    for n in range(24):\n",
        "      # Establecemos un límite inferior y un límite superior\n",
        "      indice_inicio = 0\n",
        "      indice_fin = 256\n",
        "      # Del conjunto filtrado, obtenemos un subconjunto con muestras cada 6 pasos\n",
        "      columna_cada_6 = dataset_experimento[n][::6]\n",
        "      # Creamos una lista en donde guardaremos todas las imágenes creadas dentro de la columna en la que se esta iterando\n",
        "      matrices_columna = []\n",
        "    \n",
        "      # Recorremos en valores de 256 la columna del subconjunto creado para generar las imágenes 16x16 correspondientes \n",
        "      while indice_fin < len(columna_cada_6):\n",
        "        # Guardamos el conjunto de 256 datos dentro de un arreglo\n",
        "        vector = columna_cada_6[indice_inicio:indice_fin]\n",
        "        # Redimensionamos el arreglo (de 1x256 a 16x16)\n",
        "        matriz = vector.to_numpy().reshape((16, 16))\n",
        "        # Agregamos la imagen dentro de la lista matrices_columna\n",
        "        matrices_columna.append(matriz)\n",
        "        # Establecemos el nuevo límite inferior y superior en donde se encontrarán los datos de mi nueva imagen 16x16\n",
        "        indice_inicio = indice_fin\n",
        "        indice_fin = indice_fin + 256\n",
        "      \n",
        "      # Agregamos las listas de imágenes 16x16 asociadas a una columna a arreglo_matrices_asociadas\n",
        "      arreglo_matrices_asociadas.append(matrices_columna)\n",
        "    \n",
        "    # Agregamos arreglo_matrices_asociadas a arreglos_imagenes_por_experimento, en donde tenemos listas de listas asociadas a un experimento individual\n",
        "    arreglo_imagenes_por_experimento_pernoflojo.append(arreglo_matrices_asociadas)"
      ],
      "execution_count": 74,
      "outputs": []
    },
    {
      "cell_type": "code",
      "metadata": {
        "colab": {
          "base_uri": "https://localhost:8080/"
        },
        "id": "B230kaPtnBn0",
        "outputId": "4ad16539-dd3a-4f73-f2f2-829d847223d8"
      },
      "source": [
        "len(arreglo_imagenes_por_experimento_pernoflojo)"
      ],
      "execution_count": 52,
      "outputs": [
        {
          "output_type": "execute_result",
          "data": {
            "text/plain": [
              "20"
            ]
          },
          "metadata": {
            "tags": []
          },
          "execution_count": 52
        }
      ]
    },
    {
      "cell_type": "code",
      "metadata": {
        "colab": {
          "base_uri": "https://localhost:8080/"
        },
        "id": "U_A5JZsdnDgC",
        "outputId": "618ee874-28d2-48f8-b3c7-e6df578c16a8"
      },
      "source": [
        "len(arreglo_imagenes_por_experimento_pernoflojo[0])"
      ],
      "execution_count": 53,
      "outputs": [
        {
          "output_type": "execute_result",
          "data": {
            "text/plain": [
              "24"
            ]
          },
          "metadata": {
            "tags": []
          },
          "execution_count": 53
        }
      ]
    },
    {
      "cell_type": "code",
      "metadata": {
        "colab": {
          "base_uri": "https://localhost:8080/"
        },
        "id": "cVTyGJednID3",
        "outputId": "be6da9ca-0e24-4284-e4d5-819fe61a6ea6"
      },
      "source": [
        "len(arreglo_imagenes_por_experimento_pernoflojo[0][0])"
      ],
      "execution_count": 54,
      "outputs": [
        {
          "output_type": "execute_result",
          "data": {
            "text/plain": [
              "64"
            ]
          },
          "metadata": {
            "tags": []
          },
          "execution_count": 54
        }
      ]
    },
    {
      "cell_type": "code",
      "metadata": {
        "colab": {
          "base_uri": "https://localhost:8080/"
        },
        "id": "1d-Jb6kWnJvc",
        "outputId": "9e8ec971-ee31-43ff-9743-880d73c19219"
      },
      "source": [
        "arreglo_imagenes_por_experimento_pernoflojo[0][0][0].size"
      ],
      "execution_count": 55,
      "outputs": [
        {
          "output_type": "execute_result",
          "data": {
            "text/plain": [
              "256"
            ]
          },
          "metadata": {
            "tags": []
          },
          "execution_count": 55
        }
      ]
    },
    {
      "cell_type": "code",
      "metadata": {
        "colab": {
          "base_uri": "https://localhost:8080/"
        },
        "id": "A31uXcL7nKJb",
        "outputId": "8f797494-06e7-4a04-b975-603eef24affa"
      },
      "source": [
        "arreglo_imagenes_por_experimento_pernoflojo[0][0][0].shape"
      ],
      "execution_count": 56,
      "outputs": [
        {
          "output_type": "execute_result",
          "data": {
            "text/plain": [
              "(16, 16)"
            ]
          },
          "metadata": {
            "tags": []
          },
          "execution_count": 56
        }
      ]
    },
    {
      "cell_type": "code",
      "metadata": {
        "id": "1Jj1cqs8nNLA"
      },
      "source": [
        "# Creamos un arreglos general para todas las imágenes de dimensionamiento (24, 16, 16)\n",
        "arreglo_imagenes_pernoflojo = []\n",
        "\n",
        "# Iteramos cada experimento en la lista de experimentos creada previamente\n",
        "for experimento_i in arreglo_imagenes_por_experimento_pernoflojo:\n",
        "  # Iteramos en un rango de 64 para usarlo posteriormente\n",
        "  for idx in range(64):\n",
        "    # Para cada iteración se crea el arreglo en donde se agregaran las capas correctas de la imagen de dimensionamniento (24, 16, 16)\n",
        "    imagen = []\n",
        "    # Iteramos para cada fila en el experimento (son 24 filas)\n",
        "    for fila in experimento_i:\n",
        "      # Asociamos por índice los valores de cada lista de imágenes para establecer la relación correcta y agregamos al arreglo creado\n",
        "      capa_imagen = fila[idx]\n",
        "      imagen.append(capa_imagen)\n",
        "\n",
        "    # Transformamos la lista de 24 capas a un arreglo numérico\n",
        "    arreglo_imagenes_pernoflojo.append(np.array(imagen))"
      ],
      "execution_count": 65,
      "outputs": []
    },
    {
      "cell_type": "code",
      "metadata": {
        "colab": {
          "base_uri": "https://localhost:8080/"
        },
        "id": "D6eUoS0CnNou",
        "outputId": "405433ff-1fcb-4005-a55d-d9c022a8a069"
      },
      "source": [
        "# Revisamos el número de imágenes creadas\n",
        "len(arreglo_imagenes_pernoflojo) "
      ],
      "execution_count": 66,
      "outputs": [
        {
          "output_type": "execute_result",
          "data": {
            "text/plain": [
              "1280"
            ]
          },
          "metadata": {
            "tags": []
          },
          "execution_count": 66
        }
      ]
    },
    {
      "cell_type": "code",
      "metadata": {
        "colab": {
          "base_uri": "https://localhost:8080/"
        },
        "id": "kmU5Ahq4nPQI",
        "outputId": "21a308ce-d6b9-4f23-9881-04d74b7bf060"
      },
      "source": [
        "# Revisamos el dimensionamiento y tipo de un elemento aleatorio en la lista de imágenes\n",
        "indice_imagen_pernoflojo = randint(0, len(arreglo_imagenes_pernoflojo) - 1)\n",
        "arreglo_imagenes_pernoflojo[indice_imagen_pernoflojo].shape, type(arreglo_imagenes_pernoflojo[0]), indice_imagen_pernoflojo"
      ],
      "execution_count": 67,
      "outputs": [
        {
          "output_type": "execute_result",
          "data": {
            "text/plain": [
              "((24, 16, 16), numpy.ndarray, 427)"
            ]
          },
          "metadata": {
            "tags": []
          },
          "execution_count": 67
        }
      ]
    },
    {
      "cell_type": "markdown",
      "metadata": {
        "id": "tmBFGR8LnSSa"
      },
      "source": [
        "#### Verificación\n",
        "Verificamos que se hayan obtenido las imágenes correctamente sin combinar datos de otros experimentos ajenos al experimento procesado."
      ]
    },
    {
      "cell_type": "code",
      "metadata": {
        "id": "UCZ1vqEYnqSC"
      },
      "source": [
        "# Establecemos los valores correspondientes a variables que nos van a ayudar con la localización de la imagen a comparar.\n",
        "prueba_exp = random.choice(experimentos) # número de experimento\n",
        "prueba_wn = random.choice(wns) # nivel de white noise\n",
        "prueba_n = random.randint(1, 64) # índice de la imagen creada por experimento (en cada experimento individual se crean 64 imágenes)"
      ],
      "execution_count": 76,
      "outputs": []
    },
    {
      "cell_type": "code",
      "metadata": {
        "id": "-ph1FSiknpiB"
      },
      "source": [
        "# Creamos un diccionario que nos va a ayudar a relacionar la primera imagen con la segunda imagen\n",
        "diccionario = {}\n",
        "rango_inferior = 1\n",
        "rango_superior = 64\n",
        "\n",
        "# Creamos claves basados en el número de experimento y el nivel de white noise, en donde la clave será el intervalo en donde se encuentra la imagen 1\n",
        "# a partir de los datos de la imagen 2\n",
        "for i in experimentos:\n",
        "  for j in wn:\n",
        "    diccionario[(i, j)] = [rango_inferior, rango_superior]\n",
        "    rango_inferior = rango_inferior + 64\n",
        "    rango_superior = rango_superior + 64"
      ],
      "execution_count": 77,
      "outputs": []
    },
    {
      "cell_type": "code",
      "metadata": {
        "id": "fq2PuifCnXyB"
      },
      "source": [
        "def crear_subconjunto_prueba_pernoflojo(prueba_exp, prueba_wn):\n",
        "  \"\"\"\n",
        "  Creamos el subconjunto de paso 6 a partir del dataset ingresado\n",
        "  \"\"\"\n",
        "  prueba_filtro_1 = df_pernoflojo[\"#_exp\"] == prueba_exp\n",
        "  prueba_filtro_2 = df_pernoflojo[\"amplitud\"] == prueba_wn\n",
        "  prueba_subconjunto_experimento = df_pernoflojo.where(prueba_filtro_1 & prueba_filtro_2).dropna()\n",
        "\n",
        "  prueba_subconjunto_paso6 = prueba_subconjunto_experimento[::6]\n",
        "\n",
        "  return prueba_subconjunto_paso6"
      ],
      "execution_count": 63,
      "outputs": []
    },
    {
      "cell_type": "code",
      "metadata": {
        "id": "I-xn-heRnZV2"
      },
      "source": [
        "prueba_subconjunto_paso6_pernoflojo = crear_subconjunto_prueba_pernoflojo(prueba_exp, prueba_wn)"
      ],
      "execution_count": 79,
      "outputs": []
    },
    {
      "cell_type": "code",
      "metadata": {
        "id": "vhHdy0OyndB4"
      },
      "source": [
        "def crear_imagen_comparacion(prueba_n, prueba_subconjunto_paso_6):\n",
        "  \"\"\"\n",
        "  Creamos la imagen_2 para la comparación\n",
        "  \"\"\"\n",
        "  inicio = (prueba_n - 1)*256\n",
        "  fin = prueba_n*256\n",
        "\n",
        "  imagen = prueba_subconjunto_paso_6[inicio:fin]\n",
        "  matriz = []\n",
        "\n",
        "  for i in range(24):\n",
        "    matriz.append(imagen[i].to_numpy().reshape((16, 16)))\n",
        "  \n",
        "  return np.array(matriz)"
      ],
      "execution_count": 84,
      "outputs": []
    },
    {
      "cell_type": "code",
      "metadata": {
        "id": "HZVquLQkneuc"
      },
      "source": [
        "def obtener_imagen_original(prueba_exp, prueba_wn, diccionario, arreglo_imagenes,prueba_n):\n",
        "  \"\"\"\n",
        "  Obtención de imagen_1 asociada a los parámetros escogidos para la imagen_2\n",
        "  \"\"\"\n",
        "  rango = diccionario[(prueba_exp, prueba_wn)]\n",
        "\n",
        "  return arreglo_imagenes[rango[0]-1:rango[1]-1][prueba_n-1]"
      ],
      "execution_count": 85,
      "outputs": []
    },
    {
      "cell_type": "code",
      "metadata": {
        "id": "3CjbI0wAnfJk"
      },
      "source": [
        "# Almacenamos las imágenes en sus respectivas variables\n",
        "imagen_1_pernoflojo = obtener_imagen_original(prueba_exp, prueba_wn, diccionario, arreglo_imagenes_pernoflojo, prueba_n)\n",
        "imagen_2_pernoflojo = crear_imagen_comparacion(prueba_n, prueba_subconjunto_paso6_pernoflojo)"
      ],
      "execution_count": 86,
      "outputs": []
    },
    {
      "cell_type": "code",
      "metadata": {
        "colab": {
          "base_uri": "https://localhost:8080/"
        },
        "id": "RdCMaMcwngnf",
        "outputId": "86d91cf7-4aa4-4316-d9ac-086ef32866d7"
      },
      "source": [
        "# Chequeamos los parámetros creados para ambas imágenes\n",
        "print(\"Número de experimento: \", prueba_exp)\n",
        "print(\"Nivel de White Noise:  \", prueba_wn)\n",
        "print(\"Número de imagen:      \", prueba_n)"
      ],
      "execution_count": 87,
      "outputs": [
        {
          "output_type": "stream",
          "text": [
            "Número de experimento:  2\n",
            "Nivel de White Noise:   3\n",
            "Número de imagen:       1\n"
          ],
          "name": "stdout"
        }
      ]
    },
    {
      "cell_type": "code",
      "metadata": {
        "colab": {
          "base_uri": "https://localhost:8080/"
        },
        "id": "6r2BdOF_njAx",
        "outputId": "a86b3fbf-fea8-4309-803a-040f1120a8b2"
      },
      "source": [
        "# Verificamos si la imagen_1 es igual a la imagen_2\n",
        "(imagen_1_pernoflojo == imagen_2_pernoflojo).all()"
      ],
      "execution_count": 93,
      "outputs": [
        {
          "output_type": "execute_result",
          "data": {
            "text/plain": [
              "True"
            ]
          },
          "metadata": {
            "tags": []
          },
          "execution_count": 93
        }
      ]
    },
    {
      "cell_type": "code",
      "metadata": {
        "colab": {
          "base_uri": "https://localhost:8080/"
        },
        "id": "l-0lU6eivbpM",
        "outputId": "96524e9c-ac74-4872-f2ef-4df6a3dbabb4"
      },
      "source": [
        "imagen_1_pernoflojo"
      ],
      "execution_count": 94,
      "outputs": [
        {
          "output_type": "execute_result",
          "data": {
            "text/plain": [
              "array([[[ 4.77101280e-04,  1.54725600e-04,  5.21515200e-05, ...,\n",
              "          2.96375520e-04,  1.84032480e-04, -7.97294400e-05],\n",
              "        [ 5.07018720e-04,  8.93956800e-05, -7.66766400e-05, ...,\n",
              "          8.63428800e-05, -2.25653280e-04, -4.30958400e-05],\n",
              "        [ 2.58520800e-04,  5.46705120e-04,  3.76969440e-04, ...,\n",
              "          4.34972640e-04,  5.21515200e-05, -2.12831520e-04],\n",
              "        ...,\n",
              "        [ 8.02372800e-05,  2.32266720e-04,  2.96375520e-04, ...,\n",
              "         -3.33268800e-05,  6.97008000e-06,  1.46177760e-04],\n",
              "        [-3.21057600e-05, -4.37064000e-05,  2.03570400e-04, ...,\n",
              "          1.29692640e-04,  4.90533600e-04,  4.17876960e-04],\n",
              "        [ 2.38982880e-04,  6.13099200e-05,  7.59633600e-05, ...,\n",
              "          6.97008000e-06, -2.25042720e-04,  1.25418720e-04]],\n",
              "\n",
              "       [[ 2.06667238e-04,  2.35308004e-04,  6.89478100e-05, ...,\n",
              "          3.94965040e-04,  1.92042166e-04,  1.03682356e-04],\n",
              "        [ 2.59683124e-04,  3.66933652e-04,  2.68214416e-04, ...,\n",
              "          3.18183412e-04,  5.23543798e-04,  2.18854798e-04],\n",
              "        [ 2.26167334e-04,  2.99476180e-05,  2.35917382e-04, ...,\n",
              "          3.11480254e-04,  2.87105134e-04,  4.76195800e-05],\n",
              "        ...,\n",
              "        [ 2.63948770e-04,  2.66995660e-04,  4.04715088e-04, ...,\n",
              "          1.14041782e-04,  1.35370012e-04,  2.07885994e-04],\n",
              "        [ 2.27995468e-04,  2.62913500e-05,  3.69371164e-04, ...,\n",
              "          2.26167334e-04,  5.05262458e-04,  4.07761978e-04],\n",
              "        [ 3.37074130e-04,  2.69433172e-04,  2.93808292e-04, ...,\n",
              "          4.96731166e-04,  5.85883840e-05,  1.71932692e-04]],\n",
              "\n",
              "       [[ 6.63258440e-05,  3.32295436e-04,  1.65759430e-04, ...,\n",
              "          5.13471970e-04,  4.03057988e-04,  7.54761740e-05],\n",
              "        [ 4.15258428e-04,  1.66369452e-04,  3.27415260e-04, ...,\n",
              "          3.04844446e-04,  3.36565590e-04,  2.55432664e-04],\n",
              "        [-7.58092820e-05,  5.22953380e-05,  2.49332444e-04, ...,\n",
              "          3.06064490e-04,  4.94561288e-04,  3.74386954e-04],\n",
              "        ...,\n",
              "        [ 1.77349848e-04,  7.01968768e-04,  3.01794336e-04, ...,\n",
              "          1.08417362e-04,  8.37375400e-06, -1.05369280e-05],\n",
              "        [ 4.37219220e-04,  7.24260640e-05,  2.23711520e-04, ...,\n",
              "          2.12731124e-04,  1.65759430e-04,  2.42012180e-04],\n",
              "        [ 1.48678814e-04,  2.44452268e-04,  4.72600496e-04, ...,\n",
              "          5.26282432e-04,  2.02360750e-04, -8.70686200e-06]],\n",
              "\n",
              "       ...,\n",
              "\n",
              "       [[ 1.54654824e-04,  1.79650597e-04,  9.67377890e-05, ...,\n",
              "          1.04663278e-04,  2.30861449e-04,  1.24781827e-04],\n",
              "        [ 1.73554067e-04,  5.71103440e-05,  2.54637916e-04, ...,\n",
              "          2.35738673e-04,  1.15637032e-04,  1.61970660e-04],\n",
              "        [ 8.33254230e-05,  2.01598105e-04,  1.27830092e-04, ...,\n",
              "          2.38177285e-04,  1.28439745e-04,  2.07694635e-04],\n",
              "        ...,\n",
              "        [ 2.68050282e-04,  8.21061170e-05,  1.52216212e-04, ...,\n",
              "          1.26610786e-04,  1.10150155e-04,  1.65018925e-04],\n",
              "        [ 1.29659051e-04,  7.17420160e-05,  2.53418610e-04, ...,\n",
              "          2.35738673e-04,  1.38803846e-04,  1.75383026e-04],\n",
              "        [ 5.04041610e-05,  4.00954636e-04,  4.85752020e-05, ...,\n",
              "          1.04663278e-04,  1.41242458e-04,  2.66276940e-05]],\n",
              "\n",
              "       [[ 8.58440520e-05,  4.13302580e-05,  8.76733860e-05, ...,\n",
              "          5.77942640e-05,  7.18191580e-05,  4.98671500e-05],\n",
              "        [ 9.43809440e-05,  4.74357800e-06,  1.47431630e-04, ...,\n",
              "          1.48651186e-04, -1.11106500e-05,  3.46227000e-05],\n",
              "        [-6.72102260e-05,  9.43809440e-05,  6.20627100e-05, ...,\n",
              "         -5.13559980e-05,  5.59649300e-05,  3.70618120e-05],\n",
              "        ...,\n",
              "        [ 7.18191580e-05, -1.47693180e-05,  7.73071600e-05, ...,\n",
              "          5.71844860e-05, -6.84220400e-06,  1.55968522e-04],\n",
              "        [ 1.75489160e-05,  1.08405838e-04, -1.35420200e-06, ...,\n",
              "          1.10235172e-04,  7.42582700e-05,  9.74298340e-05],\n",
              "        [ 1.14511360e-05,  1.34016514e-04,  9.01202400e-06, ...,\n",
              "          1.38902480e-05,  8.03560500e-05, -1.35497620e-05]],\n",
              "\n",
              "       [[ 3.43091990e-05,  6.11473950e-05, -3.03464550e-05, ...,\n",
              "          8.08096200e-06,  3.30892810e-05,  3.55291170e-05],\n",
              "        [ 5.68776820e-05, -4.80352660e-05,  9.53050990e-05, ...,\n",
              "          4.89482150e-05, -4.13257170e-05,  1.11773992e-04],\n",
              "        [ 4.42120800e-06, -1.63173980e-05,  4.65083790e-05, ...,\n",
              "          9.10353860e-05, -4.19356760e-05,  3.49191580e-05],\n",
              "        ...,\n",
              "        [-2.18070290e-05,  3.79689530e-05,  1.66203880e-05, ...,\n",
              "          2.45498550e-05, -4.92551840e-05, -1.50974800e-05],\n",
              "        [ 1.28852844e-04, -8.76826010e-05,  2.08901010e-05, ...,\n",
              "          1.84502650e-05,  9.91083900e-06,  7.15166980e-05],\n",
              "        [-5.33813600e-06,  7.88362060e-05, -3.52261270e-05, ...,\n",
              "          8.69092100e-06,  2.27199780e-05, -3.15663730e-05]]])"
            ]
          },
          "metadata": {
            "tags": []
          },
          "execution_count": 94
        }
      ]
    },
    {
      "cell_type": "code",
      "metadata": {
        "colab": {
          "base_uri": "https://localhost:8080/"
        },
        "id": "1KLIgVOvvcz3",
        "outputId": "96809438-8d7c-4119-9a81-48da090cf5c4"
      },
      "source": [
        "imagen_2_pernoflojo"
      ],
      "execution_count": 95,
      "outputs": [
        {
          "output_type": "execute_result",
          "data": {
            "text/plain": [
              "array([[[ 4.77101280e-04,  1.54725600e-04,  5.21515200e-05, ...,\n",
              "          2.96375520e-04,  1.84032480e-04, -7.97294400e-05],\n",
              "        [ 5.07018720e-04,  8.93956800e-05, -7.66766400e-05, ...,\n",
              "          8.63428800e-05, -2.25653280e-04, -4.30958400e-05],\n",
              "        [ 2.58520800e-04,  5.46705120e-04,  3.76969440e-04, ...,\n",
              "          4.34972640e-04,  5.21515200e-05, -2.12831520e-04],\n",
              "        ...,\n",
              "        [ 8.02372800e-05,  2.32266720e-04,  2.96375520e-04, ...,\n",
              "         -3.33268800e-05,  6.97008000e-06,  1.46177760e-04],\n",
              "        [-3.21057600e-05, -4.37064000e-05,  2.03570400e-04, ...,\n",
              "          1.29692640e-04,  4.90533600e-04,  4.17876960e-04],\n",
              "        [ 2.38982880e-04,  6.13099200e-05,  7.59633600e-05, ...,\n",
              "          6.97008000e-06, -2.25042720e-04,  1.25418720e-04]],\n",
              "\n",
              "       [[ 2.06667238e-04,  2.35308004e-04,  6.89478100e-05, ...,\n",
              "          3.94965040e-04,  1.92042166e-04,  1.03682356e-04],\n",
              "        [ 2.59683124e-04,  3.66933652e-04,  2.68214416e-04, ...,\n",
              "          3.18183412e-04,  5.23543798e-04,  2.18854798e-04],\n",
              "        [ 2.26167334e-04,  2.99476180e-05,  2.35917382e-04, ...,\n",
              "          3.11480254e-04,  2.87105134e-04,  4.76195800e-05],\n",
              "        ...,\n",
              "        [ 2.63948770e-04,  2.66995660e-04,  4.04715088e-04, ...,\n",
              "          1.14041782e-04,  1.35370012e-04,  2.07885994e-04],\n",
              "        [ 2.27995468e-04,  2.62913500e-05,  3.69371164e-04, ...,\n",
              "          2.26167334e-04,  5.05262458e-04,  4.07761978e-04],\n",
              "        [ 3.37074130e-04,  2.69433172e-04,  2.93808292e-04, ...,\n",
              "          4.96731166e-04,  5.85883840e-05,  1.71932692e-04]],\n",
              "\n",
              "       [[ 6.63258440e-05,  3.32295436e-04,  1.65759430e-04, ...,\n",
              "          5.13471970e-04,  4.03057988e-04,  7.54761740e-05],\n",
              "        [ 4.15258428e-04,  1.66369452e-04,  3.27415260e-04, ...,\n",
              "          3.04844446e-04,  3.36565590e-04,  2.55432664e-04],\n",
              "        [-7.58092820e-05,  5.22953380e-05,  2.49332444e-04, ...,\n",
              "          3.06064490e-04,  4.94561288e-04,  3.74386954e-04],\n",
              "        ...,\n",
              "        [ 1.77349848e-04,  7.01968768e-04,  3.01794336e-04, ...,\n",
              "          1.08417362e-04,  8.37375400e-06, -1.05369280e-05],\n",
              "        [ 4.37219220e-04,  7.24260640e-05,  2.23711520e-04, ...,\n",
              "          2.12731124e-04,  1.65759430e-04,  2.42012180e-04],\n",
              "        [ 1.48678814e-04,  2.44452268e-04,  4.72600496e-04, ...,\n",
              "          5.26282432e-04,  2.02360750e-04, -8.70686200e-06]],\n",
              "\n",
              "       ...,\n",
              "\n",
              "       [[ 1.54654824e-04,  1.79650597e-04,  9.67377890e-05, ...,\n",
              "          1.04663278e-04,  2.30861449e-04,  1.24781827e-04],\n",
              "        [ 1.73554067e-04,  5.71103440e-05,  2.54637916e-04, ...,\n",
              "          2.35738673e-04,  1.15637032e-04,  1.61970660e-04],\n",
              "        [ 8.33254230e-05,  2.01598105e-04,  1.27830092e-04, ...,\n",
              "          2.38177285e-04,  1.28439745e-04,  2.07694635e-04],\n",
              "        ...,\n",
              "        [ 2.68050282e-04,  8.21061170e-05,  1.52216212e-04, ...,\n",
              "          1.26610786e-04,  1.10150155e-04,  1.65018925e-04],\n",
              "        [ 1.29659051e-04,  7.17420160e-05,  2.53418610e-04, ...,\n",
              "          2.35738673e-04,  1.38803846e-04,  1.75383026e-04],\n",
              "        [ 5.04041610e-05,  4.00954636e-04,  4.85752020e-05, ...,\n",
              "          1.04663278e-04,  1.41242458e-04,  2.66276940e-05]],\n",
              "\n",
              "       [[ 8.58440520e-05,  4.13302580e-05,  8.76733860e-05, ...,\n",
              "          5.77942640e-05,  7.18191580e-05,  4.98671500e-05],\n",
              "        [ 9.43809440e-05,  4.74357800e-06,  1.47431630e-04, ...,\n",
              "          1.48651186e-04, -1.11106500e-05,  3.46227000e-05],\n",
              "        [-6.72102260e-05,  9.43809440e-05,  6.20627100e-05, ...,\n",
              "         -5.13559980e-05,  5.59649300e-05,  3.70618120e-05],\n",
              "        ...,\n",
              "        [ 7.18191580e-05, -1.47693180e-05,  7.73071600e-05, ...,\n",
              "          5.71844860e-05, -6.84220400e-06,  1.55968522e-04],\n",
              "        [ 1.75489160e-05,  1.08405838e-04, -1.35420200e-06, ...,\n",
              "          1.10235172e-04,  7.42582700e-05,  9.74298340e-05],\n",
              "        [ 1.14511360e-05,  1.34016514e-04,  9.01202400e-06, ...,\n",
              "          1.38902480e-05,  8.03560500e-05, -1.35497620e-05]],\n",
              "\n",
              "       [[ 3.43091990e-05,  6.11473950e-05, -3.03464550e-05, ...,\n",
              "          8.08096200e-06,  3.30892810e-05,  3.55291170e-05],\n",
              "        [ 5.68776820e-05, -4.80352660e-05,  9.53050990e-05, ...,\n",
              "          4.89482150e-05, -4.13257170e-05,  1.11773992e-04],\n",
              "        [ 4.42120800e-06, -1.63173980e-05,  4.65083790e-05, ...,\n",
              "          9.10353860e-05, -4.19356760e-05,  3.49191580e-05],\n",
              "        ...,\n",
              "        [-2.18070290e-05,  3.79689530e-05,  1.66203880e-05, ...,\n",
              "          2.45498550e-05, -4.92551840e-05, -1.50974800e-05],\n",
              "        [ 1.28852844e-04, -8.76826010e-05,  2.08901010e-05, ...,\n",
              "          1.84502650e-05,  9.91083900e-06,  7.15166980e-05],\n",
              "        [-5.33813600e-06,  7.88362060e-05, -3.52261270e-05, ...,\n",
              "          8.69092100e-06,  2.27199780e-05, -3.15663730e-05]]])"
            ]
          },
          "metadata": {
            "tags": []
          },
          "execution_count": 95
        }
      ]
    }
  ]
}