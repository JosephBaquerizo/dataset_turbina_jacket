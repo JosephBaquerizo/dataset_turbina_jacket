{
  "nbformat": 4,
  "nbformat_minor": 0,
  "metadata": {
    "colab": {
      "name": "SNN_Kernels_Fisura_Pernoflojo.ipynb",
      "provenance": [],
      "collapsed_sections": [],
      "authorship_tag": "ABX9TyMu5bMBJv/lb1FfDAtuq6Qg"
    },
    "kernelspec": {
      "name": "python3",
      "display_name": "Python 3"
    },
    "language_info": {
      "name": "python"
    }
  },
  "cells": [
    {
      "cell_type": "markdown",
      "metadata": {
        "id": "_sR-AYoszcLQ"
      },
      "source": [
        "## Importaciones"
      ]
    },
    {
      "cell_type": "code",
      "metadata": {
        "id": "UPoaA2BczVVb"
      },
      "source": [
        "from google.colab import drive\n",
        "from os import listdir\n",
        "from os.path import isfile, join\n",
        "from scipy.io import loadmat\n",
        "from random import randint\n",
        "from sklearn.utils import shuffle\n",
        "from sklearn.metrics import confusion_matrix, classification_report\n",
        "\n",
        "import seaborn as sns\n",
        "import matplotlib.pyplot as plt\n",
        "import tensorflow as tf\n",
        "import tensorflow.keras.backend as K\n",
        "import pandas as pd\n",
        "import numpy as np\n",
        "import random\n",
        "\n",
        "import datetime\n",
        "import os"
      ],
      "execution_count": 1,
      "outputs": []
    },
    {
      "cell_type": "markdown",
      "metadata": {
        "id": "THARwFnRz-Xx"
      },
      "source": [
        "## Obtención de Datos"
      ]
    },
    {
      "cell_type": "code",
      "metadata": {
        "colab": {
          "base_uri": "https://localhost:8080/"
        },
        "id": "HieJoUHh0ABW",
        "outputId": "391ba967-0b74-4e25-a0cd-c245b86d01f1"
      },
      "source": [
        "# Establecemos conexión con Google Drive para acceder a la carpeta de datasets\n",
        "drive.mount('/content/drive')"
      ],
      "execution_count": 2,
      "outputs": [
        {
          "output_type": "stream",
          "name": "stdout",
          "text": [
            "Mounted at /content/drive\n"
          ]
        }
      ]
    },
    {
      "cell_type": "code",
      "metadata": {
        "id": "rXvHVxIU0CYk"
      },
      "source": [
        "# Guardamos la dirección de los datasets (experimentos) en una variable para utilizala posteriormente\n",
        "dataset_datos_dir = 'drive/MyDrive/DATOS_EXPERIMENTALES_JACKET/DATOS'"
      ],
      "execution_count": 3,
      "outputs": []
    },
    {
      "cell_type": "code",
      "metadata": {
        "id": "7M14oPac0RZs"
      },
      "source": [
        "# Obtenemos una lista con todos los nombres de los archivos relacionados a los experimentos realizados\n",
        "dataset_datos_files = [dataset_datos_dir+'/'+filename for filename in listdir(dataset_datos_dir) if isfile(join(dataset_datos_dir, filename))]"
      ],
      "execution_count": 4,
      "outputs": []
    },
    {
      "cell_type": "code",
      "metadata": {
        "id": "3t1i0rst0T9O"
      },
      "source": [
        "# Creamos listas en donde se almacenarán los archivos relacionados a experimentos de fisura y experimentos de perno flojo respectivamente\n",
        "datos_fisura = []\n",
        "datos_pernoflojo = []"
      ],
      "execution_count": 5,
      "outputs": []
    },
    {
      "cell_type": "code",
      "metadata": {
        "id": "UBZmoNfe0VOi"
      },
      "source": [
        "# Iteramos los nombres de todos los archivos en la lista general previamente creada\n",
        "for filename in listdir(dataset_datos_dir):\n",
        "  # Obtenemos el nombre del archivo tal cual, sin direcciones previas\n",
        "  if isfile(join(dataset_datos_dir, filename)):\n",
        "    nombre_archivo = filename.split('.')[0]\n",
        "    # El estado de fisura se asocia al número 3 en los nombres de los archivos, si cumple la condición el archivo, guardamos en la lista datos_fisura\n",
        "    if (nombre_archivo.split('_')[0] == '3'):\n",
        "      datos_fisura.append(dataset_datos_dir + '/' + filename)\n",
        "    # El estado de fisura se asocia al número 4 en los nombres de los archivos, si cumple la condición el archivo, guardamos en la lista datos_pernoflojo\n",
        "    elif (nombre_archivo.split('_')[0] == '4'):\n",
        "      datos_pernoflojo.append(dataset_datos_dir + '/' + filename)"
      ],
      "execution_count": 6,
      "outputs": []
    },
    {
      "cell_type": "markdown",
      "metadata": {
        "id": "C5msURIh0XnD"
      },
      "source": [
        "## Datos Fisura"
      ]
    },
    {
      "cell_type": "code",
      "metadata": {
        "id": "df--q6T90W0a"
      },
      "source": [
        "# Se crean 2 listas, una asociada al número de experimento y otra asociada al nivel de white noise presente durante el experimento \n",
        "numero_experimentos_fisura = []\n",
        "amplitud_experimentos_fisura = []"
      ],
      "execution_count": 7,
      "outputs": []
    },
    {
      "cell_type": "code",
      "metadata": {
        "id": "f4ymIcSI0cX7"
      },
      "source": [
        "# Iteramos los nombres de los archivos dentro del conjunto que contiene los datos de fisura\n",
        "for nombre_archivo in datos_fisura:\n",
        "  # Obtenemos el nombre del experimento\n",
        "  nombre_experimento = nombre_archivo.split('/')[4]\n",
        "  # Obtenemos el número del experimento\n",
        "  numero_experimento = nombre_experimento.split('_')[1]\n",
        "  # Obtenemos el nivel de white noise del experimento\n",
        "  amplitud_experimento = nombre_experimento.split('.')[0].split('_')[2].replace('A', '')\n",
        "  # Agregamos el número del experimento a la lista numero_experimentos_fisura creada anteriormente\n",
        "  numero_experimentos_fisura.append(int(numero_experimento))\n",
        "  # Agregamos el nivel de white noise del experimento a la lista amplitud_experimentos_fisura creada anteriormente\n",
        "  if amplitud_experimento == '05':\n",
        "    amplitud_experimento = 0.5\n",
        "    amplitud_experimentos_fisura.append(amplitud_experimento)\n",
        "  else:\n",
        "    amplitud_experimentos_fisura.append(int(amplitud_experimento))"
      ],
      "execution_count": 8,
      "outputs": []
    },
    {
      "cell_type": "code",
      "metadata": {
        "id": "jnST37DA0d5X"
      },
      "source": [
        "# Creamos un DataFrame vacío\n",
        "df_fisura = pd.DataFrame()"
      ],
      "execution_count": 9,
      "outputs": []
    },
    {
      "cell_type": "code",
      "metadata": {
        "id": "skTdAqcd0fpI"
      },
      "source": [
        "# Iteramos por rango la lista datos_fisura\n",
        "for indice in range(len(datos_fisura)):\n",
        "  # Obtenemos la dirección dentro de la iteración correspondiente\n",
        "  direccion = datos_fisura[indice]\n",
        "  # Transformamos el .mat a un formato en el que se pueda transformar a DataFrame\n",
        "  mat = loadmat(direccion)\n",
        "  df = pd.DataFrame(mat['data'])\n",
        "  # Para todos los valores del experimento, creamos columnas en donde sus valores se asocian con el nivel de wn y el # de experimento\n",
        "  df['#_exp'] = numero_experimentos_fisura[indice]\n",
        "  df['amplitud'] = amplitud_experimentos_fisura[indice]\n",
        "  # Colocamos al final del DataFrame df_fisura creado el nuevo DataFrame \n",
        "  df_fisura = pd.concat([df_fisura, df], axis = 0)"
      ],
      "execution_count": 10,
      "outputs": []
    },
    {
      "cell_type": "code",
      "metadata": {
        "colab": {
          "base_uri": "https://localhost:8080/",
          "height": 300
        },
        "id": "Cc-3T19m0hLh",
        "outputId": "9a1bdfc4-406e-4879-d456-ff3dfa75dea9"
      },
      "source": [
        "# Revisamos el conjunto de datos obtenido para fisura\n",
        "df_fisura.head(8)"
      ],
      "execution_count": 11,
      "outputs": [
        {
          "output_type": "execute_result",
          "data": {
            "text/html": [
              "<div>\n",
              "<style scoped>\n",
              "    .dataframe tbody tr th:only-of-type {\n",
              "        vertical-align: middle;\n",
              "    }\n",
              "\n",
              "    .dataframe tbody tr th {\n",
              "        vertical-align: top;\n",
              "    }\n",
              "\n",
              "    .dataframe thead th {\n",
              "        text-align: right;\n",
              "    }\n",
              "</style>\n",
              "<table border=\"1\" class=\"dataframe\">\n",
              "  <thead>\n",
              "    <tr style=\"text-align: right;\">\n",
              "      <th></th>\n",
              "      <th>0</th>\n",
              "      <th>1</th>\n",
              "      <th>2</th>\n",
              "      <th>3</th>\n",
              "      <th>4</th>\n",
              "      <th>5</th>\n",
              "      <th>6</th>\n",
              "      <th>7</th>\n",
              "      <th>8</th>\n",
              "      <th>9</th>\n",
              "      <th>10</th>\n",
              "      <th>11</th>\n",
              "      <th>12</th>\n",
              "      <th>13</th>\n",
              "      <th>14</th>\n",
              "      <th>15</th>\n",
              "      <th>16</th>\n",
              "      <th>17</th>\n",
              "      <th>18</th>\n",
              "      <th>19</th>\n",
              "      <th>20</th>\n",
              "      <th>21</th>\n",
              "      <th>22</th>\n",
              "      <th>23</th>\n",
              "      <th>#_exp</th>\n",
              "      <th>amplitud</th>\n",
              "    </tr>\n",
              "  </thead>\n",
              "  <tbody>\n",
              "    <tr>\n",
              "      <th>0</th>\n",
              "      <td>0.000132</td>\n",
              "      <td>0.000185</td>\n",
              "      <td>0.000122</td>\n",
              "      <td>0.000105</td>\n",
              "      <td>0.000141</td>\n",
              "      <td>0.000075</td>\n",
              "      <td>0.000007</td>\n",
              "      <td>0.000231</td>\n",
              "      <td>0.000299</td>\n",
              "      <td>0.000113</td>\n",
              "      <td>0.000228</td>\n",
              "      <td>0.000225</td>\n",
              "      <td>0.000168</td>\n",
              "      <td>0.000018</td>\n",
              "      <td>0.000344</td>\n",
              "      <td>0.000275</td>\n",
              "      <td>-0.000017</td>\n",
              "      <td>0.000046</td>\n",
              "      <td>0.000200</td>\n",
              "      <td>0.000169</td>\n",
              "      <td>0.000097</td>\n",
              "      <td>0.000196</td>\n",
              "      <td>-0.000053</td>\n",
              "      <td>0.000018</td>\n",
              "      <td>1</td>\n",
              "      <td>1.0</td>\n",
              "    </tr>\n",
              "    <tr>\n",
              "      <th>1</th>\n",
              "      <td>0.000092</td>\n",
              "      <td>0.000223</td>\n",
              "      <td>0.000166</td>\n",
              "      <td>0.000127</td>\n",
              "      <td>0.000191</td>\n",
              "      <td>0.000137</td>\n",
              "      <td>0.000075</td>\n",
              "      <td>0.000192</td>\n",
              "      <td>0.000240</td>\n",
              "      <td>0.000095</td>\n",
              "      <td>0.000279</td>\n",
              "      <td>0.000231</td>\n",
              "      <td>0.000145</td>\n",
              "      <td>0.000037</td>\n",
              "      <td>0.000339</td>\n",
              "      <td>0.000092</td>\n",
              "      <td>0.000085</td>\n",
              "      <td>0.000074</td>\n",
              "      <td>0.000128</td>\n",
              "      <td>0.000163</td>\n",
              "      <td>0.000074</td>\n",
              "      <td>0.000085</td>\n",
              "      <td>0.000063</td>\n",
              "      <td>-0.000027</td>\n",
              "      <td>1</td>\n",
              "      <td>1.0</td>\n",
              "    </tr>\n",
              "    <tr>\n",
              "      <th>2</th>\n",
              "      <td>0.000091</td>\n",
              "      <td>0.000280</td>\n",
              "      <td>0.000188</td>\n",
              "      <td>0.000130</td>\n",
              "      <td>0.000172</td>\n",
              "      <td>0.000102</td>\n",
              "      <td>0.000161</td>\n",
              "      <td>0.000158</td>\n",
              "      <td>0.000211</td>\n",
              "      <td>0.000123</td>\n",
              "      <td>0.000269</td>\n",
              "      <td>0.000206</td>\n",
              "      <td>0.000198</td>\n",
              "      <td>0.000041</td>\n",
              "      <td>0.000312</td>\n",
              "      <td>0.000179</td>\n",
              "      <td>0.000011</td>\n",
              "      <td>0.000079</td>\n",
              "      <td>0.000117</td>\n",
              "      <td>0.000146</td>\n",
              "      <td>0.000085</td>\n",
              "      <td>0.000089</td>\n",
              "      <td>-0.000014</td>\n",
              "      <td>0.000020</td>\n",
              "      <td>1</td>\n",
              "      <td>1.0</td>\n",
              "    </tr>\n",
              "    <tr>\n",
              "      <th>3</th>\n",
              "      <td>0.000179</td>\n",
              "      <td>0.000199</td>\n",
              "      <td>0.000249</td>\n",
              "      <td>0.000102</td>\n",
              "      <td>0.000268</td>\n",
              "      <td>0.000140</td>\n",
              "      <td>0.000126</td>\n",
              "      <td>0.000231</td>\n",
              "      <td>0.000239</td>\n",
              "      <td>0.000102</td>\n",
              "      <td>0.000284</td>\n",
              "      <td>0.000175</td>\n",
              "      <td>0.000164</td>\n",
              "      <td>0.000082</td>\n",
              "      <td>0.000311</td>\n",
              "      <td>0.000235</td>\n",
              "      <td>0.000031</td>\n",
              "      <td>0.000079</td>\n",
              "      <td>0.000257</td>\n",
              "      <td>0.000110</td>\n",
              "      <td>0.000050</td>\n",
              "      <td>0.000120</td>\n",
              "      <td>0.000080</td>\n",
              "      <td>0.000057</td>\n",
              "      <td>1</td>\n",
              "      <td>1.0</td>\n",
              "    </tr>\n",
              "    <tr>\n",
              "      <th>4</th>\n",
              "      <td>0.000282</td>\n",
              "      <td>0.000277</td>\n",
              "      <td>0.000202</td>\n",
              "      <td>0.000211</td>\n",
              "      <td>0.000251</td>\n",
              "      <td>0.000159</td>\n",
              "      <td>0.000096</td>\n",
              "      <td>0.000205</td>\n",
              "      <td>0.000342</td>\n",
              "      <td>0.000113</td>\n",
              "      <td>0.000240</td>\n",
              "      <td>0.000272</td>\n",
              "      <td>0.000214</td>\n",
              "      <td>0.000057</td>\n",
              "      <td>0.000304</td>\n",
              "      <td>0.000302</td>\n",
              "      <td>0.000047</td>\n",
              "      <td>0.000150</td>\n",
              "      <td>0.000271</td>\n",
              "      <td>0.000168</td>\n",
              "      <td>0.000126</td>\n",
              "      <td>0.000224</td>\n",
              "      <td>0.000105</td>\n",
              "      <td>0.000058</td>\n",
              "      <td>1</td>\n",
              "      <td>1.0</td>\n",
              "    </tr>\n",
              "    <tr>\n",
              "      <th>5</th>\n",
              "      <td>0.000005</td>\n",
              "      <td>0.000196</td>\n",
              "      <td>0.000247</td>\n",
              "      <td>0.000109</td>\n",
              "      <td>0.000186</td>\n",
              "      <td>0.000115</td>\n",
              "      <td>0.000042</td>\n",
              "      <td>0.000129</td>\n",
              "      <td>0.000255</td>\n",
              "      <td>0.000108</td>\n",
              "      <td>0.000315</td>\n",
              "      <td>0.000214</td>\n",
              "      <td>0.000237</td>\n",
              "      <td>-0.000001</td>\n",
              "      <td>0.000334</td>\n",
              "      <td>0.000202</td>\n",
              "      <td>-0.000008</td>\n",
              "      <td>0.000081</td>\n",
              "      <td>0.000173</td>\n",
              "      <td>0.000165</td>\n",
              "      <td>0.000126</td>\n",
              "      <td>0.000107</td>\n",
              "      <td>-0.000012</td>\n",
              "      <td>0.000006</td>\n",
              "      <td>1</td>\n",
              "      <td>1.0</td>\n",
              "    </tr>\n",
              "    <tr>\n",
              "      <th>6</th>\n",
              "      <td>0.000176</td>\n",
              "      <td>0.000372</td>\n",
              "      <td>0.000223</td>\n",
              "      <td>0.000154</td>\n",
              "      <td>0.000258</td>\n",
              "      <td>0.000165</td>\n",
              "      <td>0.000170</td>\n",
              "      <td>0.000157</td>\n",
              "      <td>0.000228</td>\n",
              "      <td>0.000126</td>\n",
              "      <td>0.000282</td>\n",
              "      <td>0.000219</td>\n",
              "      <td>0.000198</td>\n",
              "      <td>0.000081</td>\n",
              "      <td>0.000333</td>\n",
              "      <td>0.000146</td>\n",
              "      <td>0.000065</td>\n",
              "      <td>0.000070</td>\n",
              "      <td>0.000140</td>\n",
              "      <td>0.000145</td>\n",
              "      <td>0.000099</td>\n",
              "      <td>0.000115</td>\n",
              "      <td>0.000068</td>\n",
              "      <td>-0.000031</td>\n",
              "      <td>1</td>\n",
              "      <td>1.0</td>\n",
              "    </tr>\n",
              "    <tr>\n",
              "      <th>7</th>\n",
              "      <td>0.000133</td>\n",
              "      <td>0.000171</td>\n",
              "      <td>0.000187</td>\n",
              "      <td>0.000182</td>\n",
              "      <td>0.000237</td>\n",
              "      <td>0.000159</td>\n",
              "      <td>0.000121</td>\n",
              "      <td>0.000280</td>\n",
              "      <td>0.000293</td>\n",
              "      <td>0.000096</td>\n",
              "      <td>0.000248</td>\n",
              "      <td>0.000202</td>\n",
              "      <td>0.000160</td>\n",
              "      <td>0.000015</td>\n",
              "      <td>0.000319</td>\n",
              "      <td>0.000335</td>\n",
              "      <td>-0.000004</td>\n",
              "      <td>0.000102</td>\n",
              "      <td>0.000201</td>\n",
              "      <td>0.000193</td>\n",
              "      <td>0.000180</td>\n",
              "      <td>0.000171</td>\n",
              "      <td>-0.000009</td>\n",
              "      <td>0.000095</td>\n",
              "      <td>1</td>\n",
              "      <td>1.0</td>\n",
              "    </tr>\n",
              "  </tbody>\n",
              "</table>\n",
              "</div>"
            ],
            "text/plain": [
              "          0         1         2         3  ...        22        23  #_exp  amplitud\n",
              "0  0.000132  0.000185  0.000122  0.000105  ... -0.000053  0.000018      1       1.0\n",
              "1  0.000092  0.000223  0.000166  0.000127  ...  0.000063 -0.000027      1       1.0\n",
              "2  0.000091  0.000280  0.000188  0.000130  ... -0.000014  0.000020      1       1.0\n",
              "3  0.000179  0.000199  0.000249  0.000102  ...  0.000080  0.000057      1       1.0\n",
              "4  0.000282  0.000277  0.000202  0.000211  ...  0.000105  0.000058      1       1.0\n",
              "5  0.000005  0.000196  0.000247  0.000109  ... -0.000012  0.000006      1       1.0\n",
              "6  0.000176  0.000372  0.000223  0.000154  ...  0.000068 -0.000031      1       1.0\n",
              "7  0.000133  0.000171  0.000187  0.000182  ... -0.000009  0.000095      1       1.0\n",
              "\n",
              "[8 rows x 26 columns]"
            ]
          },
          "metadata": {},
          "execution_count": 11
        }
      ]
    },
    {
      "cell_type": "code",
      "metadata": {
        "colab": {
          "base_uri": "https://localhost:8080/"
        },
        "id": "MgWc_6MR0jBH",
        "outputId": "438ced5b-9118-41bf-f1cf-955305574ad1"
      },
      "source": [
        "# Si dividimos para 99097 el df_fisura deberíamos obtener 20 experimentos en total\n",
        "len(df_fisura)/99097"
      ],
      "execution_count": 12,
      "outputs": [
        {
          "output_type": "execute_result",
          "data": {
            "text/plain": [
              "20.0"
            ]
          },
          "metadata": {},
          "execution_count": 12
        }
      ]
    },
    {
      "cell_type": "code",
      "metadata": {
        "id": "XDkZgVJg0kmt"
      },
      "source": [
        "# Establecemos 2 listas, una con los posibles experimentos y otra con los posibles niveles de white noise, lo cual nos ayudará a segmentar los datos\n",
        "experimentos = [1, 2, 3, 4, 5]\n",
        "wns = [0.5, 1, 2, 3]\n",
        "# Creamos una lista en donde pondremos todas las imágenes creadas, segmentadas por experimento y white noise\n",
        "arreglo_imagenes_por_experimento_fisura = []\n",
        "\n",
        "# Iteramos por experimento y por nivel de white noise\n",
        "for i in experimentos:\n",
        "  for j in wns:\n",
        "    # Creamos filtros que nos permiten identificar el experimento por su número asociado y por su nivel de white noise dentro del conjunto de datos\n",
        "    filter1 = df_fisura[\"#_exp\"] == i\n",
        "    filter2 = df_fisura[\"amplitud\"] == j\n",
        "    # Filtramos y deshacemos las filas que no corresponden a la búsqueda\n",
        "    dataset_experimento = df_fisura.where(filter1 & filter2).dropna()\n",
        "    # Creamos arreglo en donde almacenaremos listas de imágenes asociadas a cada columna en un experimento individual\n",
        "    arreglo_matrices_asociadas = []\n",
        "\n",
        "    # En el conjunto filtrado, iteramos por cada columna (de la columna 0 a la 23)\n",
        "    for n in range(24):\n",
        "      # Establecemos un límite inferior y un límite superior\n",
        "      indice_inicio = 0\n",
        "      indice_fin = 256\n",
        "      # Del conjunto filtrado, obtenemos un subconjunto con muestras cada 6 pasos\n",
        "      columna_cada_6 = dataset_experimento[n][::6]\n",
        "      # Creamos una lista en donde guardaremos todas las imágenes creadas dentro de la columna en la que se esta iterando\n",
        "      matrices_columna = []\n",
        "    \n",
        "      # Recorremos en valores de 256 la columna del subconjunto creado para generar las imágenes 16x16 correspondientes \n",
        "      while indice_fin < len(columna_cada_6):\n",
        "        # Guardamos el conjunto de 256 datos dentro de un arreglo\n",
        "        vector = columna_cada_6[indice_inicio:indice_fin]\n",
        "        # Redimensionamos el arreglo (de 1x256 a 16x16)\n",
        "        matriz = vector.to_numpy().reshape((16, 16))\n",
        "        # Agregamos la imagen dentro de la lista matrices_columna\n",
        "        matrices_columna.append(matriz)\n",
        "        # Establecemos el nuevo límite inferior y superior en donde se encontrarán los datos de mi nueva imagen 16x16\n",
        "        indice_inicio = indice_fin\n",
        "        indice_fin = indice_fin + 256\n",
        "      \n",
        "      # Agregamos las listas de imágenes 16x16 asociadas a una columna a arreglo_matrices_asociadas\n",
        "      arreglo_matrices_asociadas.append(matrices_columna)\n",
        "    \n",
        "    # Agregamos arreglo_matrices_asociadas a arreglos_imagenes_por_experimento, en donde tenemos listas de listas asociadas a un experimento individual\n",
        "    arreglo_imagenes_por_experimento_fisura.append(arreglo_matrices_asociadas)"
      ],
      "execution_count": 13,
      "outputs": []
    },
    {
      "cell_type": "code",
      "metadata": {
        "colab": {
          "base_uri": "https://localhost:8080/"
        },
        "id": "Ks5LfReQ0m8E",
        "outputId": "7f44dd1f-899a-4c29-d727-90217c6d7c0b"
      },
      "source": [
        "len(arreglo_imagenes_por_experimento_fisura)"
      ],
      "execution_count": 14,
      "outputs": [
        {
          "output_type": "execute_result",
          "data": {
            "text/plain": [
              "20"
            ]
          },
          "metadata": {},
          "execution_count": 14
        }
      ]
    },
    {
      "cell_type": "code",
      "metadata": {
        "colab": {
          "base_uri": "https://localhost:8080/"
        },
        "id": "vNLBWd7-0oqQ",
        "outputId": "664d7784-b21d-4afb-f3e2-beebcbae6ff1"
      },
      "source": [
        "len(arreglo_imagenes_por_experimento_fisura[0])"
      ],
      "execution_count": 15,
      "outputs": [
        {
          "output_type": "execute_result",
          "data": {
            "text/plain": [
              "24"
            ]
          },
          "metadata": {},
          "execution_count": 15
        }
      ]
    },
    {
      "cell_type": "code",
      "metadata": {
        "colab": {
          "base_uri": "https://localhost:8080/"
        },
        "id": "0vwSSBvc0qHf",
        "outputId": "4dbfc634-d5ab-4b3d-d7ec-3b36394d922c"
      },
      "source": [
        "len(arreglo_imagenes_por_experimento_fisura[0][0])"
      ],
      "execution_count": 16,
      "outputs": [
        {
          "output_type": "execute_result",
          "data": {
            "text/plain": [
              "64"
            ]
          },
          "metadata": {},
          "execution_count": 16
        }
      ]
    },
    {
      "cell_type": "code",
      "metadata": {
        "colab": {
          "base_uri": "https://localhost:8080/"
        },
        "id": "ns60xBVd0rS_",
        "outputId": "8511b0b3-1567-4e64-82a8-e0ac705acf92"
      },
      "source": [
        "arreglo_imagenes_por_experimento_fisura[0][0][0].size"
      ],
      "execution_count": 17,
      "outputs": [
        {
          "output_type": "execute_result",
          "data": {
            "text/plain": [
              "256"
            ]
          },
          "metadata": {},
          "execution_count": 17
        }
      ]
    },
    {
      "cell_type": "code",
      "metadata": {
        "colab": {
          "base_uri": "https://localhost:8080/"
        },
        "id": "ZKQsXwL10stW",
        "outputId": "ca897981-3885-4fd5-9c59-2f54eccefab7"
      },
      "source": [
        "arreglo_imagenes_por_experimento_fisura[0][0][0].shape"
      ],
      "execution_count": 18,
      "outputs": [
        {
          "output_type": "execute_result",
          "data": {
            "text/plain": [
              "(16, 16)"
            ]
          },
          "metadata": {},
          "execution_count": 18
        }
      ]
    },
    {
      "cell_type": "code",
      "metadata": {
        "colab": {
          "base_uri": "https://localhost:8080/"
        },
        "id": "dHG6tJtRaU8o",
        "outputId": "706bc936-8441-4c4a-ca82-71a64463e56c"
      },
      "source": [
        "type(arreglo_imagenes_por_experimento_fisura[0][0][0])"
      ],
      "execution_count": 19,
      "outputs": [
        {
          "output_type": "execute_result",
          "data": {
            "text/plain": [
              "numpy.ndarray"
            ]
          },
          "metadata": {},
          "execution_count": 19
        }
      ]
    },
    {
      "cell_type": "code",
      "metadata": {
        "id": "MEqBUuQS0uQP"
      },
      "source": [
        "# Creamos un arreglos general para todas las imágenes de dimensionamiento (24, 16, 16)\n",
        "arreglo_imagenes_fisura = []\n",
        "\n",
        "# Iteramos cada experimento en la lista de experimentos creada previamente\n",
        "for experimento in arreglo_imagenes_por_experimento_fisura:\n",
        "  # Iteramos en un rango de 64 para usarlo posteriormente\n",
        "  for idx in range(64):\n",
        "    # Para cada iteración se crea el arreglo en donde se agregaran las capas correctas de la imagen de dimensionamniento (24, 16, 16)\n",
        "    imagen = []\n",
        "    # Iteramos para cada fila en el experimento (son 24 filas)\n",
        "    for fila in experimento:\n",
        "      # Asociamos por índice los valores de cada lista de imágenes para establecer la relación correcta y agregamos al arreglo creado\n",
        "      capa_imagen = fila[idx]\n",
        "      imagen.append(capa_imagen)\n",
        "\n",
        "    # Transformamos la lista de 24 capas a un arreglo numérico\n",
        "    arreglo_imagenes_fisura.append(np.dstack(imagen))"
      ],
      "execution_count": 20,
      "outputs": []
    },
    {
      "cell_type": "code",
      "metadata": {
        "colab": {
          "base_uri": "https://localhost:8080/"
        },
        "id": "Xmyuma6U0wBG",
        "outputId": "c16b1abd-d98e-436f-ccf8-efd915f2a959"
      },
      "source": [
        "# Revisamos el número de imágenes creadas\n",
        "len(arreglo_imagenes_fisura)"
      ],
      "execution_count": 21,
      "outputs": [
        {
          "output_type": "execute_result",
          "data": {
            "text/plain": [
              "1280"
            ]
          },
          "metadata": {},
          "execution_count": 21
        }
      ]
    },
    {
      "cell_type": "code",
      "metadata": {
        "colab": {
          "base_uri": "https://localhost:8080/"
        },
        "id": "QozQW3DH0xk6",
        "outputId": "85f5c9c7-3e79-4d1b-faf2-fecc078feda9"
      },
      "source": [
        "# Revisamos el dimensionamiento y tipo de un elemento aleatorio en la lista de imágenes\n",
        "indice_imagen_fisura = randint(0, len(arreglo_imagenes_fisura) - 1)\n",
        "arreglo_imagenes_fisura[indice_imagen_fisura].shape, type(arreglo_imagenes_fisura[0]), indice_imagen_fisura"
      ],
      "execution_count": 22,
      "outputs": [
        {
          "output_type": "execute_result",
          "data": {
            "text/plain": [
              "((16, 16, 24), numpy.ndarray, 297)"
            ]
          },
          "metadata": {},
          "execution_count": 22
        }
      ]
    },
    {
      "cell_type": "code",
      "metadata": {
        "id": "oJj-xYXW0y9s"
      },
      "source": [
        "imagenes_fisura_05 = []\n",
        "imagenes_fisura_1 = []\n",
        "imagenes_fisura_2 = []\n",
        "imagenes_fisura_3 = []"
      ],
      "execution_count": 23,
      "outputs": []
    },
    {
      "cell_type": "code",
      "metadata": {
        "colab": {
          "base_uri": "https://localhost:8080/"
        },
        "id": "x_fosruW000Z",
        "outputId": "2a2417b4-7c8c-4be1-e693-2b8526be6797"
      },
      "source": [
        "lista_indices = [0]\n",
        "indice_contador = 0\n",
        "\n",
        "while indice_contador < 1280:\n",
        "  indice_contador = indice_contador + 64\n",
        "  lista_indices.append(indice_contador)\n",
        "print(lista_indices)"
      ],
      "execution_count": 24,
      "outputs": [
        {
          "output_type": "stream",
          "name": "stdout",
          "text": [
            "[0, 64, 128, 192, 256, 320, 384, 448, 512, 576, 640, 704, 768, 832, 896, 960, 1024, 1088, 1152, 1216, 1280]\n"
          ]
        }
      ]
    },
    {
      "cell_type": "code",
      "metadata": {
        "id": "taSyvEW902W_"
      },
      "source": [
        "# indices paa fisura, pernoflojo y replica\n",
        "indices_05 = [1, 5, 9, 13, 17]\n",
        "indices_1 = [2, 6, 10, 14, 18]\n",
        "indices_2 = [3, 7, 11, 15, 19]\n",
        "indices_3 = [4, 8, 12, 16, 20]"
      ],
      "execution_count": 25,
      "outputs": []
    },
    {
      "cell_type": "code",
      "metadata": {
        "id": "b5m9aRxf03uk"
      },
      "source": [
        "for i in indices_05:\n",
        "  for j in arreglo_imagenes_fisura[lista_indices[i-1]:lista_indices[i]]:\n",
        "    imagenes_fisura_05.append(j)\n",
        "for i in indices_1:\n",
        "  for j in arreglo_imagenes_fisura[lista_indices[i-1]:lista_indices[i]]:\n",
        "    imagenes_fisura_1.append(j)\n",
        "for i in indices_2:\n",
        "  for j in arreglo_imagenes_fisura[lista_indices[i-1]:lista_indices[i]]:\n",
        "    imagenes_fisura_2.append(j)\n",
        "for i in indices_3:\n",
        "  for j in arreglo_imagenes_fisura[lista_indices[i-1]:lista_indices[i]]:\n",
        "    imagenes_fisura_3.append(j)"
      ],
      "execution_count": 26,
      "outputs": []
    },
    {
      "cell_type": "code",
      "metadata": {
        "colab": {
          "base_uri": "https://localhost:8080/"
        },
        "id": "j60tH4iB05uc",
        "outputId": "e510aeac-8bc6-4a22-deae-6d651e1d5c7c"
      },
      "source": [
        "len(imagenes_fisura_05), len(imagenes_fisura_1), len(imagenes_fisura_2), len(imagenes_fisura_3)"
      ],
      "execution_count": 27,
      "outputs": [
        {
          "output_type": "execute_result",
          "data": {
            "text/plain": [
              "(320, 320, 320, 320)"
            ]
          },
          "metadata": {},
          "execution_count": 27
        }
      ]
    },
    {
      "cell_type": "markdown",
      "metadata": {
        "id": "Yv8EVjy-07ZI"
      },
      "source": [
        "## Datos Perno Flojo"
      ]
    },
    {
      "cell_type": "code",
      "metadata": {
        "id": "VBn1gSBk09AG"
      },
      "source": [
        "# Se crean 2 listas, una asociada al número de experimento y otra asociada al nivel de white noise presente durante el experimento \n",
        "numero_experimentos_pernoflojo = []\n",
        "amplitud_experimentos_pernoflojo = []"
      ],
      "execution_count": 28,
      "outputs": []
    },
    {
      "cell_type": "code",
      "metadata": {
        "id": "SjDzdqZB0-bI"
      },
      "source": [
        "# Iteramos los nombres de los archivos dentro del conjunto que contiene los datos de fisura\n",
        "for nombre_archivo in datos_pernoflojo:\n",
        "  # Obtenemos el nombre del experimento\n",
        "  nombre_experimento = nombre_archivo.split('/')[4]\n",
        "  # Obtenemos el número del experimento\n",
        "  numero_experimento = nombre_experimento.split('_')[1]\n",
        "  # Obtenemos el nivel de white noise del experimento\n",
        "  amplitud_experimento = nombre_experimento.split('.')[0].split('_')[2].replace('A', '')\n",
        "  # Agregamos el número del experimento a la lista numero_experimentos_pernoflojo creada anteriormente\n",
        "  numero_experimentos_pernoflojo.append(int(numero_experimento))\n",
        "  # Agregamos el nivel de white noise del experimento a la lista amplitud_experimentos_pernoflojo creada anteriormente\n",
        "  if amplitud_experimento == '05':\n",
        "    amplitud_experimento = 0.5\n",
        "    amplitud_experimentos_pernoflojo.append(amplitud_experimento)\n",
        "  else:\n",
        "    amplitud_experimentos_pernoflojo.append(int(amplitud_experimento))"
      ],
      "execution_count": 29,
      "outputs": []
    },
    {
      "cell_type": "code",
      "metadata": {
        "id": "mPB0meeU0_uK"
      },
      "source": [
        "# Creamos un DataFrame vacío\n",
        "df_pernoflojo = pd.DataFrame()"
      ],
      "execution_count": 30,
      "outputs": []
    },
    {
      "cell_type": "code",
      "metadata": {
        "id": "jnniuouJ1BhU"
      },
      "source": [
        "# Iteramos por rango la lista datos_fisura\n",
        "for indice in range(len(datos_pernoflojo)):\n",
        "  # Obtenemos la dirección dentro de la iteración correspondiente\n",
        "  direccion = datos_pernoflojo[indice]\n",
        "  # Transformamos el .mat a un formato en el que se pueda transformar a DataFrame\n",
        "  mat = loadmat(direccion)\n",
        "  df = pd.DataFrame(mat['data'])\n",
        "  # Para todos los valores del experimento, creamos columnas en donde sus valores se asocian con el nivel de wn y el # de experimento\n",
        "  df['#_exp'] = numero_experimentos_pernoflojo[indice]\n",
        "  df['amplitud'] = amplitud_experimentos_pernoflojo[indice]\n",
        "  # Colocamos al final del DataFrame df_fisura creado el nuevo DataFrame \n",
        "  df_pernoflojo = pd.concat([df_pernoflojo, df], axis = 0)"
      ],
      "execution_count": 31,
      "outputs": []
    },
    {
      "cell_type": "code",
      "metadata": {
        "colab": {
          "base_uri": "https://localhost:8080/",
          "height": 300
        },
        "id": "hr6m0aTs1DI9",
        "outputId": "38ff3291-60fc-4a67-aa24-2ec44a8458b1"
      },
      "source": [
        "# Revisamos el conjunto de datos obtenido para pernoflojo\n",
        "df_pernoflojo.head(8)"
      ],
      "execution_count": 32,
      "outputs": [
        {
          "output_type": "execute_result",
          "data": {
            "text/html": [
              "<div>\n",
              "<style scoped>\n",
              "    .dataframe tbody tr th:only-of-type {\n",
              "        vertical-align: middle;\n",
              "    }\n",
              "\n",
              "    .dataframe tbody tr th {\n",
              "        vertical-align: top;\n",
              "    }\n",
              "\n",
              "    .dataframe thead th {\n",
              "        text-align: right;\n",
              "    }\n",
              "</style>\n",
              "<table border=\"1\" class=\"dataframe\">\n",
              "  <thead>\n",
              "    <tr style=\"text-align: right;\">\n",
              "      <th></th>\n",
              "      <th>0</th>\n",
              "      <th>1</th>\n",
              "      <th>2</th>\n",
              "      <th>3</th>\n",
              "      <th>4</th>\n",
              "      <th>5</th>\n",
              "      <th>6</th>\n",
              "      <th>7</th>\n",
              "      <th>8</th>\n",
              "      <th>9</th>\n",
              "      <th>10</th>\n",
              "      <th>11</th>\n",
              "      <th>12</th>\n",
              "      <th>13</th>\n",
              "      <th>14</th>\n",
              "      <th>15</th>\n",
              "      <th>16</th>\n",
              "      <th>17</th>\n",
              "      <th>18</th>\n",
              "      <th>19</th>\n",
              "      <th>20</th>\n",
              "      <th>21</th>\n",
              "      <th>22</th>\n",
              "      <th>23</th>\n",
              "      <th>#_exp</th>\n",
              "      <th>amplitud</th>\n",
              "    </tr>\n",
              "  </thead>\n",
              "  <tbody>\n",
              "    <tr>\n",
              "      <th>0</th>\n",
              "      <td>0.000168</td>\n",
              "      <td>0.000204</td>\n",
              "      <td>0.000213</td>\n",
              "      <td>0.000135</td>\n",
              "      <td>0.000201</td>\n",
              "      <td>0.000099</td>\n",
              "      <td>0.000108</td>\n",
              "      <td>0.000189</td>\n",
              "      <td>0.000212</td>\n",
              "      <td>0.000093</td>\n",
              "      <td>0.000257</td>\n",
              "      <td>0.000196</td>\n",
              "      <td>0.000173</td>\n",
              "      <td>0.000029</td>\n",
              "      <td>0.000316</td>\n",
              "      <td>0.000202</td>\n",
              "      <td>0.000010</td>\n",
              "      <td>0.000085</td>\n",
              "      <td>0.000151</td>\n",
              "      <td>0.000136</td>\n",
              "      <td>0.000116</td>\n",
              "      <td>0.000099</td>\n",
              "      <td>0.000054</td>\n",
              "      <td>0.000111</td>\n",
              "      <td>1</td>\n",
              "      <td>0.5</td>\n",
              "    </tr>\n",
              "    <tr>\n",
              "      <th>1</th>\n",
              "      <td>0.000122</td>\n",
              "      <td>0.000277</td>\n",
              "      <td>0.000213</td>\n",
              "      <td>0.000180</td>\n",
              "      <td>0.000230</td>\n",
              "      <td>0.000172</td>\n",
              "      <td>0.000068</td>\n",
              "      <td>0.000213</td>\n",
              "      <td>0.000214</td>\n",
              "      <td>0.000095</td>\n",
              "      <td>0.000272</td>\n",
              "      <td>0.000172</td>\n",
              "      <td>0.000173</td>\n",
              "      <td>0.000050</td>\n",
              "      <td>0.000292</td>\n",
              "      <td>0.000178</td>\n",
              "      <td>0.000021</td>\n",
              "      <td>0.000022</td>\n",
              "      <td>0.000203</td>\n",
              "      <td>0.000139</td>\n",
              "      <td>0.000076</td>\n",
              "      <td>0.000164</td>\n",
              "      <td>0.000089</td>\n",
              "      <td>0.000076</td>\n",
              "      <td>1</td>\n",
              "      <td>0.5</td>\n",
              "    </tr>\n",
              "    <tr>\n",
              "      <th>2</th>\n",
              "      <td>0.000099</td>\n",
              "      <td>0.000214</td>\n",
              "      <td>0.000128</td>\n",
              "      <td>0.000153</td>\n",
              "      <td>0.000217</td>\n",
              "      <td>0.000100</td>\n",
              "      <td>0.000064</td>\n",
              "      <td>0.000174</td>\n",
              "      <td>0.000225</td>\n",
              "      <td>0.000116</td>\n",
              "      <td>0.000245</td>\n",
              "      <td>0.000202</td>\n",
              "      <td>0.000140</td>\n",
              "      <td>0.000012</td>\n",
              "      <td>0.000309</td>\n",
              "      <td>0.000256</td>\n",
              "      <td>0.000023</td>\n",
              "      <td>0.000089</td>\n",
              "      <td>0.000225</td>\n",
              "      <td>0.000162</td>\n",
              "      <td>0.000098</td>\n",
              "      <td>0.000154</td>\n",
              "      <td>0.000091</td>\n",
              "      <td>0.000092</td>\n",
              "      <td>1</td>\n",
              "      <td>0.5</td>\n",
              "    </tr>\n",
              "    <tr>\n",
              "      <th>3</th>\n",
              "      <td>0.000150</td>\n",
              "      <td>0.000258</td>\n",
              "      <td>0.000209</td>\n",
              "      <td>0.000163</td>\n",
              "      <td>0.000213</td>\n",
              "      <td>0.000120</td>\n",
              "      <td>0.000066</td>\n",
              "      <td>0.000157</td>\n",
              "      <td>0.000220</td>\n",
              "      <td>0.000096</td>\n",
              "      <td>0.000229</td>\n",
              "      <td>0.000203</td>\n",
              "      <td>0.000157</td>\n",
              "      <td>0.000057</td>\n",
              "      <td>0.000292</td>\n",
              "      <td>0.000260</td>\n",
              "      <td>0.000062</td>\n",
              "      <td>0.000077</td>\n",
              "      <td>0.000212</td>\n",
              "      <td>0.000178</td>\n",
              "      <td>0.000123</td>\n",
              "      <td>0.000150</td>\n",
              "      <td>0.000056</td>\n",
              "      <td>0.000130</td>\n",
              "      <td>1</td>\n",
              "      <td>0.5</td>\n",
              "    </tr>\n",
              "    <tr>\n",
              "      <th>4</th>\n",
              "      <td>0.000194</td>\n",
              "      <td>0.000244</td>\n",
              "      <td>0.000194</td>\n",
              "      <td>0.000201</td>\n",
              "      <td>0.000202</td>\n",
              "      <td>0.000127</td>\n",
              "      <td>0.000133</td>\n",
              "      <td>0.000197</td>\n",
              "      <td>0.000212</td>\n",
              "      <td>0.000110</td>\n",
              "      <td>0.000266</td>\n",
              "      <td>0.000199</td>\n",
              "      <td>0.000181</td>\n",
              "      <td>0.000040</td>\n",
              "      <td>0.000336</td>\n",
              "      <td>0.000209</td>\n",
              "      <td>0.000092</td>\n",
              "      <td>0.000097</td>\n",
              "      <td>0.000183</td>\n",
              "      <td>0.000170</td>\n",
              "      <td>0.000114</td>\n",
              "      <td>0.000127</td>\n",
              "      <td>0.000064</td>\n",
              "      <td>0.000087</td>\n",
              "      <td>1</td>\n",
              "      <td>0.5</td>\n",
              "    </tr>\n",
              "    <tr>\n",
              "      <th>5</th>\n",
              "      <td>0.000156</td>\n",
              "      <td>0.000287</td>\n",
              "      <td>0.000188</td>\n",
              "      <td>0.000119</td>\n",
              "      <td>0.000234</td>\n",
              "      <td>0.000127</td>\n",
              "      <td>0.000102</td>\n",
              "      <td>0.000198</td>\n",
              "      <td>0.000216</td>\n",
              "      <td>0.000097</td>\n",
              "      <td>0.000280</td>\n",
              "      <td>0.000222</td>\n",
              "      <td>0.000140</td>\n",
              "      <td>0.000058</td>\n",
              "      <td>0.000296</td>\n",
              "      <td>0.000212</td>\n",
              "      <td>0.000061</td>\n",
              "      <td>0.000097</td>\n",
              "      <td>0.000231</td>\n",
              "      <td>0.000156</td>\n",
              "      <td>0.000090</td>\n",
              "      <td>0.000155</td>\n",
              "      <td>0.000076</td>\n",
              "      <td>0.000091</td>\n",
              "      <td>1</td>\n",
              "      <td>0.5</td>\n",
              "    </tr>\n",
              "    <tr>\n",
              "      <th>6</th>\n",
              "      <td>0.000150</td>\n",
              "      <td>0.000230</td>\n",
              "      <td>0.000198</td>\n",
              "      <td>0.000239</td>\n",
              "      <td>0.000247</td>\n",
              "      <td>0.000150</td>\n",
              "      <td>0.000052</td>\n",
              "      <td>0.000178</td>\n",
              "      <td>0.000255</td>\n",
              "      <td>0.000115</td>\n",
              "      <td>0.000235</td>\n",
              "      <td>0.000189</td>\n",
              "      <td>0.000216</td>\n",
              "      <td>0.000072</td>\n",
              "      <td>0.000299</td>\n",
              "      <td>0.000233</td>\n",
              "      <td>0.000060</td>\n",
              "      <td>0.000124</td>\n",
              "      <td>0.000225</td>\n",
              "      <td>0.000157</td>\n",
              "      <td>0.000133</td>\n",
              "      <td>0.000153</td>\n",
              "      <td>0.000060</td>\n",
              "      <td>0.000087</td>\n",
              "      <td>1</td>\n",
              "      <td>0.5</td>\n",
              "    </tr>\n",
              "    <tr>\n",
              "      <th>7</th>\n",
              "      <td>0.000130</td>\n",
              "      <td>0.000230</td>\n",
              "      <td>0.000207</td>\n",
              "      <td>0.000116</td>\n",
              "      <td>0.000212</td>\n",
              "      <td>0.000108</td>\n",
              "      <td>0.000096</td>\n",
              "      <td>0.000178</td>\n",
              "      <td>0.000200</td>\n",
              "      <td>0.000130</td>\n",
              "      <td>0.000260</td>\n",
              "      <td>0.000203</td>\n",
              "      <td>0.000216</td>\n",
              "      <td>0.000057</td>\n",
              "      <td>0.000329</td>\n",
              "      <td>0.000261</td>\n",
              "      <td>0.000031</td>\n",
              "      <td>0.000045</td>\n",
              "      <td>0.000236</td>\n",
              "      <td>0.000178</td>\n",
              "      <td>0.000081</td>\n",
              "      <td>0.000160</td>\n",
              "      <td>0.000079</td>\n",
              "      <td>0.000115</td>\n",
              "      <td>1</td>\n",
              "      <td>0.5</td>\n",
              "    </tr>\n",
              "  </tbody>\n",
              "</table>\n",
              "</div>"
            ],
            "text/plain": [
              "          0         1         2         3  ...        22        23  #_exp  amplitud\n",
              "0  0.000168  0.000204  0.000213  0.000135  ...  0.000054  0.000111      1       0.5\n",
              "1  0.000122  0.000277  0.000213  0.000180  ...  0.000089  0.000076      1       0.5\n",
              "2  0.000099  0.000214  0.000128  0.000153  ...  0.000091  0.000092      1       0.5\n",
              "3  0.000150  0.000258  0.000209  0.000163  ...  0.000056  0.000130      1       0.5\n",
              "4  0.000194  0.000244  0.000194  0.000201  ...  0.000064  0.000087      1       0.5\n",
              "5  0.000156  0.000287  0.000188  0.000119  ...  0.000076  0.000091      1       0.5\n",
              "6  0.000150  0.000230  0.000198  0.000239  ...  0.000060  0.000087      1       0.5\n",
              "7  0.000130  0.000230  0.000207  0.000116  ...  0.000079  0.000115      1       0.5\n",
              "\n",
              "[8 rows x 26 columns]"
            ]
          },
          "metadata": {},
          "execution_count": 32
        }
      ]
    },
    {
      "cell_type": "code",
      "metadata": {
        "colab": {
          "base_uri": "https://localhost:8080/"
        },
        "id": "u-Kkx38k1FzV",
        "outputId": "46b202da-91c8-4888-c9bd-9197c04cfdc1"
      },
      "source": [
        "# Si dividimos para 99097 el df_pernoflojo deberíamos obtener 20 experimentos en total\n",
        "len(df_pernoflojo)/99097"
      ],
      "execution_count": 33,
      "outputs": [
        {
          "output_type": "execute_result",
          "data": {
            "text/plain": [
              "20.0"
            ]
          },
          "metadata": {},
          "execution_count": 33
        }
      ]
    },
    {
      "cell_type": "code",
      "metadata": {
        "id": "T2pAMDNW1GQB"
      },
      "source": [
        "# Establecemos 2 listas, una con los posibles experimentos y otra con los posibles niveles de white noise, lo cual nos ayudará a segmentar los datos\n",
        "experimentos = [1, 2, 3, 4, 5]\n",
        "wns = [0.5, 1, 2, 3]\n",
        "# Creamos una lista en donde pondremos todas las imágenes creadas, segmentadas por experimento y white noise\n",
        "arreglo_imagenes_por_experimento_pernoflojo = []\n",
        "\n",
        "# Iteramos por experimento y por nivel de white noise\n",
        "for i in experimentos:\n",
        "  for j in wns:\n",
        "    # Creamos filtros que nos permiten identificar el experimento por su número asociado y por su nivel de white noise dentro del conjunto de datos\n",
        "    filter1 = df_pernoflojo[\"#_exp\"] == i\n",
        "    filter2 = df_pernoflojo[\"amplitud\"] == j\n",
        "    # Filtramos y deshacemos las filas que no corresponden a la búsqueda\n",
        "    dataset_experimento = df_pernoflojo.where(filter1 & filter2).dropna()\n",
        "    # Creamos arreglo en donde almacenaremos listas de imágenes asociadas a cada columna en un experimento individual\n",
        "    arreglo_matrices_asociadas = []\n",
        "\n",
        "    # En el conjunto filtrado, iteramos por cada columna (de la columna 0 a la 23)\n",
        "    for n in range(24):\n",
        "      # Establecemos un límite inferior y un límite superior\n",
        "      indice_inicio = 0\n",
        "      indice_fin = 256\n",
        "      # Del conjunto filtrado, obtenemos un subconjunto con muestras cada 6 pasos\n",
        "      columna_cada_6 = dataset_experimento[n][::6]\n",
        "      # Creamos una lista en donde guardaremos todas las imágenes creadas dentro de la columna en la que se esta iterando\n",
        "      matrices_columna = []\n",
        "    \n",
        "      # Recorremos en valores de 256 la columna del subconjunto creado para generar las imágenes 16x16 correspondientes \n",
        "      while indice_fin < len(columna_cada_6):\n",
        "        # Guardamos el conjunto de 256 datos dentro de un arreglo\n",
        "        vector = columna_cada_6[indice_inicio:indice_fin]\n",
        "        # Redimensionamos el arreglo (de 1x256 a 16x16)\n",
        "        matriz = vector.to_numpy().reshape((16, 16))\n",
        "        # Agregamos la imagen dentro de la lista matrices_columna\n",
        "        matrices_columna.append(matriz)\n",
        "        # Establecemos el nuevo límite inferior y superior en donde se encontrarán los datos de mi nueva imagen 16x16\n",
        "        indice_inicio = indice_fin\n",
        "        indice_fin = indice_fin + 256\n",
        "      \n",
        "      # Agregamos las listas de imágenes 16x16 asociadas a una columna a arreglo_matrices_asociadas\n",
        "      arreglo_matrices_asociadas.append(matrices_columna)\n",
        "    \n",
        "    # Agregamos arreglo_matrices_asociadas a arreglos_imagenes_por_experimento, en donde tenemos listas de listas asociadas a un experimento individual\n",
        "    arreglo_imagenes_por_experimento_pernoflojo.append(arreglo_matrices_asociadas)"
      ],
      "execution_count": 34,
      "outputs": []
    },
    {
      "cell_type": "code",
      "metadata": {
        "colab": {
          "base_uri": "https://localhost:8080/"
        },
        "id": "omEKc7HW1JR9",
        "outputId": "8e0f422c-cf9f-4148-eb2a-9607ce10e4d8"
      },
      "source": [
        "len(arreglo_imagenes_por_experimento_pernoflojo)"
      ],
      "execution_count": 35,
      "outputs": [
        {
          "output_type": "execute_result",
          "data": {
            "text/plain": [
              "20"
            ]
          },
          "metadata": {},
          "execution_count": 35
        }
      ]
    },
    {
      "cell_type": "code",
      "metadata": {
        "colab": {
          "base_uri": "https://localhost:8080/"
        },
        "id": "T0kKU5ku1KxV",
        "outputId": "980988ce-1112-4be7-d0c3-f4f2c586bfe4"
      },
      "source": [
        "len(arreglo_imagenes_por_experimento_pernoflojo[0])"
      ],
      "execution_count": 36,
      "outputs": [
        {
          "output_type": "execute_result",
          "data": {
            "text/plain": [
              "24"
            ]
          },
          "metadata": {},
          "execution_count": 36
        }
      ]
    },
    {
      "cell_type": "code",
      "metadata": {
        "colab": {
          "base_uri": "https://localhost:8080/"
        },
        "id": "uTVhc0kN1M9i",
        "outputId": "b3937005-438d-420a-83e1-8aa73990affd"
      },
      "source": [
        "len(arreglo_imagenes_por_experimento_pernoflojo[0][0])"
      ],
      "execution_count": 37,
      "outputs": [
        {
          "output_type": "execute_result",
          "data": {
            "text/plain": [
              "64"
            ]
          },
          "metadata": {},
          "execution_count": 37
        }
      ]
    },
    {
      "cell_type": "code",
      "metadata": {
        "colab": {
          "base_uri": "https://localhost:8080/"
        },
        "id": "jr3JfgCK1OF6",
        "outputId": "a5400133-ede9-49fa-9360-99e1a03da40b"
      },
      "source": [
        "arreglo_imagenes_por_experimento_pernoflojo[0][0][0].size"
      ],
      "execution_count": 38,
      "outputs": [
        {
          "output_type": "execute_result",
          "data": {
            "text/plain": [
              "256"
            ]
          },
          "metadata": {},
          "execution_count": 38
        }
      ]
    },
    {
      "cell_type": "code",
      "metadata": {
        "colab": {
          "base_uri": "https://localhost:8080/"
        },
        "id": "N6hJaZPE1PNx",
        "outputId": "3498f067-fe28-4ebf-daed-117b1d900b50"
      },
      "source": [
        "arreglo_imagenes_por_experimento_pernoflojo[0][0][0].shape"
      ],
      "execution_count": 39,
      "outputs": [
        {
          "output_type": "execute_result",
          "data": {
            "text/plain": [
              "(16, 16)"
            ]
          },
          "metadata": {},
          "execution_count": 39
        }
      ]
    },
    {
      "cell_type": "code",
      "metadata": {
        "id": "KRRbZCFA1Qrx"
      },
      "source": [
        "# Creamos un arreglos general para todas las imágenes de dimensionamiento (24, 16, 16)\n",
        "arreglo_imagenes_pernoflojo = []\n",
        "\n",
        "# Iteramos cada experimento en la lista de experimentos creada previamente\n",
        "for experimento_i in arreglo_imagenes_por_experimento_pernoflojo:\n",
        "  # Iteramos en un rango de 64 para usarlo posteriormente\n",
        "  for idx in range(64):\n",
        "    # Para cada iteración se crea el arreglo en donde se agregaran las capas correctas de la imagen de dimensionamniento (24, 16, 16)\n",
        "    imagen = []\n",
        "    # Iteramos para cada fila en el experimento (son 24 filas)\n",
        "    for fila in experimento_i:\n",
        "      # Asociamos por índice los valores de cada lista de imágenes para establecer la relación correcta y agregamos al arreglo creado\n",
        "      capa_imagen = fila[idx]\n",
        "      imagen.append(capa_imagen)\n",
        "\n",
        "    # Transformamos la lista de 24 capas a un arreglo numérico\n",
        "    arreglo_imagenes_pernoflojo.append(np.dstack(imagen))"
      ],
      "execution_count": 40,
      "outputs": []
    },
    {
      "cell_type": "code",
      "metadata": {
        "colab": {
          "base_uri": "https://localhost:8080/"
        },
        "id": "BJjGhgwu1SMj",
        "outputId": "74c42c7f-297b-4ece-d00d-fcac8414a48a"
      },
      "source": [
        "# Revisamos el número de imágenes creadas\n",
        "len(arreglo_imagenes_pernoflojo)"
      ],
      "execution_count": 41,
      "outputs": [
        {
          "output_type": "execute_result",
          "data": {
            "text/plain": [
              "1280"
            ]
          },
          "metadata": {},
          "execution_count": 41
        }
      ]
    },
    {
      "cell_type": "code",
      "metadata": {
        "colab": {
          "base_uri": "https://localhost:8080/"
        },
        "id": "WklhXZKv1Utt",
        "outputId": "11fd66af-0699-48bc-fafa-98a65ef31fb7"
      },
      "source": [
        "# Revisamos el dimensionamiento y tipo de un elemento aleatorio en la lista de imágenes\n",
        "indice_imagen_pernoflojo = randint(0, len(arreglo_imagenes_pernoflojo) - 1)\n",
        "arreglo_imagenes_pernoflojo[indice_imagen_pernoflojo].shape, type(arreglo_imagenes_pernoflojo[0]), indice_imagen_pernoflojo"
      ],
      "execution_count": 42,
      "outputs": [
        {
          "output_type": "execute_result",
          "data": {
            "text/plain": [
              "((16, 16, 24), numpy.ndarray, 57)"
            ]
          },
          "metadata": {},
          "execution_count": 42
        }
      ]
    },
    {
      "cell_type": "code",
      "metadata": {
        "id": "2GIbx9XG1VLg"
      },
      "source": [
        "imagenes_pernoflojo_05 = []\n",
        "imagenes_pernoflojo_1 = []\n",
        "imagenes_pernoflojo_2 = []\n",
        "imagenes_pernoflojo_3 = []"
      ],
      "execution_count": 43,
      "outputs": []
    },
    {
      "cell_type": "code",
      "metadata": {
        "id": "I2Zaxw0m1Wd2"
      },
      "source": [
        "for i in indices_05:\n",
        "  for j in arreglo_imagenes_pernoflojo[lista_indices[i-1]:lista_indices[i]]:\n",
        "    imagenes_pernoflojo_05.append(j)\n",
        "for i in indices_1:\n",
        "  for j in arreglo_imagenes_pernoflojo[lista_indices[i-1]:lista_indices[i]]:\n",
        "    imagenes_pernoflojo_1.append(j)\n",
        "for i in indices_2:\n",
        "  for j in arreglo_imagenes_pernoflojo[lista_indices[i-1]:lista_indices[i]]:\n",
        "    imagenes_pernoflojo_2.append(j)\n",
        "for i in indices_3:\n",
        "  for j in arreglo_imagenes_pernoflojo[lista_indices[i-1]:lista_indices[i]]:\n",
        "    imagenes_pernoflojo_3.append(j)"
      ],
      "execution_count": 44,
      "outputs": []
    },
    {
      "cell_type": "code",
      "metadata": {
        "colab": {
          "base_uri": "https://localhost:8080/"
        },
        "id": "jFWecPzz1YFj",
        "outputId": "c856f500-fb23-49e5-e964-c43ace53efce"
      },
      "source": [
        "len(imagenes_pernoflojo_05), len(imagenes_pernoflojo_1), len(imagenes_pernoflojo_2), len(imagenes_pernoflojo_3)"
      ],
      "execution_count": 45,
      "outputs": [
        {
          "output_type": "execute_result",
          "data": {
            "text/plain": [
              "(320, 320, 320, 320)"
            ]
          },
          "metadata": {},
          "execution_count": 45
        }
      ]
    },
    {
      "cell_type": "markdown",
      "metadata": {
        "id": "wWcC_khN1aFD"
      },
      "source": [
        "## Aleatorizar"
      ]
    },
    {
      "cell_type": "code",
      "metadata": {
        "id": "ArPwnh5v1Zhi"
      },
      "source": [
        "np.random.seed(300)\n",
        "\n",
        "aleatorizadas_imagenes_fisura_05 = imagenes_fisura_05\n",
        "aleatorizadas_imagenes_fisura_1 = imagenes_fisura_1\n",
        "aleatorizadas_imagenes_fisura_2 = imagenes_fisura_2\n",
        "aleatorizadas_imagenes_fisura_3 = imagenes_fisura_3\n",
        "\n",
        "aleatorizadas_imagenes_pernoflojo_05 = imagenes_pernoflojo_05\n",
        "aleatorizadas_imagenes_pernoflojo_1 = imagenes_pernoflojo_1\n",
        "aleatorizadas_imagenes_pernoflojo_2 = imagenes_pernoflojo_2\n",
        "aleatorizadas_imagenes_pernoflojo_3 = imagenes_pernoflojo_3\n",
        "\n",
        "np.random.shuffle(aleatorizadas_imagenes_fisura_05)\n",
        "np.random.shuffle(aleatorizadas_imagenes_fisura_1)\n",
        "np.random.shuffle(aleatorizadas_imagenes_fisura_2)\n",
        "np.random.shuffle(aleatorizadas_imagenes_fisura_3)\n",
        "\n",
        "np.random.shuffle(aleatorizadas_imagenes_pernoflojo_05)\n",
        "np.random.shuffle(aleatorizadas_imagenes_pernoflojo_1)\n",
        "np.random.shuffle(aleatorizadas_imagenes_pernoflojo_2)\n",
        "np.random.shuffle(aleatorizadas_imagenes_pernoflojo_3)"
      ],
      "execution_count": 46,
      "outputs": []
    },
    {
      "cell_type": "code",
      "metadata": {
        "id": "SpOPVW-31eAa"
      },
      "source": [
        "lista_listas_imagenes_fisura = [aleatorizadas_imagenes_fisura_05, aleatorizadas_imagenes_fisura_1, aleatorizadas_imagenes_fisura_2, aleatorizadas_imagenes_fisura_3]\n",
        "lista_listas_imagenes_pernoflojo = [aleatorizadas_imagenes_pernoflojo_05, aleatorizadas_imagenes_pernoflojo_1, aleatorizadas_imagenes_pernoflojo_2, aleatorizadas_imagenes_pernoflojo_3]"
      ],
      "execution_count": 47,
      "outputs": []
    },
    {
      "cell_type": "markdown",
      "metadata": {
        "id": "0UbRkgTJ1gz9"
      },
      "source": [
        "## Segmentar datos en entrenamiento, validación y prueba"
      ]
    },
    {
      "cell_type": "code",
      "metadata": {
        "id": "nJJD71oc1fqA"
      },
      "source": [
        "porcentaje_80 = int(320*0.8)\n",
        "porcentaje_10 = int(320*0.1)\n",
        "porcentaje_15 = int(320*0.15)\n",
        "porcentaje_70 = int(320*0.7)"
      ],
      "execution_count": 48,
      "outputs": []
    },
    {
      "cell_type": "code",
      "metadata": {
        "id": "GHYCaAQ51la6"
      },
      "source": [
        "# Para 80 10 10 \n",
        "conjunto_entrenamiento_fisura_1 = []\n",
        "conjunto_validacion_fisura_1 = []\n",
        "conjunto_prueba_fisura_1 = []\n",
        "\n",
        "conjunto_entrenamiento_pernoflojo_1 = []\n",
        "conjunto_validacion_pernoflojo_1 = []\n",
        "conjunto_prueba_pernoflojo_1 = []\n",
        "\n",
        "# Para 80 15 5\n",
        "conjunto_entrenamiento_fisura_2 = []\n",
        "conjunto_validacion_fisura_2 = []\n",
        "conjunto_prueba_fisura_2 = []\n",
        "\n",
        "conjunto_entrenamiento_pernoflojo_2 = []\n",
        "conjunto_validacion_pernoflojo_2 = []\n",
        "conjunto_prueba_pernoflojo_2 = []\n",
        "\n",
        "# Para 70 15 15\n",
        "conjunto_entrenamiento_fisura_3 = []\n",
        "conjunto_validacion_fisura_3 = []\n",
        "conjunto_prueba_fisura_3 = []\n",
        "\n",
        "conjunto_entrenamiento_pernoflojo_3 = []\n",
        "conjunto_validacion_pernoflojo_3 = []\n",
        "conjunto_prueba_pernoflojo_3 = []"
      ],
      "execution_count": 49,
      "outputs": []
    },
    {
      "cell_type": "code",
      "metadata": {
        "id": "I5Vdo6x-1m9R"
      },
      "source": [
        "# Para 80 10 10\n",
        "for lista in lista_listas_imagenes_fisura:\n",
        "  for imagen_entrenamiento in lista[:porcentaje_80]:\n",
        "    conjunto_entrenamiento_fisura_1.append(imagen_entrenamiento)\n",
        "  for imagen_validacion in lista[porcentaje_80:porcentaje_80 + porcentaje_10]:\n",
        "    conjunto_validacion_fisura_1.append(imagen_validacion)\n",
        "  for imagen_prueba in lista[porcentaje_80 + porcentaje_10:]:\n",
        "    conjunto_prueba_fisura_1.append(imagen_prueba)\n",
        "\n",
        "for lista in lista_listas_imagenes_pernoflojo:\n",
        "  for imagen_entrenamiento in lista[:porcentaje_80]:\n",
        "    conjunto_entrenamiento_pernoflojo_1.append(imagen_entrenamiento)\n",
        "  for imagen_validacion in lista[porcentaje_80:porcentaje_80 + porcentaje_10]:\n",
        "    conjunto_validacion_pernoflojo_1.append(imagen_validacion)\n",
        "  for imagen_prueba in lista[porcentaje_80 + porcentaje_10:]:\n",
        "    conjunto_prueba_pernoflojo_1.append(imagen_prueba)"
      ],
      "execution_count": 50,
      "outputs": []
    },
    {
      "cell_type": "code",
      "metadata": {
        "id": "Y1IJTfKp1ouz"
      },
      "source": [
        "# Para 80 15 5\n",
        "for lista in lista_listas_imagenes_fisura:\n",
        "  for imagen_entrenamiento in lista[:porcentaje_80]:\n",
        "    conjunto_entrenamiento_fisura_2.append(imagen_entrenamiento)\n",
        "  for imagen_validacion in lista[porcentaje_80:porcentaje_80 + porcentaje_15]:\n",
        "    conjunto_validacion_fisura_2.append(imagen_validacion)\n",
        "  for imagen_prueba in lista[porcentaje_80 + porcentaje_15:]:\n",
        "    conjunto_prueba_fisura_2.append(imagen_prueba)\n",
        "\n",
        "for lista in lista_listas_imagenes_pernoflojo:\n",
        "  for imagen_entrenamiento in lista[:porcentaje_80]:\n",
        "    conjunto_entrenamiento_pernoflojo_2.append(imagen_entrenamiento)\n",
        "  for imagen_validacion in lista[porcentaje_80:porcentaje_80 + porcentaje_15]:\n",
        "    conjunto_validacion_pernoflojo_2.append(imagen_validacion)\n",
        "  for imagen_prueba in lista[porcentaje_80 + porcentaje_15:]:\n",
        "    conjunto_prueba_pernoflojo_2.append(imagen_prueba)"
      ],
      "execution_count": 51,
      "outputs": []
    },
    {
      "cell_type": "code",
      "metadata": {
        "id": "2zK3ztkc1qL-"
      },
      "source": [
        "# Para 70 15 15\n",
        "for lista in lista_listas_imagenes_fisura:\n",
        "  for imagen_entrenamiento in lista[:porcentaje_70]:\n",
        "    conjunto_entrenamiento_fisura_3.append(imagen_entrenamiento)\n",
        "  for imagen_validacion in lista[porcentaje_70:porcentaje_70 + porcentaje_15]:\n",
        "    conjunto_validacion_fisura_3.append(imagen_validacion)\n",
        "  for imagen_prueba in lista[porcentaje_70 + porcentaje_15:]:\n",
        "    conjunto_prueba_fisura_3.append(imagen_prueba)\n",
        "\n",
        "for lista in lista_listas_imagenes_pernoflojo:\n",
        "  for imagen_entrenamiento in lista[:porcentaje_70]:\n",
        "    conjunto_entrenamiento_pernoflojo_3.append(imagen_entrenamiento)\n",
        "  for imagen_validacion in lista[porcentaje_70:porcentaje_70 + porcentaje_15]:\n",
        "    conjunto_validacion_pernoflojo_3.append(imagen_validacion)\n",
        "  for imagen_prueba in lista[porcentaje_70 + porcentaje_15:]:\n",
        "    conjunto_prueba_pernoflojo_3.append(imagen_prueba)"
      ],
      "execution_count": 52,
      "outputs": []
    },
    {
      "cell_type": "markdown",
      "metadata": {
        "id": "2gHRo0zX1r8E"
      },
      "source": [
        "## Red Neuronal Siamesa"
      ]
    },
    {
      "cell_type": "code",
      "metadata": {
        "id": "BPBWgI3O1t6N"
      },
      "source": [
        "def crear_pares(arreglo_imagenes_fisura, arreglo_imagenes_pernoflojo):\n",
        "  \"\"\"\n",
        "  Función empleada para crear los pares de imágenes que se utilizan\n",
        "  para el entrenamiento de la SNN.\n",
        "  \"\"\"\n",
        "  print(\"Creando pares...\")\n",
        "  # Creamos arreglo en donde se insertarán los pares (positivos y negativos)\n",
        "  pares_img = []\n",
        "  # Creamos arreglo en donde se insertarán la clasificación de los pares (similares = 1, no similares = 0)\n",
        "  pares_label = []\n",
        "\n",
        "  # Recorremos el arreglo de imágenes de fisura y por cada imagen recorrida creamos un par positivo y uno negativo\n",
        "  for imagen_fisura in arreglo_imagenes_fisura:\n",
        "\n",
        "    # La imagen positiva será un dato aleatorio perteneciente al arreglo de la misma clase (fisura)\n",
        "    imagen_positiva_fisura = random.choice(arreglo_imagenes_fisura)\n",
        "    # La imagen negativa será un dato aleatorio perteneciente al arreglo de la otra clase (perno flojo)\n",
        "    imagen_negativa_fisura = random.choice(arreglo_imagenes_pernoflojo)\n",
        "\n",
        "    # Agregamos el par de imagenes positivas al arreglo de pares de imagenes\n",
        "    pares_img.append([imagen_fisura, imagen_positiva_fisura])\n",
        "    # Agregamos el label correspondiente a un par de imágenes positivas (1)\n",
        "    pares_label.append([1])\n",
        "\n",
        "    # Agregamos el par de imagenes negativas al arreglo de pares de imagenes\n",
        "    pares_img.append([imagen_fisura, imagen_negativa_fisura])\n",
        "    # Agregamos el label correspondiente a un par de imágenes negativas (0)\n",
        "    pares_label.append([0])\n",
        "\n",
        "  # Recorremos el arreglo de imágenes de fisura y por cada imagen recorrida creamos un par positivo y uno negativo\n",
        "  for imagen_pernoflojo in arreglo_imagenes_pernoflojo:\n",
        "\n",
        "    # La imagen positiva será un dato aleatorio perteneciente al arreglo de la misma clase (perno flojo)\n",
        "    imagen_positiva_pernoflojo = random.choice(arreglo_imagenes_pernoflojo)\n",
        "    # La imagen negativa será un dato aleatorio perteneciente al arreglo de la otra clase (fisura)\n",
        "    imagen_negativa_pernoflojo = random.choice(arreglo_imagenes_fisura)\n",
        "\n",
        "    # Agregamos el par de imagenes positivas al arreglo de pares de imagenes\n",
        "    pares_img.append([imagen_pernoflojo, imagen_positiva_pernoflojo])\n",
        "    # Agregamos el label correspondiente a un par de imágenes positivas (1)\n",
        "    pares_label.append([1])\n",
        "\n",
        "    # Agregamos el par de imagenes negativas al arreglo de pares de imagenes\n",
        "    pares_img.append([imagen_pernoflojo, imagen_negativa_pernoflojo])\n",
        "    # Agregamos el label correspondiente a un par de imágenes negativas (0)\n",
        "    pares_label.append([0])\n",
        "  \n",
        "  print(\"Pares creados.\")\n",
        "\n",
        "  return (np.array(pares_img), np.array(pares_label))"
      ],
      "execution_count": 53,
      "outputs": []
    },
    {
      "cell_type": "markdown",
      "metadata": {
        "id": "RVYzu77m1x7X"
      },
      "source": [
        "## SNN"
      ]
    },
    {
      "cell_type": "code",
      "metadata": {
        "id": "WEZyLOo81ws3"
      },
      "source": [
        "def euclidean_distance(vectors):\n",
        "  \n",
        "  # Descomprimimos los vectores en listas separadas\n",
        "  (featsA, featsB) = vectors\n",
        "\n",
        "  # Realizamos la suma de las diferenias cuadradas entre vectores\n",
        "  sumSquared = K.sum(K.square(featsA - featsB), axis=1, keepdims=True)\n",
        "\n",
        "  # Retornamos la distancia euclidiana\n",
        "  return K.sqrt(K.maximum(sumSquared, K.epsilon()))"
      ],
      "execution_count": 54,
      "outputs": []
    },
    {
      "cell_type": "code",
      "metadata": {
        "id": "DVxLIr2O10WK"
      },
      "source": [
        "# Definimos función de visualización de pérdidas\n",
        "\n",
        "def graficar_curva_perdidas(history):\n",
        "  \"\"\"\n",
        "  Función utilizada para visualizar la historia de nuestro modelo.\n",
        "  Incluye pérdidas y precisión a lo largo de cada iteración.\n",
        "  \"\"\"\n",
        "  # Obtenemos las pérdidas de los conjuntos de entrenamiento y validación\n",
        "  loss = history.history['loss']\n",
        "  val_loss = history.history['val_loss']\n",
        "\n",
        "  # Obtenemos la precisión de los conjuntos de entrenamiento y validación\n",
        "  accuracy = history.history['accuracy']\n",
        "  val_accuracy = history.history['val_accuracy']\n",
        "\n",
        "  # Determinamos las iteraciones que hubo durante el entrenamiento\n",
        "  epochs = range(len(history.history['loss']))\n",
        "\n",
        "  # Graficamos las pérdidas de ambos conjuntos a lo largo de las iteraciones\n",
        "  plt.plot(epochs, loss, label='training_loss')\n",
        "  plt.plot(epochs, val_loss, label='val_loss')\n",
        "  plt.title('loss')\n",
        "  plt.xlabel('epochs')\n",
        "  plt.legend()\n",
        "\n",
        "  # Graficamos la precisión de ambos conjuntos a lo largo de las iteraciones\n",
        "  plt.figure()\n",
        "  plt.plot(epochs, accuracy, label='training_accuracy')\n",
        "  plt.plot(epochs, val_accuracy, label='val_accuracy')\n",
        "  plt.title('accuracy')\n",
        "  plt.xlabel('epochs')\n",
        "  plt.legend()"
      ],
      "execution_count": 55,
      "outputs": []
    },
    {
      "cell_type": "markdown",
      "metadata": {
        "id": "jJxSIpU612f-"
      },
      "source": [
        "Modelo Experimental #1"
      ]
    },
    {
      "cell_type": "code",
      "metadata": {
        "colab": {
          "base_uri": "https://localhost:8080/"
        },
        "id": "xgZlJROx14VV",
        "outputId": "7cffd4c5-7aba-4a4d-9ec7-4c5bd56c4528"
      },
      "source": [
        "(pares_m1_entrenamiento, labels_m1_entrenamiento) = crear_pares(conjunto_entrenamiento_fisura_1, conjunto_entrenamiento_pernoflojo_1)\n",
        "(pares_m1_validacion, labels_m1_validacion) = crear_pares(conjunto_validacion_fisura_1, conjunto_validacion_pernoflojo_1)\n",
        "(pares_m1_prueba, labels_m1_prueba) = crear_pares(conjunto_prueba_fisura_1, conjunto_prueba_pernoflojo_1)"
      ],
      "execution_count": 56,
      "outputs": [
        {
          "output_type": "stream",
          "name": "stdout",
          "text": [
            "Creando pares...\n",
            "Pares creados.\n",
            "Creando pares...\n",
            "Pares creados.\n",
            "Creando pares...\n",
            "Pares creados.\n"
          ]
        }
      ]
    },
    {
      "cell_type": "code",
      "metadata": {
        "id": "xEVldWnQ16BO"
      },
      "source": [
        "np.random.seed(300)\n",
        "\n",
        "pares_aleatorizados_m1 = pares_m1_entrenamiento\n",
        "np.random.shuffle(pares_aleatorizados_m1)"
      ],
      "execution_count": 57,
      "outputs": []
    },
    {
      "cell_type": "code",
      "metadata": {
        "id": "cATP_4zg17Z4"
      },
      "source": [
        "np.random.seed(300)\n",
        "\n",
        "labels_aleatorizados_m1 = labels_m1_entrenamiento\n",
        "np.random.shuffle(labels_aleatorizados_m1)"
      ],
      "execution_count": 58,
      "outputs": []
    },
    {
      "cell_type": "code",
      "metadata": {
        "id": "wZYnihl41-IP"
      },
      "source": [
        "# Creamos función que retorna la estructura de la red convolucional que se va a utilizar\n",
        "def build_siamese_model_1(input_shape):\n",
        "  model = tf.keras.Sequential([\n",
        "                                tf.keras.layers.Conv2D(filters=64,\n",
        "                                                        kernel_size=3,\n",
        "                                                        activation='relu',\n",
        "                                                        padding='same',\n",
        "                                                        input_shape=input_shape),\n",
        "                                tf.keras.layers.MaxPooling2D(pool_size=2),\n",
        "                                tf.keras.layers.Conv2D(filters=128,\n",
        "                                                        kernel_size=3,\n",
        "                                                        activation='relu',\n",
        "                                                        padding='same'),\n",
        "                                tf.keras.layers.MaxPooling2D(pool_size=2), \n",
        "                                tf.keras.layers.Conv2D(filters=256,\n",
        "                                                        kernel_size=3,\n",
        "                                                        activation='relu',\n",
        "                                                        padding='same'),\n",
        "                                tf.keras.layers.MaxPooling2D(pool_size=2),\n",
        "                                tf.keras.layers.Conv2D(filters=256,\n",
        "                                                        kernel_size=3,\n",
        "                                                        activation='relu',\n",
        "                                                        padding='same'),\n",
        "                                tf.keras.layers.Flatten(),\n",
        "                                tf.keras.layers.Dense(4960)\n",
        "  ])\n",
        "\n",
        "  return model"
      ],
      "execution_count": 59,
      "outputs": []
    },
    {
      "cell_type": "code",
      "metadata": {
        "colab": {
          "base_uri": "https://localhost:8080/"
        },
        "id": "pRS6fn0U2F7u",
        "outputId": "6b8f64c5-6c2c-44b0-c019-4fe8298098f4"
      },
      "source": [
        "tf.random.set_seed(100)\n",
        "\n",
        "# Creamos el modelo general\n",
        "#IMG_SHAPE = (24, 16, 16)\n",
        "IMG_SHAPE = (16, 16, 24)\n",
        "\n",
        "# Definimos los inputs (imágenes) que ingresan a cada CNN\n",
        "imgA = tf.keras.Input(IMG_SHAPE)\n",
        "imgB = tf.keras.Input(IMG_SHAPE)\n",
        "\n",
        "# Creamos el featureExtractor, el cual obtiene las características principales de las imágenes ingresadas y las muestra en un vector\n",
        "featureExtractor = build_siamese_model_1(input_shape=IMG_SHAPE)\n",
        "\n",
        "# Ingresamos cada imagen al featureExtractor\n",
        "featsA = featureExtractor(imgA)\n",
        "featsB = featureExtractor(imgB)\n",
        "\n",
        "# Creamos una capa Lambda (que aplica una función sobre los datos) para obtener la distancia euclidiana\n",
        "distancia = tf.keras.layers.Lambda(euclidean_distance)([featsA, featsB])\n",
        "\n",
        "# Creamos la última capa asociada a la función de activación sigmoide\n",
        "outputs = tf.keras.layers.Dense(1, activation='sigmoid')(distancia)\n",
        "\n",
        "# Establecemos el modelo general\n",
        "model_1 = tf.keras.Model(inputs=[imgA, imgB], outputs=outputs)\n",
        "\n",
        "# Empleamos el loss como binary_crossentropy porque solo queremos saber si las imágenes son similares o no (no queremos clasificarlas)\n",
        "model_1.compile(loss='binary_crossentropy',\n",
        "                optimizer=tf.keras.optimizers.Adam(learning_rate=0.005),\n",
        "                metrics=['accuracy'])\n",
        "\n",
        "# Hacemos el fit del modelo\n",
        "history_1 = model_1.fit(\n",
        "    [pares_aleatorizados_m1[:, 0], pares_aleatorizados_m1[:, 1]], labels_aleatorizados_m1[:],\n",
        "     validation_data=([pares_m1_validacion[:, 0], pares_m1_validacion[:, 1]], labels_m1_validacion[:]),\n",
        "     batch_size=32,\n",
        "     epochs=10\n",
        ")"
      ],
      "execution_count": 60,
      "outputs": [
        {
          "output_type": "stream",
          "name": "stdout",
          "text": [
            "Epoch 1/10\n",
            "128/128 [==============================] - 49s 377ms/step - loss: 0.5607 - accuracy: 0.6011 - val_loss: 0.4094 - val_accuracy: 0.8301\n",
            "Epoch 2/10\n",
            "128/128 [==============================] - 49s 381ms/step - loss: 0.3222 - accuracy: 0.9031 - val_loss: 0.2995 - val_accuracy: 0.9199\n",
            "Epoch 3/10\n",
            "128/128 [==============================] - 51s 398ms/step - loss: 0.2273 - accuracy: 0.9709 - val_loss: 0.1972 - val_accuracy: 0.9883\n",
            "Epoch 4/10\n",
            "128/128 [==============================] - 51s 398ms/step - loss: 0.1576 - accuracy: 0.9924 - val_loss: 0.1634 - val_accuracy: 0.9883\n",
            "Epoch 5/10\n",
            "128/128 [==============================] - 51s 399ms/step - loss: 0.1179 - accuracy: 0.9963 - val_loss: 0.1194 - val_accuracy: 0.9961\n",
            "Epoch 6/10\n",
            "128/128 [==============================] - 50s 392ms/step - loss: 0.0871 - accuracy: 0.9990 - val_loss: 0.1080 - val_accuracy: 0.9902\n",
            "Epoch 7/10\n",
            "128/128 [==============================] - 50s 391ms/step - loss: 0.0646 - accuracy: 1.0000 - val_loss: 0.0735 - val_accuracy: 0.9961\n",
            "Epoch 8/10\n",
            "128/128 [==============================] - 50s 390ms/step - loss: 0.0507 - accuracy: 1.0000 - val_loss: 0.0639 - val_accuracy: 0.9980\n",
            "Epoch 9/10\n",
            "128/128 [==============================] - 51s 395ms/step - loss: 0.0389 - accuracy: 1.0000 - val_loss: 0.0538 - val_accuracy: 1.0000\n",
            "Epoch 10/10\n",
            "128/128 [==============================] - 48s 375ms/step - loss: 0.0331 - accuracy: 1.0000 - val_loss: 0.0546 - val_accuracy: 0.9980\n"
          ]
        }
      ]
    },
    {
      "cell_type": "code",
      "metadata": {
        "colab": {
          "base_uri": "https://localhost:8080/",
          "height": 573
        },
        "id": "78zJ3UtA2H6N",
        "outputId": "9ed6be7d-0825-45ea-bd6b-167eaf0a56d8"
      },
      "source": [
        "graficar_curva_perdidas(history_1)"
      ],
      "execution_count": 61,
      "outputs": [
        {
          "output_type": "display_data",
          "data": {
            "image/png": "[encoded data removed]",
            "text/plain": [
              "<Figure size 432x288 with 1 Axes>"
            ]
          },
          "metadata": {
            "needs_background": "light"
          }
        },
        {
          "output_type": "display_data",
          "data": {
            "image/png": "[encoded data removed]",
            "text/plain": [
              "<Figure size 432x288 with 1 Axes>"
            ]
          },
          "metadata": {
            "needs_background": "light"
          }
        }
      ]
    },
    {
      "cell_type": "markdown",
      "metadata": {
        "id": "UDZZpeQD5nMN"
      },
      "source": [
        "## Modelo Experimental 2"
      ]
    },
    {
      "cell_type": "code",
      "metadata": {
        "id": "BtfqFABo5kHh"
      },
      "source": [
        "# Creamos función que retorna la estructura de la red convolucional que se va a utilizar\n",
        "def build_siamese_model_2(input_shape):\n",
        "  model = tf.keras.Sequential([\n",
        "                                tf.keras.layers.Conv2D(filters=64,\n",
        "                                                        kernel_size=3,\n",
        "                                                        activation='relu',\n",
        "                                                        padding='same',\n",
        "                                                        input_shape=input_shape),\n",
        "                                tf.keras.layers.MaxPooling2D(pool_size=2),\n",
        "                                tf.keras.layers.Conv2D(filters=128,\n",
        "                                                        kernel_size=3,\n",
        "                                                        activation='relu',\n",
        "                                                        padding='same'),\n",
        "                                tf.keras.layers.MaxPooling2D(pool_size=2),\n",
        "                                tf.keras.layers.Conv2D(filters=256,\n",
        "                                                        kernel_size=3,\n",
        "                                                        activation='relu',\n",
        "                                                        padding='same'),\n",
        "                                tf.keras.layers.Flatten(),\n",
        "                                tf.keras.layers.Dense(4960)\n",
        "  ])\n",
        "\n",
        "  return model"
      ],
      "execution_count": 60,
      "outputs": []
    },
    {
      "cell_type": "code",
      "metadata": {
        "colab": {
          "base_uri": "https://localhost:8080/",
          "height": 640
        },
        "id": "CTMHni1s5xdh",
        "outputId": "9767ac8b-1244-4afb-c370-d3666213e2e8"
      },
      "source": [
        "tf.random.set_seed(100)\n",
        "\n",
        "# Creamos el modelo general\n",
        "IMG_SHAPE = (16, 16, 24)\n",
        "\n",
        "# Definimos los inputs (imágenes) que ingresan a cada CNN\n",
        "imgA = tf.keras.Input(IMG_SHAPE)\n",
        "imgB = tf.keras.Input(IMG_SHAPE)\n",
        "\n",
        "# Creamos el featureExtractor, el cual obtiene las características principales de las imágenes ingresadas y las muestra en un vector\n",
        "featureExtractor = build_siamese_model_2(input_shape=IMG_SHAPE)\n",
        "\n",
        "# Ingresamos cada imagen al featureExtractor\n",
        "featsA = featureExtractor(imgA)\n",
        "featsB = featureExtractor(imgB)\n",
        "\n",
        "# Creamos una capa Lambda (que aplica una función sobre los datos) para obtener la distancia euclidiana\n",
        "distancia = tf.keras.layers.Lambda(euclidean_distance)([featsA, featsB])\n",
        "\n",
        "# Creamos la última capa asociada a la función de activación sigmoide\n",
        "outputs = tf.keras.layers.Dense(1, activation='sigmoid')(distancia)\n",
        "\n",
        "# Establecemos el modelo general\n",
        "model_2 = tf.keras.Model(inputs=[imgA, imgB], outputs=outputs)\n",
        "\n",
        "# Empleamos el loss como binary_crossentropy porque solo queremos saber si las imágenes son similares o no (no queremos clasificarlas)\n",
        "model_2.compile(loss='binary_crossentropy',\n",
        "                optimizer=tf.keras.optimizers.Adam(learning_rate=0.005),\n",
        "                metrics=['accuracy'])\n",
        "\n",
        "# Hacemos el fit del modelo\n",
        "history_2 = model_2.fit(\n",
        "    [pares_aleatorizados_m1[:, 0], pares_aleatorizados_m1[:, 1]], labels_aleatorizados_m1[:],\n",
        "     validation_data=([pares_m1_validacion[:, 0], pares_m1_validacion[:, 1]], labels_m1_validacion[:]),\n",
        "     batch_size=32,\n",
        "     epochs=10\n",
        ")"
      ],
      "execution_count": 64,
      "outputs": [
        {
          "output_type": "stream",
          "name": "stdout",
          "text": [
            "Epoch 1/10\n",
            "128/128 [==============================] - 64s 488ms/step - loss: 0.6934 - accuracy: 0.4824 - val_loss: 0.6931 - val_accuracy: 0.5000\n",
            "Epoch 2/10\n",
            "128/128 [==============================] - 63s 489ms/step - loss: 0.6933 - accuracy: 0.5024 - val_loss: 0.6932 - val_accuracy: 0.5000\n",
            "Epoch 3/10\n",
            "128/128 [==============================] - 63s 490ms/step - loss: 0.6933 - accuracy: 0.4980 - val_loss: 0.6932 - val_accuracy: 0.5000\n",
            "Epoch 4/10\n",
            "128/128 [==============================] - 62s 486ms/step - loss: 0.6933 - accuracy: 0.4932 - val_loss: 0.6932 - val_accuracy: 0.5000\n",
            "Epoch 5/10\n",
            "128/128 [==============================] - 62s 486ms/step - loss: 0.6933 - accuracy: 0.4922 - val_loss: 0.6932 - val_accuracy: 0.5000\n",
            "Epoch 6/10\n",
            "128/128 [==============================] - 62s 485ms/step - loss: 0.6934 - accuracy: 0.4883 - val_loss: 0.6931 - val_accuracy: 0.5000\n",
            "Epoch 7/10\n",
            "128/128 [==============================] - 62s 488ms/step - loss: 0.6932 - accuracy: 0.4995 - val_loss: 0.6932 - val_accuracy: 0.5000\n",
            "Epoch 8/10\n",
            " 43/128 [=========>....................] - ETA: 40s - loss: 0.6920 - accuracy: 0.5327"
          ]
        },
        {
          "output_type": "error",
          "ename": "KeyboardInterrupt",
          "evalue": "ignored",
          "traceback": [
            "\u001b[0;31m---------------------------------------------------------------------------\u001b[0m",
            "\u001b[0;31mKeyboardInterrupt\u001b[0m                         Traceback (most recent call last)",
            "\u001b[0;32m<ipython-input-64-027871a5eab8>\u001b[0m in \u001b[0;36m<module>\u001b[0;34m()\u001b[0m\n\u001b[1;32m     34\u001b[0m      \u001b[0mvalidation_data\u001b[0m\u001b[0;34m=\u001b[0m\u001b[0;34m(\u001b[0m\u001b[0;34m[\u001b[0m\u001b[0mpares_m1_validacion\u001b[0m\u001b[0;34m[\u001b[0m\u001b[0;34m:\u001b[0m\u001b[0;34m,\u001b[0m \u001b[0;36m0\u001b[0m\u001b[0;34m]\u001b[0m\u001b[0;34m,\u001b[0m \u001b[0mpares_m1_validacion\u001b[0m\u001b[0;34m[\u001b[0m\u001b[0;34m:\u001b[0m\u001b[0;34m,\u001b[0m \u001b[0;36m1\u001b[0m\u001b[0;34m]\u001b[0m\u001b[0;34m]\u001b[0m\u001b[0;34m,\u001b[0m \u001b[0mlabels_m1_validacion\u001b[0m\u001b[0;34m[\u001b[0m\u001b[0;34m:\u001b[0m\u001b[0;34m]\u001b[0m\u001b[0;34m)\u001b[0m\u001b[0;34m,\u001b[0m\u001b[0;34m\u001b[0m\u001b[0;34m\u001b[0m\u001b[0m\n\u001b[1;32m     35\u001b[0m      \u001b[0mbatch_size\u001b[0m\u001b[0;34m=\u001b[0m\u001b[0;36m32\u001b[0m\u001b[0;34m,\u001b[0m\u001b[0;34m\u001b[0m\u001b[0;34m\u001b[0m\u001b[0m\n\u001b[0;32m---> 36\u001b[0;31m      \u001b[0mepochs\u001b[0m\u001b[0;34m=\u001b[0m\u001b[0;36m10\u001b[0m\u001b[0;34m\u001b[0m\u001b[0;34m\u001b[0m\u001b[0m\n\u001b[0m\u001b[1;32m     37\u001b[0m )\n",
            "\u001b[0;32m/usr/local/lib/python3.7/dist-packages/keras/utils/traceback_utils.py\u001b[0m in \u001b[0;36merror_handler\u001b[0;34m(*args, **kwargs)\u001b[0m\n\u001b[1;32m     62\u001b[0m     \u001b[0mfiltered_tb\u001b[0m \u001b[0;34m=\u001b[0m \u001b[0;32mNone\u001b[0m\u001b[0;34m\u001b[0m\u001b[0;34m\u001b[0m\u001b[0m\n\u001b[1;32m     63\u001b[0m     \u001b[0;32mtry\u001b[0m\u001b[0;34m:\u001b[0m\u001b[0;34m\u001b[0m\u001b[0;34m\u001b[0m\u001b[0m\n\u001b[0;32m---> 64\u001b[0;31m       \u001b[0;32mreturn\u001b[0m \u001b[0mfn\u001b[0m\u001b[0;34m(\u001b[0m\u001b[0;34m*\u001b[0m\u001b[0margs\u001b[0m\u001b[0;34m,\u001b[0m \u001b[0;34m**\u001b[0m\u001b[0mkwargs\u001b[0m\u001b[0;34m)\u001b[0m\u001b[0;34m\u001b[0m\u001b[0;34m\u001b[0m\u001b[0m\n\u001b[0m\u001b[1;32m     65\u001b[0m     \u001b[0;32mexcept\u001b[0m \u001b[0mException\u001b[0m \u001b[0;32mas\u001b[0m \u001b[0me\u001b[0m\u001b[0;34m:\u001b[0m  \u001b[0;31m# pylint: disable=broad-except\u001b[0m\u001b[0;34m\u001b[0m\u001b[0;34m\u001b[0m\u001b[0m\n\u001b[1;32m     66\u001b[0m       \u001b[0mfiltered_tb\u001b[0m \u001b[0;34m=\u001b[0m \u001b[0m_process_traceback_frames\u001b[0m\u001b[0;34m(\u001b[0m\u001b[0me\u001b[0m\u001b[0;34m.\u001b[0m\u001b[0m__traceback__\u001b[0m\u001b[0;34m)\u001b[0m\u001b[0;34m\u001b[0m\u001b[0;34m\u001b[0m\u001b[0m\n",
            "\u001b[0;32m/usr/local/lib/python3.7/dist-packages/keras/engine/training.py\u001b[0m in \u001b[0;36mfit\u001b[0;34m(self, x, y, batch_size, epochs, verbose, callbacks, validation_split, validation_data, shuffle, class_weight, sample_weight, initial_epoch, steps_per_epoch, validation_steps, validation_batch_size, validation_freq, max_queue_size, workers, use_multiprocessing)\u001b[0m\n\u001b[1;32m   1214\u001b[0m                 _r=1):\n\u001b[1;32m   1215\u001b[0m               \u001b[0mcallbacks\u001b[0m\u001b[0;34m.\u001b[0m\u001b[0mon_train_batch_begin\u001b[0m\u001b[0;34m(\u001b[0m\u001b[0mstep\u001b[0m\u001b[0;34m)\u001b[0m\u001b[0;34m\u001b[0m\u001b[0;34m\u001b[0m\u001b[0m\n\u001b[0;32m-> 1216\u001b[0;31m               \u001b[0mtmp_logs\u001b[0m \u001b[0;34m=\u001b[0m \u001b[0mself\u001b[0m\u001b[0;34m.\u001b[0m\u001b[0mtrain_function\u001b[0m\u001b[0;34m(\u001b[0m\u001b[0miterator\u001b[0m\u001b[0;34m)\u001b[0m\u001b[0;34m\u001b[0m\u001b[0;34m\u001b[0m\u001b[0m\n\u001b[0m\u001b[1;32m   1217\u001b[0m               \u001b[0;32mif\u001b[0m \u001b[0mdata_handler\u001b[0m\u001b[0;34m.\u001b[0m\u001b[0mshould_sync\u001b[0m\u001b[0;34m:\u001b[0m\u001b[0;34m\u001b[0m\u001b[0;34m\u001b[0m\u001b[0m\n\u001b[1;32m   1218\u001b[0m                 \u001b[0mcontext\u001b[0m\u001b[0;34m.\u001b[0m\u001b[0masync_wait\u001b[0m\u001b[0;34m(\u001b[0m\u001b[0;34m)\u001b[0m\u001b[0;34m\u001b[0m\u001b[0;34m\u001b[0m\u001b[0m\n",
            "\u001b[0;32m/usr/local/lib/python3.7/dist-packages/tensorflow/python/util/traceback_utils.py\u001b[0m in \u001b[0;36merror_handler\u001b[0;34m(*args, **kwargs)\u001b[0m\n\u001b[1;32m    148\u001b[0m     \u001b[0mfiltered_tb\u001b[0m \u001b[0;34m=\u001b[0m \u001b[0;32mNone\u001b[0m\u001b[0;34m\u001b[0m\u001b[0;34m\u001b[0m\u001b[0m\n\u001b[1;32m    149\u001b[0m     \u001b[0;32mtry\u001b[0m\u001b[0;34m:\u001b[0m\u001b[0;34m\u001b[0m\u001b[0;34m\u001b[0m\u001b[0m\n\u001b[0;32m--> 150\u001b[0;31m       \u001b[0;32mreturn\u001b[0m \u001b[0mfn\u001b[0m\u001b[0;34m(\u001b[0m\u001b[0;34m*\u001b[0m\u001b[0margs\u001b[0m\u001b[0;34m,\u001b[0m \u001b[0;34m**\u001b[0m\u001b[0mkwargs\u001b[0m\u001b[0;34m)\u001b[0m\u001b[0;34m\u001b[0m\u001b[0;34m\u001b[0m\u001b[0m\n\u001b[0m\u001b[1;32m    151\u001b[0m     \u001b[0;32mexcept\u001b[0m \u001b[0mException\u001b[0m \u001b[0;32mas\u001b[0m \u001b[0me\u001b[0m\u001b[0;34m:\u001b[0m\u001b[0;34m\u001b[0m\u001b[0;34m\u001b[0m\u001b[0m\n\u001b[1;32m    152\u001b[0m       \u001b[0mfiltered_tb\u001b[0m \u001b[0;34m=\u001b[0m \u001b[0m_process_traceback_frames\u001b[0m\u001b[0;34m(\u001b[0m\u001b[0me\u001b[0m\u001b[0;34m.\u001b[0m\u001b[0m__traceback__\u001b[0m\u001b[0;34m)\u001b[0m\u001b[0;34m\u001b[0m\u001b[0;34m\u001b[0m\u001b[0m\n",
            "\u001b[0;32m/usr/local/lib/python3.7/dist-packages/tensorflow/python/eager/def_function.py\u001b[0m in \u001b[0;36m__call__\u001b[0;34m(self, *args, **kwds)\u001b[0m\n\u001b[1;32m    908\u001b[0m \u001b[0;34m\u001b[0m\u001b[0m\n\u001b[1;32m    909\u001b[0m       \u001b[0;32mwith\u001b[0m \u001b[0mOptionalXlaContext\u001b[0m\u001b[0;34m(\u001b[0m\u001b[0mself\u001b[0m\u001b[0;34m.\u001b[0m\u001b[0m_jit_compile\u001b[0m\u001b[0;34m)\u001b[0m\u001b[0;34m:\u001b[0m\u001b[0;34m\u001b[0m\u001b[0;34m\u001b[0m\u001b[0m\n\u001b[0;32m--> 910\u001b[0;31m         \u001b[0mresult\u001b[0m \u001b[0;34m=\u001b[0m \u001b[0mself\u001b[0m\u001b[0;34m.\u001b[0m\u001b[0m_call\u001b[0m\u001b[0;34m(\u001b[0m\u001b[0;34m*\u001b[0m\u001b[0margs\u001b[0m\u001b[0;34m,\u001b[0m \u001b[0;34m**\u001b[0m\u001b[0mkwds\u001b[0m\u001b[0;34m)\u001b[0m\u001b[0;34m\u001b[0m\u001b[0;34m\u001b[0m\u001b[0m\n\u001b[0m\u001b[1;32m    911\u001b[0m \u001b[0;34m\u001b[0m\u001b[0m\n\u001b[1;32m    912\u001b[0m       \u001b[0mnew_tracing_count\u001b[0m \u001b[0;34m=\u001b[0m \u001b[0mself\u001b[0m\u001b[0;34m.\u001b[0m\u001b[0mexperimental_get_tracing_count\u001b[0m\u001b[0;34m(\u001b[0m\u001b[0;34m)\u001b[0m\u001b[0;34m\u001b[0m\u001b[0;34m\u001b[0m\u001b[0m\n",
            "\u001b[0;32m/usr/local/lib/python3.7/dist-packages/tensorflow/python/eager/def_function.py\u001b[0m in \u001b[0;36m_call\u001b[0;34m(self, *args, **kwds)\u001b[0m\n\u001b[1;32m    940\u001b[0m       \u001b[0;31m# In this case we have created variables on the first call, so we run the\u001b[0m\u001b[0;34m\u001b[0m\u001b[0;34m\u001b[0m\u001b[0;34m\u001b[0m\u001b[0m\n\u001b[1;32m    941\u001b[0m       \u001b[0;31m# defunned version which is guaranteed to never create variables.\u001b[0m\u001b[0;34m\u001b[0m\u001b[0;34m\u001b[0m\u001b[0;34m\u001b[0m\u001b[0m\n\u001b[0;32m--> 942\u001b[0;31m       \u001b[0;32mreturn\u001b[0m \u001b[0mself\u001b[0m\u001b[0;34m.\u001b[0m\u001b[0m_stateless_fn\u001b[0m\u001b[0;34m(\u001b[0m\u001b[0;34m*\u001b[0m\u001b[0margs\u001b[0m\u001b[0;34m,\u001b[0m \u001b[0;34m**\u001b[0m\u001b[0mkwds\u001b[0m\u001b[0;34m)\u001b[0m  \u001b[0;31m# pylint: disable=not-callable\u001b[0m\u001b[0;34m\u001b[0m\u001b[0;34m\u001b[0m\u001b[0m\n\u001b[0m\u001b[1;32m    943\u001b[0m     \u001b[0;32melif\u001b[0m \u001b[0mself\u001b[0m\u001b[0;34m.\u001b[0m\u001b[0m_stateful_fn\u001b[0m \u001b[0;32mis\u001b[0m \u001b[0;32mnot\u001b[0m \u001b[0;32mNone\u001b[0m\u001b[0;34m:\u001b[0m\u001b[0;34m\u001b[0m\u001b[0;34m\u001b[0m\u001b[0m\n\u001b[1;32m    944\u001b[0m       \u001b[0;31m# Release the lock early so that multiple threads can perform the call\u001b[0m\u001b[0;34m\u001b[0m\u001b[0;34m\u001b[0m\u001b[0;34m\u001b[0m\u001b[0m\n",
            "\u001b[0;32m/usr/local/lib/python3.7/dist-packages/tensorflow/python/eager/function.py\u001b[0m in \u001b[0;36m__call__\u001b[0;34m(self, *args, **kwargs)\u001b[0m\n\u001b[1;32m   3129\u001b[0m        filtered_flat_args) = self._maybe_define_function(args, kwargs)\n\u001b[1;32m   3130\u001b[0m     return graph_function._call_flat(\n\u001b[0;32m-> 3131\u001b[0;31m         filtered_flat_args, captured_inputs=graph_function.captured_inputs)  # pylint: disable=protected-access\n\u001b[0m\u001b[1;32m   3132\u001b[0m \u001b[0;34m\u001b[0m\u001b[0m\n\u001b[1;32m   3133\u001b[0m   \u001b[0;34m@\u001b[0m\u001b[0mproperty\u001b[0m\u001b[0;34m\u001b[0m\u001b[0;34m\u001b[0m\u001b[0m\n",
            "\u001b[0;32m/usr/local/lib/python3.7/dist-packages/tensorflow/python/eager/function.py\u001b[0m in \u001b[0;36m_call_flat\u001b[0;34m(self, args, captured_inputs, cancellation_manager)\u001b[0m\n\u001b[1;32m   1958\u001b[0m       \u001b[0;31m# No tape is watching; skip to running the function.\u001b[0m\u001b[0;34m\u001b[0m\u001b[0;34m\u001b[0m\u001b[0;34m\u001b[0m\u001b[0m\n\u001b[1;32m   1959\u001b[0m       return self._build_call_outputs(self._inference_function.call(\n\u001b[0;32m-> 1960\u001b[0;31m           ctx, args, cancellation_manager=cancellation_manager))\n\u001b[0m\u001b[1;32m   1961\u001b[0m     forward_backward = self._select_forward_and_backward_functions(\n\u001b[1;32m   1962\u001b[0m         \u001b[0margs\u001b[0m\u001b[0;34m,\u001b[0m\u001b[0;34m\u001b[0m\u001b[0;34m\u001b[0m\u001b[0m\n",
            "\u001b[0;32m/usr/local/lib/python3.7/dist-packages/tensorflow/python/eager/function.py\u001b[0m in \u001b[0;36mcall\u001b[0;34m(self, ctx, args, cancellation_manager)\u001b[0m\n\u001b[1;32m    601\u001b[0m               \u001b[0minputs\u001b[0m\u001b[0;34m=\u001b[0m\u001b[0margs\u001b[0m\u001b[0;34m,\u001b[0m\u001b[0;34m\u001b[0m\u001b[0;34m\u001b[0m\u001b[0m\n\u001b[1;32m    602\u001b[0m               \u001b[0mattrs\u001b[0m\u001b[0;34m=\u001b[0m\u001b[0mattrs\u001b[0m\u001b[0;34m,\u001b[0m\u001b[0;34m\u001b[0m\u001b[0;34m\u001b[0m\u001b[0m\n\u001b[0;32m--> 603\u001b[0;31m               ctx=ctx)\n\u001b[0m\u001b[1;32m    604\u001b[0m         \u001b[0;32melse\u001b[0m\u001b[0;34m:\u001b[0m\u001b[0;34m\u001b[0m\u001b[0;34m\u001b[0m\u001b[0m\n\u001b[1;32m    605\u001b[0m           outputs = execute.execute_with_cancellation(\n",
            "\u001b[0;32m/usr/local/lib/python3.7/dist-packages/tensorflow/python/eager/execute.py\u001b[0m in \u001b[0;36mquick_execute\u001b[0;34m(op_name, num_outputs, inputs, attrs, ctx, name)\u001b[0m\n\u001b[1;32m     57\u001b[0m     \u001b[0mctx\u001b[0m\u001b[0;34m.\u001b[0m\u001b[0mensure_initialized\u001b[0m\u001b[0;34m(\u001b[0m\u001b[0;34m)\u001b[0m\u001b[0;34m\u001b[0m\u001b[0;34m\u001b[0m\u001b[0m\n\u001b[1;32m     58\u001b[0m     tensors = pywrap_tfe.TFE_Py_Execute(ctx._handle, device_name, op_name,\n\u001b[0;32m---> 59\u001b[0;31m                                         inputs, attrs, num_outputs)\n\u001b[0m\u001b[1;32m     60\u001b[0m   \u001b[0;32mexcept\u001b[0m \u001b[0mcore\u001b[0m\u001b[0;34m.\u001b[0m\u001b[0m_NotOkStatusException\u001b[0m \u001b[0;32mas\u001b[0m \u001b[0me\u001b[0m\u001b[0;34m:\u001b[0m\u001b[0;34m\u001b[0m\u001b[0;34m\u001b[0m\u001b[0m\n\u001b[1;32m     61\u001b[0m     \u001b[0;32mif\u001b[0m \u001b[0mname\u001b[0m \u001b[0;32mis\u001b[0m \u001b[0;32mnot\u001b[0m \u001b[0;32mNone\u001b[0m\u001b[0;34m:\u001b[0m\u001b[0;34m\u001b[0m\u001b[0;34m\u001b[0m\u001b[0m\n",
            "\u001b[0;31mKeyboardInterrupt\u001b[0m: "
          ]
        }
      ]
    },
    {
      "cell_type": "code",
      "metadata": {
        "colab": {
          "base_uri": "https://localhost:8080/",
          "height": 573
        },
        "id": "nWuq_fkB83NN",
        "outputId": "2b7ac7f2-626d-46c8-8949-b1d20415a369"
      },
      "source": [
        "graficar_curva_perdidas(history_2)"
      ],
      "execution_count": null,
      "outputs": [
        {
          "output_type": "display_data",
          "data": {
            "image/png": "[encoded data removed]",
            "text/plain": [
              "<Figure size 432x288 with 1 Axes>"
            ]
          },
          "metadata": {
            "needs_background": "light"
          }
        },
        {
          "output_type": "display_data",
          "data": {
            "image/png": "[encoded data removed]",
            "text/plain": [
              "<Figure size 432x288 with 1 Axes>"
            ]
          },
          "metadata": {
            "needs_background": "light"
          }
        }
      ]
    },
    {
      "cell_type": "markdown",
      "metadata": {
        "id": "wfknXZHr2KWM"
      },
      "source": [
        "## Matriz de Confusión"
      ]
    },
    {
      "cell_type": "code",
      "metadata": {
        "id": "2XEsqcJ42L62"
      },
      "source": [
        "# Creamos una función que nos permita visualizar la matriz de confusión de los resultados\n",
        "sns.set(font_scale=1.5)\n",
        "\n",
        "def plot_conf_mat(y_test, y_preds):\n",
        "    \n",
        "    fig, ax = plt.subplots(figsize=(4,4))\n",
        "    ax = sns.heatmap(confusion_matrix(y_test, y_preds),\n",
        "                     annot=True,\n",
        "                     cbar=False,\n",
        "                     fmt='g')\n",
        "    plt.xlabel('Label Reales')\n",
        "    plt.ylabel('Predicciones')"
      ],
      "execution_count": 62,
      "outputs": []
    },
    {
      "cell_type": "code",
      "metadata": {
        "id": "MM_vrD3e2NMQ"
      },
      "source": [
        "# Guardamos las predicciones en una variable\n",
        "predicciones_1 = model_1.predict([pares_m1_prueba[:, 0], pares_m1_prueba[:, 1]])"
      ],
      "execution_count": 63,
      "outputs": []
    },
    {
      "cell_type": "code",
      "metadata": {
        "id": "A3vU7fnL2OcD"
      },
      "source": [
        "# Redondeamos los valores predecidos para poder compararlos con los valores reales\n",
        "for i in range(len(predicciones_1)):\n",
        "  predicciones_1[i][0] = round(predicciones_1[i][0])"
      ],
      "execution_count": 64,
      "outputs": []
    },
    {
      "cell_type": "code",
      "metadata": {
        "colab": {
          "base_uri": "https://localhost:8080/",
          "height": 298
        },
        "id": "96R2zSXO2P9M",
        "outputId": "df894a87-2eb3-4250-f6dd-555360dfb0a2"
      },
      "source": [
        "# Graficamos la matriz de confusión\n",
        "plot_conf_mat(labels_m1_prueba, predicciones_1)"
      ],
      "execution_count": 65,
      "outputs": [
        {
          "output_type": "display_data",
          "data": {
            "image/png": "[encoded data removed]",
            "text/plain": [
              "<Figure size 288x288 with 1 Axes>"
            ]
          },
          "metadata": {}
        }
      ]
    },
    {
      "cell_type": "code",
      "metadata": {
        "id": "zYzj9rlC6D5b"
      },
      "source": [
        "# Guardamos las predicciones en una variable\n",
        "predicciones_2 = model_2.predict([pares_m1_prueba[:, 0], pares_m1_prueba[:, 1]])"
      ],
      "execution_count": null,
      "outputs": []
    },
    {
      "cell_type": "code",
      "metadata": {
        "id": "rUBColsV6Grl"
      },
      "source": [
        "# Redondeamos los valores predecidos para poder compararlos con los valores reales\n",
        "for i in range(len(predicciones_2)):\n",
        "  predicciones_2[i][0] = round(predicciones_2[i][0])"
      ],
      "execution_count": null,
      "outputs": []
    },
    {
      "cell_type": "code",
      "metadata": {
        "colab": {
          "base_uri": "https://localhost:8080/",
          "height": 298
        },
        "id": "r5zb5s2x6Kwu",
        "outputId": "db1dfd94-4761-4f9e-ef0c-9fb3e55701cc"
      },
      "source": [
        "# Graficamos la matriz de confusión\n",
        "plot_conf_mat(labels_m1_prueba, predicciones_2)"
      ],
      "execution_count": null,
      "outputs": [
        {
          "output_type": "display_data",
          "data": {
            "image/png": "[encoded data removed]",
            "text/plain": [
              "<Figure size 288x288 with 1 Axes>"
            ]
          },
          "metadata": {}
        }
      ]
    },
    {
      "cell_type": "code",
      "metadata": {
        "id": "Ck-FATGm8_ZF"
      },
      "source": [
        ""
      ],
      "execution_count": null,
      "outputs": []
    }
  ]
}