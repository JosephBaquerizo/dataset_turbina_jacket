{
  "nbformat": 4,
  "nbformat_minor": 0,
  "metadata": {
    "colab": {
      "name": "Datasets_fisura_pernoflojo.ipynb",
      "provenance": [],
      "collapsed_sections": [],
      "authorship_tag": "ABX9TyOmx1tG9x/T4zEO5OpJe/NC"
    },
    "kernelspec": {
      "name": "python3",
      "display_name": "Python 3"
    },
    "language_info": {
      "name": "python"
    }
  },
  "cells": [
    {
      "cell_type": "markdown",
      "metadata": {
        "id": "dclQaAUGmLMg"
      },
      "source": [
        "# Creación de Dataset con experimentos de fisura y perno flojo\n",
        "Este notebook tiene como objetivo elaborar un conjunto de datos asociado con los experimentos que poseen el estado 3 y 4, es decir de fisura y perno flojo respectivamente, para posteriormente aplicar un preprocesamiento antes de ingresar dichos datos al modelo de las redes siamesas."
      ]
    },
    {
      "cell_type": "markdown",
      "metadata": {
        "id": "8LrEXgW0mo6_"
      },
      "source": [
        "## Importaciones"
      ]
    },
    {
      "cell_type": "code",
      "metadata": {
        "id": "hzv5nUdnmByz"
      },
      "source": [
        "from google.colab import drive\n",
        "from os import listdir\n",
        "from os.path import isfile, join\n",
        "from scipy.io import loadmat\n",
        "\n",
        "import pandas as pd\n",
        "\n",
        "import os"
      ],
      "execution_count": 1,
      "outputs": []
    },
    {
      "cell_type": "markdown",
      "metadata": {
        "id": "so8vgp8fm6Ho"
      },
      "source": [
        "## Obtención de Datos\n",
        "Obtenemos los archivos de todos los experimentos y segmentamos de tal forma que nos quedamos solo con los datos relacionados a fisura y pernoflojo."
      ]
    },
    {
      "cell_type": "code",
      "metadata": {
        "colab": {
          "base_uri": "https://localhost:8080/"
        },
        "id": "vqQfrV1nm8bW",
        "outputId": "8d004464-684a-4ede-e363-d9ce2f40347d"
      },
      "source": [
        "drive.mount('/content/drive')"
      ],
      "execution_count": 3,
      "outputs": [
        {
          "output_type": "stream",
          "text": [
            "Mounted at /content/drive\n"
          ],
          "name": "stdout"
        }
      ]
    },
    {
      "cell_type": "code",
      "metadata": {
        "id": "fSJymW4Dm-p-"
      },
      "source": [
        "dataset_datos_dir = 'drive/MyDrive/DATOS_EXPERIMENTALES_JACKET/DATOS'\n",
        "dataset_images_dir = 'drive/MyDrive/DATOS_EXPERIMENTALES_JACKET/IMAGES_FOLDER'"
      ],
      "execution_count": 4,
      "outputs": []
    },
    {
      "cell_type": "code",
      "metadata": {
        "id": "iMPbKjN0nCUG"
      },
      "source": [
        "dataset_datos_files = [dataset_datos_dir+'/'+filename for filename in listdir(dataset_datos_dir) if isfile(join(dataset_datos_dir, filename))]"
      ],
      "execution_count": 5,
      "outputs": []
    },
    {
      "cell_type": "code",
      "metadata": {
        "id": "koZSgIPjnEDQ"
      },
      "source": [
        "datos_fisura = []\n",
        "datos_pernoflojo = []\n",
        "\n",
        "for filename in listdir(dataset_datos_dir):\n",
        "  if isfile(join(dataset_datos_dir, filename)):\n",
        "    nombre_archivo = filename.split('.')[0]\n",
        "    if (nombre_archivo.split('_')[0] == '3'):\n",
        "      datos_fisura.append(dataset_datos_dir + '/' + filename)\n",
        "    elif (nombre_archivo.split('_')[0] == '4'):\n",
        "      datos_pernoflojo.append(dataset_datos_dir + '/' + filename)"
      ],
      "execution_count": 6,
      "outputs": []
    },
    {
      "cell_type": "code",
      "metadata": {
        "colab": {
          "base_uri": "https://localhost:8080/"
        },
        "id": "R7EtCc2gpGH-",
        "outputId": "3781fca1-78dd-4d81-a659-4a607568f0e4"
      },
      "source": [
        "datos_fisura"
      ],
      "execution_count": 7,
      "outputs": [
        {
          "output_type": "execute_result",
          "data": {
            "text/plain": [
              "['drive/MyDrive/DATOS_EXPERIMENTALES_JACKET/DATOS/3_1_1A.mat',\n",
              " 'drive/MyDrive/DATOS_EXPERIMENTALES_JACKET/DATOS/3_2_05A.mat',\n",
              " 'drive/MyDrive/DATOS_EXPERIMENTALES_JACKET/DATOS/3_1_2A.mat',\n",
              " 'drive/MyDrive/DATOS_EXPERIMENTALES_JACKET/DATOS/3_1_05A.mat',\n",
              " 'drive/MyDrive/DATOS_EXPERIMENTALES_JACKET/DATOS/3_1_3A.mat',\n",
              " 'drive/MyDrive/DATOS_EXPERIMENTALES_JACKET/DATOS/3_2_1A.mat',\n",
              " 'drive/MyDrive/DATOS_EXPERIMENTALES_JACKET/DATOS/3_2_2A.mat',\n",
              " 'drive/MyDrive/DATOS_EXPERIMENTALES_JACKET/DATOS/3_3_05A.mat',\n",
              " 'drive/MyDrive/DATOS_EXPERIMENTALES_JACKET/DATOS/3_4_2A.mat',\n",
              " 'drive/MyDrive/DATOS_EXPERIMENTALES_JACKET/DATOS/3_3_1A.mat',\n",
              " 'drive/MyDrive/DATOS_EXPERIMENTALES_JACKET/DATOS/3_2_3A.mat',\n",
              " 'drive/MyDrive/DATOS_EXPERIMENTALES_JACKET/DATOS/3_3_2A.mat',\n",
              " 'drive/MyDrive/DATOS_EXPERIMENTALES_JACKET/DATOS/3_4_1A.mat',\n",
              " 'drive/MyDrive/DATOS_EXPERIMENTALES_JACKET/DATOS/3_3_3A.mat',\n",
              " 'drive/MyDrive/DATOS_EXPERIMENTALES_JACKET/DATOS/3_4_05A.mat',\n",
              " 'drive/MyDrive/DATOS_EXPERIMENTALES_JACKET/DATOS/3_5_1A.mat',\n",
              " 'drive/MyDrive/DATOS_EXPERIMENTALES_JACKET/DATOS/3_5_05A.mat',\n",
              " 'drive/MyDrive/DATOS_EXPERIMENTALES_JACKET/DATOS/3_4_3A.mat',\n",
              " 'drive/MyDrive/DATOS_EXPERIMENTALES_JACKET/DATOS/3_5_2A.mat',\n",
              " 'drive/MyDrive/DATOS_EXPERIMENTALES_JACKET/DATOS/3_5_3A.mat']"
            ]
          },
          "metadata": {
            "tags": []
          },
          "execution_count": 7
        }
      ]
    },
    {
      "cell_type": "code",
      "metadata": {
        "colab": {
          "base_uri": "https://localhost:8080/"
        },
        "id": "yVWfmRWopHi1",
        "outputId": "68d59ca0-4bd8-4344-c2a9-e7011ab498f5"
      },
      "source": [
        "datos_pernoflojo"
      ],
      "execution_count": 8,
      "outputs": [
        {
          "output_type": "execute_result",
          "data": {
            "text/plain": [
              "['drive/MyDrive/DATOS_EXPERIMENTALES_JACKET/DATOS/4_1_05A.mat',\n",
              " 'drive/MyDrive/DATOS_EXPERIMENTALES_JACKET/DATOS/4_1_2A.mat',\n",
              " 'drive/MyDrive/DATOS_EXPERIMENTALES_JACKET/DATOS/4_2_1A.mat',\n",
              " 'drive/MyDrive/DATOS_EXPERIMENTALES_JACKET/DATOS/4_4_3A.mat',\n",
              " 'drive/MyDrive/DATOS_EXPERIMENTALES_JACKET/DATOS/4_1_3A.mat',\n",
              " 'drive/MyDrive/DATOS_EXPERIMENTALES_JACKET/DATOS/4_1_1A.mat',\n",
              " 'drive/MyDrive/DATOS_EXPERIMENTALES_JACKET/DATOS/4_3_2A.mat',\n",
              " 'drive/MyDrive/DATOS_EXPERIMENTALES_JACKET/DATOS/4_2_3A.mat',\n",
              " 'drive/MyDrive/DATOS_EXPERIMENTALES_JACKET/DATOS/4_5_1A.mat',\n",
              " 'drive/MyDrive/DATOS_EXPERIMENTALES_JACKET/DATOS/4_3_3A.mat',\n",
              " 'drive/MyDrive/DATOS_EXPERIMENTALES_JACKET/DATOS/4_4_1A.mat',\n",
              " 'drive/MyDrive/DATOS_EXPERIMENTALES_JACKET/DATOS/4_3_05A.mat',\n",
              " 'drive/MyDrive/DATOS_EXPERIMENTALES_JACKET/DATOS/4_2_05A.mat',\n",
              " 'drive/MyDrive/DATOS_EXPERIMENTALES_JACKET/DATOS/4_3_1A.mat',\n",
              " 'drive/MyDrive/DATOS_EXPERIMENTALES_JACKET/DATOS/4_5_3A.mat',\n",
              " 'drive/MyDrive/DATOS_EXPERIMENTALES_JACKET/DATOS/4_4_05A.mat',\n",
              " 'drive/MyDrive/DATOS_EXPERIMENTALES_JACKET/DATOS/4_4_2A.mat',\n",
              " 'drive/MyDrive/DATOS_EXPERIMENTALES_JACKET/DATOS/4_5_2A.mat',\n",
              " 'drive/MyDrive/DATOS_EXPERIMENTALES_JACKET/DATOS/4_5_05A.mat',\n",
              " 'drive/MyDrive/DATOS_EXPERIMENTALES_JACKET/DATOS/4_2_2A.mat']"
            ]
          },
          "metadata": {
            "tags": []
          },
          "execution_count": 8
        }
      ]
    },
    {
      "cell_type": "markdown",
      "metadata": {
        "id": "q5o1VqntqZJV"
      },
      "source": [
        "## Creación de Dataset de experimentos con fisura\n",
        "Para el dataset, debemos unir todos los experimentos relacionados con este estado y además agregar dos columnas indicando el número de experimento y la amplitud del experimento. "
      ]
    },
    {
      "cell_type": "code",
      "metadata": {
        "id": "SC7U9crQqixx"
      },
      "source": [
        "numero_experimentos_fisura = []\n",
        "amplitud_experimentos_fisura = []\n",
        "\n",
        "for nombre_archivo in datos_fisura:\n",
        "  nombre_experimento = nombre_archivo.split('/')[4]\n",
        "  numero_experimento = nombre_experimento.split('_')[1]\n",
        "  amplitud_experimento = nombre_experimento.split('.')[0].split('_')[2].replace('A', '')\n",
        "  numero_experimentos_fisura.append(int(numero_experimento))\n",
        "  if amplitud_experimento == '05':\n",
        "    amplitud_experimento = 0.5\n",
        "    amplitud_experimentos_fisura.append(amplitud_experimento)\n",
        "  else:\n",
        "    amplitud_experimentos_fisura.append(int(amplitud_experimento))"
      ],
      "execution_count": 20,
      "outputs": []
    },
    {
      "cell_type": "markdown",
      "metadata": {
        "id": "RHsaQok_7ok1"
      },
      "source": [
        "Verificamos que las listas hayan sido creadas correctamente para luego agregar los valores obtenidos al DataFrame general de fisura."
      ]
    },
    {
      "cell_type": "code",
      "metadata": {
        "colab": {
          "base_uri": "https://localhost:8080/"
        },
        "id": "7a1TCK-xr9Oz",
        "outputId": "c1984f4d-3b11-49bb-a781-1cf80e2483d2"
      },
      "source": [
        "numero_experimentos_fisura"
      ],
      "execution_count": 21,
      "outputs": [
        {
          "output_type": "execute_result",
          "data": {
            "text/plain": [
              "[1, 2, 1, 1, 1, 2, 2, 3, 4, 3, 2, 3, 4, 3, 4, 5, 5, 4, 5, 5]"
            ]
          },
          "metadata": {
            "tags": []
          },
          "execution_count": 21
        }
      ]
    },
    {
      "cell_type": "code",
      "metadata": {
        "colab": {
          "base_uri": "https://localhost:8080/"
        },
        "id": "ThrP0dIQs9sh",
        "outputId": "d38b74a1-381a-4f5d-8535-da7cfaff176b"
      },
      "source": [
        "amplitud_experimentos_fisura"
      ],
      "execution_count": 22,
      "outputs": [
        {
          "output_type": "execute_result",
          "data": {
            "text/plain": [
              "[1, 0.5, 2, 0.5, 3, 1, 2, 0.5, 2, 1, 3, 2, 1, 3, 0.5, 1, 0.5, 3, 2, 3]"
            ]
          },
          "metadata": {
            "tags": []
          },
          "execution_count": 22
        }
      ]
    },
    {
      "cell_type": "code",
      "metadata": {
        "colab": {
          "base_uri": "https://localhost:8080/"
        },
        "id": "Qnz9u8Hmtk6l",
        "outputId": "07bb1fc8-593e-4cf1-8791-e178b1c00ac5"
      },
      "source": [
        "len(numero_experimentos_fisura) == len(amplitud_experimentos_fisura)"
      ],
      "execution_count": 23,
      "outputs": [
        {
          "output_type": "execute_result",
          "data": {
            "text/plain": [
              "True"
            ]
          },
          "metadata": {
            "tags": []
          },
          "execution_count": 23
        }
      ]
    },
    {
      "cell_type": "markdown",
      "metadata": {
        "id": "0KVYpoIGu38u"
      },
      "source": [
        "### Tenemos los siguientes datos relacionados a los experimentos con fisura\n",
        "\n",
        "- datos_fisura (arreglo con direcciones de experimentos de fisura)\n",
        "- numero_experimentos_fisura (arreglo con el numero de experimento para cada elemento en datos_fisura)\n",
        "- amplitud_experimentos_fisura (arreglo con la amplitud de cada elemento en datos_fisura)"
      ]
    },
    {
      "cell_type": "code",
      "metadata": {
        "id": "3YvYSLvVzuYf"
      },
      "source": [
        "df_fisura = pd.DataFrame()\n",
        "\n",
        "for indice in range(len(datos_fisura)):\n",
        "  direccion = datos_fisura[indice]\n",
        "  mat = loadmat(direccion)\n",
        "  df = pd.DataFrame(mat['data'])\n",
        "  df['#_exp'] = numero_experimentos_fisura[indice]\n",
        "  df['amplitud'] = amplitud_experimentos_fisura[indice]\n",
        "  df_fisura = pd.concat([df_fisura, df], axis = 0)"
      ],
      "execution_count": 47,
      "outputs": []
    },
    {
      "cell_type": "markdown",
      "metadata": {
        "id": "rPwAClqT7_WD"
      },
      "source": [
        "Verificamos que el dataset de fisura haya sido creado correctamente."
      ]
    },
    {
      "cell_type": "code",
      "metadata": {
        "colab": {
          "base_uri": "https://localhost:8080/",
          "height": 224
        },
        "id": "6hv8V1PO1LYv",
        "outputId": "7975fc38-7d88-4cf3-cd09-934e8fc2d92c"
      },
      "source": [
        "df_fisura.head(5)"
      ],
      "execution_count": 48,
      "outputs": [
        {
          "output_type": "execute_result",
          "data": {
            "text/html": [
              "<div>\n",
              "<style scoped>\n",
              "    .dataframe tbody tr th:only-of-type {\n",
              "        vertical-align: middle;\n",
              "    }\n",
              "\n",
              "    .dataframe tbody tr th {\n",
              "        vertical-align: top;\n",
              "    }\n",
              "\n",
              "    .dataframe thead th {\n",
              "        text-align: right;\n",
              "    }\n",
              "</style>\n",
              "<table border=\"1\" class=\"dataframe\">\n",
              "  <thead>\n",
              "    <tr style=\"text-align: right;\">\n",
              "      <th></th>\n",
              "      <th>0</th>\n",
              "      <th>1</th>\n",
              "      <th>2</th>\n",
              "      <th>3</th>\n",
              "      <th>4</th>\n",
              "      <th>5</th>\n",
              "      <th>6</th>\n",
              "      <th>7</th>\n",
              "      <th>8</th>\n",
              "      <th>9</th>\n",
              "      <th>10</th>\n",
              "      <th>11</th>\n",
              "      <th>12</th>\n",
              "      <th>13</th>\n",
              "      <th>14</th>\n",
              "      <th>15</th>\n",
              "      <th>16</th>\n",
              "      <th>17</th>\n",
              "      <th>18</th>\n",
              "      <th>19</th>\n",
              "      <th>20</th>\n",
              "      <th>21</th>\n",
              "      <th>22</th>\n",
              "      <th>23</th>\n",
              "      <th>#_exp</th>\n",
              "      <th>amplitud</th>\n",
              "    </tr>\n",
              "  </thead>\n",
              "  <tbody>\n",
              "    <tr>\n",
              "      <th>0</th>\n",
              "      <td>0.000132</td>\n",
              "      <td>0.000185</td>\n",
              "      <td>0.000122</td>\n",
              "      <td>0.000105</td>\n",
              "      <td>0.000141</td>\n",
              "      <td>0.000075</td>\n",
              "      <td>0.000007</td>\n",
              "      <td>0.000231</td>\n",
              "      <td>0.000299</td>\n",
              "      <td>0.000113</td>\n",
              "      <td>0.000228</td>\n",
              "      <td>0.000225</td>\n",
              "      <td>0.000168</td>\n",
              "      <td>0.000018</td>\n",
              "      <td>0.000344</td>\n",
              "      <td>0.000275</td>\n",
              "      <td>-0.000017</td>\n",
              "      <td>0.000046</td>\n",
              "      <td>0.000200</td>\n",
              "      <td>0.000169</td>\n",
              "      <td>0.000097</td>\n",
              "      <td>0.000196</td>\n",
              "      <td>-0.000053</td>\n",
              "      <td>0.000018</td>\n",
              "      <td>1</td>\n",
              "      <td>1.0</td>\n",
              "    </tr>\n",
              "    <tr>\n",
              "      <th>1</th>\n",
              "      <td>0.000092</td>\n",
              "      <td>0.000223</td>\n",
              "      <td>0.000166</td>\n",
              "      <td>0.000127</td>\n",
              "      <td>0.000191</td>\n",
              "      <td>0.000137</td>\n",
              "      <td>0.000075</td>\n",
              "      <td>0.000192</td>\n",
              "      <td>0.000240</td>\n",
              "      <td>0.000095</td>\n",
              "      <td>0.000279</td>\n",
              "      <td>0.000231</td>\n",
              "      <td>0.000145</td>\n",
              "      <td>0.000037</td>\n",
              "      <td>0.000339</td>\n",
              "      <td>0.000092</td>\n",
              "      <td>0.000085</td>\n",
              "      <td>0.000074</td>\n",
              "      <td>0.000128</td>\n",
              "      <td>0.000163</td>\n",
              "      <td>0.000074</td>\n",
              "      <td>0.000085</td>\n",
              "      <td>0.000063</td>\n",
              "      <td>-0.000027</td>\n",
              "      <td>1</td>\n",
              "      <td>1.0</td>\n",
              "    </tr>\n",
              "    <tr>\n",
              "      <th>2</th>\n",
              "      <td>0.000091</td>\n",
              "      <td>0.000280</td>\n",
              "      <td>0.000188</td>\n",
              "      <td>0.000130</td>\n",
              "      <td>0.000172</td>\n",
              "      <td>0.000102</td>\n",
              "      <td>0.000161</td>\n",
              "      <td>0.000158</td>\n",
              "      <td>0.000211</td>\n",
              "      <td>0.000123</td>\n",
              "      <td>0.000269</td>\n",
              "      <td>0.000206</td>\n",
              "      <td>0.000198</td>\n",
              "      <td>0.000041</td>\n",
              "      <td>0.000312</td>\n",
              "      <td>0.000179</td>\n",
              "      <td>0.000011</td>\n",
              "      <td>0.000079</td>\n",
              "      <td>0.000117</td>\n",
              "      <td>0.000146</td>\n",
              "      <td>0.000085</td>\n",
              "      <td>0.000089</td>\n",
              "      <td>-0.000014</td>\n",
              "      <td>0.000020</td>\n",
              "      <td>1</td>\n",
              "      <td>1.0</td>\n",
              "    </tr>\n",
              "    <tr>\n",
              "      <th>3</th>\n",
              "      <td>0.000179</td>\n",
              "      <td>0.000199</td>\n",
              "      <td>0.000249</td>\n",
              "      <td>0.000102</td>\n",
              "      <td>0.000268</td>\n",
              "      <td>0.000140</td>\n",
              "      <td>0.000126</td>\n",
              "      <td>0.000231</td>\n",
              "      <td>0.000239</td>\n",
              "      <td>0.000102</td>\n",
              "      <td>0.000284</td>\n",
              "      <td>0.000175</td>\n",
              "      <td>0.000164</td>\n",
              "      <td>0.000082</td>\n",
              "      <td>0.000311</td>\n",
              "      <td>0.000235</td>\n",
              "      <td>0.000031</td>\n",
              "      <td>0.000079</td>\n",
              "      <td>0.000257</td>\n",
              "      <td>0.000110</td>\n",
              "      <td>0.000050</td>\n",
              "      <td>0.000120</td>\n",
              "      <td>0.000080</td>\n",
              "      <td>0.000057</td>\n",
              "      <td>1</td>\n",
              "      <td>1.0</td>\n",
              "    </tr>\n",
              "    <tr>\n",
              "      <th>4</th>\n",
              "      <td>0.000282</td>\n",
              "      <td>0.000277</td>\n",
              "      <td>0.000202</td>\n",
              "      <td>0.000211</td>\n",
              "      <td>0.000251</td>\n",
              "      <td>0.000159</td>\n",
              "      <td>0.000096</td>\n",
              "      <td>0.000205</td>\n",
              "      <td>0.000342</td>\n",
              "      <td>0.000113</td>\n",
              "      <td>0.000240</td>\n",
              "      <td>0.000272</td>\n",
              "      <td>0.000214</td>\n",
              "      <td>0.000057</td>\n",
              "      <td>0.000304</td>\n",
              "      <td>0.000302</td>\n",
              "      <td>0.000047</td>\n",
              "      <td>0.000150</td>\n",
              "      <td>0.000271</td>\n",
              "      <td>0.000168</td>\n",
              "      <td>0.000126</td>\n",
              "      <td>0.000224</td>\n",
              "      <td>0.000105</td>\n",
              "      <td>0.000058</td>\n",
              "      <td>1</td>\n",
              "      <td>1.0</td>\n",
              "    </tr>\n",
              "  </tbody>\n",
              "</table>\n",
              "</div>"
            ],
            "text/plain": [
              "          0         1         2         3  ...        22        23  #_exp  amplitud\n",
              "0  0.000132  0.000185  0.000122  0.000105  ... -0.000053  0.000018      1       1.0\n",
              "1  0.000092  0.000223  0.000166  0.000127  ...  0.000063 -0.000027      1       1.0\n",
              "2  0.000091  0.000280  0.000188  0.000130  ... -0.000014  0.000020      1       1.0\n",
              "3  0.000179  0.000199  0.000249  0.000102  ...  0.000080  0.000057      1       1.0\n",
              "4  0.000282  0.000277  0.000202  0.000211  ...  0.000105  0.000058      1       1.0\n",
              "\n",
              "[5 rows x 26 columns]"
            ]
          },
          "metadata": {
            "tags": []
          },
          "execution_count": 48
        }
      ]
    },
    {
      "cell_type": "code",
      "metadata": {
        "colab": {
          "base_uri": "https://localhost:8080/"
        },
        "id": "QkdFGW_k301n",
        "outputId": "844b6f86-4982-4735-ca9f-67013b06160c"
      },
      "source": [
        "len(df_fisura)"
      ],
      "execution_count": 50,
      "outputs": [
        {
          "output_type": "execute_result",
          "data": {
            "text/plain": [
              "1981940"
            ]
          },
          "metadata": {
            "tags": []
          },
          "execution_count": 50
        }
      ]
    },
    {
      "cell_type": "code",
      "metadata": {
        "colab": {
          "base_uri": "https://localhost:8080/"
        },
        "id": "63mrVz6d4EB7",
        "outputId": "5339deb8-9400-4ef6-9545-fc7f3873aa61"
      },
      "source": [
        "len(df_fisura)/99096"
      ],
      "execution_count": 51,
      "outputs": [
        {
          "output_type": "execute_result",
          "data": {
            "text/plain": [
              "20.00020182449342"
            ]
          },
          "metadata": {
            "tags": []
          },
          "execution_count": 51
        }
      ]
    },
    {
      "cell_type": "code",
      "metadata": {
        "colab": {
          "base_uri": "https://localhost:8080/"
        },
        "id": "TF0g0thz4WuJ",
        "outputId": "2e171f59-0ebf-4b00-bebf-c6ad0aaf5c56"
      },
      "source": [
        "df_fisura['#_exp'].unique()"
      ],
      "execution_count": 52,
      "outputs": [
        {
          "output_type": "execute_result",
          "data": {
            "text/plain": [
              "array([1, 2, 3, 4, 5])"
            ]
          },
          "metadata": {
            "tags": []
          },
          "execution_count": 52
        }
      ]
    },
    {
      "cell_type": "code",
      "metadata": {
        "colab": {
          "base_uri": "https://localhost:8080/"
        },
        "id": "lZzlMbnl4at1",
        "outputId": "71329172-be43-4688-dc48-81241203ce2a"
      },
      "source": [
        "df_fisura['amplitud'].unique()"
      ],
      "execution_count": 53,
      "outputs": [
        {
          "output_type": "execute_result",
          "data": {
            "text/plain": [
              "array([1. , 0.5, 2. , 3. ])"
            ]
          },
          "metadata": {
            "tags": []
          },
          "execution_count": 53
        }
      ]
    },
    {
      "cell_type": "code",
      "metadata": {
        "colab": {
          "base_uri": "https://localhost:8080/"
        },
        "id": "MHKR5q474nUv",
        "outputId": "48707c74-039e-4262-c765-0558d6868f24"
      },
      "source": [
        "df_fisura['#_exp'].value_counts()/99097"
      ],
      "execution_count": 55,
      "outputs": [
        {
          "output_type": "execute_result",
          "data": {
            "text/plain": [
              "5    4.0\n",
              "4    4.0\n",
              "3    4.0\n",
              "2    4.0\n",
              "1    4.0\n",
              "Name: #_exp, dtype: float64"
            ]
          },
          "metadata": {
            "tags": []
          },
          "execution_count": 55
        }
      ]
    },
    {
      "cell_type": "code",
      "metadata": {
        "colab": {
          "base_uri": "https://localhost:8080/"
        },
        "id": "SEAo48GO5Bke",
        "outputId": "462442f2-7138-4a51-8ffc-0aa4b73a1a20"
      },
      "source": [
        "df_fisura['amplitud'].value_counts()/99097"
      ],
      "execution_count": 56,
      "outputs": [
        {
          "output_type": "execute_result",
          "data": {
            "text/plain": [
              "1.0    5.0\n",
              "0.5    5.0\n",
              "3.0    5.0\n",
              "2.0    5.0\n",
              "Name: amplitud, dtype: float64"
            ]
          },
          "metadata": {
            "tags": []
          },
          "execution_count": 56
        }
      ]
    },
    {
      "cell_type": "markdown",
      "metadata": {
        "id": "Sv5Z1OQUqfrq"
      },
      "source": [
        "## Creación de Dataset de experimentos con perno flojo\n",
        "Para el dataset, debemos unir todos los experimentos relacionados con este estado y además agregar dos columnas indicando el número de experimento y la amplitud del experimento. "
      ]
    },
    {
      "cell_type": "code",
      "metadata": {
        "id": "z-fCVDzgpK2A"
      },
      "source": [
        "numero_experimentos_pernoflojo = []\n",
        "amplitud_experimentos_pernoflojo = []\n",
        "\n",
        "for nombre_archivo in datos_pernoflojo:\n",
        "  nombre_experimento = nombre_archivo.split('/')[4]\n",
        "  numero_experimento = nombre_experimento.split('_')[1]\n",
        "  amplitud_experimento = nombre_experimento.split('.')[0].split('_')[2].replace('A', '')\n",
        "  numero_experimentos_pernoflojo.append(int(numero_experimento))\n",
        "  if amplitud_experimento == '05':\n",
        "    amplitud_experimento = 0.5\n",
        "    amplitud_experimentos_pernoflojo.append(amplitud_experimento)\n",
        "  else:\n",
        "    amplitud_experimentos_pernoflojo.append(int(amplitud_experimento))"
      ],
      "execution_count": 57,
      "outputs": []
    },
    {
      "cell_type": "markdown",
      "metadata": {
        "id": "BKdP5wG271HV"
      },
      "source": [
        "Verificamos que las listas hayan sido creadas correctamente para luego agregar los valores obtenidos al DataFrame general de perno flojo."
      ]
    },
    {
      "cell_type": "code",
      "metadata": {
        "colab": {
          "base_uri": "https://localhost:8080/"
        },
        "id": "aTQ50GF25rPr",
        "outputId": "41249134-fe8f-46ee-a6a1-a8e993295815"
      },
      "source": [
        "numero_experimentos_pernoflojo"
      ],
      "execution_count": 58,
      "outputs": [
        {
          "output_type": "execute_result",
          "data": {
            "text/plain": [
              "[1, 1, 2, 4, 1, 1, 3, 2, 5, 3, 4, 3, 2, 3, 5, 4, 4, 5, 5, 2]"
            ]
          },
          "metadata": {
            "tags": []
          },
          "execution_count": 58
        }
      ]
    },
    {
      "cell_type": "code",
      "metadata": {
        "colab": {
          "base_uri": "https://localhost:8080/"
        },
        "id": "y-dvW71v5szR",
        "outputId": "35b02a1f-dda6-46c5-cfb3-c1abe554257f"
      },
      "source": [
        "amplitud_experimentos_pernoflojo"
      ],
      "execution_count": 59,
      "outputs": [
        {
          "output_type": "execute_result",
          "data": {
            "text/plain": [
              "[0.5, 2, 1, 3, 3, 1, 2, 3, 1, 3, 1, 0.5, 0.5, 1, 3, 0.5, 2, 2, 0.5, 2]"
            ]
          },
          "metadata": {
            "tags": []
          },
          "execution_count": 59
        }
      ]
    },
    {
      "cell_type": "code",
      "metadata": {
        "colab": {
          "base_uri": "https://localhost:8080/"
        },
        "id": "1ai_H9ON5uip",
        "outputId": "f85b9598-8dde-4cd3-af9b-b9767f57bd86"
      },
      "source": [
        "len(numero_experimentos_fisura) == len(amplitud_experimentos_fisura)"
      ],
      "execution_count": 60,
      "outputs": [
        {
          "output_type": "execute_result",
          "data": {
            "text/plain": [
              "True"
            ]
          },
          "metadata": {
            "tags": []
          },
          "execution_count": 60
        }
      ]
    },
    {
      "cell_type": "markdown",
      "metadata": {
        "id": "-m_vbsbB54rc"
      },
      "source": [
        "### Tenemos los siguientes datos relacionados a los experimentos con pernoflojo\n",
        "\n",
        "- datos_pernoflojo (arreglo con direcciones de experimentos de pernoflojo)\n",
        "- numero_experimentos_pernoflojo (arreglo con el numero de experimento para cada elemento en datos_pernoflojo)\n",
        "- amplitud_experimentos_pernoflojo (arreglo con la amplitud de cada elemento en datos_pernoflojo)"
      ]
    },
    {
      "cell_type": "code",
      "metadata": {
        "id": "DBfHXlY250Jp"
      },
      "source": [
        "df_pernoflojo = pd.DataFrame()\n",
        "\n",
        "for indice in range(len(datos_pernoflojo)):\n",
        "  direccion = datos_pernoflojo[indice]\n",
        "  mat = loadmat(direccion)\n",
        "  df = pd.DataFrame(mat['data'])\n",
        "  df['#_exp'] = numero_experimentos_pernoflojo[indice]\n",
        "  df['amplitud'] = amplitud_experimentos_pernoflojo[indice]\n",
        "  df_pernoflojo = pd.concat([df_pernoflojo, df], axis = 0)"
      ],
      "execution_count": 61,
      "outputs": []
    },
    {
      "cell_type": "markdown",
      "metadata": {
        "id": "7JvbQ1MZ8HZx"
      },
      "source": [
        "Verificamos que el dataset de perno flojo haya sido creado correctamente."
      ]
    },
    {
      "cell_type": "code",
      "metadata": {
        "colab": {
          "base_uri": "https://localhost:8080/",
          "height": 224
        },
        "id": "cUr93LQs7RkF",
        "outputId": "b823b7c1-e87c-4387-ca72-ec708dc2cace"
      },
      "source": [
        "df_pernoflojo.head(5)"
      ],
      "execution_count": 69,
      "outputs": [
        {
          "output_type": "execute_result",
          "data": {
            "text/html": [
              "<div>\n",
              "<style scoped>\n",
              "    .dataframe tbody tr th:only-of-type {\n",
              "        vertical-align: middle;\n",
              "    }\n",
              "\n",
              "    .dataframe tbody tr th {\n",
              "        vertical-align: top;\n",
              "    }\n",
              "\n",
              "    .dataframe thead th {\n",
              "        text-align: right;\n",
              "    }\n",
              "</style>\n",
              "<table border=\"1\" class=\"dataframe\">\n",
              "  <thead>\n",
              "    <tr style=\"text-align: right;\">\n",
              "      <th></th>\n",
              "      <th>0</th>\n",
              "      <th>1</th>\n",
              "      <th>2</th>\n",
              "      <th>3</th>\n",
              "      <th>4</th>\n",
              "      <th>5</th>\n",
              "      <th>6</th>\n",
              "      <th>7</th>\n",
              "      <th>8</th>\n",
              "      <th>9</th>\n",
              "      <th>10</th>\n",
              "      <th>11</th>\n",
              "      <th>12</th>\n",
              "      <th>13</th>\n",
              "      <th>14</th>\n",
              "      <th>15</th>\n",
              "      <th>16</th>\n",
              "      <th>17</th>\n",
              "      <th>18</th>\n",
              "      <th>19</th>\n",
              "      <th>20</th>\n",
              "      <th>21</th>\n",
              "      <th>22</th>\n",
              "      <th>23</th>\n",
              "      <th>#_exp</th>\n",
              "      <th>amplitud</th>\n",
              "    </tr>\n",
              "  </thead>\n",
              "  <tbody>\n",
              "    <tr>\n",
              "      <th>0</th>\n",
              "      <td>0.000168</td>\n",
              "      <td>0.000204</td>\n",
              "      <td>0.000213</td>\n",
              "      <td>0.000135</td>\n",
              "      <td>0.000201</td>\n",
              "      <td>0.000099</td>\n",
              "      <td>0.000108</td>\n",
              "      <td>0.000189</td>\n",
              "      <td>0.000212</td>\n",
              "      <td>0.000093</td>\n",
              "      <td>0.000257</td>\n",
              "      <td>0.000196</td>\n",
              "      <td>0.000173</td>\n",
              "      <td>0.000029</td>\n",
              "      <td>0.000316</td>\n",
              "      <td>0.000202</td>\n",
              "      <td>0.000010</td>\n",
              "      <td>0.000085</td>\n",
              "      <td>0.000151</td>\n",
              "      <td>0.000136</td>\n",
              "      <td>0.000116</td>\n",
              "      <td>0.000099</td>\n",
              "      <td>0.000054</td>\n",
              "      <td>0.000111</td>\n",
              "      <td>1</td>\n",
              "      <td>0.5</td>\n",
              "    </tr>\n",
              "    <tr>\n",
              "      <th>1</th>\n",
              "      <td>0.000122</td>\n",
              "      <td>0.000277</td>\n",
              "      <td>0.000213</td>\n",
              "      <td>0.000180</td>\n",
              "      <td>0.000230</td>\n",
              "      <td>0.000172</td>\n",
              "      <td>0.000068</td>\n",
              "      <td>0.000213</td>\n",
              "      <td>0.000214</td>\n",
              "      <td>0.000095</td>\n",
              "      <td>0.000272</td>\n",
              "      <td>0.000172</td>\n",
              "      <td>0.000173</td>\n",
              "      <td>0.000050</td>\n",
              "      <td>0.000292</td>\n",
              "      <td>0.000178</td>\n",
              "      <td>0.000021</td>\n",
              "      <td>0.000022</td>\n",
              "      <td>0.000203</td>\n",
              "      <td>0.000139</td>\n",
              "      <td>0.000076</td>\n",
              "      <td>0.000164</td>\n",
              "      <td>0.000089</td>\n",
              "      <td>0.000076</td>\n",
              "      <td>1</td>\n",
              "      <td>0.5</td>\n",
              "    </tr>\n",
              "    <tr>\n",
              "      <th>2</th>\n",
              "      <td>0.000099</td>\n",
              "      <td>0.000214</td>\n",
              "      <td>0.000128</td>\n",
              "      <td>0.000153</td>\n",
              "      <td>0.000217</td>\n",
              "      <td>0.000100</td>\n",
              "      <td>0.000064</td>\n",
              "      <td>0.000174</td>\n",
              "      <td>0.000225</td>\n",
              "      <td>0.000116</td>\n",
              "      <td>0.000245</td>\n",
              "      <td>0.000202</td>\n",
              "      <td>0.000140</td>\n",
              "      <td>0.000012</td>\n",
              "      <td>0.000309</td>\n",
              "      <td>0.000256</td>\n",
              "      <td>0.000023</td>\n",
              "      <td>0.000089</td>\n",
              "      <td>0.000225</td>\n",
              "      <td>0.000162</td>\n",
              "      <td>0.000098</td>\n",
              "      <td>0.000154</td>\n",
              "      <td>0.000091</td>\n",
              "      <td>0.000092</td>\n",
              "      <td>1</td>\n",
              "      <td>0.5</td>\n",
              "    </tr>\n",
              "    <tr>\n",
              "      <th>3</th>\n",
              "      <td>0.000150</td>\n",
              "      <td>0.000258</td>\n",
              "      <td>0.000209</td>\n",
              "      <td>0.000163</td>\n",
              "      <td>0.000213</td>\n",
              "      <td>0.000120</td>\n",
              "      <td>0.000066</td>\n",
              "      <td>0.000157</td>\n",
              "      <td>0.000220</td>\n",
              "      <td>0.000096</td>\n",
              "      <td>0.000229</td>\n",
              "      <td>0.000203</td>\n",
              "      <td>0.000157</td>\n",
              "      <td>0.000057</td>\n",
              "      <td>0.000292</td>\n",
              "      <td>0.000260</td>\n",
              "      <td>0.000062</td>\n",
              "      <td>0.000077</td>\n",
              "      <td>0.000212</td>\n",
              "      <td>0.000178</td>\n",
              "      <td>0.000123</td>\n",
              "      <td>0.000150</td>\n",
              "      <td>0.000056</td>\n",
              "      <td>0.000130</td>\n",
              "      <td>1</td>\n",
              "      <td>0.5</td>\n",
              "    </tr>\n",
              "    <tr>\n",
              "      <th>4</th>\n",
              "      <td>0.000194</td>\n",
              "      <td>0.000244</td>\n",
              "      <td>0.000194</td>\n",
              "      <td>0.000201</td>\n",
              "      <td>0.000202</td>\n",
              "      <td>0.000127</td>\n",
              "      <td>0.000133</td>\n",
              "      <td>0.000197</td>\n",
              "      <td>0.000212</td>\n",
              "      <td>0.000110</td>\n",
              "      <td>0.000266</td>\n",
              "      <td>0.000199</td>\n",
              "      <td>0.000181</td>\n",
              "      <td>0.000040</td>\n",
              "      <td>0.000336</td>\n",
              "      <td>0.000209</td>\n",
              "      <td>0.000092</td>\n",
              "      <td>0.000097</td>\n",
              "      <td>0.000183</td>\n",
              "      <td>0.000170</td>\n",
              "      <td>0.000114</td>\n",
              "      <td>0.000127</td>\n",
              "      <td>0.000064</td>\n",
              "      <td>0.000087</td>\n",
              "      <td>1</td>\n",
              "      <td>0.5</td>\n",
              "    </tr>\n",
              "  </tbody>\n",
              "</table>\n",
              "</div>"
            ],
            "text/plain": [
              "          0         1         2         3  ...        22        23  #_exp  amplitud\n",
              "0  0.000168  0.000204  0.000213  0.000135  ...  0.000054  0.000111      1       0.5\n",
              "1  0.000122  0.000277  0.000213  0.000180  ...  0.000089  0.000076      1       0.5\n",
              "2  0.000099  0.000214  0.000128  0.000153  ...  0.000091  0.000092      1       0.5\n",
              "3  0.000150  0.000258  0.000209  0.000163  ...  0.000056  0.000130      1       0.5\n",
              "4  0.000194  0.000244  0.000194  0.000201  ...  0.000064  0.000087      1       0.5\n",
              "\n",
              "[5 rows x 26 columns]"
            ]
          },
          "metadata": {
            "tags": []
          },
          "execution_count": 69
        }
      ]
    },
    {
      "cell_type": "code",
      "metadata": {
        "colab": {
          "base_uri": "https://localhost:8080/"
        },
        "id": "6-9x9AYe6Z4i",
        "outputId": "a890618a-633f-40ac-874f-ad247ca21d6e"
      },
      "source": [
        "len(df_pernoflojo)"
      ],
      "execution_count": 62,
      "outputs": [
        {
          "output_type": "execute_result",
          "data": {
            "text/plain": [
              "1981940"
            ]
          },
          "metadata": {
            "tags": []
          },
          "execution_count": 62
        }
      ]
    },
    {
      "cell_type": "code",
      "metadata": {
        "colab": {
          "base_uri": "https://localhost:8080/"
        },
        "id": "V-bmxW346lfB",
        "outputId": "d1456dff-378e-4a37-ae0c-dc9b3a96601c"
      },
      "source": [
        "len(df_pernoflojo)/99097"
      ],
      "execution_count": 63,
      "outputs": [
        {
          "output_type": "execute_result",
          "data": {
            "text/plain": [
              "20.0"
            ]
          },
          "metadata": {
            "tags": []
          },
          "execution_count": 63
        }
      ]
    },
    {
      "cell_type": "code",
      "metadata": {
        "colab": {
          "base_uri": "https://localhost:8080/"
        },
        "id": "oKx9sapQ6otJ",
        "outputId": "997b0e4b-ebdc-46d3-ae85-b6bf054dd66f"
      },
      "source": [
        "df_pernoflojo['#_exp'].unique()"
      ],
      "execution_count": 64,
      "outputs": [
        {
          "output_type": "execute_result",
          "data": {
            "text/plain": [
              "array([1, 2, 4, 3, 5])"
            ]
          },
          "metadata": {
            "tags": []
          },
          "execution_count": 64
        }
      ]
    },
    {
      "cell_type": "code",
      "metadata": {
        "colab": {
          "base_uri": "https://localhost:8080/"
        },
        "id": "UkZuHRhC6t5B",
        "outputId": "32b8119c-168d-4ee9-f018-f2af3f70a420"
      },
      "source": [
        "df_pernoflojo['amplitud'].unique()"
      ],
      "execution_count": 65,
      "outputs": [
        {
          "output_type": "execute_result",
          "data": {
            "text/plain": [
              "array([0.5, 2. , 1. , 3. ])"
            ]
          },
          "metadata": {
            "tags": []
          },
          "execution_count": 65
        }
      ]
    },
    {
      "cell_type": "code",
      "metadata": {
        "colab": {
          "base_uri": "https://localhost:8080/"
        },
        "id": "gVYTjc-k6yFJ",
        "outputId": "32bbf632-ffbd-4fc7-d372-5eb1aac513da"
      },
      "source": [
        "df_fisura['#_exp'].value_counts()/99097"
      ],
      "execution_count": 66,
      "outputs": [
        {
          "output_type": "execute_result",
          "data": {
            "text/plain": [
              "5    4.0\n",
              "4    4.0\n",
              "3    4.0\n",
              "2    4.0\n",
              "1    4.0\n",
              "Name: #_exp, dtype: float64"
            ]
          },
          "metadata": {
            "tags": []
          },
          "execution_count": 66
        }
      ]
    },
    {
      "cell_type": "code",
      "metadata": {
        "colab": {
          "base_uri": "https://localhost:8080/"
        },
        "id": "pJ9OGhye62qZ",
        "outputId": "1a1af50a-3084-4233-844e-3e6290fad692"
      },
      "source": [
        "df_fisura['amplitud'].value_counts()/99097"
      ],
      "execution_count": 67,
      "outputs": [
        {
          "output_type": "execute_result",
          "data": {
            "text/plain": [
              "1.0    5.0\n",
              "0.5    5.0\n",
              "3.0    5.0\n",
              "2.0    5.0\n",
              "Name: amplitud, dtype: float64"
            ]
          },
          "metadata": {
            "tags": []
          },
          "execution_count": 67
        }
      ]
    }
  ]
}