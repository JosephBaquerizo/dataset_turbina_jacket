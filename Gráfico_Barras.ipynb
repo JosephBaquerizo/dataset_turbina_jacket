{
  "nbformat": 4,
  "nbformat_minor": 0,
  "metadata": {
    "colab": {
      "name": "Gráfico_Barras.ipynb",
      "provenance": [],
      "authorship_tag": "ABX9TyPAJnXLihEIvpwZhNUfuMf2"
    },
    "kernelspec": {
      "name": "python3",
      "display_name": "Python 3"
    },
    "language_info": {
      "name": "python"
    }
  },
  "cells": [
    {
      "cell_type": "markdown",
      "metadata": {
        "id": "1dIt5aqNNsBc"
      },
      "source": [
        "# Gráfico de Barras\n",
        "Este notebook tiene como intención mostrar varias gráficas para visualizar la comparación entre los valores promedio de las señales asociadas con un eje específico dentro de un nivel de White Noise clasificándose por el estado de la estructura."
      ]
    },
    {
      "cell_type": "markdown",
      "metadata": {
        "id": "eh1PJOeoOFuP"
      },
      "source": [
        "## Importaciones"
      ]
    },
    {
      "cell_type": "code",
      "metadata": {
        "id": "DkFAkRqmOQRG"
      },
      "source": [
        "from google.colab import drive\n",
        "from os import listdir\n",
        "from os.path import isfile, join\n",
        "from scipy.io import loadmat \n",
        "\n",
        "import matplotlib.pyplot as plt\n",
        "import numpy as np\n",
        "import pandas as pd\n",
        "import seaborn as sns\n",
        "\n",
        "import os"
      ],
      "execution_count": 1,
      "outputs": []
    },
    {
      "cell_type": "markdown",
      "metadata": {
        "id": "cZrphTb-OHyd"
      },
      "source": [
        "## Obtención de Datos"
      ]
    },
    {
      "cell_type": "code",
      "metadata": {
        "colab": {
          "base_uri": "https://localhost:8080/"
        },
        "id": "8wPNTF9cOS7M",
        "outputId": "e9173b02-7444-4ced-c8f8-576b9eef1328"
      },
      "source": [
        "drive.mount('/content/drive')"
      ],
      "execution_count": 2,
      "outputs": [
        {
          "output_type": "stream",
          "text": [
            "Mounted at /content/drive\n"
          ],
          "name": "stdout"
        }
      ]
    },
    {
      "cell_type": "code",
      "metadata": {
        "id": "wsXRr3laOVGo"
      },
      "source": [
        "dataset_datos_dir = 'drive/MyDrive/DATOS_EXPERIMENTALES_JACKET/DATOS'\n",
        "dataset_images_dir = 'drive/MyDrive/DATOS_EXPERIMENTALES_JACKET/IMAGES_FOLDER'\n",
        "\n",
        "dataset_datos_files = [dataset_datos_dir+'/'+filename for filename in listdir(dataset_datos_dir) if isfile(join(dataset_datos_dir, filename))]"
      ],
      "execution_count": 3,
      "outputs": []
    },
    {
      "cell_type": "code",
      "metadata": {
        "id": "xaSwQI71OW6D"
      },
      "source": [
        "datos_wn_05 = []\n",
        "datos_wn_1 = []\n",
        "datos_wn_2 = []\n",
        "datos_wn_3 = []\n",
        "\n",
        "for filename in listdir(dataset_datos_dir):\n",
        "  if isfile(join(dataset_datos_dir, filename)):\n",
        "    nombre_archivo = filename.split('.')[0]\n",
        "    if (nombre_archivo.split('_')[2] == '05A'):\n",
        "      datos_wn_05.append(dataset_datos_dir + '/' + filename)\n",
        "    elif (nombre_archivo.split('_')[2] == '1A'):\n",
        "      datos_wn_1.append(dataset_datos_dir + '/' + filename)\n",
        "    elif (nombre_archivo.split('_')[2] == '2A'):\n",
        "      datos_wn_2.append(dataset_datos_dir + '/' + filename)\n",
        "    elif (nombre_archivo.split('_')[2] == '3A'):\n",
        "      datos_wn_3.append(dataset_datos_dir + '/' + filename)"
      ],
      "execution_count": 4,
      "outputs": []
    },
    {
      "cell_type": "code",
      "metadata": {
        "id": "HoyRcyxbOZBg"
      },
      "source": [
        "def separar_por_estado(arreglo):\n",
        "\n",
        "  estado_1 = []\n",
        "  estado_2 = []\n",
        "  estado_3 = []\n",
        "  estado_4 = []\n",
        "\n",
        "  for direccion in arreglo:\n",
        "    nombre_archivo = direccion.split('/')[4].split('.')[0]\n",
        "    estado = nombre_archivo.split('_')[0]\n",
        "    if (estado == '1'):\n",
        "      estado_1.append(direccion)\n",
        "    elif (estado == '2'):\n",
        "      estado_2.append(direccion)\n",
        "    elif (estado == '3'):\n",
        "      estado_3.append(direccion)\n",
        "    elif (estado == '4'):\n",
        "      estado_4.append(direccion)\n",
        "\n",
        "  return {1: estado_1, 2: estado_2, 3: estado_3, 4: estado_4}"
      ],
      "execution_count": 5,
      "outputs": []
    },
    {
      "cell_type": "code",
      "metadata": {
        "id": "jK1A2llmObmk"
      },
      "source": [
        "datos_wn_05_estados = separar_por_estado(datos_wn_05)\n",
        "datos_wn_1_estados = separar_por_estado(datos_wn_1)\n",
        "datos_wn_2_estados = separar_por_estado(datos_wn_2)\n",
        "datos_wn_3_estados = separar_por_estado(datos_wn_3)\n",
        "\n",
        "diccionario_datos = {\n",
        "                     'wn_05': datos_wn_05_estados,\n",
        "                     'wn_1': datos_wn_1_estados,\n",
        "                     'wn_2': datos_wn_2_estados,\n",
        "                     'wn_3': datos_wn_3_estados \n",
        "                    }"
      ],
      "execution_count": 6,
      "outputs": []
    },
    {
      "cell_type": "code",
      "metadata": {
        "id": "x4C6-CdAOdut"
      },
      "source": [
        "indices_X = [0, 3, 6, 9, 12, 15, 18, 21]\n",
        "indices_Y = [1, 4, 7, 10, 13, 16, 19, 22]\n",
        "indices_Z = [2, 5, 8, 11, 14, 17, 20, 23]"
      ],
      "execution_count": 7,
      "outputs": []
    },
    {
      "cell_type": "markdown",
      "metadata": {
        "id": "M-fPZD7dOMEu"
      },
      "source": [
        "## Gráficas de Barras"
      ]
    },
    {
      "cell_type": "code",
      "metadata": {
        "id": "PwqV3aZrNl2M"
      },
      "source": [
        "font_title = {'family': 'monospace',\n",
        "          'color':  'black',\n",
        "          'weight': 'normal',\n",
        "          'size': 16,\n",
        "          }\n",
        "\n",
        "font_label = {'family': 'monospace',\n",
        "          'color':  'black',\n",
        "          'weight': 'normal',\n",
        "          'size': 12,\n",
        "          }"
      ],
      "execution_count": 8,
      "outputs": []
    },
    {
      "cell_type": "code",
      "metadata": {
        "id": "636dLGZ8OinK"
      },
      "source": [
        "def configurar_datos_XYZ(conjunto_wn,\n",
        "                         estado_n,\n",
        "                         indices_X,\n",
        "                         indices_Y,\n",
        "                         indices_Z):\n",
        "  \n",
        "  \"\"\"\n",
        "  Función que retorna un conjunto con arreglos del promedio de los vectores\n",
        "  X, Y, Z de los sensores asociados a un nivel de wn y a un estado en específico.\n",
        "  \"\"\"\n",
        "\n",
        "  conjunto = []\n",
        "  estados = conjunto_wn.keys()\n",
        "\n",
        "  conjunto_XYZ = []\n",
        "\n",
        "  for estado in estados:\n",
        "    matriz = 0\n",
        "    cantidad = 0\n",
        "    arreglo = conjunto_wn[estado]\n",
        "    for direccion in arreglo:\n",
        "      mat = loadmat(direccion)\n",
        "      df = pd.DataFrame(mat['data'])\n",
        "      matriz = matriz + df\n",
        "      cantidad = cantidad + 1\n",
        "    matriz = matriz/cantidad\n",
        "    conjunto.append(matriz)\n",
        "  \n",
        "  conjunto_X = conjunto[estado_n-1][indices_X].mean(axis=1)\n",
        "  conjunto_Y = conjunto[estado_n-1][indices_Y].mean(axis=1)\n",
        "  conjunto_Z = conjunto[estado_n-1][indices_Z].mean(axis=1)\n",
        "\n",
        "  conjunto_XYZ.append(conjunto_X)\n",
        "  conjunto_XYZ.append(conjunto_Y)\n",
        "  conjunto_XYZ.append(conjunto_Z)\n",
        "\n",
        "  return conjunto_XYZ"
      ],
      "execution_count": 17,
      "outputs": []
    },
    {
      "cell_type": "code",
      "metadata": {
        "id": "5yqVmJ8FPWzw"
      },
      "source": [
        "wn05_XYZ_1 = configurar_datos_XYZ(conjunto_wn=diccionario_datos['wn_05'],\n",
        "                                estado_n=1,\n",
        "                                indices_X=indices_X,\n",
        "                                indices_Y=indices_Y,\n",
        "                                indices_Z=indices_Z)\n",
        "wn05_XYZ_2 = configurar_datos_XYZ(conjunto_wn=diccionario_datos['wn_05'],\n",
        "                                estado_n=2,\n",
        "                                indices_X=indices_X,\n",
        "                                indices_Y=indices_Y,\n",
        "                                indices_Z=indices_Z)\n",
        "wn05_XYZ_3 = configurar_datos_XYZ(conjunto_wn=diccionario_datos['wn_05'],\n",
        "                                estado_n=3,\n",
        "                                indices_X=indices_X,\n",
        "                                indices_Y=indices_Y,\n",
        "                                indices_Z=indices_Z)\n",
        "wn05_XYZ_4 = configurar_datos_XYZ(conjunto_wn=diccionario_datos['wn_05'],\n",
        "                                estado_n=4,\n",
        "                                indices_X=indices_X,\n",
        "                                indices_Y=indices_Y,\n",
        "                                indices_Z=indices_Z)"
      ],
      "execution_count": 18,
      "outputs": []
    },
    {
      "cell_type": "code",
      "metadata": {
        "colab": {
          "base_uri": "https://localhost:8080/"
        },
        "id": "ny5j_9LTc8Qc",
        "outputId": "6c7aacd1-1339-486f-bee0-2fd22f0b9cf8"
      },
      "source": [
        "wn05_XYZ_1[0].mean(), wn05_XYZ_1[0].std()"
      ],
      "execution_count": 78,
      "outputs": [
        {
          "output_type": "execute_result",
          "data": {
            "text/plain": [
              "(0.00016358859427777767, 4.450718654637971e-06)"
            ]
          },
          "metadata": {
            "tags": []
          },
          "execution_count": 78
        }
      ]
    },
    {
      "cell_type": "code",
      "metadata": {
        "id": "Y3zjp7i-RlTj"
      },
      "source": [
        "def graficar_bar_grupal(conjunto1, conjunto2, conjunto3, conjunto4, font_title, font_label, titulo):\n",
        "\n",
        "  x_means = [conjunto1[0].mean(), conjunto2[0].mean(), conjunto3[0].mean(), conjunto4[0].mean()]\n",
        "  x_std = [conjunto1[0].std(), conjunto2[0].std(), conjunto3[0].std(), conjunto4[0].std()]\n",
        "  y_means = [conjunto1[1].mean(), conjunto2[1].mean(), conjunto3[1].mean(), conjunto4[1].mean()]\n",
        "  y_std = [conjunto1[1].std(), conjunto2[1].std(), conjunto3[1].std(), conjunto4[1].std()]\n",
        "  z_means = [conjunto1[2].mean(), conjunto2[2].mean(), conjunto3[2].mean(), conjunto4[2].mean()]\n",
        "  z_std = [conjunto1[2].std(), conjunto2[2].std(), conjunto3[2].std(), conjunto4[2].std()]\n",
        "  labels = ['Barra Sana', 'Réplica', 'Fisura', 'Perno Flojo']\n",
        "\n",
        "\n",
        "  x = np.arange(len(labels))  # the label locations\n",
        "  width = 0.2  # the width of the bars\n",
        "\n",
        "  fig, ax = plt.subplots(figsize=[8,5])\n",
        "  rects1 = ax.bar(x - width/2 - 0.1, x_means, yerr=x_std, width=width, label='X')\n",
        "  rects2 = ax.bar(x + width/2 - 0.1, y_means, yerr=y_std, width=width, label='Y')\n",
        "  rects3 = ax.bar(x + width + width/2 - 0.1, z_means, yerr=z_std, width=width, label='Z')\n",
        "\n",
        "  # Add some text for labels, title and custom x-axis tick labels, etc.\n",
        "  ax.set_ylabel('Promedio', fontdict=font_label)\n",
        "  ax.set_title(titulo, fontdict=font_title)\n",
        "  ax.set_xticks(x)\n",
        "  ax.set_xticklabels(labels, fontdict=font_label)\n",
        "  ax.legend()\n",
        "\n",
        "  fig.tight_layout()\n",
        "\n",
        "  plt.show()"
      ],
      "execution_count": 135,
      "outputs": []
    },
    {
      "cell_type": "code",
      "metadata": {
        "colab": {
          "base_uri": "https://localhost:8080/",
          "height": 365
        },
        "id": "9wShpdUWYHF-",
        "outputId": "8b7c8a1f-6319-4373-bbbb-21992b3ac9ba"
      },
      "source": [
        "graficar_bar_grupal(wn05_XYZ_1, wn05_XYZ_2, wn05_XYZ_3, wn05_XYZ_4, font_title, font_label, \"White Noise = 0.5\")"
      ],
      "execution_count": 136,
      "outputs": [
        {
          "output_type": "display_data",
          "data": {
            "image/png": "[encoded data removed]",
            "text/plain": [
              "<Figure size 576x360 with 1 Axes>"
            ]
          },
          "metadata": {
            "tags": []
          }
        }
      ]
    },
    {
      "cell_type": "code",
      "metadata": {
        "id": "1XXHfYnHlaiF"
      },
      "source": [
        "wn1_XYZ_1 = configurar_datos_XYZ(conjunto_wn=diccionario_datos['wn_1'],\n",
        "                                estado_n=1,\n",
        "                                indices_X=indices_X,\n",
        "                                indices_Y=indices_Y,\n",
        "                                indices_Z=indices_Z)\n",
        "wn1_XYZ_2 = configurar_datos_XYZ(conjunto_wn=diccionario_datos['wn_1'],\n",
        "                                estado_n=2,\n",
        "                                indices_X=indices_X,\n",
        "                                indices_Y=indices_Y,\n",
        "                                indices_Z=indices_Z)\n",
        "wn1_XYZ_3 = configurar_datos_XYZ(conjunto_wn=diccionario_datos['wn_1'],\n",
        "                                estado_n=3,\n",
        "                                indices_X=indices_X,\n",
        "                                indices_Y=indices_Y,\n",
        "                                indices_Z=indices_Z)\n",
        "wn1_XYZ_4 = configurar_datos_XYZ(conjunto_wn=diccionario_datos['wn_1'],\n",
        "                                estado_n=4,\n",
        "                                indices_X=indices_X,\n",
        "                                indices_Y=indices_Y,\n",
        "                                indices_Z=indices_Z)"
      ],
      "execution_count": 137,
      "outputs": []
    },
    {
      "cell_type": "code",
      "metadata": {
        "colab": {
          "base_uri": "https://localhost:8080/",
          "height": 365
        },
        "id": "uQx05UyDml3l",
        "outputId": "b564a41d-1b69-426e-b2d5-45c9b1eea923"
      },
      "source": [
        "graficar_bar_grupal(wn1_XYZ_1, wn1_XYZ_2, wn1_XYZ_3, wn1_XYZ_4, font_title, font_label, \"White Noise = 1\")"
      ],
      "execution_count": 138,
      "outputs": [
        {
          "output_type": "display_data",
          "data": {
            "image/png": "[encoded data removed]",
            "text/plain": [
              "<Figure size 576x360 with 1 Axes>"
            ]
          },
          "metadata": {
            "tags": []
          }
        }
      ]
    },
    {
      "cell_type": "code",
      "metadata": {
        "id": "uy3cfp2fmvSl"
      },
      "source": [
        "wn2_XYZ_1 = configurar_datos_XYZ(conjunto_wn=diccionario_datos['wn_2'],\n",
        "                                estado_n=1,\n",
        "                                indices_X=indices_X,\n",
        "                                indices_Y=indices_Y,\n",
        "                                indices_Z=indices_Z)\n",
        "wn2_XYZ_2 = configurar_datos_XYZ(conjunto_wn=diccionario_datos['wn_2'],\n",
        "                                estado_n=2,\n",
        "                                indices_X=indices_X,\n",
        "                                indices_Y=indices_Y,\n",
        "                                indices_Z=indices_Z)\n",
        "wn2_XYZ_3 = configurar_datos_XYZ(conjunto_wn=diccionario_datos['wn_2'],\n",
        "                                estado_n=3,\n",
        "                                indices_X=indices_X,\n",
        "                                indices_Y=indices_Y,\n",
        "                                indices_Z=indices_Z)\n",
        "wn2_XYZ_4 = configurar_datos_XYZ(conjunto_wn=diccionario_datos['wn_2'],\n",
        "                                estado_n=4,\n",
        "                                indices_X=indices_X,\n",
        "                                indices_Y=indices_Y,\n",
        "                                indices_Z=indices_Z)"
      ],
      "execution_count": 139,
      "outputs": []
    },
    {
      "cell_type": "code",
      "metadata": {
        "colab": {
          "base_uri": "https://localhost:8080/",
          "height": 365
        },
        "id": "WnAbrkLKm18m",
        "outputId": "c922a99f-b04e-4f1f-b0cf-86a993588958"
      },
      "source": [
        "graficar_bar_grupal(wn2_XYZ_1, wn2_XYZ_2, wn2_XYZ_3, wn2_XYZ_4, font_title, font_label, \"White Noise = 2\")"
      ],
      "execution_count": 140,
      "outputs": [
        {
          "output_type": "display_data",
          "data": {
            "image/png": "[encoded data removed]",
            "text/plain": [
              "<Figure size 576x360 with 1 Axes>"
            ]
          },
          "metadata": {
            "tags": []
          }
        }
      ]
    },
    {
      "cell_type": "code",
      "metadata": {
        "id": "z4IIfhG0m_Lv"
      },
      "source": [
        "wn3_XYZ_1 = configurar_datos_XYZ(conjunto_wn=diccionario_datos['wn_3'],\n",
        "                                estado_n=1,\n",
        "                                indices_X=indices_X,\n",
        "                                indices_Y=indices_Y,\n",
        "                                indices_Z=indices_Z)\n",
        "wn3_XYZ_2 = configurar_datos_XYZ(conjunto_wn=diccionario_datos['wn_3'],\n",
        "                                estado_n=2,\n",
        "                                indices_X=indices_X,\n",
        "                                indices_Y=indices_Y,\n",
        "                                indices_Z=indices_Z)\n",
        "wn3_XYZ_3 = configurar_datos_XYZ(conjunto_wn=diccionario_datos['wn_3'],\n",
        "                                estado_n=3,\n",
        "                                indices_X=indices_X,\n",
        "                                indices_Y=indices_Y,\n",
        "                                indices_Z=indices_Z)\n",
        "wn3_XYZ_4 = configurar_datos_XYZ(conjunto_wn=diccionario_datos['wn_3'],\n",
        "                                estado_n=4,\n",
        "                                indices_X=indices_X,\n",
        "                                indices_Y=indices_Y,\n",
        "                                indices_Z=indices_Z)"
      ],
      "execution_count": 141,
      "outputs": []
    },
    {
      "cell_type": "code",
      "metadata": {
        "colab": {
          "base_uri": "https://localhost:8080/",
          "height": 365
        },
        "id": "Z7xU8XUqnFnN",
        "outputId": "29b2fa67-9e30-4098-9b1a-92090fe58d5b"
      },
      "source": [
        "graficar_bar_grupal(wn3_XYZ_1, wn3_XYZ_2, wn3_XYZ_3, wn3_XYZ_4, font_title, font_label, \"White Noise = 3\")"
      ],
      "execution_count": 142,
      "outputs": [
        {
          "output_type": "display_data",
          "data": {
            "image/png": "[encoded data removed]",
            "text/plain": [
              "<Figure size 576x360 with 1 Axes>"
            ]
          },
          "metadata": {
            "tags": []
          }
        }
      ]
    },
    {
      "cell_type": "code",
      "metadata": {
        "id": "wZII5ZFHnM6-"
      },
      "source": [
        ""
      ],
      "execution_count": null,
      "outputs": []
    }
  ]
}